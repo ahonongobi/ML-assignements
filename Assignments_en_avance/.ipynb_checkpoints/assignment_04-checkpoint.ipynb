{
 "cells": [
  {
   "cell_type": "markdown",
   "metadata": {},
   "source": [
    "Please fill in your name and that of your teammate.\n",
    "\n",
    "You:\n",
    "\n",
    "Teammate:"
   ]
  },
  {
   "cell_type": "markdown",
   "metadata": {},
   "source": [
    "# Introduction"
   ]
  },
  {
   "cell_type": "markdown",
   "metadata": {},
   "source": [
    "Welcome to the fourth lab. This week the math load is lower on purpose to give you a chance to catch up on the first 3 labs before we start to _use_ all the foundations you learned so far. You may want to go back and fix your submissions with the help of the solutions, you will need the material for the exam.\n",
    "\n",
    "This week we introduce the major data analysis library in Python: [`pandas`](https://pandas.pydata.org/docs/). You can think of it as providing **feature-rich data containers**: load your data in a `pandas` object and you will have fast access, manipulation, statistics, even math with `numpy` and plotting with `matplotlib`, all well integrated.  \n",
    "Unfortunately it also has a fame of being frustrating, unintuitive and stubborn for the newcomers, so I suggest you spend some time practicing and download the documentation as [offline pdf](https://pandas.pydata.org/docs/pandas.pdf) for the exam.\n",
    "\n",
    "The two main classes are `Series`, for one-dimensional data, and `DataFrame` for _tensors_. You may have heard this word before: you can think of a tensor as a generic structure for feature-based data. A zero-dimensional tensor is a scalar; a 1D tensor is a vector; a 2D tensor is a matrix; you can imagine a 3D tensor as a cube, or as a list of matrices. Higher dimensions are of course hypercubes.  \n",
    "You will start mostly using `DataFrame`s with 2D tables/matrices, but some methods will return (kind-of) higher-dimensional tensors (e.g. be careful with [`groupby()`](https://pandas.pydata.org/pandas-docs/stable/reference/api/pandas.DataFrame.groupby.html)! Takes time to grasp).\n",
    "\n",
    "This library is best learned hands-on, but before starting it is important to understand how the data is stored and accessed."
   ]
  },
  {
   "cell_type": "markdown",
   "metadata": {},
   "source": [
    "## The feature's perspective\n",
    "\n",
    "Let's look again at our dataset of snakes. It has three fields: `head size`, `length` (in cm) and whether it is `poisonous` or not. It looks like this:\n",
    "\n",
    "```python\n",
    "snakes = [['small', 38, False],\n",
    "          ['small', 62, True],\n",
    "          ['medium', 55, True]]\n",
    "```\n",
    "\n",
    "This form puts the emphasis on the data points (the rows), which is an intuitive approach at first for humans to manually write down the data. We can scroll to the middle of a dataset in a CSV or text file and read one line -- in principle, if the columns are few and we remember their order.  \n",
    "Accessing the data by indices can also be confusing: if you want to know whether the second snake is poisonous you should use `snakes[1][2]`, which is prone to the type of misunderstandings that lead to bugs (e.g. writing instead `[2][1]`).  \n",
    "From the machine perspective this is not an issue, but this way of storing has the distinct (performance) disadvantage of having **multiple types** in the same data structure: here we have lists with strings, floats and booleans.\n",
    "\n",
    "An alternative form to represent the data which is also very common (you already encountered it e.g. for data plotting) gives instead priority to the columns or *features*. It contains the same data, but rows and columns are *transposed*:\n",
    "\n",
    "```python\n",
    "snakes = [['small', 'small', 'medium'],\n",
    "          [38, 62, 55],\n",
    "          [False, True, True]]\n",
    "```\n",
    "\n",
    "As you can see each feature is not in its own list, and all types are the same, meaning we could store it in a specialized array casted to the correct data type, and enjoy a big performance boost.  \n",
    "Moreover, we can now switch to a hash map (a `dict` in Python), allowing us to include the feature name and use them for indexing, making the data and its description self-contained:\n",
    "\n",
    "```python\n",
    "import numpy as np\n",
    "snakes = {'head_size' : np.array(['small', 'small', 'medium'], dtype='str'),\n",
    "          'length'    : np.array([38, 62, 55], dtype='float'),\n",
    "          'poisonous' : np.array([False, True, True], dtype='bool')}\n",
    "```\n",
    "This has the added advantage that you can now call the vast library of `numpy` methods on your features, such as: `snakes['length'].mean()`. Create a new cell below, copy+paste the code and give it a try!\n",
    "\n",
    "Data access readability is also improved by using explicit feature names: `snakes['poisonous'][1]` does not leave room for misunderstandings, it is the `poisonous` field of the first data point. Writing `snakes[1]['poisonous']` will now raise an error (remember: errors are your friends when debugging, what is dangerous is a silent bug).  \n",
    "One last feature we could add is to add an explicit extra feature called `index` with incremental numbers for the data points, which allows us to explicitly sort the data or access by index as we did before:\n",
    "\n",
    "```python\n",
    "import numpy as np\n",
    "snakes = {'index'     : np.array([1, 2, 3], dtype='int'),\n",
    "          'head_size' : np.array(['small', 'small', 'medium'], dtype='str'),\n",
    "          'length'    : np.array([38, 62, 55], dtype='float'),\n",
    "          'poisonous' : np.array([False, True, True], dtype='bool')}\n",
    "```\n",
    "Isn't that neat? Congratulations, you just derived a naïve implementation of a Pandas `DataFrame`. Get used to this name because you will be using it all the time over the next weeks."
   ]
  },
  {
   "cell_type": "markdown",
   "metadata": {},
   "source": [
    "## Pandas objects\n",
    "\n",
    "Let's actually convert our data to a `DataFrame` so we can play with it:\n",
    "\n",
    "```python\n",
    "import pandas as pd\n",
    "df = pd.DataFrame(snakes) # the constructor accept most sensible inputs\n",
    "df.head() # this prints the first few lines of your (potentially large) dataframe\n",
    "```\n",
    "\n",
    "A few tips before we start:\n",
    "- DataFrames are composed of `Series` to hold the features: Series wrap the Numpy array to extend with more methods, so anything you can do with a Numpy array can be done with most Pandas structures, and much more.\n",
    "- Data always has an `index` (actually of class `Index`, a special Series), and if you took a database course you should know why (hint: primary key). You can provide an index explicitly, or it will automatically generate one on creation from a counter.\n",
    "- Accessing data with `[]` (e.g. `df['length']`) does not give direct pointer access at the stored data, but returns a [copy-on-write](https://en.wikipedia.org/wiki/Copy-on-write) handler. This means that creation is free, read access is fast, but trying to write or edit the data first generates a _copy_ of the data, and then edits that. The original is unchanged by `[]`. The full truth is actually even more complex, e.g. try creating a new column `df['new_col'] = 5`, this requires no copy)\n",
    "- To access the data directly by column name and index, you should use `df.loc[]` (by index and column) and `df.iloc[]` (by indices). Yes they are both methods but they take square parenthesis (ah, python...). Data access is even more confusing than this, and you will need some serious practice to reliably get Pandas to do what you want. Do not skip on this! I suggest you follow [this tutorial](https://medium.com/dunder-data/selecting-subsets-of-data-in-pandas-6fcd0170be9c).\n",
    "- Sometimes you need to access ranges of values. Ranges in Python are also [weird](https://pandas.pydata.org/pandas-docs/stable/user_guide/indexing.html): keep in mind that you can use the explicit `range()` method, or more commonly the `:` format: `start:end:step`. Funny part, all three are optional: `:k` means from the first to the $k^{th}$ element (excluded: the `end` is never included in a Python range, careful); `p:` means from element number `p` until the end; `::2` means (from beginning to end but only) every second element; and most importantly `:` means all elements. This is necessary as `iloc` always requires rows as first argument, so if you want the third column (implicitly: *values of all rows* for the third column) you need to write `df.iloc[:,2]` (remember indices start from 0). Again, complex to grasp, but super easy and obvious once you get it: practice it!\n",
    "- You can access the data by \"conditions\", by generating a boolean array that will hard-select the rows or columns you want. Yeah even more confusing :) bear with me. Try writing `df['length']<60`: this will return a *boolean numpy array*, with values `[True, False, True]`. This is the answer to the boolean question you asked. Now to get the lines of the dataframe that answered True, you need to write `df[df['length']<60]`. Read it and try it until it makes sense before moving forward. Also do yourself a favor and check also the second part of the tutorial above ([boolean indexing](https://www.dunderdata.com/blog/selecting-subsets-of-data-in-pandas-part-2)): all the time you invest now in Pandas will pay dividends later in the harder assignments.\n",
    "- You can plot the dataframe data directly using the function `df.plot()` (takes `type=` as a parameter), which is sometimes useful for a quick peek. In almost every practical case though it is easier (and produces better results) to simply use `seaborn`, because it integrates DataFrames natively! Finally a good news! try `sns.barplot(data=df, y='length', x=df.index, hue='poisonous')`\n",
    "- Most DataFrame methods also return the result of a computation as a \"copy\" or \"view\" on the Pandas object. If you want your method calls to have persistent consequences, which means you want to modify the original data, you should either (i) capture the output in a variable and use that, or (ii) use the optional argument `inplace=True` which is available for most methods and forces modifying the original data."
   ]
  },
  {
   "cell_type": "markdown",
   "metadata": {},
   "source": [
    "### How to pass the lab?"
   ]
  },
  {
   "cell_type": "markdown",
   "metadata": {},
   "source": [
    "Below you find the exercise questions. Each question awarding points is numbered and states the number of points like this: **[0pt]**. To answer a question, fill the cell below with your answer (markdown for text, code for implementation). Incorrect or incomplete answers are in principle worth 0 points: to assign partial reward is only up to teacher discretion. Over-complete answers do not award extra points (though they are appreciated and will be kept under consideration). Save your work frequently! (`ctrl+s`)\n",
    "\n",
    "**You need at least 18 points (out of 27 available) to pass** (66%)."
   ]
  },
  {
   "cell_type": "markdown",
   "metadata": {},
   "source": [
    "# 1. Fundamentals"
   ]
  },
  {
   "cell_type": "markdown",
   "metadata": {},
   "source": [
    "By now you should be familiar with this. We start easy:"
   ]
  },
  {
   "cell_type": "markdown",
   "metadata": {},
   "source": [
    "#### 1.1 **[2pt]** Write a small DataFrame with at least 3 of the common problems you can find when dealing with unknown data."
   ]
  },
  {
   "cell_type": "markdown",
   "metadata": {},
   "source": [
    "If you need inspiration you can reuse and expand your cats and dogs dataset from lab. Loading into a dataframe should be straightforward: here is the [documentation](https://pandas.pydata.org/pandas-docs/stable/reference/api/pandas.DataFrame.html), pass the table as `data=` and the labels as `columns=` to the constructor."
   ]
  },
  {
   "cell_type": "code",
   "execution_count": 1,
   "metadata": {
    "ExecuteTime": {
     "end_time": "2024-03-18T18:52:43.394960Z",
     "start_time": "2024-03-18T18:52:43.382744Z"
    }
   },
   "outputs": [
    {
     "name": "stdout",
     "output_type": "stream",
     "text": [
      "DataFrame with Common Problems in Unknown Data:\n"
     ]
    },
    {
     "data": {
      "text/html": [
       "<div>\n",
       "<style scoped>\n",
       "    .dataframe tbody tr th:only-of-type {\n",
       "        vertical-align: middle;\n",
       "    }\n",
       "\n",
       "    .dataframe tbody tr th {\n",
       "        vertical-align: top;\n",
       "    }\n",
       "\n",
       "    .dataframe thead th {\n",
       "        text-align: right;\n",
       "    }\n",
       "</style>\n",
       "<table border=\"1\" class=\"dataframe\">\n",
       "  <thead>\n",
       "    <tr style=\"text-align: right;\">\n",
       "      <th></th>\n",
       "      <th>Name</th>\n",
       "      <th>Species</th>\n",
       "      <th>Age</th>\n",
       "      <th>Color</th>\n",
       "      <th>Weight</th>\n",
       "    </tr>\n",
       "  </thead>\n",
       "  <tbody>\n",
       "    <tr>\n",
       "      <th>0</th>\n",
       "      <td>Fluffy</td>\n",
       "      <td>Cat</td>\n",
       "      <td>5.0</td>\n",
       "      <td>Black</td>\n",
       "      <td>4.5</td>\n",
       "    </tr>\n",
       "    <tr>\n",
       "      <th>1</th>\n",
       "      <td>Spot</td>\n",
       "      <td>Dog</td>\n",
       "      <td>3.0</td>\n",
       "      <td>Brown</td>\n",
       "      <td>NaN</td>\n",
       "    </tr>\n",
       "    <tr>\n",
       "      <th>2</th>\n",
       "      <td>Bella</td>\n",
       "      <td>Cat</td>\n",
       "      <td>NaN</td>\n",
       "      <td>Gray</td>\n",
       "      <td>6.2</td>\n",
       "    </tr>\n",
       "    <tr>\n",
       "      <th>3</th>\n",
       "      <td>None</td>\n",
       "      <td>Dog</td>\n",
       "      <td>2.0</td>\n",
       "      <td>White</td>\n",
       "      <td>7.8</td>\n",
       "    </tr>\n",
       "    <tr>\n",
       "      <th>4</th>\n",
       "      <td>Max</td>\n",
       "      <td>Cat</td>\n",
       "      <td>4.0</td>\n",
       "      <td>None</td>\n",
       "      <td>5.0</td>\n",
       "    </tr>\n",
       "  </tbody>\n",
       "</table>\n",
       "</div>"
      ],
      "text/plain": [
       "     Name Species  Age  Color  Weight\n",
       "0  Fluffy     Cat  5.0  Black     4.5\n",
       "1    Spot     Dog  3.0  Brown     NaN\n",
       "2   Bella     Cat  NaN   Gray     6.2\n",
       "3    None     Dog  2.0  White     7.8\n",
       "4     Max     Cat  4.0   None     5.0"
      ]
     },
     "execution_count": 1,
     "metadata": {},
     "output_type": "execute_result"
    }
   ],
   "source": [
    "import pandas as pd\n",
    "\n",
    "# Create a DataFrame with common problems in unknown data\n",
    "data = {\n",
    "    'Name': ['Fluffy', 'Spot', 'Bella', None, 'Max'],\n",
    "    'Species': ['Cat', 'Dog', 'Cat', 'Dog', 'Cat'],\n",
    "    'Age': [5, 3, None, 2, 4],\n",
    "    'Color': ['Black', 'Brown', 'Gray', 'White', None],\n",
    "    'Weight': [4.5, None, 6.2, 7.8, 5.0]\n",
    "}\n",
    "\n",
    "df_unknown = pd.DataFrame(data)\n",
    "\n",
    "# Display the DataFrame\n",
    "print(\"DataFrame with Common Problems in Unknown Data:\")\n",
    "df_unknown\n"
   ]
  },
  {
   "cell_type": "markdown",
   "metadata": {},
   "source": [
    "#### 1.2 **[1pt]** Explain with your own word why data defects mitigation is important and why it cannot ever be perfect."
   ]
  },
  {
   "cell_type": "markdown",
   "metadata": {},
   "source": [
    "Here \"own word\" means that copying and pasting from the slides will actually fail the question. Feel free to discuss around the concepts if the words come hard, just prove that you got the meaning and that you can talk about it. Write as long as you need to show your skills, but no longer (brevity is also a skill that takes practice)."
   ]
  },
  {
   "cell_type": "markdown",
   "metadata": {},
   "source": [
    "Data defects mitigation is important because it helps us fix mistakes in data so we can trust it for making decisions or doing analysis. However, it's not possible to be perfect at it because people make errors and data can be complex. Python and its libraries can help us do better, but achieving perfect data quality is difficult."
   ]
  },
  {
   "cell_type": "markdown",
   "metadata": {},
   "source": [
    "#### 1.3 **[1pt]** Give two reasons why to drop lines with defects rather than fixing them."
   ]
  },
  {
   "cell_type": "markdown",
   "metadata": {},
   "source": [
    "Certainly! Here are your two reasons refined for clarity and suitable for B1 English level:\n",
    "\n",
    "1. **Reducing Bias**: Dropping defective lines can help reduce bias in our analysis. By removing lines with systematic or non-random defects, we ensure fairness and equality in our results.\n",
    "\n",
    "2. **Ensuring Transparency and Data Accuracy**: Removing defective lines maintains the accuracy and trustworthiness of our dataset. This approach keeps our analysis transparent and prevents errors from spreading to other parts of our study."
   ]
  },
  {
   "cell_type": "markdown",
   "metadata": {},
   "source": [
    "#### 1.4 **[1pt]** Why does data quality impact learning more than data quantity? Mention one of the algorithms seen so far as an example."
   ]
  },
  {
   "cell_type": "markdown",
   "metadata": {},
   "source": [
    "Data quality impacts learning more than data quantity because high-quality data ensures that the learning algorithm can make accurate predictions and perform better. While having a large quantity of data is important for training and generalizing the algorithm, the accuracy of the predictions ultimately matters most.\n",
    "\n",
    "For example, one of the algorithms we've seen so far is Linear Regression. In Linear Regression, the quality of the data, including the accuracy and reliability of the input features, directly influences the accuracy of the predicted output. Having high-quality data leads to more precise predictions and better performance of the algorithm."
   ]
  },
  {
   "cell_type": "markdown",
   "metadata": {},
   "source": [
    "#### 1.5 **[1pt]** Convert (by hand!) a categorical feature from your hand-written dataset into a numerical one using binary encoding."
   ]
  },
  {
   "cell_type": "markdown",
   "metadata": {},
   "source": [
    "This means that you need to rewrite the hand-written dataset, but a previously categorical feature needs to be written in binary encoding.  \n",
    "If your dataset did not have a categorical feature yet, go ahead and simply add one.  \n",
    "IMPORTANT: you may want to go ahead and fix the defects that you introduced earlier, or you may encounter problems."
   ]
  },
  {
   "cell_type": "code",
   "execution_count": 2,
   "metadata": {
    "ExecuteTime": {
     "end_time": "2024-03-18T18:52:43.406861Z",
     "start_time": "2024-03-18T18:52:43.395757Z"
    }
   },
   "outputs": [
    {
     "name": "stdout",
     "output_type": "stream",
     "text": [
      "DataFrame with Binary Encoding:\n"
     ]
    },
    {
     "data": {
      "text/html": [
       "<div>\n",
       "<style scoped>\n",
       "    .dataframe tbody tr th:only-of-type {\n",
       "        vertical-align: middle;\n",
       "    }\n",
       "\n",
       "    .dataframe tbody tr th {\n",
       "        vertical-align: top;\n",
       "    }\n",
       "\n",
       "    .dataframe thead th {\n",
       "        text-align: right;\n",
       "    }\n",
       "</style>\n",
       "<table border=\"1\" class=\"dataframe\">\n",
       "  <thead>\n",
       "    <tr style=\"text-align: right;\">\n",
       "      <th></th>\n",
       "      <th>Name</th>\n",
       "      <th>Species</th>\n",
       "      <th>Age</th>\n",
       "      <th>Color</th>\n",
       "      <th>Weight</th>\n",
       "    </tr>\n",
       "  </thead>\n",
       "  <tbody>\n",
       "    <tr>\n",
       "      <th>0</th>\n",
       "      <td>Fluffy</td>\n",
       "      <td>0</td>\n",
       "      <td>5.0</td>\n",
       "      <td>Black</td>\n",
       "      <td>4.5</td>\n",
       "    </tr>\n",
       "    <tr>\n",
       "      <th>1</th>\n",
       "      <td>Spot</td>\n",
       "      <td>1</td>\n",
       "      <td>3.0</td>\n",
       "      <td>Brown</td>\n",
       "      <td>NaN</td>\n",
       "    </tr>\n",
       "    <tr>\n",
       "      <th>2</th>\n",
       "      <td>Bella</td>\n",
       "      <td>0</td>\n",
       "      <td>NaN</td>\n",
       "      <td>Gray</td>\n",
       "      <td>6.2</td>\n",
       "    </tr>\n",
       "    <tr>\n",
       "      <th>3</th>\n",
       "      <td>None</td>\n",
       "      <td>1</td>\n",
       "      <td>2.0</td>\n",
       "      <td>White</td>\n",
       "      <td>7.8</td>\n",
       "    </tr>\n",
       "    <tr>\n",
       "      <th>4</th>\n",
       "      <td>Max</td>\n",
       "      <td>0</td>\n",
       "      <td>4.0</td>\n",
       "      <td>None</td>\n",
       "      <td>5.0</td>\n",
       "    </tr>\n",
       "  </tbody>\n",
       "</table>\n",
       "</div>"
      ],
      "text/plain": [
       "     Name  Species  Age  Color  Weight\n",
       "0  Fluffy        0  5.0  Black     4.5\n",
       "1    Spot        1  3.0  Brown     NaN\n",
       "2   Bella        0  NaN   Gray     6.2\n",
       "3    None        1  2.0  White     7.8\n",
       "4     Max        0  4.0   None     5.0"
      ]
     },
     "execution_count": 2,
     "metadata": {},
     "output_type": "execute_result"
    }
   ],
   "source": [
    "# Convert by hand the 'Species' feature from categorical to numerical using binary encoding\n",
    "# Create a DataFrame with the binary encoding\n",
    "# 0 for Cat, 1 for Dog\n",
    "data = {\n",
    "    'Name': ['Fluffy', 'Spot', 'Bella', None, 'Max'],\n",
    "    'Species': [0, 1, 0, 1, 0],\n",
    "    'Age': [5, 3, None, 2, 4],\n",
    "    'Color': ['Black', 'Brown', 'Gray', 'White', None],\n",
    "    'Weight': [4.5, None, 6.2, 7.8, 5.0]\n",
    "}\n",
    "\n",
    "df_binary = pd.DataFrame(data)\n",
    "\n",
    "# Display the DataFrame\n",
    "\n",
    "print(\"DataFrame with Binary Encoding:\")\n",
    "\n",
    "df_binary"
   ]
  },
  {
   "cell_type": "markdown",
   "metadata": {},
   "source": [
    "#### 1.6 **[1pt]** Consider 5-fold cross-validation: how many models does it train? Now take the first fold: how many of the models that were trained did in fact use this particular fold as part of their training set?"
   ]
  },
  {
   "cell_type": "markdown",
   "metadata": {},
   "source": [
    "In 5-fold cross-validation, the algorithm trains 5 models. In the first fold, 4 of the models use this particular fold as part of their training set. The remaining model uses the first fold as the validation set."
   ]
  },
  {
   "cell_type": "markdown",
   "metadata": {},
   "source": [
    "# 2. Loading data"
   ]
  },
  {
   "cell_type": "markdown",
   "metadata": {},
   "source": [
    "To simplify the process, here's a CSV string rather than a separate file. You are free to copy this string into a file if you like, the call below simply emulates an Input Output object (such a file) from a String using a `StringIO` object. It is often a useful trick to have on your tool belt.\n",
    "\n",
    "**IMPORTANT**: do not edit the string! The defects and problems are on purpose! It simulates problematic data that was passed to you unclean, potentially too big to read for a human, and you need to use only Pandas to load and clean the data."
   ]
  },
  {
   "cell_type": "code",
   "execution_count": 3,
   "metadata": {
    "ExecuteTime": {
     "end_time": "2024-03-18T18:52:43.412260Z",
     "start_time": "2024-03-18T18:52:43.407822Z"
    }
   },
   "outputs": [
    {
     "name": "stdout",
     "output_type": "stream",
     "text": [
      "Data loaded\n"
     ]
    }
   ],
   "source": [
    "from io import StringIO\n",
    "csv_str = StringIO('sepal_length$sepal_width$petal_length$petal_width$species$is_flower\\n0$5.1$-3.5$1.4$0.2$setosa$True\\n1$-3.0$1.4$setosa$True\\n2$5.0$-3.6$1.4$0.2$setosa$True\\n3$4.6$-3.1$1.5$0.2$setosa$I guess\\n4$4.7$-3.2$1.3$0.2$zetosa$True\\n5$5.4$-3.9$1.7$0.4$setosa$True\\n6$4.6$-3.4$1.4$0.3$setosa$True\\n7$5.0$-3.4$1.5$0.2$setosa$Fals\\n8$4.4$-2.9$1.4$0.2$setosa$True\\n9$4.9$-3.1$1.5$0.1$setosa$True\\n10$5.4$-3.7$1.5$0.2$setosa$I guess\\n11$4.8$-3.4$1.6$0.2$setosa$True\\n12$4.8$-3.0$1.4$0.1$setosa$True\\n13$4.3$-3.0$1.1$0.1$setosa$True\\n14$5.8$-4.0$1.2$0.2$setosa$True\\n15$-4.4$1.5$setosa$True\\n16$5.4$-3.9$1.3$0.4$setosa$True\\n17$5.1$-3.5$1.4$0.3$setosa$True\\n18$5.7$-3.8$1.7$0.3$setosa$True\\n19$5.1$-3.8$1.5$0.3$setosa$True\\n20$5.4$-3.4$1.7$0.2$setosa$True\\n21$5.1$-3.7$1.5$0.4$setosa$True\\n22$4.6$-3.6$1.0$0.2$setosa$True\\n23$5.1$-3.3$1.7$0.5$setosa$Fals\\n24$4.8$-3.4$1.9$0.2$setosa$True\\n25$5.0$-3.0$1.6$0.2$setosa$True\\n26$5.0$-3.4$1.6$0.4$setosa$True\\n27$5.2$-3.5$1.5$0.2$setosa$True\\n28$5.2$-3.4$1.4$0.2$setosa$True\\n29$4.7$-3.2$1.6$0.2$setosa$True\\n30$4.8$-3.1$1.6$0.2$setosa$True\\n31$5.4$-3.4$1.5$0.4$setosa$True\\n32$5.2$-4.1$1.5$0.1$setosa$Fals\\n33$5.5$-4.2$1.4$0.2$setosa$True\\n34$4.9$-3.1$1.5$0.2$setosa$True\\n35$5.0$-3.2$1.2$0.2$setosa$True\\n36$5.5$-3.5$1.3$0.2$setosa$True\\n37$4.9$-3.6$1.4$0.1$setosa$True\\n38$4.4$-3.0$1.3$0.2$setosa$True\\n39$5.1$-3.4$1.5$0.2$setosa$True\\n40$5.0$-3.5$1.3$0.3$setosa$True\\n41$4.5$-2.3$1.3$0.3$setosa$True\\n42$4.4$-3.2$1.3$0.2$setosa$True\\n43$5.0$-3.5$1.6$0.6$setosa$True\\n44$5.1$-3.8$1.9$0.4$setosa$True\\n45$4.8$-3.0$1.4$0.3$setosa$True\\n46$5.1$-3.8$1.6$0.2$setosa$True\\n47$4.6$-3.2$1.4$0.2$setosa$True\\n48$5.3$-3.7$1.5$0.2$setosa$True\\n49$5.0$-3.3$1.4$0.2$setosa$True\\n50$7.0$-3.2$4.7$1.4$versicolor$True\\n51$6.4$-3.2$4.5$1.5$versicolor$True\\n52$6.9$-3.1$4.9$1.5$versicolor$I guess\\n53$5.5$-2.3$4.0$1.3$versicolor$True\\n54$6.5$-2.8$4.6$1.5$versicolor$True\\n55$5.7$-2.8$4.5$1.3$versicolor$True\\n56$6.3$-3.3$4.7$1.6$versicolor$True\\n57$4.9$-2.4$3.3$1.0$versicolor$True\\n58$6.6$-2.9$4.6$1.3$versicolor$True\\n59$5.2$-2.7$3.9$1.4$versicolor$True\\n60$5.0$-2.0$3.5$1.0$versicolor$True\\n61$5.9$-3.0$4.2$1.5$versicolor$True\\n62$6.0$-2.2$4.0$1.0$versicolor$True\\n63$6.1$-2.9$4.7$1.4$versicolor$True\\n64$5.6$-2.9$3.6$1.3$versicolor$True\\n65$6.7$-3.1$4.4$1.4$versicolor$True\\n66$5.6$-3.0$4.5$1.5$versicolor$True\\n67$5.8$-2.7$4.1$1.0$versicolor$True\\n68$6.2$-2.2$4.5$1.5$versicolor$True\\n69$5.6$-2.5$3.9$1.1$versicolor$True\\n70$5.9$-3.2$4.8$1.8$versicolor$True\\n71$6.1$-2.8$4.0$1.3$versicolor$True\\n72$6.3$-2.5$4.9$1.5$versicolor$True\\n73$6.1$-2.8$4.7$1.2$versicolor$True\\n74$6.4$-2.9$4.3$1.3$😉$True\\n75$6.6$-3.0$4.4$1.4$versicolor$True\\n76$6.8$-2.8$4.8$1.4$versicolor$True\\n77$6.7$-3.0$5.0$1.7$versicolor$True\\n78$6.0$-2.9$4.5$1.5$versicolor$True\\n79$5.7$-2.6$3.5$1.0$$$$versicolor$True\\n80$5.5$-2.4$3.8$1.1$versicolor$True\\n81$5.5$-2.4$3.7$1.0$versicolor$True\\n82$5.8$-2.7$3.9$1.2$versicolor$True\\n83$6.0$-2.7$5.1$1.6$versicolor$True\\n84$5.4$-3.0$4.5$1.5$versicolor$True\\n85$6.0$-3.4$4.5$1.6$versicolor$True\\n86$6.7$-3.1$4.7$1.5$versicolor$True\\n87$6.3$-2.3$4.4$1.3$versicolor$True\\n88$-3.0$4.1$versicolor$True\\n89$5.5$-2.5$4.0$1.3$😉$True\\n90$5.5$-2.6$4.4$1.2$versicolor$True\\n91$6.1$-3.0$4.6$1.4$versicolor$True\\n92$5.8$-2.6$4.0$1.2$versicolor$True\\n93$5.0$-2.3$3.3$1.0$versicolor$True\\n94$5.6$-2.7$4.2$1.3$versicolor$True\\n95$5.7$-3.0$4.2$1.2$versicolor$True\\n96$5.7$-2.9$4.2$1.3$versicolor$True\\n97$6.2$-2.9$4.3$1.3$versicolor$True\\n98$5.1$-2.5$3.0$1.1$versicolor$True\\n99$5.7$-2.8$4.1$1.3$versicolor$True\\n100$6.3$-3.3$6.0$2.5$virginica$True\\n101$5.8$-2.7$5.1$1.9$virginica$True\\n102$7.1$-3.0$5.9$2.1$virginica$True\\n103$6.3$-2.9$5.6$1.8$virginica$True\\n104$6.5$-3.0$5.8$2.2$virginica$True\\n105$7.6$-3.0$6.6$2.1$virginica$True\\n106$4.9$-2.5$4.5$1.7$virginica$True\\n107$7.3$-2.9$6.3$1.8$virginica$True\\n108$6.7$-2.5$5.8$1.8$virginica$True\\n109$7.2$-3.6$6.1$2.5$virginica$True\\n110$6.5$-3.2$5.1$2.0$virginica$True\\n111$6.4$-2.7$5.3$1.9$virginica$True\\n112$6.8$-3.0$5.5$2.1$virginica$True\\n113$5.7$-2.5$5.0$2.0$virginica$True\\n114$5.8$-2.8$5.1$2.4$virginica$True\\n115$6.4$-3.2$5.3$2.3$virginica$True\\n116$6.5$-3.0$5.5$1.8$virginica$True\\n117$7.7$-3.8$6.7$2.2$virginica$True\\n118$7.7$-2.6$6.9$2.3$virginica$True\\n119$6.0$-2.2$5.0$1.5$virginica$True\\n120$6.9$-3.2$5.7$2.3$virginica$True\\n121$5.6$-2.8$4.9$2.0$virginica$True\\n122$7.7$-2.8$6.7$2.0$virginica$True\\n123$6.3$-2.7$4.9$1.8$virginica$True\\n124$6.7$-3.3$5.7$2.1$virginica$True\\n125$7.2$-3.2$6.0$1.8$virginica$True\\n126$6.2$-2.8$4.8$1.8$virginica$True\\n127$6.1$-3.0$4.9$1.8$virginica$True\\n128$6.4$-2.8$5.6$2.1$virginica$True\\n129$7.2$-3.0$5.8$1.6$virginica$True\\n130$7.4$$$$-2.8$6.1$1.9$virginica$True\\n131$7.9$-3.8$6.4$2.0$virginica$True\\n132$6.4$-2.8$5.6$2.2$virginica$True\\n133$6.3$-2.8$5.1$1.5$virginica$True\\n134$6.1$-2.6$5.6$1.4$virginica$True\\n135$7.7$-3.0$6.1$2.3$virginica$True\\n136$6.3$-3.4$5.6$2.4$virginica$True\\n137$6.4$-3.1$5.5$1.8$virginica$True\\n138$6.0$-3.0$4.8$1.8$virginica$True\\n139$6.9$-3.1$5.4$2.1$virginica$True\\n140$6.7$-3.1$5.6$2.4$virginica$True\\n141$6.9$-3.1$5.1$2.3$virginica$True\\n142$-2.7$5.1$virginica$True\\n143$6.8$-3.2$5.9$2.3$virginica$True\\n144$6.7$-3.3$5.7$2.5$virginica$True\\n145$6.7$-3.0$5.2$2.3$virginica$True\\n146$6.3$-2.5$5.0$1.9$virginica$True\\n147$6.5$-3.0$5.2$2.0$virginica$True\\n148$6.2$-3.4$5.4$2.3$virginica$True\\n149$5.9$-3.0$5.1$1.8$virginica$True\\n')\n",
    "print('Data loaded')"
   ]
  },
  {
   "cell_type": "markdown",
   "metadata": {},
   "source": [
    "#### 2.1 **[2pt]** Load the data despite the errors.\n",
    "\n",
    "- Be patient\n",
    "- Peruse the [documentation](https://pandas.pydata.org/pandas-docs/stable/reference/api/pandas.read_csv.html)\n",
    "- If Python raises an error, read carefully the message at the end of the output cell\n",
    "- You should not need a `try... except`: make Pandas get the format until there are no errors\n",
    "- You will need to skip the lines with errors that impede loading (it will still generate warnings, but that is fine for now)\n",
    "- To print the DataFrame, a simple `df` often looks better in Jupyter notebooks than an explicit `print(df)`"
   ]
  },
  {
   "cell_type": "code",
   "execution_count": 4,
   "metadata": {
    "ExecuteTime": {
     "end_time": "2024-03-18T18:52:43.426491Z",
     "start_time": "2024-03-18T18:52:43.413078Z"
    }
   },
   "outputs": [
    {
     "data": {
      "text/html": [
       "<div>\n",
       "<style scoped>\n",
       "    .dataframe tbody tr th:only-of-type {\n",
       "        vertical-align: middle;\n",
       "    }\n",
       "\n",
       "    .dataframe tbody tr th {\n",
       "        vertical-align: top;\n",
       "    }\n",
       "\n",
       "    .dataframe thead th {\n",
       "        text-align: right;\n",
       "    }\n",
       "</style>\n",
       "<table border=\"1\" class=\"dataframe\">\n",
       "  <thead>\n",
       "    <tr style=\"text-align: right;\">\n",
       "      <th></th>\n",
       "      <th>sepal_length</th>\n",
       "      <th>sepal_width</th>\n",
       "      <th>petal_length</th>\n",
       "      <th>petal_width</th>\n",
       "      <th>species</th>\n",
       "      <th>is_flower</th>\n",
       "    </tr>\n",
       "  </thead>\n",
       "  <tbody>\n",
       "    <tr>\n",
       "      <th>0</th>\n",
       "      <td>5.1</td>\n",
       "      <td>-3.5</td>\n",
       "      <td>1.4</td>\n",
       "      <td>0.2</td>\n",
       "      <td>setosa</td>\n",
       "      <td>True</td>\n",
       "    </tr>\n",
       "    <tr>\n",
       "      <th>1</th>\n",
       "      <td>-3.0</td>\n",
       "      <td>1.4</td>\n",
       "      <td>setosa</td>\n",
       "      <td>True</td>\n",
       "      <td>NaN</td>\n",
       "      <td>NaN</td>\n",
       "    </tr>\n",
       "    <tr>\n",
       "      <th>2</th>\n",
       "      <td>5.0</td>\n",
       "      <td>-3.6</td>\n",
       "      <td>1.4</td>\n",
       "      <td>0.2</td>\n",
       "      <td>setosa</td>\n",
       "      <td>True</td>\n",
       "    </tr>\n",
       "    <tr>\n",
       "      <th>3</th>\n",
       "      <td>4.6</td>\n",
       "      <td>-3.1</td>\n",
       "      <td>1.5</td>\n",
       "      <td>0.2</td>\n",
       "      <td>setosa</td>\n",
       "      <td>I guess</td>\n",
       "    </tr>\n",
       "    <tr>\n",
       "      <th>4</th>\n",
       "      <td>4.7</td>\n",
       "      <td>-3.2</td>\n",
       "      <td>1.3</td>\n",
       "      <td>0.2</td>\n",
       "      <td>zetosa</td>\n",
       "      <td>True</td>\n",
       "    </tr>\n",
       "    <tr>\n",
       "      <th>...</th>\n",
       "      <td>...</td>\n",
       "      <td>...</td>\n",
       "      <td>...</td>\n",
       "      <td>...</td>\n",
       "      <td>...</td>\n",
       "      <td>...</td>\n",
       "    </tr>\n",
       "    <tr>\n",
       "      <th>145</th>\n",
       "      <td>6.7</td>\n",
       "      <td>-3.0</td>\n",
       "      <td>5.2</td>\n",
       "      <td>2.3</td>\n",
       "      <td>virginica</td>\n",
       "      <td>True</td>\n",
       "    </tr>\n",
       "    <tr>\n",
       "      <th>146</th>\n",
       "      <td>6.3</td>\n",
       "      <td>-2.5</td>\n",
       "      <td>5.0</td>\n",
       "      <td>1.9</td>\n",
       "      <td>virginica</td>\n",
       "      <td>True</td>\n",
       "    </tr>\n",
       "    <tr>\n",
       "      <th>147</th>\n",
       "      <td>6.5</td>\n",
       "      <td>-3.0</td>\n",
       "      <td>5.2</td>\n",
       "      <td>2.0</td>\n",
       "      <td>virginica</td>\n",
       "      <td>True</td>\n",
       "    </tr>\n",
       "    <tr>\n",
       "      <th>148</th>\n",
       "      <td>6.2</td>\n",
       "      <td>-3.4</td>\n",
       "      <td>5.4</td>\n",
       "      <td>2.3</td>\n",
       "      <td>virginica</td>\n",
       "      <td>True</td>\n",
       "    </tr>\n",
       "    <tr>\n",
       "      <th>149</th>\n",
       "      <td>5.9</td>\n",
       "      <td>-3.0</td>\n",
       "      <td>5.1</td>\n",
       "      <td>1.8</td>\n",
       "      <td>virginica</td>\n",
       "      <td>True</td>\n",
       "    </tr>\n",
       "  </tbody>\n",
       "</table>\n",
       "<p>148 rows × 6 columns</p>\n",
       "</div>"
      ],
      "text/plain": [
       "     sepal_length  sepal_width petal_length petal_width    species is_flower\n",
       "0             5.1         -3.5          1.4         0.2     setosa      True\n",
       "1            -3.0          1.4       setosa        True        NaN       NaN\n",
       "2             5.0         -3.6          1.4         0.2     setosa      True\n",
       "3             4.6         -3.1          1.5         0.2     setosa   I guess\n",
       "4             4.7         -3.2          1.3         0.2     zetosa      True\n",
       "..            ...          ...          ...         ...        ...       ...\n",
       "145           6.7         -3.0          5.2         2.3  virginica      True\n",
       "146           6.3         -2.5          5.0         1.9  virginica      True\n",
       "147           6.5         -3.0          5.2         2.0  virginica      True\n",
       "148           6.2         -3.4          5.4         2.3  virginica      True\n",
       "149           5.9         -3.0          5.1         1.8  virginica      True\n",
       "\n",
       "[148 rows x 6 columns]"
      ]
     },
     "execution_count": 4,
     "metadata": {},
     "output_type": "execute_result"
    }
   ],
   "source": [
    "# Load the data\n",
    "# I got some error and it dpends on the version on pd. because it trows error with some version while using error_bad_lines=False\n",
    "\n",
    "df = pd.read_csv(csv_str, sep='$', on_bad_lines=\"skip\")\n",
    "\n",
    "#df = pd.read_csv(csv_str, sep='$', error_bad_lines=False)\n",
    "\n",
    "# Display the DataFrame\n",
    "df"
   ]
  },
  {
   "cell_type": "markdown",
   "metadata": {},
   "source": [
    "#### 2.2 **[1pt]** Explore the DataFrame, and try to spot the defects. Mitigate two by hand."
   ]
  },
  {
   "cell_type": "markdown",
   "metadata": {},
   "source": [
    "You may want to learn about the method `head()`. Also calling `unique()` on a Series will give you the set of different values available. Remember the goal of the question is to fix only two errors for now."
   ]
  },
  {
   "cell_type": "code",
   "execution_count": 5,
   "metadata": {
    "ExecuteTime": {
     "end_time": "2024-03-18T18:52:43.435603Z",
     "start_time": "2024-03-18T18:52:43.427748Z"
    }
   },
   "outputs": [
    {
     "name": "stdout",
     "output_type": "stream",
     "text": [
      "   sepal_length  sepal_width petal_length petal_width species is_flower\n",
      "0           5.1         -3.5          1.4         0.2  setosa      True\n",
      "1          -3.0          1.4       setosa        True     NaN       NaN\n",
      "2           5.0         -3.6          1.4         0.2  setosa      True\n",
      "3           4.6         -3.1          1.5         0.2  setosa   I guess\n",
      "4           4.7         -3.2          1.3         0.2  setosa      True\n",
      "----------------(species unique)------------------------\n",
      "['setosa' nan 'versicolor' 'virginica']\n",
      "----------------(petal_width unique)------------------------\n",
      "['0.2' 'True' '0.4' '0.3' '0.1' '0.5' '0.6' '1.4' '1.5' '1.3' '1.6' '1.0'\n",
      " '1.1' '1.8' '1.2' '1.7' '2.5' '1.9' '2.1' '2.2' '2.0' '2.4' '2.3']\n",
      "----------------petal_length(Unique)------------------------\n",
      "['1.4' 'setosa' '1.5' '1.3' '1.7' '1.6' '1.1' '1.2' '1.0' '1.9' '4.7'\n",
      " '4.5' '4.9' '4.0' '4.6' '3.3' '3.9' '3.5' '4.2' '3.6' '4.4' '4.1' '4.8'\n",
      " '4.3' '5.0' '3.8' '3.7' '5.1' 'versicolor' '3.0' '6.0' '5.9' '5.6' '5.8'\n",
      " '6.6' '6.3' '6.1' '5.3' '5.5' '6.7' '6.9' '5.7' '6.4' '5.4' 'virginica'\n",
      " '5.2']\n",
      "----------------is_flower(Unique)------------------------\n",
      "[True nan 'I guess' False]\n"
     ]
    }
   ],
   "source": [
    "# Fixing the defects manually\n",
    "# Convert \"is_flower\" column to boolean\n",
    "df['is_flower'] = df['is_flower'].replace({'True': True, 'Fals': False})\n",
    "\n",
    "# Replace incorrect species names with correct ones\n",
    "df['species'] = df['species'].replace({'zetosa': 'setosa', '😉': 'virginica'})\n",
    "\n",
    "# Display the first few rows of the DataFrame after fixing defects\n",
    "print(df.head())\n",
    "\n",
    "\n",
    "\n",
    "# Display the DataFrame\n",
    "df\n",
    "print('----------------(species unique)------------------------')\n",
    "\n",
    "unique_species = df['species'].unique()\n",
    "print(unique_species)\n",
    "print('----------------(petal_width unique)------------------------')\n",
    "\n",
    "unique_petal_width = df['petal_width'].unique()\n",
    "print(unique_petal_width)\n",
    "print('----------------petal_length(Unique)------------------------')\n",
    "unique_petal_length = df['petal_length'].unique()\n",
    "print(unique_petal_length)\n",
    "\n",
    "print('----------------is_flower(Unique)------------------------')\n",
    "is_flower= df['is_flower'].unique()\n",
    "print(is_flower)\n",
    "\n"
   ]
  },
  {
   "cell_type": "markdown",
   "metadata": {},
   "source": [
    "# 3. Cleaning the data"
   ]
  },
  {
   "cell_type": "markdown",
   "metadata": {},
   "source": [
    "The following questions require you to either write a Python function or some automated Python code: manually selecting (like last question) for example rows with missing values is not accepted here, you need to provide code that will work with any (unknown) dataset and rows.  \n",
    "NOTE: no two students ever followed the same process in this exercises, but for those who copy from last year's solutions. As per University policy on plagiarism, students have been expelled from their course of study for something as cheap as an ungraded assignment. Unbelievable. Please not again."
   ]
  },
  {
   "cell_type": "markdown",
   "metadata": {},
   "source": [
    "#### 3.1 **[1pt]** Remove all rows with missing values."
   ]
  },
  {
   "cell_type": "markdown",
   "metadata": {},
   "source": [
    "[This](https://www.geeksforgeeks.org/working-with-missing-data-in-pandas/) can help (and [geeksforgeeks.org](https://www.geeksforgeeks.org) is a great resource to keep in mind). Also consider customizing the Pandas display options, for example: `pd.set_option(\"display.max_rows\", 200)` to see more than just a few lines (see more options in the method's documentation)."
   ]
  },
  {
   "cell_type": "code",
   "execution_count": 6,
   "metadata": {
    "ExecuteTime": {
     "end_time": "2024-03-18T18:52:43.449106Z",
     "start_time": "2024-03-18T18:52:43.437524Z"
    }
   },
   "outputs": [
    {
     "data": {
      "text/html": [
       "<div>\n",
       "<style scoped>\n",
       "    .dataframe tbody tr th:only-of-type {\n",
       "        vertical-align: middle;\n",
       "    }\n",
       "\n",
       "    .dataframe tbody tr th {\n",
       "        vertical-align: top;\n",
       "    }\n",
       "\n",
       "    .dataframe thead th {\n",
       "        text-align: right;\n",
       "    }\n",
       "</style>\n",
       "<table border=\"1\" class=\"dataframe\">\n",
       "  <thead>\n",
       "    <tr style=\"text-align: right;\">\n",
       "      <th></th>\n",
       "      <th>sepal_length</th>\n",
       "      <th>sepal_width</th>\n",
       "      <th>petal_length</th>\n",
       "      <th>petal_width</th>\n",
       "      <th>species</th>\n",
       "      <th>is_flower</th>\n",
       "    </tr>\n",
       "  </thead>\n",
       "  <tbody>\n",
       "    <tr>\n",
       "      <th>0</th>\n",
       "      <td>5.1</td>\n",
       "      <td>-3.5</td>\n",
       "      <td>1.4</td>\n",
       "      <td>0.2</td>\n",
       "      <td>setosa</td>\n",
       "      <td>True</td>\n",
       "    </tr>\n",
       "    <tr>\n",
       "      <th>2</th>\n",
       "      <td>5.0</td>\n",
       "      <td>-3.6</td>\n",
       "      <td>1.4</td>\n",
       "      <td>0.2</td>\n",
       "      <td>setosa</td>\n",
       "      <td>True</td>\n",
       "    </tr>\n",
       "    <tr>\n",
       "      <th>3</th>\n",
       "      <td>4.6</td>\n",
       "      <td>-3.1</td>\n",
       "      <td>1.5</td>\n",
       "      <td>0.2</td>\n",
       "      <td>setosa</td>\n",
       "      <td>I guess</td>\n",
       "    </tr>\n",
       "    <tr>\n",
       "      <th>4</th>\n",
       "      <td>4.7</td>\n",
       "      <td>-3.2</td>\n",
       "      <td>1.3</td>\n",
       "      <td>0.2</td>\n",
       "      <td>setosa</td>\n",
       "      <td>True</td>\n",
       "    </tr>\n",
       "    <tr>\n",
       "      <th>5</th>\n",
       "      <td>5.4</td>\n",
       "      <td>-3.9</td>\n",
       "      <td>1.7</td>\n",
       "      <td>0.4</td>\n",
       "      <td>setosa</td>\n",
       "      <td>True</td>\n",
       "    </tr>\n",
       "    <tr>\n",
       "      <th>...</th>\n",
       "      <td>...</td>\n",
       "      <td>...</td>\n",
       "      <td>...</td>\n",
       "      <td>...</td>\n",
       "      <td>...</td>\n",
       "      <td>...</td>\n",
       "    </tr>\n",
       "    <tr>\n",
       "      <th>145</th>\n",
       "      <td>6.7</td>\n",
       "      <td>-3.0</td>\n",
       "      <td>5.2</td>\n",
       "      <td>2.3</td>\n",
       "      <td>virginica</td>\n",
       "      <td>True</td>\n",
       "    </tr>\n",
       "    <tr>\n",
       "      <th>146</th>\n",
       "      <td>6.3</td>\n",
       "      <td>-2.5</td>\n",
       "      <td>5.0</td>\n",
       "      <td>1.9</td>\n",
       "      <td>virginica</td>\n",
       "      <td>True</td>\n",
       "    </tr>\n",
       "    <tr>\n",
       "      <th>147</th>\n",
       "      <td>6.5</td>\n",
       "      <td>-3.0</td>\n",
       "      <td>5.2</td>\n",
       "      <td>2.0</td>\n",
       "      <td>virginica</td>\n",
       "      <td>True</td>\n",
       "    </tr>\n",
       "    <tr>\n",
       "      <th>148</th>\n",
       "      <td>6.2</td>\n",
       "      <td>-3.4</td>\n",
       "      <td>5.4</td>\n",
       "      <td>2.3</td>\n",
       "      <td>virginica</td>\n",
       "      <td>True</td>\n",
       "    </tr>\n",
       "    <tr>\n",
       "      <th>149</th>\n",
       "      <td>5.9</td>\n",
       "      <td>-3.0</td>\n",
       "      <td>5.1</td>\n",
       "      <td>1.8</td>\n",
       "      <td>virginica</td>\n",
       "      <td>True</td>\n",
       "    </tr>\n",
       "  </tbody>\n",
       "</table>\n",
       "<p>144 rows × 6 columns</p>\n",
       "</div>"
      ],
      "text/plain": [
       "     sepal_length  sepal_width petal_length petal_width    species is_flower\n",
       "0             5.1         -3.5          1.4         0.2     setosa      True\n",
       "2             5.0         -3.6          1.4         0.2     setosa      True\n",
       "3             4.6         -3.1          1.5         0.2     setosa   I guess\n",
       "4             4.7         -3.2          1.3         0.2     setosa      True\n",
       "5             5.4         -3.9          1.7         0.4     setosa      True\n",
       "..            ...          ...          ...         ...        ...       ...\n",
       "145           6.7         -3.0          5.2         2.3  virginica      True\n",
       "146           6.3         -2.5          5.0         1.9  virginica      True\n",
       "147           6.5         -3.0          5.2         2.0  virginica      True\n",
       "148           6.2         -3.4          5.4         2.3  virginica      True\n",
       "149           5.9         -3.0          5.1         1.8  virginica      True\n",
       "\n",
       "[144 rows x 6 columns]"
      ]
     },
     "execution_count": 6,
     "metadata": {},
     "output_type": "execute_result"
    }
   ],
   "source": [
    "df.isnull().sum()\n",
    "# Remove all rows with missing values\n",
    "df = df.dropna()\n",
    "\n",
    "df"
   ]
  },
  {
   "cell_type": "code",
   "execution_count": 7,
   "metadata": {
    "ExecuteTime": {
     "end_time": "2024-03-18T18:52:43.452919Z",
     "start_time": "2024-03-18T18:52:43.450116Z"
    }
   },
   "outputs": [],
   "source": [
    "# For the next question, here are the correct types for the columns:\n",
    "corr_types = {'sepal_length' : 'float',\n",
    "              'sepal_width' : 'float',\n",
    "              'petal_length' : 'float',\n",
    "              'petal_width' : 'float',\n",
    "              'species' : 'string',\n",
    "              'is_flower' : 'bool'\n",
    "             }"
   ]
  },
  {
   "cell_type": "markdown",
   "metadata": {},
   "source": [
    "#### 3.2 **[1pt]** Check the column types. Find the reason for the columns having wrong type, and write it. Mitigate the defects and cast the column to the correct type."
   ]
  },
  {
   "cell_type": "code",
   "execution_count": 8,
   "metadata": {
    "ExecuteTime": {
     "end_time": "2024-03-18T18:54:09.328052Z",
     "start_time": "2024-03-18T18:54:09.313339Z"
    },
    "collapsed": false,
    "jupyter": {
     "outputs_hidden": false
    }
   },
   "outputs": [
    {
     "name": "stdout",
     "output_type": "stream",
     "text": [
      "Current Column Types:\n",
      "sepal_length    float64\n",
      "sepal_width     float64\n",
      "petal_length     object\n",
      "petal_width      object\n",
      "species          object\n",
      "is_flower        object\n",
      "dtype: object\n",
      "\n",
      "Casting column 'petal_length' to type 'float'\n",
      "\n",
      "Casting column 'petal_width' to type 'float'\n",
      "\n",
      "Casting column 'species' to type 'string'\n",
      "\n",
      "Casting column 'is_flower' to type 'bool'\n",
      "\n",
      "Corrected Column Types:\n",
      "sepal_length    float64\n",
      "sepal_width     float64\n",
      "petal_length     object\n",
      "petal_width      object\n",
      "species          object\n",
      "is_flower        object\n",
      "dtype: object\n",
      "Unique values in 'petal_length': [1.4 1.5 1.3 1.7 1.6 1.1 1.2 1.0 1.9 4.7 4.5 4.9 4.0 4.6 3.3 3.9 3.5 4.2\n",
      " 3.6 4.4 4.1 4.8 4.3 5.0 3.8 3.7 5.1 3.0 6.0 5.9 5.6 5.8 6.6 6.3 6.1 5.3\n",
      " 5.5 6.7 6.9 5.7 6.4 5.4 5.2]\n",
      "Unique values in 'petal_width': [0.2 0.4 0.3 0.1 0.5 0.6 1.4 1.5 1.3 1.6 1.0 1.1 1.8 1.2 1.7 2.5 1.9 2.1\n",
      " 2.2 2.0 2.4 2.3]\n",
      "Unique values in 'is_flower': [True False]\n",
      "Species': ['setosa' 'versicolor' 'virginica']\n"
     ]
    }
   ],
   "source": [
    "# Define the correct types for the columns\n",
    "corr_types = {'sepal_length': 'float',\n",
    "              'sepal_width': 'float',\n",
    "              'petal_length': 'float',\n",
    "              'petal_width': 'float',\n",
    "              'species': 'string',\n",
    "              'is_flower': 'bool'\n",
    "             }\n",
    "\n",
    "# Check the current column types\n",
    "print(\"Current Column Types:\")\n",
    "print(df.dtypes)\n",
    "\n",
    "# Compare with the correct types and identify the reasons for the wrong types\n",
    "reasons_for_defects = {\n",
    "    'sepal_length': \"Some values are not numerical.\",\n",
    "    'sepal_width': \"Some values are not numerical.\",\n",
    "    'petal_length': \"Some values are not numerical.\",\n",
    "    'petal_width': \"Some values are not numerical.\",\n",
    "    'species': \"Some values are misspelled or contain incorrect characters.\",\n",
    "    'is_flower': \"Some values are represented as strings instead of boolean.\"\n",
    "}\n",
    "\n",
    "# Fix defects and cast columns to correct types\n",
    "for column, dtype in corr_types.items():\n",
    "    if df[column].dtype != dtype:\n",
    "        print(f\"\\nCasting column '{column}' to type '{dtype}'\")\n",
    "        if dtype == 'float':\n",
    "            # Convert to float and coerce errors to NaN\n",
    "            df.loc[:, column] = pd.to_numeric(df[column], errors='coerce')\n",
    "        elif dtype == 'string':\n",
    "            # Convert to string\n",
    "            df.loc[:, column] = df[column].astype(str)\n",
    "        elif dtype == 'bool':\n",
    "            # Convert to boolean\n",
    "            df.loc[:, column] = df[column].replace({'True': True, 'False': False})\n",
    "            df.loc[:, column] = df[column].astype(bool)\n",
    "\n",
    "# Verify the corrected column types\n",
    "print(\"\\nCorrected Column Types:\")\n",
    "print(df.dtypes)\n",
    "\n",
    "# Print unique values in the columns to identify the issue\n",
    "print(\"Unique values in 'petal_length':\", df['petal_length'].unique())\n",
    "print(\"Unique values in 'petal_width':\", df['petal_width'].unique())\n",
    "print(\"Unique values in 'is_flower':\", df['is_flower'].unique())\n",
    "print(\"Species':\", df['species'].unique())\n",
    "\n",
    "\n"
   ]
  },
  {
   "cell_type": "code",
   "execution_count": 9,
   "metadata": {},
   "outputs": [
    {
     "name": "stdout",
     "output_type": "stream",
     "text": [
      "Non-numeric values in 'petal_length':\n",
      "Empty DataFrame\n",
      "Columns: [sepal_length, sepal_width, petal_length, petal_width, species, is_flower]\n",
      "Index: []\n",
      "\n",
      "Non-numeric values in 'petal_width':\n",
      "Empty DataFrame\n",
      "Columns: [sepal_length, sepal_width, petal_length, petal_width, species, is_flower]\n",
      "Index: []\n",
      "\n",
      "Non-boolean values in 'is_flower':\n",
      "Empty DataFrame\n",
      "Columns: [sepal_length, sepal_width, petal_length, petal_width, species, is_flower]\n",
      "Index: []\n",
      "\n",
      "Non-string values in 'species':\n",
      "Empty DataFrame\n",
      "Columns: [sepal_length, sepal_width, petal_length, petal_width, species, is_flower]\n",
      "Index: []\n",
      "Corrected Column Types:\n",
      "sepal_length    float64\n",
      "sepal_width     float64\n",
      "petal_length    float64\n",
      "petal_width     float64\n",
      "species          object\n",
      "is_flower          bool\n",
      "dtype: object\n"
     ]
    },
    {
     "name": "stderr",
     "output_type": "stream",
     "text": [
      "/tmp/ipykernel_43337/3704024372.py:2: SettingWithCopyWarning: \n",
      "A value is trying to be set on a copy of a slice from a DataFrame.\n",
      "Try using .loc[row_indexer,col_indexer] = value instead\n",
      "\n",
      "See the caveats in the documentation: https://pandas.pydata.org/pandas-docs/stable/user_guide/indexing.html#returning-a-view-versus-a-copy\n",
      "  df['petal_length'] = pd.to_numeric(df['petal_length'], errors='coerce')\n",
      "/tmp/ipykernel_43337/3704024372.py:3: SettingWithCopyWarning: \n",
      "A value is trying to be set on a copy of a slice from a DataFrame.\n",
      "Try using .loc[row_indexer,col_indexer] = value instead\n",
      "\n",
      "See the caveats in the documentation: https://pandas.pydata.org/pandas-docs/stable/user_guide/indexing.html#returning-a-view-versus-a-copy\n",
      "  df['petal_width'] = pd.to_numeric(df['petal_width'], errors='coerce')\n",
      "/tmp/ipykernel_43337/3704024372.py:28: SettingWithCopyWarning: \n",
      "A value is trying to be set on a copy of a slice from a DataFrame.\n",
      "Try using .loc[row_indexer,col_indexer] = value instead\n",
      "\n",
      "See the caveats in the documentation: https://pandas.pydata.org/pandas-docs/stable/user_guide/indexing.html#returning-a-view-versus-a-copy\n",
      "  df['petal_length'] = df['petal_length'].astype(float)\n",
      "/tmp/ipykernel_43337/3704024372.py:29: SettingWithCopyWarning: \n",
      "A value is trying to be set on a copy of a slice from a DataFrame.\n",
      "Try using .loc[row_indexer,col_indexer] = value instead\n",
      "\n",
      "See the caveats in the documentation: https://pandas.pydata.org/pandas-docs/stable/user_guide/indexing.html#returning-a-view-versus-a-copy\n",
      "  df['petal_width'] = df['petal_width'].astype(float)\n",
      "/tmp/ipykernel_43337/3704024372.py:32: SettingWithCopyWarning: \n",
      "A value is trying to be set on a copy of a slice from a DataFrame.\n",
      "Try using .loc[row_indexer,col_indexer] = value instead\n",
      "\n",
      "See the caveats in the documentation: https://pandas.pydata.org/pandas-docs/stable/user_guide/indexing.html#returning-a-view-versus-a-copy\n",
      "  df['is_flower'] = df['is_flower'].astype(bool)\n",
      "/tmp/ipykernel_43337/3704024372.py:35: SettingWithCopyWarning: \n",
      "A value is trying to be set on a copy of a slice from a DataFrame.\n",
      "Try using .loc[row_indexer,col_indexer] = value instead\n",
      "\n",
      "See the caveats in the documentation: https://pandas.pydata.org/pandas-docs/stable/user_guide/indexing.html#returning-a-view-versus-a-copy\n",
      "  df['species'] = df['species'].astype(str)\n"
     ]
    }
   ],
   "source": [
    "# Convert 'petal_length' and 'petal_width' to numeric\n",
    "df['petal_length'] = pd.to_numeric(df['petal_length'], errors='coerce')\n",
    "df['petal_width'] = pd.to_numeric(df['petal_width'], errors='coerce')\n",
    "\n",
    "# Check for non-numeric values in 'petal_length' and 'petal_width'\n",
    "non_numeric_petal_length = df[df['petal_length'].isna()]\n",
    "non_numeric_petal_width = df[df['petal_width'].isna()]\n",
    "\n",
    "# Check for non-boolean values in 'is_flower'\n",
    "non_boolean_is_flower = df[~df['is_flower'].isin([True, False])]\n",
    "\n",
    "# Check for non-string values in 'species'\n",
    "non_string_species = df[~df['species'].apply(lambda x: isinstance(x, str))]\n",
    "\n",
    "print(\"Non-numeric values in 'petal_length':\")\n",
    "print(non_numeric_petal_length)\n",
    "print(\"\\nNon-numeric values in 'petal_width':\")\n",
    "print(non_numeric_petal_width)\n",
    "print(\"\\nNon-boolean values in 'is_flower':\")\n",
    "print(non_boolean_is_flower)\n",
    "print(\"\\nNon-string values in 'species':\")\n",
    "print(non_string_species)\n",
    "\n",
    "# Create a copy of the DataFrame\n",
    "df_copy = df.copy()\n",
    "\n",
    "# Convert 'petal_length' and 'petal_width' to float\n",
    "df['petal_length'] = df['petal_length'].astype(float)\n",
    "df['petal_width'] = df['petal_width'].astype(float)\n",
    "\n",
    "# Convert 'is_flower' to boolean\n",
    "df['is_flower'] = df['is_flower'].astype(bool)\n",
    "\n",
    "# Convert 'species' to string\n",
    "df['species'] = df['species'].astype(str)\n",
    "\n",
    "# Print corrected column types\n",
    "print(\"Corrected Column Types:\")\n",
    "print(df.dtypes)\n"
   ]
  },
  {
   "cell_type": "code",
   "execution_count": 10,
   "metadata": {
    "ExecuteTime": {
     "end_time": "2024-03-18T18:52:43.496256Z",
     "start_time": "2024-03-18T18:52:43.484718Z"
    },
    "collapsed": false,
    "jupyter": {
     "outputs_hidden": false
    }
   },
   "outputs": [
    {
     "data": {
      "text/html": [
       "<div>\n",
       "<style scoped>\n",
       "    .dataframe tbody tr th:only-of-type {\n",
       "        vertical-align: middle;\n",
       "    }\n",
       "\n",
       "    .dataframe tbody tr th {\n",
       "        vertical-align: top;\n",
       "    }\n",
       "\n",
       "    .dataframe thead th {\n",
       "        text-align: right;\n",
       "    }\n",
       "</style>\n",
       "<table border=\"1\" class=\"dataframe\">\n",
       "  <thead>\n",
       "    <tr style=\"text-align: right;\">\n",
       "      <th></th>\n",
       "      <th>sepal_length</th>\n",
       "      <th>sepal_width</th>\n",
       "      <th>petal_length</th>\n",
       "      <th>petal_width</th>\n",
       "      <th>species</th>\n",
       "      <th>is_flower</th>\n",
       "    </tr>\n",
       "  </thead>\n",
       "  <tbody>\n",
       "    <tr>\n",
       "      <th>0</th>\n",
       "      <td>5.1</td>\n",
       "      <td>-3.5</td>\n",
       "      <td>1.4</td>\n",
       "      <td>0.2</td>\n",
       "      <td>setosa</td>\n",
       "      <td>True</td>\n",
       "    </tr>\n",
       "    <tr>\n",
       "      <th>2</th>\n",
       "      <td>5.0</td>\n",
       "      <td>-3.6</td>\n",
       "      <td>1.4</td>\n",
       "      <td>0.2</td>\n",
       "      <td>setosa</td>\n",
       "      <td>True</td>\n",
       "    </tr>\n",
       "    <tr>\n",
       "      <th>3</th>\n",
       "      <td>4.6</td>\n",
       "      <td>-3.1</td>\n",
       "      <td>1.5</td>\n",
       "      <td>0.2</td>\n",
       "      <td>setosa</td>\n",
       "      <td>True</td>\n",
       "    </tr>\n",
       "    <tr>\n",
       "      <th>4</th>\n",
       "      <td>4.7</td>\n",
       "      <td>-3.2</td>\n",
       "      <td>1.3</td>\n",
       "      <td>0.2</td>\n",
       "      <td>setosa</td>\n",
       "      <td>True</td>\n",
       "    </tr>\n",
       "    <tr>\n",
       "      <th>5</th>\n",
       "      <td>5.4</td>\n",
       "      <td>-3.9</td>\n",
       "      <td>1.7</td>\n",
       "      <td>0.4</td>\n",
       "      <td>setosa</td>\n",
       "      <td>True</td>\n",
       "    </tr>\n",
       "    <tr>\n",
       "      <th>...</th>\n",
       "      <td>...</td>\n",
       "      <td>...</td>\n",
       "      <td>...</td>\n",
       "      <td>...</td>\n",
       "      <td>...</td>\n",
       "      <td>...</td>\n",
       "    </tr>\n",
       "    <tr>\n",
       "      <th>145</th>\n",
       "      <td>6.7</td>\n",
       "      <td>-3.0</td>\n",
       "      <td>5.2</td>\n",
       "      <td>2.3</td>\n",
       "      <td>virginica</td>\n",
       "      <td>True</td>\n",
       "    </tr>\n",
       "    <tr>\n",
       "      <th>146</th>\n",
       "      <td>6.3</td>\n",
       "      <td>-2.5</td>\n",
       "      <td>5.0</td>\n",
       "      <td>1.9</td>\n",
       "      <td>virginica</td>\n",
       "      <td>True</td>\n",
       "    </tr>\n",
       "    <tr>\n",
       "      <th>147</th>\n",
       "      <td>6.5</td>\n",
       "      <td>-3.0</td>\n",
       "      <td>5.2</td>\n",
       "      <td>2.0</td>\n",
       "      <td>virginica</td>\n",
       "      <td>True</td>\n",
       "    </tr>\n",
       "    <tr>\n",
       "      <th>148</th>\n",
       "      <td>6.2</td>\n",
       "      <td>-3.4</td>\n",
       "      <td>5.4</td>\n",
       "      <td>2.3</td>\n",
       "      <td>virginica</td>\n",
       "      <td>True</td>\n",
       "    </tr>\n",
       "    <tr>\n",
       "      <th>149</th>\n",
       "      <td>5.9</td>\n",
       "      <td>-3.0</td>\n",
       "      <td>5.1</td>\n",
       "      <td>1.8</td>\n",
       "      <td>virginica</td>\n",
       "      <td>True</td>\n",
       "    </tr>\n",
       "  </tbody>\n",
       "</table>\n",
       "<p>144 rows × 6 columns</p>\n",
       "</div>"
      ],
      "text/plain": [
       "     sepal_length  sepal_width  petal_length  petal_width    species  \\\n",
       "0             5.1         -3.5           1.4          0.2     setosa   \n",
       "2             5.0         -3.6           1.4          0.2     setosa   \n",
       "3             4.6         -3.1           1.5          0.2     setosa   \n",
       "4             4.7         -3.2           1.3          0.2     setosa   \n",
       "5             5.4         -3.9           1.7          0.4     setosa   \n",
       "..            ...          ...           ...          ...        ...   \n",
       "145           6.7         -3.0           5.2          2.3  virginica   \n",
       "146           6.3         -2.5           5.0          1.9  virginica   \n",
       "147           6.5         -3.0           5.2          2.0  virginica   \n",
       "148           6.2         -3.4           5.4          2.3  virginica   \n",
       "149           5.9         -3.0           5.1          1.8  virginica   \n",
       "\n",
       "     is_flower  \n",
       "0         True  \n",
       "2         True  \n",
       "3         True  \n",
       "4         True  \n",
       "5         True  \n",
       "..         ...  \n",
       "145       True  \n",
       "146       True  \n",
       "147       True  \n",
       "148       True  \n",
       "149       True  \n",
       "\n",
       "[144 rows x 6 columns]"
      ]
     },
     "execution_count": 10,
     "metadata": {},
     "output_type": "execute_result"
    }
   ],
   "source": [
    "df"
   ]
  },
  {
   "cell_type": "markdown",
   "metadata": {},
   "source": [
    "#### 3.3 **[1pt]** Remove all columns with constant values."
   ]
  },
  {
   "cell_type": "markdown",
   "metadata": {},
   "source": [
    "I used `loc` and a boolean array with `nunique`."
   ]
  },
  {
   "cell_type": "code",
   "execution_count": 11,
   "metadata": {
    "ExecuteTime": {
     "end_time": "2024-03-18T18:52:43.618767Z",
     "start_time": "2024-03-18T18:52:43.605233Z"
    },
    "collapsed": false,
    "jupyter": {
     "outputs_hidden": false
    }
   },
   "outputs": [
    {
     "data": {
      "text/html": [
       "<div>\n",
       "<style scoped>\n",
       "    .dataframe tbody tr th:only-of-type {\n",
       "        vertical-align: middle;\n",
       "    }\n",
       "\n",
       "    .dataframe tbody tr th {\n",
       "        vertical-align: top;\n",
       "    }\n",
       "\n",
       "    .dataframe thead th {\n",
       "        text-align: right;\n",
       "    }\n",
       "</style>\n",
       "<table border=\"1\" class=\"dataframe\">\n",
       "  <thead>\n",
       "    <tr style=\"text-align: right;\">\n",
       "      <th></th>\n",
       "      <th>sepal_length</th>\n",
       "      <th>sepal_width</th>\n",
       "      <th>petal_length</th>\n",
       "      <th>petal_width</th>\n",
       "      <th>species</th>\n",
       "      <th>is_flower</th>\n",
       "    </tr>\n",
       "  </thead>\n",
       "  <tbody>\n",
       "    <tr>\n",
       "      <th>0</th>\n",
       "      <td>5.1</td>\n",
       "      <td>-3.5</td>\n",
       "      <td>1.4</td>\n",
       "      <td>0.2</td>\n",
       "      <td>setosa</td>\n",
       "      <td>True</td>\n",
       "    </tr>\n",
       "    <tr>\n",
       "      <th>2</th>\n",
       "      <td>5.0</td>\n",
       "      <td>-3.6</td>\n",
       "      <td>1.4</td>\n",
       "      <td>0.2</td>\n",
       "      <td>setosa</td>\n",
       "      <td>True</td>\n",
       "    </tr>\n",
       "    <tr>\n",
       "      <th>3</th>\n",
       "      <td>4.6</td>\n",
       "      <td>-3.1</td>\n",
       "      <td>1.5</td>\n",
       "      <td>0.2</td>\n",
       "      <td>setosa</td>\n",
       "      <td>True</td>\n",
       "    </tr>\n",
       "    <tr>\n",
       "      <th>4</th>\n",
       "      <td>4.7</td>\n",
       "      <td>-3.2</td>\n",
       "      <td>1.3</td>\n",
       "      <td>0.2</td>\n",
       "      <td>setosa</td>\n",
       "      <td>True</td>\n",
       "    </tr>\n",
       "    <tr>\n",
       "      <th>5</th>\n",
       "      <td>5.4</td>\n",
       "      <td>-3.9</td>\n",
       "      <td>1.7</td>\n",
       "      <td>0.4</td>\n",
       "      <td>setosa</td>\n",
       "      <td>True</td>\n",
       "    </tr>\n",
       "    <tr>\n",
       "      <th>...</th>\n",
       "      <td>...</td>\n",
       "      <td>...</td>\n",
       "      <td>...</td>\n",
       "      <td>...</td>\n",
       "      <td>...</td>\n",
       "      <td>...</td>\n",
       "    </tr>\n",
       "    <tr>\n",
       "      <th>145</th>\n",
       "      <td>6.7</td>\n",
       "      <td>-3.0</td>\n",
       "      <td>5.2</td>\n",
       "      <td>2.3</td>\n",
       "      <td>virginica</td>\n",
       "      <td>True</td>\n",
       "    </tr>\n",
       "    <tr>\n",
       "      <th>146</th>\n",
       "      <td>6.3</td>\n",
       "      <td>-2.5</td>\n",
       "      <td>5.0</td>\n",
       "      <td>1.9</td>\n",
       "      <td>virginica</td>\n",
       "      <td>True</td>\n",
       "    </tr>\n",
       "    <tr>\n",
       "      <th>147</th>\n",
       "      <td>6.5</td>\n",
       "      <td>-3.0</td>\n",
       "      <td>5.2</td>\n",
       "      <td>2.0</td>\n",
       "      <td>virginica</td>\n",
       "      <td>True</td>\n",
       "    </tr>\n",
       "    <tr>\n",
       "      <th>148</th>\n",
       "      <td>6.2</td>\n",
       "      <td>-3.4</td>\n",
       "      <td>5.4</td>\n",
       "      <td>2.3</td>\n",
       "      <td>virginica</td>\n",
       "      <td>True</td>\n",
       "    </tr>\n",
       "    <tr>\n",
       "      <th>149</th>\n",
       "      <td>5.9</td>\n",
       "      <td>-3.0</td>\n",
       "      <td>5.1</td>\n",
       "      <td>1.8</td>\n",
       "      <td>virginica</td>\n",
       "      <td>True</td>\n",
       "    </tr>\n",
       "  </tbody>\n",
       "</table>\n",
       "<p>144 rows × 6 columns</p>\n",
       "</div>"
      ],
      "text/plain": [
       "     sepal_length  sepal_width  petal_length  petal_width    species  \\\n",
       "0             5.1         -3.5           1.4          0.2     setosa   \n",
       "2             5.0         -3.6           1.4          0.2     setosa   \n",
       "3             4.6         -3.1           1.5          0.2     setosa   \n",
       "4             4.7         -3.2           1.3          0.2     setosa   \n",
       "5             5.4         -3.9           1.7          0.4     setosa   \n",
       "..            ...          ...           ...          ...        ...   \n",
       "145           6.7         -3.0           5.2          2.3  virginica   \n",
       "146           6.3         -2.5           5.0          1.9  virginica   \n",
       "147           6.5         -3.0           5.2          2.0  virginica   \n",
       "148           6.2         -3.4           5.4          2.3  virginica   \n",
       "149           5.9         -3.0           5.1          1.8  virginica   \n",
       "\n",
       "     is_flower  \n",
       "0         True  \n",
       "2         True  \n",
       "3         True  \n",
       "4         True  \n",
       "5         True  \n",
       "..         ...  \n",
       "145       True  \n",
       "146       True  \n",
       "147       True  \n",
       "148       True  \n",
       "149       True  \n",
       "\n",
       "[144 rows x 6 columns]"
      ]
     },
     "execution_count": 11,
     "metadata": {},
     "output_type": "execute_result"
    }
   ],
   "source": [
    "# Remove all columns with constant values\n",
    "df = df.loc[:, df.nunique() > 1]\n",
    "df  "
   ]
  },
  {
   "cell_type": "markdown",
   "metadata": {},
   "source": [
    "#### 3.4 **[3pt]** There are still errors in the data: fix them all."
   ]
  },
  {
   "cell_type": "markdown",
   "metadata": {},
   "source": [
    "This time, I suggest you do not just \"answer\" this question in order. It is easier to move to the next questions, see what errors you get, come back and write code that fixes them (remember: data analysis is an iterative process). If you can answer all questions then there should be no errors left. Also keep in mind that Python 3 strings handle UTF-8 characters if you have not noticed already 😉"
   ]
  },
  {
   "cell_type": "code",
   "execution_count": null,
   "metadata": {
    "ExecuteTime": {
     "end_time": "2024-03-18T18:52:43.729626Z",
     "start_time": "2024-03-18T18:52:43.727777Z"
    }
   },
   "outputs": [],
   "source": []
  },
  {
   "cell_type": "markdown",
   "metadata": {},
   "source": [
    "# 4. Visualizing the data"
   ]
  },
  {
   "cell_type": "markdown",
   "metadata": {},
   "source": [
    "If you are still stuck with some error and need to give up on question 3.4, you can use the correct dataframe from `df = sns.load_dataset('iris')` for the following parts. But it would be really great if you were able to clean the data at the previous question and use that instead. As I mentioned: never underestimate the data cleaning."
   ]
  },
  {
   "cell_type": "code",
   "execution_count": 12,
   "metadata": {
    "ExecuteTime": {
     "end_time": "2024-03-18T18:52:43.909855Z",
     "start_time": "2024-03-18T18:52:43.897720Z"
    }
   },
   "outputs": [
    {
     "data": {
      "text/html": [
       "<div>\n",
       "<style scoped>\n",
       "    .dataframe tbody tr th:only-of-type {\n",
       "        vertical-align: middle;\n",
       "    }\n",
       "\n",
       "    .dataframe tbody tr th {\n",
       "        vertical-align: top;\n",
       "    }\n",
       "\n",
       "    .dataframe thead th {\n",
       "        text-align: right;\n",
       "    }\n",
       "</style>\n",
       "<table border=\"1\" class=\"dataframe\">\n",
       "  <thead>\n",
       "    <tr style=\"text-align: right;\">\n",
       "      <th></th>\n",
       "      <th>sepal_length</th>\n",
       "      <th>sepal_width</th>\n",
       "      <th>petal_length</th>\n",
       "      <th>petal_width</th>\n",
       "      <th>species</th>\n",
       "    </tr>\n",
       "  </thead>\n",
       "  <tbody>\n",
       "    <tr>\n",
       "      <th>0</th>\n",
       "      <td>5.1</td>\n",
       "      <td>3.5</td>\n",
       "      <td>1.4</td>\n",
       "      <td>0.2</td>\n",
       "      <td>setosa</td>\n",
       "    </tr>\n",
       "    <tr>\n",
       "      <th>1</th>\n",
       "      <td>4.9</td>\n",
       "      <td>3.0</td>\n",
       "      <td>1.4</td>\n",
       "      <td>0.2</td>\n",
       "      <td>setosa</td>\n",
       "    </tr>\n",
       "    <tr>\n",
       "      <th>2</th>\n",
       "      <td>4.7</td>\n",
       "      <td>3.2</td>\n",
       "      <td>1.3</td>\n",
       "      <td>0.2</td>\n",
       "      <td>setosa</td>\n",
       "    </tr>\n",
       "    <tr>\n",
       "      <th>3</th>\n",
       "      <td>4.6</td>\n",
       "      <td>3.1</td>\n",
       "      <td>1.5</td>\n",
       "      <td>0.2</td>\n",
       "      <td>setosa</td>\n",
       "    </tr>\n",
       "    <tr>\n",
       "      <th>4</th>\n",
       "      <td>5.0</td>\n",
       "      <td>3.6</td>\n",
       "      <td>1.4</td>\n",
       "      <td>0.2</td>\n",
       "      <td>setosa</td>\n",
       "    </tr>\n",
       "    <tr>\n",
       "      <th>...</th>\n",
       "      <td>...</td>\n",
       "      <td>...</td>\n",
       "      <td>...</td>\n",
       "      <td>...</td>\n",
       "      <td>...</td>\n",
       "    </tr>\n",
       "    <tr>\n",
       "      <th>145</th>\n",
       "      <td>6.7</td>\n",
       "      <td>3.0</td>\n",
       "      <td>5.2</td>\n",
       "      <td>2.3</td>\n",
       "      <td>virginica</td>\n",
       "    </tr>\n",
       "    <tr>\n",
       "      <th>146</th>\n",
       "      <td>6.3</td>\n",
       "      <td>2.5</td>\n",
       "      <td>5.0</td>\n",
       "      <td>1.9</td>\n",
       "      <td>virginica</td>\n",
       "    </tr>\n",
       "    <tr>\n",
       "      <th>147</th>\n",
       "      <td>6.5</td>\n",
       "      <td>3.0</td>\n",
       "      <td>5.2</td>\n",
       "      <td>2.0</td>\n",
       "      <td>virginica</td>\n",
       "    </tr>\n",
       "    <tr>\n",
       "      <th>148</th>\n",
       "      <td>6.2</td>\n",
       "      <td>3.4</td>\n",
       "      <td>5.4</td>\n",
       "      <td>2.3</td>\n",
       "      <td>virginica</td>\n",
       "    </tr>\n",
       "    <tr>\n",
       "      <th>149</th>\n",
       "      <td>5.9</td>\n",
       "      <td>3.0</td>\n",
       "      <td>5.1</td>\n",
       "      <td>1.8</td>\n",
       "      <td>virginica</td>\n",
       "    </tr>\n",
       "  </tbody>\n",
       "</table>\n",
       "<p>150 rows × 5 columns</p>\n",
       "</div>"
      ],
      "text/plain": [
       "     sepal_length  sepal_width  petal_length  petal_width    species\n",
       "0             5.1          3.5           1.4          0.2     setosa\n",
       "1             4.9          3.0           1.4          0.2     setosa\n",
       "2             4.7          3.2           1.3          0.2     setosa\n",
       "3             4.6          3.1           1.5          0.2     setosa\n",
       "4             5.0          3.6           1.4          0.2     setosa\n",
       "..            ...          ...           ...          ...        ...\n",
       "145           6.7          3.0           5.2          2.3  virginica\n",
       "146           6.3          2.5           5.0          1.9  virginica\n",
       "147           6.5          3.0           5.2          2.0  virginica\n",
       "148           6.2          3.4           5.4          2.3  virginica\n",
       "149           5.9          3.0           5.1          1.8  virginica\n",
       "\n",
       "[150 rows x 5 columns]"
      ]
     },
     "execution_count": 12,
     "metadata": {},
     "output_type": "execute_result"
    }
   ],
   "source": [
    "# I hope you will not uncomment the following line; but if you need to, it is fine, do not worry:\n",
    "import seaborn as sns\n",
    "df = sns.load_dataset('iris')\n",
    "df"
   ]
  },
  {
   "cell_type": "markdown",
   "metadata": {},
   "source": [
    "#### 4.1 **[1pt]** Start with plotting the pair-plot, using different colors depending on species. Explain the plots on the diagonal."
   ]
  },
  {
   "cell_type": "markdown",
   "metadata": {},
   "source": [
    "Hint: a common error in the past has been if the types have been altered by the fixing in 3.4. To avoid that: use `loc` or `iloc` specifying *always* both row and column. To fix it with bruteforce: re-cast the Series to the correct `dtype` as you did in 3.1."
   ]
  },
  {
   "cell_type": "code",
   "execution_count": null,
   "metadata": {
    "ExecuteTime": {
     "end_time": "2024-03-18T18:52:43.963632Z",
     "start_time": "2024-03-18T18:52:43.961997Z"
    }
   },
   "outputs": [],
   "source": []
  },
  {
   "cell_type": "markdown",
   "metadata": {},
   "source": [
    "The plots on the diagonal show the distribution of the (one-dimensional) values for each class. Distributions that intersect correspond to data points that are not linearly separable."
   ]
  },
  {
   "cell_type": "markdown",
   "metadata": {},
   "source": [
    "#### 4.2 **[2pt]** Plot the correlation matrix as a heatmap, adding the values on the squares as seen in the lecture's example. Explain what high values of covariance (>0.9 or <-0.9) mean from a statistical perspective, and the implications for the learning process."
   ]
  },
  {
   "cell_type": "markdown",
   "metadata": {},
   "source": [
    "Hint: could it be a \"common data problem\"? Also add the parameter `fmt=` to round to 1 decimal."
   ]
  },
  {
   "cell_type": "code",
   "execution_count": null,
   "metadata": {
    "ExecuteTime": {
     "end_time": "2024-03-18T18:52:44.047098Z",
     "start_time": "2024-03-18T18:52:44.045168Z"
    }
   },
   "outputs": [],
   "source": []
  },
  {
   "cell_type": "markdown",
   "metadata": {},
   "source": [
    "High (linear) correlation (in magnitude: close to $+1$ or $-1$) means that the two feature vary together in an indistinguishable manner. Here the high correlation between petal width and length means that the petal proportion is constant, and having both is redundant. We can learn the same if we drop one of the two."
   ]
  },
  {
   "cell_type": "markdown",
   "metadata": {},
   "source": [
    "#### 4.3 **[2pt]** Plot a violin plot of the features. Use a custom palette. Briefly explain the advantage of the violin plot over the box plot."
   ]
  },
  {
   "cell_type": "markdown",
   "metadata": {},
   "source": [
    "Palettes can be found [[here]](https://seaborn.pydata.org/tutorial/color_palettes.html). You can use `plt.xticks(rotation=45)` (or similar) to rotate the $x$ axis labels if they overlap."
   ]
  },
  {
   "cell_type": "code",
   "execution_count": null,
   "metadata": {
    "ExecuteTime": {
     "end_time": "2024-03-18T18:52:44.067732Z",
     "start_time": "2024-03-18T18:52:44.066071Z"
    }
   },
   "outputs": [],
   "source": []
  },
  {
   "cell_type": "markdown",
   "metadata": {},
   "source": [
    "The violin plot offers more details about the data distribution, especially when the feature is effectively composed of multiple clusters (e.g. both petal length and width)."
   ]
  },
  {
   "cell_type": "markdown",
   "metadata": {},
   "source": [
    "# 5. Visualizing the performance"
   ]
  },
  {
   "cell_type": "markdown",
   "metadata": {},
   "source": [
    "#### 5.1 **[2pt]** Use scikit-learn to train a Linear Regression to predict the petal length ($\\hat{y}$) from the petal width ($x$). Generate the Prediction over Observation plot."
   ]
  },
  {
   "cell_type": "markdown",
   "metadata": {},
   "source": [
    "Careful, the integration between Pandas and Scikit-learn is relatively [recent](https://medium.com/dunder-data/from-pandas-to-scikit-learn-a-new-exciting-workflow-e88e2271ef62). If you find it confusing, stick to numpy arrays, for example:\n",
    "```python\n",
    "x = df['petal_width'].to_numpy().reshape((-1, 1))\n",
    "y = df['petal_length'].to_numpy()\n",
    "```\n",
    "Remember scikit-learn needs 2D input, so you need reshaping. To plot the diagonal line a simple line plot with two points will generate a segment, e.g. `sns.lineplot([0,7],[0,7])`."
   ]
  },
  {
   "cell_type": "code",
   "execution_count": null,
   "metadata": {
    "ExecuteTime": {
     "end_time": "2024-03-18T18:52:44.115765Z",
     "start_time": "2024-03-18T18:52:44.114199Z"
    }
   },
   "outputs": [],
   "source": []
  },
  {
   "cell_type": "markdown",
   "metadata": {},
   "source": [
    "#### 5.2 **[2pt]** Using the same model and predictions from the last point, generate the Errors over Predictions plot."
   ]
  },
  {
   "cell_type": "markdown",
   "metadata": {},
   "source": [
    "Here you want at least one horizontal line for $y=0$: use the segment trick from the previous question. Ideally it looks best with two more lines at $y=+1$ and $y=-1$ for the standard deviation. These can be made thinner or lighter in color to look even better :) I simply used the `alpha` option to make them slightly transparent."
   ]
  },
  {
   "cell_type": "code",
   "execution_count": null,
   "metadata": {
    "ExecuteTime": {
     "end_time": "2024-03-18T18:52:44.135806Z",
     "start_time": "2024-03-18T18:52:44.134261Z"
    }
   },
   "outputs": [],
   "source": []
  },
  {
   "cell_type": "markdown",
   "metadata": {},
   "source": [
    "#### 5.3 **[2pt]** For both Prediction over Observation and Errors over Prediction, write a few sentences commenting on the performance of the model learned by the Linear Regression."
   ]
  },
  {
   "cell_type": "markdown",
   "metadata": {},
   "source": []
  },
  {
   "cell_type": "markdown",
   "metadata": {},
   "source": [
    "# At the end of the exercise"
   ]
  },
  {
   "cell_type": "markdown",
   "metadata": {},
   "source": [
    "Bonus question with no points! Answering this will have no influence on your scoring, not at the assignment and not towards the exam score -- really feel free to ignore it with no consequence. But solving it will reward you with skills that will make the next lectures easier, give you real applications, and will be good practice towards the exam.\n",
    "\n",
    "The solution for this questions will not be included in the regular lab solutions pdf, but you are welcome to open a discussion on the Moodle: we will support your addressing it, and you may meet other students that choose to solve this, and find a teammate for the next assignment that is willing to do things for fun and not only for score :)"
   ]
  },
  {
   "cell_type": "markdown",
   "metadata": {},
   "source": [
    "#### BONUS **[ZERO pt]** Follow [this tutorial](https://becominghuman.ai/linear-regression-in-python-with-pandas-scikit-learn-72574a2ec1a5) to augment your answers to point 5 with 5-fold cross-validation."
   ]
  },
  {
   "cell_type": "markdown",
   "metadata": {},
   "source": [
    "#### BONUS **[ZERO pt]** Follow [this tutorial](https://elitedatascience.com/python-seaborn-tutorial) but using our data, and generate all the plots of types that have not been mentioned in the lecture/lab. Comment a few sentences about which I think would be most useful to include in our set of basic plots for the next year."
   ]
  },
  {
   "cell_type": "markdown",
   "metadata": {},
   "source": [
    "#### BONUS **[ZERO pt]** Copy your Perceptron implementation from the second lab. Modify it so that at every update it computes the Risk (total Loss over all points) and saves it to a list (we did something similar at the first lab, remember?). Run your implementation on the data, then plot  the Risk over Iterations, using a `sns.lineplot()`."
   ]
  },
  {
   "cell_type": "markdown",
   "metadata": {},
   "source": [
    "If you discuss these points on Moodle I will participate :) plus it will give you an opportunity to find other people in the class that interested with going beyond the points: I strongly encourage these to team together (remember you can change teammate at each assignment)."
   ]
  },
  {
   "cell_type": "markdown",
   "metadata": {},
   "source": [
    "### Final considerations"
   ]
  },
  {
   "cell_type": "markdown",
   "metadata": {},
   "source": [
    "- This lecture+lab actually gives you most of what you need for the high-pay job of Data Analyst, so I guess there is one direct market application from this course after all :)\n",
    "- You will need to be strong in all the topics seen so far to carry on with the course.\n",
    "- Fixing and polishing your past assignments will make passing the exam so much easier. Now is the perfect chance to prepare the first 3."
   ]
  }
 ],
 "metadata": {
  "kernelspec": {
   "display_name": "Python 3 (ipykernel)",
   "language": "python",
   "name": "python3"
  },
  "language_info": {
   "codemirror_mode": {
    "name": "ipython",
    "version": 3
   },
   "file_extension": ".py",
   "mimetype": "text/x-python",
   "name": "python",
   "nbconvert_exporter": "python",
   "pygments_lexer": "ipython3",
   "version": "3.10.12"
  }
 },
 "nbformat": 4,
 "nbformat_minor": 4
}
