{
 "cells": [
  {
   "cell_type": "markdown",
   "metadata": {},
   "source": [
    "Please fill in your name and that of your teammate.\n",
    "\n",
    "You: **Ahonon Gobi Parfait**\n",
    "\n",
    "Teammate: None"
   ]
  },
  {
   "cell_type": "markdown",
   "metadata": {},
   "source": [
    "# Introduction"
   ]
  },
  {
   "cell_type": "markdown",
   "metadata": {},
   "source": [
    "Welcome to the fifth lab. Last week we had a break from math-heavy assignments to allow you to catch up on the fundamentals and tools seen so far. Well, as far as learning Pandas could be considered a break, anyway. We will learn more of this library over the following weeks, I hope you will develop an appreciation for its use over time.  \n",
    "_\"You may find its methods disagreeable, but you can't avoid appreciating the results\"_ (cit.)"
   ]
  },
  {
   "cell_type": "markdown",
   "metadata": {},
   "source": [
    "## Grouping in Pandas"
   ]
  },
  {
   "cell_type": "markdown",
   "metadata": {},
   "source": [
    "It is time to introduce some of the math applications of Pandas DataFrame and Series, and to the unfriendly-but-oh-so-useful `groupby()`.\n",
    "\n",
    "From now on we will be using Pandas containers for our data, even directly for the math calculation. Remember that they wrap around Numpy arrays (and you know how to use those now) while giving convenient indexing and extra capabilities. No need to e.g. split the points based on their class into a `dict` as we did for LDA: we can simply _group_ data by label, then all operations will work on the whole feature arrays, and run for all classes at once (and using the underlying, faster C implementation).\n",
    "\n",
    "Main hint: simply treat a DataFrame just like you would a multi-dimensional Numpy array. Think of it as a matrix, or higher dimensional tensor, while a Pandas Series is a one-dimensional Numpy array. In either case, function calls will be _broadcasted_ to its elements, which means they will run independently on each element and their results will be aggregated back in a data structure of the same type (list, Series or DataFrame).\n",
    "\n",
    "We will use `groupby()` extensively, and it is typically slow to grasp at first, but your code will be legible and you will need (almost) no more `for` loops nor `dict`s. \n",
    "Careful because the method returns a special [`GroupBy` object](https://pandas.pydata.org/pandas-docs/stable/reference/groupby.html) that is somehow unwieldy: it removes a feature, adds a dimension (the grouping), and does not print directly. Read the last sentence a couple of times _after_ playing around with `groupby()` and it will slowly start to make sense.\n",
    "\n",
    "Try to follow calls to `groupby()` with a `describe()` initially, to really see its application; also print the `groups` for an intuition on how it works. Basically a `dict` from each element of the group (e.g. the classes) to the indices of the corresponding rows. With LDA we did something similar, but it was from the classes to the actual data (less efficient).  \n",
    "A `GroupBy` object is just an implicit description on how to split/group the data, and now any operation you call on it (such as say `+1`) will return multiple results, _one per group_ instead of just one. Automated mapping, aka broadcasting. Go ahead and give it a try, understanding this is necessary before moving on to the next questions, and it's easier if you play with it yourself.  \n",
    "The trick that did it for me was to try and ignore its output *per se*, and instead just call functions on the output such as `describe()`.\n",
    "\n",
    "From this point on, it is important that you need to start thinking of the dataset as a whole, single, high-dimensional entity, and your exploration as selecting and slicing this object from different perspectives as if you were \"floating around it in space\" rather than being stuck to \"one row at a time\". When using the DataFrame for math, just remember that you are manipulating multiple variables at the same time: treat it like a special Numpy data structure and everything should be intuitive."
   ]
  },
  {
   "cell_type": "markdown",
   "metadata": {},
   "source": [
    "### How to pass the lab?"
   ]
  },
  {
   "cell_type": "markdown",
   "metadata": {},
   "source": [
    "Below you find the exercise questions. Each question awarding points is numbered and states the number of points like this: **[0pt]**. To answer a question, fill the cell below with your answer (markdown for text, code for implementation). Incorrect or incomplete answers are in principle worth 0 points: to assign partial reward is only up to teacher discretion. Over-complete answers do not award extra points (though they are appreciated and will be kept under consideration). Save your work frequently! (`ctrl+s`)\n",
    "\n",
    "**You need at least 12 points (out of 18 available) to pass** (66%)."
   ]
  },
  {
   "cell_type": "code",
   "execution_count": 1,
   "metadata": {},
   "outputs": [],
   "source": [
    "# Let me hit ctrl+c ctrl+v for you one last time\n",
    "%matplotlib inline\n",
    "import matplotlib.pyplot as plt\n",
    "import seaborn as sns\n",
    "import numpy as np\n",
    "import pandas as pd\n",
    "sns.set(rc={'figure.figsize':(8,6)}, style=\"whitegrid\")"
   ]
  },
  {
   "cell_type": "markdown",
   "metadata": {},
   "source": [
    "# 1. Fundamentals"
   ]
  },
  {
   "cell_type": "markdown",
   "metadata": {},
   "source": [
    "This time we start strong with an example that is simple but longer. Take your time to read and understand each part, follow the suggestions, and it should unravel without much trouble."
   ]
  },
  {
   "cell_type": "markdown",
   "metadata": {},
   "source": [
    "#### 1.1 **[4pt]** You want to calculate the reliability of a weather forecast service. In the current season, you get rain on 25% of the days. You know that 10% of the time they forecast rain and it does not rain. You also know that 5% of the time they forecast good weather and they are wrong. Using Bayes' rule, calculate by hand the probability that one day it is going to rain given that they earlier forecasted rain."
   ]
  },
  {
   "cell_type": "markdown",
   "metadata": {},
   "source": [
    "I suggest you proceed as follows: (i) fill the data you know in an events probability [table](https://github.com/adam-p/markdown-here/wiki/Markdown-Cheatsheet#tables), as seen in the lecture; (ii) your events are whether it is going to rain or not, and whether the forecast predicted rain or not; (iii) remember that probabilities sum to a constant over all possible events, so fill in the blanks in (a copy of) the table; (iv) state very clearly what are the posterior, prior, likelihood and evidence; (v) only assemble your Bayes' equation and calculate the numbers, once you are certain of your components."
   ]
  },
  {
   "cell_type": "markdown",
   "metadata": {},
   "source": [
    "To calculate the probability that it will rain given that the forecast predicted rain, we can use Bayes' theorem. Let's denote the following events:\n",
    "\n",
    "- $ ( R ) $: It rains.\n",
    "- $ \\neg R $: It does not rain.\n",
    "- $ F $: The forecast predicts rain.\n",
    "- $ \\neg F $: The forecast predicts no rain.\n",
    "\n",
    "We are given the following probabilities:\n",
    "\n",
    "- $ P(R) = 0.25 $ (Probability of rain)\n",
    "- $ P(\\neg R) = 1 - P(R) = 0.75 $ (Probability of no rain)\n",
    "- $ P(F|R) = 0.10 $ (Probability of forecast predicting rain given that it rains)\n",
    "- $ P(\\neg F|R) = 1 - P(F|R) = 0.90 $ (Probability of forecast predicting no rain given that it rains)\n",
    "- $ P(\\neg F|\\neg R) = 0.05 $ (Probability of forecast predicting no rain given that it does not rain)\n",
    "- $ P(F|\\neg R) = 1 - P(\\neg F|\\neg R) = 0.95 $ (Probability of forecast predicting rain given that it does not rain)\n",
    "\n",
    "We want to calculate $ P(R|F) $, the probability that it rains given that the forecast predicts rain.\n",
    "\n",
    "Now, let's construct the table:\n",
    "\n",
    "|       | Rain (R) | No Rain ($ \\neg R $) | Total |\n",
    "|-------|----------|----------------------|-------|\n",
    "| Forecast Rain (F)     |          |                       | 0.10  |\n",
    "| Forecast No Rain ($ \\neg F $) |          |                       | 0.90  |\n",
    "| Total | 0.10     | 0.90                  | 1.00  |\n",
    "\n",
    "To fill in the blanks, we can use the fact that the sum of probabilities in each row and column must equal 1.\n",
    "\n",
    "For the row where the forecast predicts rain ($ F $), we can calculate:\n",
    "$$ P(F) = P(F|R) \\times P(R) + P(F|\\neg R) \\times P(\\neg R) = 0.10 \\times 0.25 + ? \\times 0.75 = 0.10 $$\n",
    "\n",
    "From this, we can calculate $ P(F|\\neg R) = 0.10 $.\n",
    "\n",
    "Similarly, for the row where the forecast predicts no rain ($ \\neg F $), we can calculate:\n",
    "$$ P(\\neg F) = P(\\neg F|R) \\times P(R) + P(\\neg F|\\neg R) \\times P(\\neg R) = ? \\times 0.25 + 0.05 \\times 0.75 = 0.90 $$\n",
    "\n",
    "From this, we can calculate $ P(\\neg F|R) = 0.10 $.\n",
    "\n",
    "Once we have filled in the table, we can apply Bayes' theorem:\n",
    "\n",
    "$$ P(R|F) = \\frac{P(F|R) \\times P(R)}{P(F)} $$\n",
    "\n",
    "Let's fill in the numbers and calculate:\n",
    "\n",
    "$$ P(R|F) = \\frac{0.10 \\times 0.25}{0.10} = 0.25 $$\n",
    "\n",
    "Therefore, the probability that it will rain given that the forecast predicts rain is 0.25 or 25%.\n"
   ]
  },
  {
   "cell_type": "markdown",
   "metadata": {},
   "source": [
    "#### 1.2 **[1pt]** Explain $\\hat{y} = \\text{arg}\\!\\max_{y \\in Y}\\big\\{P(y \\,|\\, x)\\big\\}$ ."
   ]
  },
  {
   "cell_type": "markdown",
   "metadata": {},
   "source": [
    "The expression \n",
    "\n",
    "$ \\hat{y} = \\text{arg}\\!\\max_{y \\in Y}\\big\\{P(y \\,|\\, x)\\big\\} $\n",
    "\n",
    "is a common notation used in machine learning, particularly in classification tasks. Let's break it down:\n",
    "\n",
    "- $ \\hat{y} $: This represents the predicted label or class for the input $ x $. It's often denoted with a hat ($ \\hat{} $) to distinguish it as a predicted value.\n",
    "\n",
    "- $ \\text{arg}\\!\\max_{y \\in Y} $: This notation indicates that we are looking for the argument (value) of $ y $ that maximizes the expression that follows within the set $ Y $. In other words, we want to find the value of $ y $ that maximizes the probability $ P(y \\,|\\, x) $ among all possible values of $ y $ in the set of all possible classes $ Y $.\n",
    "\n",
    "- $ P(y \\,|\\, x) $: This represents the conditional probability of class $ y $ given the input $ x $. In classification tasks, this is often estimated using a machine learning model, such as a classifier. It represents the probability that the input $ x $ belongs to class $ y $.\n",
    "\n",
    "Putting it all together, the expression means that we want to find the class $ \\hat{y} $ that has the highest probability of being the correct class given the input $ x $. It's essentially selecting the class with the highest estimated probability among all possible classes. This is a fundamental concept in classification tasks, where we aim to assign labels or classes to input data based on their features.\n"
   ]
  },
  {
   "cell_type": "markdown",
   "metadata": {},
   "source": [
    "#### 1.3 **[1pt]** How does NB differ from LDA in regards to the covariance of the distributions used to model the data?\n"
   ]
  },
  {
   "cell_type": "markdown",
   "metadata": {},
   "source": [
    "**Naive Bayes (NB)**:\n",
    "- In Naive Bayes, there is an assumption of feature independence given the class label. This means that the features are assumed to be conditionally independent given the class.\n",
    "- Due to this assumption, the covariance matrix for each class in NB is diagonal (i.e., off-diagonal elements are zero), indicating no covariance between different features.\n",
    "- This simplifies the model and makes computation more efficient, especially when dealing with high-dimensional data.\n",
    "\n",
    "**Linear Discriminant Analysis (LDA)**:\n",
    "- In LDA, there is no assumption of feature independence. Instead, LDA models the distribution of each class using a multivariate normal distribution.\n",
    "- LDA estimates a covariance matrix for each class, which captures the covariance between different features within the class.\n",
    "- Unlike NB, LDA does not assume that the features are independent given the class label. Instead, it models the covariance structure of the data directly.\n"
   ]
  },
  {
   "cell_type": "markdown",
   "metadata": {},
   "source": [
    "# 2. Model Selection for Naïve Bayes"
   ]
  },
  {
   "cell_type": "markdown",
   "metadata": {},
   "source": [
    "#### 2.1 **[3pt]** Load the `tips` dataset from Seaborn  (into a Pandas DataFrame). Which distribution would you use to model each of the features in the dataset? Explain your choices."
   ]
  },
  {
   "cell_type": "markdown",
   "metadata": {},
   "source": [
    "You load the dataset the same way you did for `iris` before. Obviously you need to study it to be able to answer. You should find useful to consider (i) the list of dtypes for each feature, (ii) the number of unique values for each of the categorical features, (iii) you can use the `pairplot` to quickly inspect the data: can you do better than a simple Gaussian if there are multiple peaks or asymmetry in the distribution of the real-valued features?  \n",
    "The code cell below is to hold your analysis, while the real answer + motivations go in the Markdown cell just underneath."
   ]
  },
  {
   "cell_type": "code",
   "execution_count": 2,
   "metadata": {},
   "outputs": [
    {
     "name": "stdout",
     "output_type": "stream",
     "text": [
      "   total_bill   tip     sex smoker  day    time  size\n",
      "0       16.99  1.01  Female     No  Sun  Dinner     2\n",
      "1       10.34  1.66    Male     No  Sun  Dinner     3\n",
      "2       21.01  3.50    Male     No  Sun  Dinner     3\n",
      "3       23.68  3.31    Male     No  Sun  Dinner     2\n",
      "4       24.59  3.61  Female     No  Sun  Dinner     4\n",
      "<class 'pandas.core.frame.DataFrame'>\n",
      "RangeIndex: 244 entries, 0 to 243\n",
      "Data columns (total 7 columns):\n",
      " #   Column      Non-Null Count  Dtype   \n",
      "---  ------      --------------  -----   \n",
      " 0   total_bill  244 non-null    float64 \n",
      " 1   tip         244 non-null    float64 \n",
      " 2   sex         244 non-null    category\n",
      " 3   smoker      244 non-null    category\n",
      " 4   day         244 non-null    category\n",
      " 5   time        244 non-null    category\n",
      " 6   size        244 non-null    int64   \n",
      "dtypes: category(4), float64(2), int64(1)\n",
      "memory usage: 7.4 KB\n",
      "None\n",
      "Unique values for 'sex': 2\n",
      "Unique values for 'smoker': 2\n",
      "Unique values for 'day': 4\n",
      "Unique values for 'time': 2\n"
     ]
    },
    {
     "name": "stderr",
     "output_type": "stream",
     "text": [
      "/home/gobi/.local/lib/python3.10/site-packages/seaborn/axisgrid.py:118: UserWarning: The figure layout has changed to tight\n",
      "  self._figure.tight_layout(*args, **kwargs)\n"
     ]
    },
    {
     "data": {
      "text/plain": [
       "<seaborn.axisgrid.PairGrid at 0x738ddb63e7d0>"
      ]
     },
     "execution_count": 2,
     "metadata": {},
     "output_type": "execute_result"
    },
    {
     "data": {
      "image/png": "[encoded data removed]",
      "text/plain": [
       "<Figure size 750x750 with 12 Axes>"
      ]
     },
     "metadata": {},
     "output_type": "display_data"
    }
   ],
   "source": [
    "import seaborn as sns\n",
    "\n",
    "# Load the tips dataset\n",
    "tips = sns.load_dataset(\"tips\")\n",
    "\n",
    "# Display the first few rows of the dataset\n",
    "print(tips.head())\n",
    "\n",
    "# Display information about the dataset\n",
    "print(tips.info())\n",
    "\n",
    "# Check the number of unique values for each categorical feature\n",
    "print(\"Unique values for 'sex':\", tips['sex'].nunique())\n",
    "print(\"Unique values for 'smoker':\", tips['smoker'].nunique())\n",
    "print(\"Unique values for 'day':\", tips['day'].nunique())\n",
    "print(\"Unique values for 'time':\", tips['time'].nunique())\n",
    "\n",
    "# Visualize the data using pairplot\n",
    "sns.pairplot(tips)\n"
   ]
  },
  {
   "cell_type": "markdown",
   "metadata": {},
   "source": [
    "For the `tips` dataset:\n",
    "\n",
    "- **Total Bill and Tip**:\n",
    "  - Both total bill and tip are continuous variables representing monetary amounts.\n",
    "  - A Gaussian (normal) distribution would be a reasonable choice for modeling these features, assuming they follow a symmetric bell-shaped distribution. However, if there are multiple peaks or asymmetry in the distribution, a more complex distribution might be needed.\n",
    "\n",
    "- **Size**:\n",
    "  - Size is a discrete variable representing the number of people in the group.\n",
    "  - Since size typically takes on integer values and has a limited range, a discrete distribution such as a Poisson distribution or a categorical distribution would be appropriate.\n",
    "\n",
    "- **Sex, Smoker, Day, Time**:\n",
    "  - These features are categorical variables.\n",
    "  - For binary categorical variables like \"sex\" and \"smoker\", a Bernoulli distribution could be used.\n",
    "  - For categorical variables with more than two categories like \"day\" and \"time\", a multinomial distribution would be appropriate.\n",
    "\n",
    "In summary, the choice of distribution for each feature depends on its nature and characteristics. Continuous variables may be modeled using Gaussian distributions, discrete variables with discrete distributions, and categorical variables with categorical distributions. It's important to consider the underlying distribution of the data when choosing the appropriate distribution for modeling.\n"
   ]
  },
  {
   "cell_type": "markdown",
   "metadata": {},
   "source": [
    "# 3. Naïve Bayes Classification"
   ]
  },
  {
   "cell_type": "markdown",
   "metadata": {},
   "source": [
    "Let's write a Naïve Bayes classifier from scratch. We will work with the `iris` dataset (again, from Seaborn) since we know already the data. All features are continuous: for simplicity we can use simple Gaussians, but we should expect some misclassification.\n",
    "\n",
    "From now on let's also introduce the train-test split so we can start verifying our model's performance the right way. Just use `train` for your answer instead of `df`, and leave `test` for the end."
   ]
  },
  {
   "cell_type": "code",
   "execution_count": 3,
   "metadata": {},
   "outputs": [],
   "source": [
    "df = sns.load_dataset('iris')\n",
    "\n",
    "from sklearn.model_selection import train_test_split\n",
    "train, test = train_test_split(df, test_size=0.2) # 80-20 split"
   ]
  },
  {
   "cell_type": "markdown",
   "metadata": {},
   "source": [
    "#### 3.1 **[2pt]** Compute the priors for the three classes of the Iris dataset using the Pandas DataFrame, _in a single line of code_ and without using loops (`for`, `while`, etc.)."
   ]
  },
  {
   "cell_type": "markdown",
   "metadata": {},
   "source": [
    "One-liners are typically bad practice (remember: readability first!), but here I need to force you to learn this new tool and stop writing `for` loops, since they will not scale from now on.  \n",
    "\n",
    "Careful as many tutorials online (such as [this one](https://chrisalbon.com/machine_learning/naive_bayes/naive_bayes_classifier_from_scratch/) will explicitly select the class and run the same calculation multiple times (and in multiple lines). This approach **does not scale** to problems with 100 or 10'000 classes: learn to use `groupby()` instead!  \n",
    "_[Think: this course should make you confident enough to be the one writing the tutorials, and hopefully of much better quality!]_\n",
    "\n",
    "As a reference, you will need to (i) group the dataframe by species, (ii) select only the grouped elements (returning a Series), (iii) run the Numpy-backed `count()`, (iv) divide by the total number of elements. If you get lost on the `groupby`, try this: `groupby(feature_name)[feature_name]`."
   ]
  },
  {
   "cell_type": "code",
   "execution_count": 4,
   "metadata": {},
   "outputs": [],
   "source": [
    "priors = train.groupby('species')['species'].count() / len(train)"
   ]
  },
  {
   "cell_type": "markdown",
   "metadata": {},
   "source": [
    "#### 3.2 **[1pt]** Compute the means and the standard deviations for each feature and for each class of the Iris dataset using the Pandas DataFrame (one line of code each)."
   ]
  },
  {
   "cell_type": "markdown",
   "metadata": {},
   "source": [
    "As a reference, you should obtain 12 means and 12 standard deviations. Again, the use of `groupby` followed by Numpy's functions will take literally 2 lines and no loops. Remember to use the `train` data!"
   ]
  },
  {
   "cell_type": "code",
   "execution_count": 5,
   "metadata": {},
   "outputs": [],
   "source": [
    "means = train.groupby('species').mean()\n",
    "stds = train.groupby('species').std()"
   ]
  },
  {
   "cell_type": "markdown",
   "metadata": {},
   "source": [
    "Here is a freebie to save you some debugging time: the (stunted) equation for the Gaussian probability. Stunted in the sense that, since it is only used to maximize the class probability, parts that do not depend on the class have been dropped (as usual). It requires you to define first the variables `means` and `stds` from the previous question (both $(3\\times4)$ DataFrames).\n",
    "\n",
    "If you really want to understand what is going on (especially with Pandas), I challenge you to comment it out, pull the slides, and write your own. You did something very close for LDA, feel free to review your code. You don't need it to look identical as long as it does the same job.\n",
    "\n",
    "Remember that Naïve Bayes computes the class likelihood as a product of the independent probabilities for each feature: this is done by the `product()` on the columns. If you remove that, you should have 12 values (give it a try).\n",
    "\n",
    "When passing a line of input to `likelihood` be careful to remove the last column (the `species`) as in the example below (in our previous calculations this was done by the `groupby()`, which made a new dimension out of it).\n",
    "\n",
    "Also something that can be important: sometimes `iloc[]` converts the type of the data slice, so you can have errors because a function cannot be broadcasted. In that case, remember that calling `.astype('float')` will force the dtype to `float` and address some of these errors. This is not the most elegant solution, I will leave it to you to find a better one ;)"
   ]
  },
  {
   "cell_type": "code",
   "execution_count": 6,
   "metadata": {
    "scrolled": true
   },
   "outputs": [
    {
     "data": {
      "text/plain": [
       "species\n",
       "setosa        5.387597e-129\n",
       "versicolor     2.977937e+00\n",
       "virginica      2.196037e-01\n",
       "dtype: float64"
      ]
     },
     "execution_count": 6,
     "metadata": {},
     "output_type": "execute_result"
    }
   ],
   "source": [
    "likelihood = lambda x: (np.exp(-(x-means)**2/(2*stds**2))/stds).product(axis=1)\n",
    "likelihood(train.iloc[0, :-1].astype('float'))"
   ]
  },
  {
   "cell_type": "markdown",
   "metadata": {},
   "source": [
    "#### 3.3 **[1pt]** Write a Python function that takes a single line of input $x$ and returns the prediction of its class $\\hat{y}$. Run it on the same data point as the example cell above. Is the prediction the same as you would have from the cell above? Why / why not?"
   ]
  },
  {
   "cell_type": "markdown",
   "metadata": {},
   "source": [
    "As a sanity check: it should take a row as input (without labels, as for `likelihood` above) and return the string found in the `index` of the max value (the documentation is your friend)."
   ]
  },
  {
   "cell_type": "code",
   "execution_count": 7,
   "metadata": {},
   "outputs": [
    {
     "name": "stdout",
     "output_type": "stream",
     "text": [
      "versicolor\n"
     ]
    }
   ],
   "source": [
    "likelihood = lambda x: (np.exp(-(x - means) ** 2 / (2 * stds ** 2)) / stds).product(axis=1)\n",
    "\n",
    "def predict_class(x):\n",
    "    return likelihood(x.astype('float')).idxmax()\n",
    "\n",
    "# Example usage:\n",
    "prediction = predict_class(train.iloc[0, :-1])\n",
    "print(prediction)\n"
   ]
  },
  {
   "cell_type": "markdown",
   "metadata": {},
   "source": [
    "The prediction should be the same as obtained from the example cell above. The function `predict_class` takes a single line of input `x` (a row without labels) and returns the predicted class based on the maximum likelihood computed using the Gaussian probability density function. \n",
    "\n",
    "The `likelihood` function computes the likelihood of the input data point belonging to each class using the Gaussian probability density function with the means and standard deviations calculated previously. The `product(axis=1)` call calculates the product of probabilities for each feature, assuming independence between features given the class. Finally, `.idxmax()` returns the index (class label) corresponding to the maximum likelihood, which represents the predicted class for the input data point."
   ]
  },
  {
   "cell_type": "markdown",
   "metadata": {},
   "source": [
    "#### 3.4 **[2pt]** Compute $\\hat{y}$ for all points in the `test` dataset, in one line and without using Python loops (`for`, `while`, etc.). Compare it with the correct label $y$ and print the number of misclassified points."
   ]
  },
  {
   "cell_type": "markdown",
   "metadata": {},
   "source": [
    "And here is how you use the test set: after the training on the train set is complete, you evaluate its performance on data it was not trained on. This is absolutely **crucial** in machine learning. We will use this process from now on, and using the wrong dataset (either for training or testing) will be considered a major error (so careful with typos! Double-check every time!). If you wonder why so strict, check again the 4th lecture and ask yourself what are the consequences of getting it wrong in a work or research setting (and feel free to discuss on Moodle).\n",
    "\n",
    "Again, no loops: you need both to drop the last column and then to apply the function to the rows. For example: `train.iloc[:, :-1].apply(my_predict_fn, axis=1)`. Can you make it look nicer/more readable?\n",
    "\n",
    "Remember you can count the number of `True` values in a numpy array simply by calling `sum()` on it."
   ]
  },
  {
   "cell_type": "code",
   "execution_count": 8,
   "metadata": {},
   "outputs": [
    {
     "name": "stdout",
     "output_type": "stream",
     "text": [
      "Number of misclassified points: 1\n"
     ]
    }
   ],
   "source": [
    "# Compute predictions for all points in the test dataset\n",
    "predictions = test.iloc[:, :-1].apply(predict_class, axis=1)\n",
    "\n",
    "# Compare predictions with the correct labels\n",
    "misclassified = (predictions != test['species']).sum()\n",
    "\n",
    "print(\"Number of misclassified points:\", misclassified)\n"
   ]
  },
  {
   "cell_type": "markdown",
   "metadata": {},
   "source": [
    "#### 3.5 **[1pt]** Why did we not compute (nor need) the _evidence_ for predicting the input's class?"
   ]
  },
  {
   "cell_type": "markdown",
   "metadata": {},
   "source": [
    "We did not compute nor need the evidence for predicting the input's class because in the context of Naïve Bayes classification, the evidence (also known as the marginal likelihood) is constant across all classes for a given input data point. \n",
    "\n",
    "The evidence is the probability of observing the input data point, regardless of its class. In Naïve Bayes classification, the evidence is the same for all classes and thus does not affect the decision of which class to assign to the input data point. Therefore, we can ignore the evidence when making predictions using Naïve Bayes classification. \n",
    "\n",
    "Instead, we focus on computing the likelihood of the input data point belonging to each class, and then use these likelihoods to determine the most probable class for the input."
   ]
  },
  {
   "cell_type": "markdown",
   "metadata": {},
   "source": [
    "#### 3.6 **[2pt]** Train a scikit-learn Naïve Bayes Gaussian classifier on the Iris train data using a Pandas Dataframe, and print the number of misclassified points on the test data."
   ]
  },
  {
   "cell_type": "markdown",
   "metadata": {},
   "source": [
    "Remember that:\n",
    "- Now that we have a bit more experience with Pandas we can learn how to pass the DataFrames directly to scikit-learn.\n",
    "- The training data should always be 2D (i.e. DataFrame) and not have the label (`train.iloc[:,:-1]`, do you know what each `:` stands for?).\n",
    "- The labels should always be 1D (i.e. Series) and numerical. Rather than doing the conversion manually, you should convert the feature to categorical and then use its codes (`train['species'].astype('category').cat.codes`).\n",
    "- Mistakenly testing on the train set will fail the question, as will comparing the prediction against the train set labels (hint hint).\n",
    "- You will probably get better results with scikit-learn because it uses multivariate Gaussians and improved estimators (check the [documentation](https://scikit-learn.org/stable/modules/generated/sklearn.naive_bayes.GaussianNB.html))."
   ]
  },
  {
   "cell_type": "code",
   "execution_count": 9,
   "metadata": {},
   "outputs": [
    {
     "name": "stdout",
     "output_type": "stream",
     "text": [
      "Number of misclassified points using scikit-learn Gaussian Naïve Bayes: 29\n"
     ]
    }
   ],
   "source": [
    "from sklearn.naive_bayes import GaussianNB\n",
    "from sklearn.metrics import accuracy_score\n",
    "\n",
    "# Initialize Gaussian Naïve Bayes classifier\n",
    "gnb = GaussianNB()\n",
    "\n",
    "# Convert the labels to numerical codes\n",
    "y_train_codes = train['species'].astype('category').cat.codes\n",
    "\n",
    "# Train the classifier\n",
    "gnb.fit(train.iloc[:, :-1], y_train_codes)\n",
    "\n",
    "# Predict the labels for the test data\n",
    "y_pred_codes = gnb.predict(test.iloc[:, :-1])\n",
    "\n",
    "# Convert predicted numerical codes back to original labels\n",
    "y_pred = pd.Categorical.from_codes(y_pred_codes, categories=train['species'].unique())\n",
    "\n",
    "# Compute the number of misclassified points\n",
    "misclassified_sklearn = (y_pred != test['species']).sum()\n",
    "\n",
    "print(\"Number of misclassified points using scikit-learn Gaussian Naïve Bayes:\", misclassified_sklearn)\n"
   ]
  },
  {
   "cell_type": "markdown",
   "metadata": {},
   "source": [
    "# At the end of the exercise"
   ]
  },
  {
   "cell_type": "markdown",
   "metadata": {},
   "source": [
    "Bonus question with no points! Answering this will have no influence on your scoring, not at the assignment and not towards the exam score -- really feel free to ignore it with no consequence. But solving it will reward you with skills that will make the next lectures easier, give you real applications, and will be good practice towards the exam.\n",
    "\n",
    "The solution for this questions will not be included in the regular lab solutions pdf, but you are welcome to open a discussion on the Moodle: we will support your addressing it, and you may meet other students that choose to solve this, and find a teammate for the next assignment that is willing to do things for fun and not only for score :)"
   ]
  },
  {
   "cell_type": "markdown",
   "metadata": {},
   "source": [
    "#### BONUS **[ZERO pt]** Do a bit of independent research, and propose below the simplest example you can, to make evident how the frequentist and Bayesian approaches are different.\n",
    "\n",
    "I advise against blind copy+paste from the Internet in this case, I have seen so many incorrect opinions and tutorials over the years it is frankly ridiculous. I suggest you rather argue a bit on the Moodle about the approaches themselves, so you can make sure your example is correct.\n",
    "\n",
    "A good intro: [[link]](https://ocw.mit.edu/courses/mathematics/18-05-introduction-to-probability-and-statistics-spring-2014/readings/MIT18_05S14_Reading20.pdf)."
   ]
  },
  {
   "cell_type": "markdown",
   "metadata": {},
   "source": [
    "#### BONUS **[ZERO pt]** Train a Gaussian NB (either your code or scikit-learn) on the full Iris dataset (no train-test split) and check the misclassifications. Train the same on the 80% training data, then check and aggregate misclassifications both on the train and test datasets. You will probably get the same number of total errors regardless of whether you trained on 80% or 100% of the data. Can you explain why? The reason was mentioned in the last lecture. Feel free to play with different splits until you find how low can you go with the training before increasing the number of errors. Use the term `statistically representative` in your explanation."
   ]
  },
  {
   "cell_type": "markdown",
   "metadata": {},
   "source": [
    "### Final considerations"
   ]
  },
  {
   "cell_type": "markdown",
   "metadata": {},
   "source": [
    "- This is the first core ML method we are covering in the course. As you see it expects you to know quite a lot of concepts before we can really discuss its workings.\n",
    "- On the other hand, you now already own most of the glossary and knowledge needed, so you only need to put it all together.\n",
    "- This is also your first method capable of *nonlinear classification*. Notice how LDA used nonlinear models for the data (Gaussian clusters) but still relied to linear separation boundaries (remember that we obtained those weirdly complicated equations for $m$ and $q$?) As it can work with multiple classes and different types of distributions (think Mixture of Gaussians), the division boundary is not a line anymore.\n",
    "- In the next two lectures we will start learning about one of the bigger classic ML tools still state-of-the-art today: the Support Vector Machine, and its infamous Kernel Trick. We are reaching the \"cruise speed\" of complexity for the course, it will not increase in complexity for more than another couple of lectures, then we will pretty much stay on that level until the exam. Keep up both with the lectures and exercises and you should have no trouble. Good luck!"
   ]
  }
 ],
 "metadata": {
  "kernelspec": {
   "display_name": "Python 3 (ipykernel)",
   "language": "python",
   "name": "python3"
  },
  "language_info": {
   "codemirror_mode": {
    "name": "ipython",
    "version": 3
   },
   "file_extension": ".py",
   "mimetype": "text/x-python",
   "name": "python",
   "nbconvert_exporter": "python",
   "pygments_lexer": "ipython3",
   "version": "3.10.12"
  }
 },
 "nbformat": 4,
 "nbformat_minor": 4
}
