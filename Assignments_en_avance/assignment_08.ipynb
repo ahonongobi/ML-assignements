{
 "cells": [
  {
   "cell_type": "markdown",
   "metadata": {},
   "source": [
    "Please fill in your name and that of your teammate.\n",
    "\n",
    "You: *Ahonon Gobi Parfait*\n",
    "\n",
    "Teammate:"
   ]
  },
  {
   "cell_type": "markdown",
   "metadata": {},
   "source": [
    "# Introduction"
   ]
  },
  {
   "cell_type": "markdown",
   "metadata": {},
   "source": [
    "Welcome to the eighth lab. Today we have _way too many_ topics to cover to do everything by hand as usual, so I selected different depths to each topic to make sure you gain full insight and applicable experience.\n",
    "\n",
    "As you go through the exercise and you apply algorithm after algorithm, method after method, I want you to think about the actual **competence** you are accumulating over the months, both theoretical and applied. Think about it, and be confident: covering so many, so different algorithms in a single lab may sound like a challenge to the version of Past You from barely two months ago, but I believe Today's You is capable of taking on this whale of a lab and have space for more.\n",
    "\n",
    "Working with many algorithms gives me another chance to shake you out of your confidence zone with respect to _data processing_ . Basically each algorithm requires different formats, so you cannot just define the data on top and keep reusing it: you will need to re-load the dataset for each exercise, applying a different processing each time.\n",
    "Be flexible, and don't forget your train-test splits (and their correct usage) -- I should not need to mention it anymore, right? :)\n",
    "\n",
    "Good luck, have fun!"
   ]
  },
  {
   "cell_type": "markdown",
   "metadata": {},
   "source": [
    "### How to pass the lab?"
   ]
  },
  {
   "cell_type": "markdown",
   "metadata": {},
   "source": [
    "Below you find the exercise questions. Each question awarding points is numbered and states the number of points like this: **[0pt]**. To answer a question, fill the cell below with your answer (markdown for text, code for implementation). Incorrect or incomplete answers are in principle worth 0 points: to assign partial reward is only up to teacher discretion. Over-complete answers do not award extra points (though they are appreciated and will be kept under consideration). Save your work frequently! (`ctrl+s`)\n",
    "\n",
    "**You need at least 16 points (out of 24 available) to pass** (66%)."
   ]
  },
  {
   "cell_type": "code",
   "execution_count": 1,
   "metadata": {
    "collapsed": false,
    "ExecuteTime": {
     "end_time": "2024-04-24T19:04:12.835491Z",
     "start_time": "2024-04-24T19:04:12.831028Z"
    }
   },
   "outputs": [],
   "source": [
    "%matplotlib inline\n",
    "import matplotlib.pyplot as plt\n",
    "import seaborn as sns\n",
    "import numpy as np\n",
    "import pandas as pd\n",
    "sns.set(rc={'figure.figsize':(8,6)}, style=\"whitegrid\")"
   ]
  },
  {
   "cell_type": "markdown",
   "metadata": {},
   "source": [
    "# 1. Fundamentals"
   ]
  },
  {
   "cell_type": "markdown",
   "metadata": {},
   "source": [
    "#### 1.1 **[1pt]** Write an example (in English) of a Machine Learning application for which the Supervised Learning paradigm is not (directly) applicable."
   ]
  },
  {
   "cell_type": "markdown",
   "metadata": {},
   "source": [
    "R: One example of a Machine Learning application for which the Supervised Learning paradigm is not directly applicable is the case of anomaly detection. In this case, the data is not labeled, and the goal is to identify patterns that do not conform to expected behavior. Anomaly detection can be used in various fields, such as fraud detection, network security, and health monitoring, among others. In this scenario, the lack of labeled data makes it difficult to apply supervised learning algorithms, as they require labeled data to learn the relationship between input features and output labels. Instead, unsupervised learning algorithms, such as clustering or density estimation, can be used to identify anomalies in the data without the need for labeled examples."
   ]
  },
  {
   "cell_type": "markdown",
   "metadata": {},
   "source": [
    "#### 1.2 **[1pt]** Write an example (in English) of a Machine Learning application for which the Unsupervised Learning paradigm is an ideal choice."
   ]
  },
  {
   "cell_type": "markdown",
   "metadata": {},
   "source": [
    "R: One example of a Machine Learning application for which the Unsupervised Learning paradigm is an ideal choice is customer segmentation. In this case, the goal is to group customers based on their purchasing behavior, preferences, or other characteristics. Since the data is not labeled, unsupervised learning algorithms can be used to identify patterns and group customers into distinct segments without the need for labeled examples. This can help businesses better understand their customer base, tailor marketing strategies, and improve customer satisfaction."
   ]
  },
  {
   "cell_type": "markdown",
   "metadata": {},
   "source": [
    "# 2. Clustering"
   ]
  },
  {
   "cell_type": "markdown",
   "metadata": {},
   "source": [
    "#### 2.1 **[2pt]** Explain the $k$-means algorithm using a few words of your own. Particularly, state any requirements, and what the user needs to define."
   ]
  },
  {
   "cell_type": "markdown",
   "metadata": {},
   "source": [
    "- To use \"your own words\", a trick is to read the slide, decide which things you need to mention, then close the slide and imagine a friend with only basic technical background in front of you (aka \"rubberducking\", Google it!). Now tell this person the things that you decided to mention.\n",
    "- No need to go crazy. This is a type of (vague!) question that you will need to answer over and over, typically to convince your boss to let you use a particular method, or to guide someone with less knowledge in the field. It's not a right/wrong question: you need to show that you have competence, list the key points, be brief and to the point.\n",
    "- And of course, copy+paste+change words from the slide will score you 0 points :) while a sincere, fair try that is not wrong will pass, so no worries."
   ]
  },
  {
   "cell_type": "markdown",
   "metadata": {},
   "source": [
    "The $k$-means algorithm is a data clustering technique that divides a dataset into $k$ distinct groups, called clusters. The user needs to define the number of clusters ($k$) to create. The algorithm then iterates to assign data points to the nearest clusters and updates the cluster centers until convergence, aiming to minimize the variation within each cluster."
   ]
  },
  {
   "cell_type": "markdown",
   "metadata": {},
   "source": [
    "For the next question, we need to understand how to evaluate a clustering algorithm. The main difference between clustering and classification is that, well, it's UL not SL: the labels are not involved in the training, and they should not be involved in the testing. So how do you test the performance of a clustering algorithm?\n",
    "\n",
    "Each mean/cluster gets a numerical identifier, the only problem is that the number does not correspond to our labels because it's assigned randomly based on initialization. The most naïve way then is to brute-force all mappings between the labels and the cluster numbers: the one that makes the most sense is the one that should be used for evaluation. Since this is orthogonal to the lecture and may take a long time to debug, here is a snippet of code that does that.\n",
    "\n",
    "Read it, understand it, play with it, and possibly improve it. Bruteforcing is rarely optimal, which is the very reason why ML exists :)  \n",
    "(note: it may be easier to understand it if you first go ahead with answering the next question first, then come back to this)"
   ]
  },
  {
   "cell_type": "code",
   "execution_count": 2,
   "metadata": {
    "ExecuteTime": {
     "end_time": "2024-04-24T19:04:12.843531Z",
     "start_time": "2024-04-24T19:04:12.836394Z"
    }
   },
   "outputs": [
    {
     "name": "stdout",
     "output_type": "stream",
     "text": [
      "[{'setosa': 0, 'versicolor': 1, 'virginica': 2}, {'setosa': 0, 'versicolor': 2, 'virginica': 1}, {'setosa': 1, 'versicolor': 0, 'virginica': 2}, {'setosa': 1, 'versicolor': 2, 'virginica': 0}, {'setosa': 2, 'versicolor': 0, 'virginica': 1}, {'setosa': 2, 'versicolor': 1, 'virginica': 0}]\n"
     ]
    }
   ],
   "source": [
    "# Goal: convert the labels to the cluster numbers generated by k-means\n",
    "import itertools\n",
    "species_names = sns.load_dataset('iris').species.unique()\n",
    "possible_codes = itertools.permutations(range(len(species_names)))\n",
    "converters = [dict(zip(species_names, perm)) for perm in possible_codes]\n",
    "# try printing each of these variables and understand what they do\n",
    "print(converters)\n",
    "def cluster_to_class(model, fn_that_counts_misclassified, x_test, y_test):\n",
    "    min_score = np.Infinity # we saw how to write a minimizer already right?\n",
    "    right_conversion = None\n",
    "    for converter in converters:\n",
    "        conv_y_test = y_test.replace(converter) # conveniently works with `dict`s\n",
    "        misclassified = fn_that_counts_misclassified(model, x_test, conv_y_test)\n",
    "        if misclassified < min_score:\n",
    "            min_score = misclassified\n",
    "            right_conversion = converter\n",
    "    return right_conversion\n",
    "\n",
    "## to use this function, you will need something like this\n",
    "# right_conversion = cluster_to_class(k_means_model, my_misclass_fn, x_test, y_test)\n",
    "# conv_y_test = y_test.replace(right_conversion)\n",
    "# k_means_misclassified = my_misclass_fn(k_means_model, x_test, conv_y_test)"
   ]
  },
  {
   "cell_type": "markdown",
   "metadata": {},
   "source": [
    "#### 2.2 **[3pt]** Apply the scikit-learn implementation of the $k$-means algorithm to the Iris dataset (4 features, but drop the labels for training), and print a performance score of your choice."
   ]
  },
  {
   "cell_type": "markdown",
   "metadata": {},
   "source": [
    "- Of course you want to pass $k=3$.\n",
    "- Passing the trained `KMeans` object to `print()` shows several useful parameters and their default values.\n",
    "- After you get it to work though, why don't you try $k=2$ or $k=4$ and see what happens when you have to _guess_ $k$ (which is the normal case in real applications).\n",
    "- For the performance score, remember this is [clustering, not classification](https://stackoverflow.com/a/48617825/6392246), which means `score()` will ignore the labels and print \"strange numbers\". No worries, you know how to make your own scoring from the past labs, right?\n",
    "- Notice how $k$-means is _very_ sensitive to initialization. To get a consistently better result you may want to explore options `max_iter`, `n_jobs` and of course `init`."
   ]
  },
  {
   "cell_type": "code",
   "execution_count": 3,
   "metadata": {
    "ExecuteTime": {
     "end_time": "2024-04-24T19:04:13.064148Z",
     "start_time": "2024-04-24T19:04:12.844336Z"
    }
   },
   "outputs": [
    {
     "name": "stdout",
     "output_type": "stream",
     "text": [
      "Parameters of the trained KMeans object:\n",
      "KMeans(n_clusters=3, n_jobs=-1)\n",
      "WCSS Score: 78.85144142614621\n"
     ]
    },
    {
     "name": "stderr",
     "output_type": "stream",
     "text": [
      "/home/gobi/anaconda3/lib/python3.9/site-packages/sklearn/cluster/_kmeans.py:792: FutureWarning: 'n_jobs' was deprecated in version 0.23 and will be removed in 1.0 (renaming of 0.25).\n",
      "  warnings.warn(\"'n_jobs' was deprecated in version 0.23 and will be\"\n",
      "/home/gobi/anaconda3/lib/python3.9/site-packages/sklearn/cluster/_kmeans.py:792: FutureWarning: 'n_jobs' was deprecated in version 0.23 and will be removed in 1.0 (renaming of 0.25).\n",
      "  warnings.warn(\"'n_jobs' was deprecated in version 0.23 and will be\"\n"
     ]
    }
   ],
   "source": [
    "from sklearn.datasets import load_iris\n",
    "from sklearn.cluster import KMeans\n",
    "import numpy as np\n",
    "\n",
    "def calculate_wcss(data, k):\n",
    "    \"\"\"\n",
    "    Calculate the within-cluster sum of squares (WCSS) for a given dataset and number of clusters (k).\n",
    "    \n",
    "    Parameters:\n",
    "        data (array-like): The input data.\n",
    "        k (int): The number of clusters.\n",
    "    \n",
    "    Returns:\n",
    "        float: The WCSS score.\n",
    "    \"\"\"\n",
    "    # Applying k-means algorithm with k clusters\n",
    "    kmeans = KMeans(n_clusters=k, max_iter=300, n_jobs=-1, init='k-means++')\n",
    "    kmeans.fit(data)\n",
    "\n",
    "    # Calculate the within-cluster sum of squares (WCSS)\n",
    "    wcss = sum(np.min(kmeans.transform(data), axis=1)**2)\n",
    "\n",
    "    return wcss\n",
    "\n",
    "# Load the Iris dataset\n",
    "iris = load_iris()\n",
    "data = iris.data  # use the data (features) only, excluding the labels\n",
    "\n",
    "# Define the number of clusters\n",
    "k = 3\n",
    "\n",
    "# Applying k-means algorithm with k clusters\n",
    "kmeans = KMeans(n_clusters=k, max_iter=300, n_jobs=-1, init='k-means++')\n",
    "kmeans.fit(data)\n",
    "\n",
    "# Print some useful information about the fitted model\n",
    "print(\"Parameters of the trained KMeans object:\")\n",
    "print(kmeans)\n",
    "\n",
    "# Calculate and print the within-cluster sum of squares (WCSS) as a performance score\n",
    "wcss_score = calculate_wcss(data, k)\n",
    "print(\"WCSS Score:\", wcss_score)\n"
   ]
  },
  {
   "cell_type": "code",
   "execution_count": 4,
   "metadata": {
    "collapsed": false,
    "ExecuteTime": {
     "end_time": "2024-04-24T19:04:13.096890Z",
     "start_time": "2024-04-24T19:04:13.065101Z"
    }
   },
   "outputs": [
    {
     "name": "stdout",
     "output_type": "stream",
     "text": [
      "Right Conversion: {'setosa': 1, 'versicolor': 2, 'virginica': 0}\n",
      "Misclassified Points: 25\n",
      "Accuracy: 0.8333333333333334\n"
     ]
    }
   ],
   "source": [
    "import numpy as np\n",
    "from sklearn.cluster import KMeans\n",
    "from sklearn.datasets import load_iris\n",
    "from sklearn.preprocessing import StandardScaler\n",
    "import seaborn as sns\n",
    "import itertools\n",
    "\n",
    "# Load the Iris dataset\n",
    "iris = load_iris()\n",
    "X = iris.data\n",
    "y = iris.target\n",
    "\n",
    "# Standardize the features\n",
    "scaler = StandardScaler()\n",
    "X_scaled = scaler.fit_transform(X)\n",
    "\n",
    "# Define the number of clusters (k)\n",
    "k = 3\n",
    "\n",
    "# Apply k-means algorithm\n",
    "kmeans = KMeans(n_clusters=k, random_state=42)\n",
    "kmeans.fit(X_scaled)\n",
    "\n",
    "# Define the function that counts misclassified points\n",
    "def misclass_fn(model, x_test, y_test):\n",
    "    predictions = model.predict(x_test)\n",
    "    misclassified = np.sum(predictions != y_test)\n",
    "    return misclassified\n",
    "\n",
    "# Define species names and possible mappings between labels and cluster IDs\n",
    "species_names = iris.target_names\n",
    "possible_codes = itertools.permutations(range(len(species_names)))\n",
    "converters = [dict(zip(species_names, perm)) for perm in possible_codes]\n",
    "\n",
    "# Function to map cluster IDs to labels and compute misclassified points\n",
    "def cluster_to_class(model, fn_that_counts_misclassified, x_test, y_test):\n",
    "    min_score = np.Infinity\n",
    "    right_conversion = None\n",
    "    for converter in converters:\n",
    "        conv_y_test = [converter[species_names[label]] for label in y_test]\n",
    "        misclassified = fn_that_counts_misclassified(model, x_test, conv_y_test)\n",
    "        if misclassified < min_score:\n",
    "            min_score = misclassified\n",
    "            right_conversion = converter\n",
    "    return right_conversion, min_score\n",
    "\n",
    "# Function to compute accuracy -  score\n",
    "def compute_accuracy(model, x_test, y_test):\n",
    "    predictions = model.predict(x_test)\n",
    "    correct = np.sum(predictions == y_test)\n",
    "    total = len(y_test)\n",
    "    accuracy = correct / total\n",
    "    return accuracy\n",
    "\n",
    "\n",
    "# Map cluster IDs to labels and compute misclassified points\n",
    "right_conversion, misclassified = cluster_to_class(kmeans, misclass_fn, X_scaled, y)\n",
    "accuracy = compute_accuracy(kmeans, X_scaled, [right_conversion[species_names[label]] for label in y])\n",
    "\n",
    "print(\"Right Conversion:\", right_conversion)\n",
    "print(\"Misclassified Points:\", misclassified)\n",
    "print(\"Accuracy:\", accuracy)\n"
   ]
  },
  {
   "cell_type": "markdown",
   "metadata": {},
   "source": [
    "#### 2.3 **[1pt]** Plot the centroids learned with $k$-means on top of the data."
   ]
  },
  {
   "cell_type": "markdown",
   "metadata": {},
   "source": [
    "- To get the centroids coordinates, access attribute `cluster_centers_` of the KMeans object. Here are some options I passed to `scatterplot` for visibility (remember you can use the [double-splat](https://stackoverflow.com/questions/36901/what-does-double-star-asterisk-and-star-asterisk-do-for-parameters) to transform the dict into keyword parameters):\n",
    "```python\n",
    "kwargs = {'marker':'X', 'color':'r', 's':200, 'label':'centroids'}\n",
    "```\n",
    "- The question does not specify the details of what to plot, so it's up to you to provide a correct and useful interpretation. You learned how to make useful plots, just be confident.\n",
    "- The simplest is of course to reproduce what we saw so far: one plot, `petal_width` vs. `petal_length`. As they are the last two features, make sure to pick the corresponding coordinates from the centroids. Remember your ranges and your `transpose()` ;) \n",
    "- Even fancier: why not converting it to a DataFrame? Remember to drop the `species` column when constructing the `df`, as the centroids (learned with UL) have no species information (and thus one less column than iris): `columns=iris.columns.drop('species')`\n",
    "- After answering correctly, if you want to learn something useful and fancy, try plotting a [[PairGrid]](https://seaborn.pydata.org/generated/seaborn.PairGrid.html) that mimics a PairPlot but with added clusters off-diagonal. If you want the usual distributions on the diagonal, it is time to learn it is done with _Density Estimation_ (which is what you learned to do for Gaussians in NB), automated in Seaborn with `kdeplot()`."
   ]
  },
  {
   "cell_type": "code",
   "execution_count": 5,
   "metadata": {
    "collapsed": false,
    "ExecuteTime": {
     "end_time": "2024-04-24T19:04:13.333954Z",
     "start_time": "2024-04-24T19:04:13.097856Z"
    }
   },
   "outputs": [
    {
     "data": {
      "text/plain": "<Figure size 576x432 with 1 Axes>",
      "image/png": "[encoded data removed]"
     },
     "metadata": {},
     "output_type": "display_data"
    }
   ],
   "source": [
    "import seaborn as sns\n",
    "import matplotlib.pyplot as plt\n",
    "\n",
    "# Get the centroids coordinates\n",
    "centroids = kmeans.cluster_centers_\n",
    "\n",
    "# Create a scatter plot of the data points using Seaborn\n",
    "sns.scatterplot(x=X_scaled[:, 3], y=X_scaled[:, 2], hue=y, palette='viridis')\n",
    "\n",
    "# Overlay the centroids on the scatter plot using Matplotlib\n",
    "plt.scatter(centroids[:, 3], centroids[:, 2], marker='*', color='r', s=300, label='centroids')\n",
    "\n",
    "# Set labels and title\n",
    "plt.xlabel('Petal Length')\n",
    "plt.ylabel('Petal Width')\n",
    "plt.title('K-means Clustering with Centroids')\n",
    "\n",
    "# Add legend\n",
    "plt.legend()\n",
    "\n",
    "# Show plot\n",
    "plt.show()\n"
   ]
  },
  {
   "cell_type": "markdown",
   "metadata": {},
   "source": [
    "Note: this is a very basic application: while a decent knowledge of $k$-means can typically be useful in itself, the focus here is to cements your understanding of clustering, centroid, expectation maximization, and the difference between clustering and classification. For further reading, I strongly suggest you have a look at [[this very complete tutorial]](https://towardsdatascience.com/k-means-clustering-algorithm-applications-evaluation-methods-and-drawbacks-aa03e644b48a)."
   ]
  },
  {
   "cell_type": "markdown",
   "metadata": {},
   "source": [
    "#### 2.4 **[2pt]** Train a scikit-learn OneClassSVM on the _versicolor_ class of the Iris dataset, and print the number of missed outliers."
   ]
  },
  {
   "cell_type": "markdown",
   "metadata": {},
   "source": [
    "- Careful with the input: you need to train this SVM only on the subset of the train data where the species is `versicolor`. That's \"one-class\". The training should not have access to data from the other two species.\n",
    "- Also remember to drop the species column (as always) after selecting the lines with `versicolor`.\n",
    "- The test inputs should work as expected, but the test labels should be converted so that `versicolor` is `1` and the others are `-1` (because those are the model outputs for \"normal\" and \"outlier\").\n",
    "- Again, to compute the missed outliers, you cannot use `score()` or `plot_confusion_matrix()` because technically it's not a classifier. But you already made a function of the scoring code for the previous question right?"
   ]
  },
  {
   "cell_type": "code",
   "execution_count": 6,
   "metadata": {
    "collapsed": false,
    "ExecuteTime": {
     "end_time": "2024-04-24T19:04:13.339800Z",
     "start_time": "2024-04-24T19:04:13.334884Z"
    }
   },
   "outputs": [
    {
     "name": "stdout",
     "output_type": "stream",
     "text": [
      "Number of missed outliers: 25\n"
     ]
    }
   ],
   "source": [
    "from sklearn.svm import OneClassSVM\n",
    "\n",
    "# Select only the data points corresponding to the versicolor class\n",
    "versicolor_mask = iris.target == 1\n",
    "X_versicolor = X_scaled[versicolor_mask]\n",
    "\n",
    "# Train the One-Class SVM\n",
    "svm = OneClassSVM()\n",
    "svm.fit(X_versicolor)\n",
    "\n",
    "# Convert test labels so that versicolor is labeled as 1 and the others are labeled as -1\n",
    "y_test_binary = np.where(iris.target == 1, 1, -1)\n",
    "\n",
    "# Define the function that counts misclassified points\n",
    "def misclass_fn_svm(model, x_test, y_test):\n",
    "    predictions = model.predict(x_test)\n",
    "    misclassified = np.sum(predictions != y_test)\n",
    "    return misclassified\n",
    "# Compute the number of missed outliers based on the predictions made by the One-Class SVM\n",
    "missed_outliers = misclass_fn_svm(svm, X_scaled, y_test_binary)\n",
    "print(\"Number of missed outliers:\", missed_outliers)\n"
   ]
  },
  {
   "cell_type": "code",
   "execution_count": 7,
   "metadata": {
    "ExecuteTime": {
     "end_time": "2024-04-24T19:04:13.353348Z",
     "start_time": "2024-04-24T19:04:13.340803Z"
    }
   },
   "outputs": [
    {
     "name": "stdout",
     "output_type": "stream",
     "text": [
      "Nombre d'outliers manqués: 24\n"
     ]
    }
   ],
   "source": [
    "\n",
    "from sklearn.svm import OneClassSVM\n",
    "import numpy as np\n",
    "\n",
    "# select the versicolor data and target\n",
    "versicolor_data = iris.data[iris.target == 1]  # Sélectionner les données pour la classe versicolor\n",
    "versicolor_target = np.ones(len(versicolor_data))  # Créer des étiquettes pour la classe versicolor (1)\n",
    "\n",
    "# Train the OneClassSVM model\n",
    "svm_model = OneClassSVM()\n",
    "svm_model.fit(versicolor_data)\n",
    "\n",
    "# Convert the labels for the test data\n",
    "def convert_labels(labels):\n",
    "    return np.where(labels == 1, 1, -1)  # Convertir versicolor en 1 et les autres en -1\n",
    "\n",
    "# Calculate the number of missed outliers\n",
    "def calculate_missed_outliers(model, x_test, y_test):\n",
    "    y_pred = model.predict(x_test)\n",
    "    y_test_converted = convert_labels(y_test)\n",
    "    missed_outliers = np.sum(y_pred != y_test_converted)\n",
    "    return missed_outliers\n",
    "\n",
    "# Convert the labels for the test data\n",
    "test_labels = np.ones(len(versicolor_data))  # Les étiquettes sont toutes versicolor (1)\n",
    "\n",
    "# Calculate the number of missed outliers\n",
    "missed_outliers = calculate_missed_outliers(svm_model, versicolor_data, test_labels)\n",
    "print(\"Nombre d'outliers manqués:\", missed_outliers)"
   ]
  },
  {
   "cell_type": "markdown",
   "metadata": {},
   "source": [
    "# 3. Compression and encoding"
   ]
  },
  {
   "cell_type": "markdown",
   "metadata": {},
   "source": [
    "There are too many topics to cover for this lab. Having to choose one to cut off from practice, I had to objectively decide to remove my favorite one: compression and encoding. The reason is that in most jobs experience in the others will be more useful, while you will still see plenty of encoding techniques over the course. And the concept of dictionary building is related to $k$-means and feature extraction anyway.\n",
    "\n",
    "On the other hand, understanding dictionaries as features, and encodings as mappings, allows for a much deeper competence and broader flexibility in the field than being stuck to only the \"big guns\" of Deep Learning for this task.\n",
    "\n",
    "So my gift to you is one of my favorite papers so far: \"The Importance of Encoding Versus Training with Sparse Coding and Vector Quantization\", from A. Coates and A. Ng [[link]](http://ai.stanford.edu/~acoates/papers/coatesng_icml_2011.pdf).\n",
    "\n",
    "If you want to learn the state of the art, in any scientific field, you need to learn to read papers. A good suggestion not to be overwhelmed, especially at the beginning while building knowledge and glossary, is to read it this way\n",
    "\n",
    "- First the abstract\n",
    "- Then think about it and read the abstract again\n",
    "- Now read the introduction, but don't fret about terms you don't understand, it's normal\n",
    "- Next read the conclusion, and make sure their claims make sense with what you read so far\n",
    "- The \"discussion\" explains how they interpreted their results and built the conclusion, which could be invaluable to understand their claims\n",
    "- If you want more detail on the \"how\", check out the \"method\" section (here called \"learning framework\")\n",
    "- The \"related work\" (sometimes \"literature review\") gives you pointers to extend your study on the field and applications\n",
    "- Do not overlook \"experimental results\", as it will give you the means to reproduce their results. And yes, chances are your thesis (especially if Master) will begin by asking you to reproduce a paper's result. Repeatability and verification (the hypothesis needs to be falsifiable) are at the very core of the scientific process.\n",
    "\n",
    "So: go at least through abstract, introduction and conclusions, and then answer the following question:"
   ]
  },
  {
   "cell_type": "markdown",
   "metadata": {},
   "source": [
    "#### 3.1 **[4pt]** In the conclusion of the paper \"The Importance of Encoding Versus Training with Sparse Coding and Vector Quantization\", which part do the authors find more effective, the encoding (i.e. decision-making) or the dictionary training (i.e. feature extraction)? Reflect on the consequences on modeling, and express your opinion on Feature Extraction and Decision Mappings."
   ]
  },
  {
   "cell_type": "markdown",
   "metadata": {},
   "source": [
    "The solution will contain no \"right\" answer, just **my** answer. It actually constitutes one the foundations of my research. Full points will be awarded to anyone (i) asserting their opinion, and (ii) justifying it with findings from the paper."
   ]
  },
  {
   "cell_type": "markdown",
   "metadata": {},
   "source": [
    "In the conclusion of the paper, the authors find that the encoding (i.e., decision-making) part is **more effective** than the dictionary training (i.e., feature extraction) in the context of **sparse coding and vector quantization**. They highlight that while sparse coding's success does not necessarily stem from its ability to learn better basis functions during training, its non-linear encoding scheme proves to be highly effective across various recognition problems, even without any training.\n",
    "\n",
    "This finding has significant consequences for modeling in the field of computer vision and machine learning. It suggests that the choice of encoding **method plays a crucial role in the performance of the model**. Even with simple or randomly chosen dictionaries, the effectiveness of the encoding scheme can lead to high performance in recognition tasks. This underscores the importance of focusing on developing robust and efficient encoding strategies.\n",
    "\n",
    "Regarding feature extraction and decision mappings, this conclusion emphasizes the shift in focus from solely optimizing feature extraction methods to also considering the effectiveness of decision-making processes. While feature extraction remains important, the **authors suggest that more attention should be paid to designing efficient encoding schemes**. This reflects a broader trend in machine learning where the emphasis is shifting towards end-to-end learning pipelines where both feature extraction and decision-making components are jointly optimized.\n",
    "\n",
    "**In my opinion**, this conclusion aligns with the broader understanding in machine learning that the effectiveness of a model depends not only on the quality of its learned features but also on the efficiency of its decision-making processes. Both feature extraction and decision mappings should be carefully designed and optimized to achieve optimal performance in recognition tasks. Additionally, the findings suggest that simpler encoding schemes, combined with appropriate feature extraction methods, can often yield competitive results, highlighting the importance of simplicity and efficiency in model design."
   ]
  },
  {
   "cell_type": "markdown",
   "metadata": {},
   "source": [
    "# 4. Matrix decomposition"
   ]
  },
  {
   "cell_type": "markdown",
   "metadata": {},
   "source": [
    "#### 4.1 **[1pt]** For this data imputation exercise, use the entire Iris dataset (no split in train/test, but do drop `species`). Select the value in row index 110 column index 1, and store it in an outside variable. Then delete it from the dataset."
   ]
  },
  {
   "cell_type": "markdown",
   "metadata": {},
   "source": [
    "- To delete a value from a dataset, simply assign the `not a number` value `np.nan` to the corresponding element.\n",
    "- Have you tried using `drop()` to remove a column? Remember that the default axis is the rows, so you need to pass `axis=1` or `axis='columns'` to drop a column by name.\n",
    "- You can print a few rows around your target to verify everything is going as you expect."
   ]
  },
  {
   "cell_type": "code",
   "execution_count": 8,
   "metadata": {
    "ExecuteTime": {
     "end_time": "2024-04-24T19:04:13.364046Z",
     "start_time": "2024-04-24T19:04:13.354322Z"
    }
   },
   "outputs": [
    {
     "name": "stdout",
     "output_type": "stream",
     "text": [
      "3.2\n",
      "     sepal_length  sepal_width  petal_length  petal_width\n",
      "108           6.7          2.5           5.8          1.8\n",
      "109           7.2          3.6           6.1          2.5\n",
      "110           6.5          NaN           5.1          2.0\n",
      "111           6.4          2.7           5.3          1.9\n"
     ]
    }
   ],
   "source": [
    "import seaborn as sns\n",
    "import numpy as np\n",
    "\n",
    "# Load the Iris dataset\n",
    "iris = sns.load_dataset('iris')\n",
    "\n",
    "# drop the species column using drop() with axis=1 or axis='columns'\n",
    "iris = iris.drop('species', axis=1)\n",
    "# Select the value in row index 110 in target_row_idx variable and  , column index 1 in target_col_idx \n",
    "target_row_idx  = 110\n",
    "target_col_idx = 1\n",
    "\n",
    "value_to_store = iris.iloc[target_row_idx, target_col_idx]\n",
    "\n",
    "print(value_to_store)\n",
    "\n",
    "# Delete the value from the dataset using\n",
    "iris.iloc[110, 1] = np.nan\n",
    "\n",
    "# Verify changes by printing a few rows around the target\n",
    "print(iris.iloc[108:112, :])"
   ]
  },
  {
   "cell_type": "markdown",
   "metadata": {},
   "source": [
    "#### 4.2 **[4pt]** Reconstruct (impute) the missing value using SVD and dimensionality reduction-based denoising. Do not use scikit-learn. Use the SVD method from `np.linalg`. Print the (absolute) difference between the original and reconstructed values."
   ]
  },
  {
   "cell_type": "markdown",
   "metadata": {},
   "source": [
    "- Ok, relax, this is not your first complex question. As usual, deconstruct the process in smaller, achievable goals, then work through them step by step.\n",
    "- The first thing you need to do is to get rid of is the \"hole\" in the data, because SVD will not work with `nan` values. Simply patch it with an average of the values above and below in the same feature. We know this is not ideal, but no worries. BTW congratulations with this you just learned the foundation of the **$k$-nearest-neighbors algorithm (KNN)**.\n",
    "- Now decompose the entire dataframe('s data matrix) using the SVD implementation in numpy's `linalg` module. Read carefully the documentation: it does not return `u`, $\\Sigma$ and `v` as expected from the lecture! Instead you get `v` as expected $n \\times n$; `s` a vector of size $n$ containing the $\\sigma$ eigenvalues (the diagonal of $\\Sigma$, remember?); and `vh` $m \\times m$ is the transposition of `v` -- saves a transpose, but remember you will need to zero a _row_ not a _column_.\n",
    "- Next you want to drop the least contributing eigenvector. Find the smallest non-zero eigenvalue, and set to zero the corresponding column in `u` and row in `vh`. The relative size also tells you how much precision will you be losing with this reduction.\n",
    "- Now you can already reconstruct the data. Remember the order of the dot products matters. Also, you need to build your $\\Sigma$. There's an example in the documentation of SVD. Importantly: $\\Sigma$ is rectangular, the eigenvalues go in the diagonal of the first \"square\" of this matrix, the rest is zeros. You can set a range of rows and columns of a numpy rectangular matrix to (the values of) a diagonal matrix created with `np.diag()`, just match the sizes.\n",
    "- Fetch the value in the target element's position in the reconstruction matrix. Has it changed w.r.t. its initial estimate? Print the difference with the original and technically you're done.\n",
    "- If you are unsatisfied with the result though, you can run the cycle a few times. Place the code written so far in a function, so you can iterate multiple calls. Remember that you need to insert the new value in the _original matrix_ , and then loop all your calls to the denoising function on this matrix. Looping on the reconstruction is a common error which may cost you a lot! With every denoising you are losing a bit of information; copying only the value you are denoising reintegrates the information in the rest of the matrix, allowing for a much more accurate result.\n",
    "- I converge (i.e. no more significant changes) to within 0.07 of the correct value in 50 iterations. I also simply save the errors (abs diff) at every iteration, then do the usual `lineplot`. Nothing new, but these sanity checks are priceless when working with ML.\n",
    "- Alternatively: what happens if you drop two columns instead of one?"
   ]
  },
  {
   "cell_type": "code",
   "execution_count": 9,
   "metadata": {
    "ExecuteTime": {
     "end_time": "2024-04-24T19:04:13.710848Z",
     "start_time": "2024-04-24T19:04:13.364924Z"
    }
   },
   "outputs": [
    {
     "name": "stdout",
     "output_type": "stream",
     "text": [
      "Original value:  3.2\n",
      "Reconstructed value:  3.193684639334072\n",
      "Absolute difference between original and reconstructed values: 0.0063153606659280825\n"
     ]
    },
    {
     "data": {
      "text/plain": "<Figure size 576x432 with 1 Axes>",
      "image/png": "[encoded data removed]"
     },
     "metadata": {},
     "output_type": "display_data"
    },
    {
     "data": {
      "text/plain": "<Figure size 576x432 with 1 Axes>",
      "image/png": "[encoded data removed]"
     },
     "metadata": {},
     "output_type": "display_data"
    }
   ],
   "source": [
    "import numpy as np\n",
    "# import pandas as pd\n",
    "\n",
    "# 1. Patch the missing value with the average of the values above and below\n",
    "def patch_missing_value(data, row_idx, col_idx):\n",
    "    above_value = data.iloc[row_idx - 1, col_idx]\n",
    "    below_value = data.iloc[row_idx + 1, col_idx]\n",
    "    patched_value = (above_value + below_value) / 2\n",
    "    data.iloc[row_idx, col_idx] = patched_value\n",
    "\n",
    "# 2. Perform SVD decomposition\n",
    "def svd_decomposition(data):\n",
    "    u, s, vh = np.linalg.svd(data, full_matrices=False)\n",
    "    return u, s, vh\n",
    "\n",
    "# 3. Drop the least contributing eigenvector\n",
    "def drop_least_contributing_eigenvector(u, s, vh):\n",
    "    min_idx = np.argmin(s)\n",
    "    s[min_idx] = 0\n",
    "    u[:, min_idx] = 0\n",
    "    vh[min_idx, :] = 0\n",
    "    return u, s, vh\n",
    "\n",
    "# 4. Reconstruct the data matrix\n",
    "def reconstruct_data(u, s, vh):\n",
    "    sigma = np.diag(s)\n",
    "    reconstructed_data = np.dot(u, np.dot(sigma, vh))\n",
    "    return reconstructed_data\n",
    "\n",
    "# 5. Calculate the absolute difference between original and reconstructed values\n",
    "def calculate_absolute_difference(original_value, reconstructed_value):\n",
    "    abs_diff = np.abs(original_value - reconstructed_value)\n",
    "    return abs_diff\n",
    "\n",
    "# 6. Iterate the denoising process\n",
    "def iterative_denoising(data, target_row_idx, target_col_idx, num_iterations):\n",
    "    errors = []\n",
    "    for _ in range(num_iterations):\n",
    "        patch_missing_value(data, target_row_idx, target_col_idx)\n",
    "        u, s, vh = svd_decomposition(data.values)\n",
    "        u, s, vh = drop_least_contributing_eigenvector(u, s, vh)\n",
    "        reconstructed_data = reconstruct_data(u, s, vh)\n",
    "        reconstructed_value = reconstructed_data[target_row_idx, target_col_idx]\n",
    "        original_value = data.iloc[target_row_idx, target_col_idx]\n",
    "        abs_diff = calculate_absolute_difference(original_value, reconstructed_value)\n",
    "        errors.append(abs_diff)\n",
    "    return reconstructed_data, errors\n",
    "\n",
    "# Load the Iris dataset (No need as we already load it in the previous question and drop the species column 'species')\n",
    "# iris = sns.load_dataset('iris')\n",
    "\n",
    "# Select the value in row index 110, column index 1 (target_row_idx, target_col_idx) No need as we already store it in value_to_store var\n",
    "# target_row_idx = 110\n",
    "# target_col_idx = 1\n",
    "\n",
    "# Store the original value before patching\n",
    "# original_value = iris.iloc[target_row_idx, target_col_idx]\n",
    "original_value = value_to_store\n",
    "\n",
    "# Patch the missing value\n",
    "patch_missing_value(iris, target_row_idx, target_col_idx)\n",
    "\n",
    "# Define the number of iterations for iterative denoising\n",
    "num_iterations = 50\n",
    "\n",
    "# Perform iterative denoising\n",
    "reconstructed_data, errors = iterative_denoising(iris, target_row_idx, target_col_idx, num_iterations)\n",
    "\n",
    "# Calculate the final reconstructed value\n",
    "final_reconstructed_value = reconstructed_data[target_row_idx, target_col_idx]\n",
    "\n",
    "# Print the absolute difference between the original and reconstructed values\n",
    "print(\"Original value: \", original_value)\n",
    "print(\"Reconstructed value: \",final_reconstructed_value)\n",
    "print(\"Absolute difference between original and reconstructed values:\", np.abs(original_value - final_reconstructed_value))\n",
    "\n",
    "# Plot the errors at each iteration\n",
    "import matplotlib.pyplot as plt\n",
    "plt.plot(errors)\n",
    "plt.xlabel('Iteration')\n",
    "plt.ylabel('Absolute Difference')\n",
    "plt.title('Absolute Difference vs. Iteration')\n",
    "plt.show()\n",
    "\n",
    "# plot also the original and reconstructed values at each iteration for sanity check\n",
    "plt.plot([original_value] * num_iterations, label='Original Value')\n",
    "plt.plot([final_reconstructed_value] * num_iterations, label='Reconstructed Value')\n",
    "plt.xlabel('Iteration')\n",
    "plt.ylabel('Value')\n",
    "plt.title('Original and Reconstructed Values vs. Iteration')\n",
    "plt.legend()\n",
    "plt.show()"
   ]
  },
  {
   "cell_type": "markdown",
   "metadata": {},
   "source": [
    "#### 4.3 **[3pt]** Plot the entire Iris dataset (no split, keep the classes) projected into 2 dimensions using PCA. Use scikit-learn to compute the principal components."
   ]
  },
  {
   "cell_type": "markdown",
   "metadata": {},
   "source": [
    "- Yes, you need to reproduce the same picture as in the slides :)\n",
    "- You need a fresh copy of the Iris dataset, then `sklearn` requires the labels to be numeric. Do you remember the `astype('category').cat.codes` trick?\n",
    "- Check the documentation of PCA. You need to set the `n_components` parameter.\n",
    "- Projecting data on the principal components is much, much easier by using the `transform()` function.\n",
    "- For a neat one-line plot with Seaborn, convert the projected data back to a DataFrame and name the columns! Then add back the `species` column so you can use `hue` ;) and use a nice palette!"
   ]
  },
  {
   "cell_type": "code",
   "execution_count": 10,
   "metadata": {
    "ExecuteTime": {
     "end_time": "2024-04-24T19:04:13.938428Z",
     "start_time": "2024-04-24T19:04:13.711717Z"
    }
   },
   "outputs": [
    {
     "data": {
      "text/plain": "<Figure size 576x432 with 1 Axes>",
      "image/png": "[encoded data removed]"
     },
     "metadata": {},
     "output_type": "display_data"
    }
   ],
   "source": [
    "import seaborn as sns\n",
    "import pandas as pd\n",
    "from sklearn.datasets import load_iris\n",
    "from sklearn.decomposition import PCA\n",
    "\n",
    "# Load the Iris dataset\n",
    "iris = load_iris()\n",
    "X = iris.data\n",
    "y = iris.target \n",
    "\n",
    "# Convert labels to numeric using astype('category').cat.codes\n",
    "y_numeric = pd.Series(y).astype('category').cat.codes\n",
    "\n",
    "# Perform PCA with 2 components\n",
    "pca = PCA(n_components=2)\n",
    "X_pca = pca.fit_transform(X)\n",
    "\n",
    "# Create a DataFrame with the projected data\n",
    "pca_df = pd.DataFrame(X_pca, columns=['PC1', 'PC2'])\n",
    "\n",
    "\n",
    "# Add back the species column for hue\n",
    "pca_df['species'] = iris.target_names[y]\n",
    "\n",
    "# Plot the entire Iris dataset projected into 2 dimensions using Seaborn\n",
    "sns.scatterplot(data=pca_df, x='PC1', y='PC2', hue='species', palette='viridis')\n",
    "plt.title('Iris Dataset Projected into 2 Dimensions with PCA')\n",
    "plt.show()"
   ]
  },
  {
   "cell_type": "markdown",
   "metadata": {},
   "source": [
    "#### 4.4 **[2pt]** Explain (in English) the relationship between (classic) recommender systems and denoising. Then go one step further: to understand the current state of the art (not covered in the lecture), explain a recommender system in term of _mapping_."
   ]
  },
  {
   "cell_type": "markdown",
   "metadata": {},
   "source": [
    "- Modern recommender systems rarely use matrix decomposition approaches. Better results have been obtained modeling the mapping directly with flexible, generic function approximators with high generalization capabilities such as neural networks."
   ]
  },
  {
   "cell_type": "markdown",
   "metadata": {},
   "source": [
    "Classic recommender systems aim to suggest personalized content based on past user interactions. They often use matrix decomposition to understand user preferences and item characteristics. Denoising comes in when we need to fill in missing values in the interaction matrix to improve recommendations.\n",
    "\n",
    "In modern systems, we've moved beyond matrix methods to more flexible approaches like neural networks. These systems directly learn from user-item interactions, capturing complex patterns for better recommendations.\n",
    "\n",
    "A recommender system essentially maps user and item features to predicted preferences. By learning this mapping, it can make accurate predictions even for new users or items. This mapping approach is more adaptable and scalable compared to traditional methods. It can capture non-linear relationships and complex patterns in the data, leading to more accurate and personalized recommendations."
   ]
  },
  {
   "cell_type": "markdown",
   "metadata": {},
   "source": [
    "# At the end of the exercise"
   ]
  },
  {
   "cell_type": "markdown",
   "metadata": {},
   "source": [
    "Bonus question with no points! Answering this will have no influence on your scoring, not at the assignment and not towards the exam score -- really feel free to ignore it with no consequence. But solving it will reward you with skills that will make the next lectures easier, give you real applications, and will be good practice towards the exam.\n",
    "\n",
    "The solution for this questions will not be included in the regular lab solutions pdf, but you are welcome to open a discussion on the Moodle: we will support your addressing it, and you may meet other students that choose to solve this, and find a teammate for the next assignment that is willing to do things for fun and not only for score :)"
   ]
  },
  {
   "cell_type": "markdown",
   "metadata": {},
   "source": [
    "#### BONUS **[ZERO pt]** Clustering is the core of UL. Master $k$-means with this [[tutorial]](https://towardsdatascience.com/k-means-clustering-algorithm-applications-evaluation-methods-and-drawbacks-aa03e644b48a)."
   ]
  },
  {
   "cell_type": "markdown",
   "metadata": {},
   "source": [
    "#### BONUS **[ZERO pt]** Curious about implementing SVD in Python? It's not hard, here's a good tutorial: [[link]](https://machinelearningmastery.com/singular-value-decomposition-for-machine-learning/)."
   ]
  },
  {
   "cell_type": "markdown",
   "metadata": {},
   "source": [
    "#### BONUS **[ZERO pt]** Over the years, I found that whipping out a quick PCA often makes visual analysis of complex data much clearer and with minimal investment. Follow [this tutorial](http://bebi103.caltech.edu.s3-website-us-east-1.amazonaws.com/2015/tutorials/r5_pca.html) to get some experience at it. Challenge: no copy+paste allowed, type everything: muscle memory is much more effective at retaining experience than passive study. Particularly useful is the discussion at the end: learn that Dimensionality Reduction _hides_ information!! It is extremely dangerous to found your decisions on a PCA plot on a subset of axis (e.g. 2), people have lost entire careers on that! As always, each tools has its own utility and drawbacks, and you need to learn the consequences BEFORE you blindly call a library someone else wrote and bet your whole career on its output. :)"
   ]
  },
  {
   "cell_type": "markdown",
   "metadata": {},
   "source": [
    "#### BONUS **[ZERO pt]** Dictionary-based learning has tons of applications. This scikit-learn page contains a good explanation, reference to a library algorithm, an example, and even a link to the paper which published the algorithm [[link]](https://scikit-learn.org/stable/modules/generated/sklearn.decomposition.DictionaryLearning.html). I definitely suggest you have a good look at it."
   ]
  },
  {
   "cell_type": "markdown",
   "metadata": {},
   "source": [
    "#### BONUS **[ZERO pt]** Once you have a dictionary, you can learn about Sparse Coding here: [[link]](https://scikit-learn.org/stable/modules/generated/sklearn.decomposition.SparseCoder.html). If you want to see a cool application, Google for \"super resolution\": although some recent results use Neural Networks, early Sparse Coding results were used to detect congenital heart problems in newborns, where their hearts are too small for defects to be visible on normal MRI scans. *Enhance! (cit.)*"
   ]
  },
  {
   "cell_type": "markdown",
   "metadata": {},
   "source": [
    "### Final considerations"
   ]
  },
  {
   "cell_type": "markdown",
   "metadata": {},
   "source": [
    "- Supervised Learning implies the presence of a _supervisor_ in the data preparation, an expert *oracle* that provides the *correct* labels. This is typically either a human (which means limited data, human errors, time constraints, etc.), or (lately more common) another algorithm that is trusted to be exact (but have you ever heard of bug-free code?). In Deep Reinforcement Learning we will see that the reward function is learned through SL; in Self-Supervised Learning and in Embeddings applications it is typically an Unsupervised Learning algorithm to provide the oracle.\n",
    "- All applications of UL stem from two concepts:\n",
    "    - **Similarity**: similar things are put together, different things are separated.\n",
    "    - **Information**: data contains redundancy and noise which can be mitigated by studying/extracting global patterns and references. What interests us is the underlying *information*, the true behavior of the underlying generating function.\n",
    "- Unsupervised Learning is almost always present one way or another in complex applications, yet rarely recognized or credited for what it is -- it's always called something like \"embedding\", \"pre-processing\", \"cleaning\", \"aggregation\" etc. Plain \"UL\" is so old school that nobody wants to say they are doing it, basing their whole fancy Deep Learning models on its output. Learn to recognize when UL is applied, and the competence you gained today will find more applications than you imagine."
   ]
  }
 ],
 "metadata": {
  "kernelspec": {
   "display_name": "Python 3 (ipykernel)",
   "language": "python",
   "name": "python3"
  },
  "language_info": {
   "codemirror_mode": {
    "name": "ipython",
    "version": 3
   },
   "file_extension": ".py",
   "mimetype": "text/x-python",
   "name": "python",
   "nbconvert_exporter": "python",
   "pygments_lexer": "ipython3",
   "version": "3.10.12"
  }
 },
 "nbformat": 4,
 "nbformat_minor": 4
}
