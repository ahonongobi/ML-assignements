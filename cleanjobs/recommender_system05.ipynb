{
 "cells": [
  {
   "cell_type": "code",
   "outputs": [
    {
     "name": "stdout",
     "output_type": "stream",
     "text": [
      "Length of MOVIES: 50\n",
      "Length of U11: 50\n",
      "Length of U15: 50\n",
      "Length of U29: 49\n"
     ]
    }
   ],
   "source": [
    "# Groupe 3: U11,15,29 \n",
    "\n",
    "import pandas as pd\n",
    "data = {\n",
    "    'MOVIES': ['Dark Knight, The', 'Lord of the Rings: The Return of the King, The', 'Bourne Ultimatum, The', 'WALL∑E', 'Finding Nemo', 'Incredibles, The', 'Ratatouille', 'Monsters, Inc.', 'Shrek', 'Schindler\\'s List', 'There\\'s Something About Mary', 'Pirates of the Caribbean: The Curse of the Black Pearl', 'Other Side of the Bed, The', 'Pulp Fiction', 'Sin City', 'Bowling for Columbine', 'Super Size Me', 'City of God', 'Pan\\'s Labyrinth', 'Star Wars: Episode III - Revenge of the Sith', 'Fantastic Four', 'Exorcist: The Beginning', 'Seven', 'Game, The', 'Pretty Woman', 'Matrix, The', 'Terminator 2: Judgment Day', 'X-Men', 'Sixth Sense, The', 'Mission: Impossible III', '300', 'Troy', 'Transformers', 'No Country for Old Men', 'Sea Inside, The', 'Pianist, The', 'Million Dollar Baby', 'Orphanage, The', 'Titanic', 'Silence of the Lambs, The', 'Brokeback Mountain', '[Rec]', 'Volver', 'Sweeney Todd: The Demon Barber of Fleet Street', 'Changeling', 'English Patient, The', 'Hotel Rwanda', 'High School Musical', 'Fahrenheit 9/11', 'Mamma Mia!'],\n",
    "    'U11': [4, 4.5, 4, 5, 5, 4.5, 4.5, 4.5, 5, None, 4.5, 5, 3.5, 4.5, 2.5, 5, None, None, 4.5, 5, 1.5, None, 3.5, 2.5, 3, 4.5, 3.5, 4, 3, None, 2, None, 4.5, None, 4.5, None, None, 4, None, 2.5, 4, 5, None, 3.5, 3, None, 4, 1.5, 4, 4.5],\n",
    "    'U15': [3.861111, 5, 5, 4.5, 5, 4.5, 4, 5, 5, 4.5, 3, 4.5, 4.5, None, None, 4, None, 4, 4, 5, 3.5, None, None, None, None, 4, None, 4.5, 3.5, 3.5, 4, 2, 4, None, 4.5, None, None, None, 4, 3.5, 3.5, 4, 3, 3.5, 4, None, None, None, 4, 5],\n",
    "    'U29': [4.5, 2.5, 4.5, 4.5, 3, None, 3, 3.5, 3.5, 4.5, 3.5, 3.5, 3, 4, 3.5, 4, 3, None, 4, 4, 2.5, None, 5, 3, 4, 4.5, None, 3.5, 3.5, 3.5, 3, 2.5, 3.5, None, 2.5, 3, 4.5, 3.5, 3, None, 2, 3, 3.5, 4, 3, 3, None, 3, 3],\n",
    "}\n",
    "\n",
    "# Check the length of each list in the data dictionary\n",
    "for key, value in data.items():\n",
    "    print(f\"Length of {key}: {len(value)}\")\n"
   ],
   "metadata": {
    "collapsed": false,
    "ExecuteTime": {
     "end_time": "2024-05-06T21:30:40.153704Z",
     "start_time": "2024-05-06T21:30:40.146381Z"
    }
   },
   "id": "53a190fd25b4a54",
   "execution_count": 1
  },
  {
   "cell_type": "code",
   "outputs": [
    {
     "name": "stdout",
     "output_type": "stream",
     "text": [
      "                                               MOVIES       U11       U15  \\\n",
      "0                                    Dark Knight, The  4.000000  3.861111   \n",
      "1      Lord of the Rings: The Return of the King, The  4.500000  5.000000   \n",
      "2                               Bourne Ultimatum, The  4.000000  5.000000   \n",
      "3                                              WALL∑E  5.000000  4.500000   \n",
      "4                                        Finding Nemo  5.000000  5.000000   \n",
      "5                                    Incredibles, The  4.500000  4.500000   \n",
      "6                                         Ratatouille  4.500000  4.000000   \n",
      "7                                      Monsters, Inc.  4.500000  5.000000   \n",
      "8                                               Shrek  5.000000  5.000000   \n",
      "9                                    Schindler's List  3.894737  4.500000   \n",
      "10                       There's Something About Mary  4.500000  3.000000   \n",
      "11  Pirates of the Caribbean: The Curse of the Bla...  5.000000  4.500000   \n",
      "12                         Other Side of the Bed, The  3.500000  4.500000   \n",
      "13                                       Pulp Fiction  4.500000  4.096032   \n",
      "14                                           Sin City  2.500000  4.096032   \n",
      "15                              Bowling for Columbine  5.000000  4.000000   \n",
      "16                                      Super Size Me  3.894737  4.096032   \n",
      "17                                        City of God  3.894737  4.000000   \n",
      "18                                    Pan's Labyrinth  4.500000  4.000000   \n",
      "19       Star Wars: Episode III - Revenge of the Sith  5.000000  5.000000   \n",
      "20                                     Fantastic Four  1.500000  3.500000   \n",
      "21                            Exorcist: The Beginning  3.894737  4.096032   \n",
      "22                                              Seven  3.500000  4.096032   \n",
      "23                                          Game, The  2.500000  4.096032   \n",
      "24                                       Pretty Woman  3.000000  4.096032   \n",
      "25                                        Matrix, The  4.500000  4.000000   \n",
      "26                         Terminator 2: Judgment Day  3.500000  4.096032   \n",
      "27                                              X-Men  4.000000  4.500000   \n",
      "28                                   Sixth Sense, The  3.000000  3.500000   \n",
      "29                            Mission: Impossible III  3.894737  3.500000   \n",
      "30                                                300  2.000000  4.000000   \n",
      "31                                               Troy  3.894737  2.000000   \n",
      "32                                       Transformers  4.500000  4.000000   \n",
      "33                             No Country for Old Men  3.894737  4.096032   \n",
      "34                                    Sea Inside, The  4.500000  4.500000   \n",
      "35                                       Pianist, The  3.894737  4.096032   \n",
      "36                                Million Dollar Baby  3.894737  4.096032   \n",
      "37                                     Orphanage, The  4.000000  4.096032   \n",
      "38                                            Titanic  3.894737  4.000000   \n",
      "39                          Silence of the Lambs, The  2.500000  3.500000   \n",
      "40                                 Brokeback Mountain  4.000000  3.500000   \n",
      "41                                              [Rec]  5.000000  4.000000   \n",
      "42                                             Volver  3.894737  3.000000   \n",
      "43     Sweeney Todd: The Demon Barber of Fleet Street  3.500000  3.500000   \n",
      "44                                         Changeling  3.000000  4.000000   \n",
      "45                               English Patient, The  3.894737  4.096032   \n",
      "46                                       Hotel Rwanda  4.000000  4.096032   \n",
      "47                                High School Musical  1.500000  4.096032   \n",
      "48                                    Fahrenheit 9/11  4.000000  4.000000   \n",
      "49                                         Mamma Mia!  4.500000  5.000000   \n",
      "\n",
      "         U29  \n",
      "0   4.500000  \n",
      "1   2.500000  \n",
      "2   4.500000  \n",
      "3   4.500000  \n",
      "4   3.000000  \n",
      "5   3.453488  \n",
      "6   3.000000  \n",
      "7   3.500000  \n",
      "8   3.500000  \n",
      "9   4.500000  \n",
      "10  3.500000  \n",
      "11  3.500000  \n",
      "12  3.000000  \n",
      "13  4.000000  \n",
      "14  3.500000  \n",
      "15  4.000000  \n",
      "16  3.000000  \n",
      "17  3.453488  \n",
      "18  4.000000  \n",
      "19  4.000000  \n",
      "20  2.500000  \n",
      "21  3.453488  \n",
      "22  5.000000  \n",
      "23  3.000000  \n",
      "24  4.000000  \n",
      "25  4.500000  \n",
      "26  3.453488  \n",
      "27  3.500000  \n",
      "28  3.500000  \n",
      "29  3.500000  \n",
      "30  3.000000  \n",
      "31  2.500000  \n",
      "32  3.500000  \n",
      "33  3.453488  \n",
      "34  2.500000  \n",
      "35  3.000000  \n",
      "36  4.500000  \n",
      "37  3.500000  \n",
      "38  3.000000  \n",
      "39  3.453488  \n",
      "40  2.000000  \n",
      "41  3.000000  \n",
      "42  3.500000  \n",
      "43  4.000000  \n",
      "44  3.000000  \n",
      "45  3.000000  \n",
      "46  3.453488  \n",
      "47  3.000000  \n",
      "48  3.000000  \n",
      "49  3.000000  \n"
     ]
    },
    {
     "name": "stderr",
     "output_type": "stream",
     "text": [
      "/tmp/ipykernel_73958/1891065211.py:11: FutureWarning: Dropping of nuisance columns in DataFrame reductions (with 'numeric_only=None') is deprecated; in a future version this will raise TypeError.  Select only valid columns before calling the reduction.\n",
      "  df.fillna(df.mean(), inplace=True)\n"
     ]
    }
   ],
   "source": [
    "# Fill missing value in the 'U29' list with the mean rating for each movie\n",
    "data['U29'].append(3)\n",
    "\n",
    "\n",
    "\n",
    "\n",
    "# Create DataFrame\n",
    "df = pd.DataFrame(data)\n",
    "\n",
    "# Fill missing NaN values in the DataFrame with the mean rating for each movie\n",
    "df.fillna(df.mean(), inplace=True)\n",
    "\n",
    "# Check DataFrame\n",
    "print(df)\n"
   ],
   "metadata": {
    "collapsed": false,
    "ExecuteTime": {
     "end_time": "2024-05-06T21:30:40.172290Z",
     "start_time": "2024-05-06T21:30:40.154486Z"
    }
   },
   "id": "8a41d25ab0e5693c",
   "execution_count": 2
  },
  {
   "cell_type": "code",
   "outputs": [
    {
     "name": "stdout",
     "output_type": "stream",
     "text": [
      "                                               MOVIES       U11       U15  \\\n",
      "20                                     Fantastic Four  1.500000  3.500000   \n",
      "47                                High School Musical  1.500000  4.096032   \n",
      "30                                                300  2.000000  4.000000   \n",
      "40                                 Brokeback Mountain  4.000000  3.500000   \n",
      "31                                               Troy  3.894737  2.000000   \n",
      "1      Lord of the Rings: The Return of the King, The  4.500000  5.000000   \n",
      "14                                           Sin City  2.500000  4.096032   \n",
      "39                          Silence of the Lambs, The  2.500000  3.500000   \n",
      "23                                          Game, The  2.500000  4.096032   \n",
      "34                                    Sea Inside, The  4.500000  4.500000   \n",
      "48                                    Fahrenheit 9/11  4.000000  4.000000   \n",
      "28                                   Sixth Sense, The  3.000000  3.500000   \n",
      "24                                       Pretty Woman  3.000000  4.096032   \n",
      "41                                              [Rec]  5.000000  4.000000   \n",
      "42                                             Volver  3.894737  3.000000   \n",
      "44                                         Changeling  3.000000  4.000000   \n",
      "45                               English Patient, The  3.894737  4.096032   \n",
      "35                                       Pianist, The  3.894737  4.096032   \n",
      "38                                            Titanic  3.894737  4.000000   \n",
      "49                                         Mamma Mia!  4.500000  5.000000   \n",
      "16                                      Super Size Me  3.894737  4.096032   \n",
      "6                                         Ratatouille  4.500000  4.000000   \n",
      "4                                        Finding Nemo  5.000000  5.000000   \n",
      "10                       There's Something About Mary  4.500000  3.000000   \n",
      "12                         Other Side of the Bed, The  3.500000  4.500000   \n",
      "21                            Exorcist: The Beginning  3.894737  4.096032   \n",
      "17                                        City of God  3.894737  4.000000   \n",
      "46                                       Hotel Rwanda  4.000000  4.096032   \n",
      "26                         Terminator 2: Judgment Day  3.500000  4.096032   \n",
      "5                                    Incredibles, The  4.500000  4.500000   \n",
      "33                             No Country for Old Men  3.894737  4.096032   \n",
      "11  Pirates of the Caribbean: The Curse of the Bla...  5.000000  4.500000   \n",
      "37                                     Orphanage, The  4.000000  4.096032   \n",
      "29                            Mission: Impossible III  3.894737  3.500000   \n",
      "43     Sweeney Todd: The Demon Barber of Fleet Street  3.500000  3.500000   \n",
      "7                                      Monsters, Inc.  4.500000  5.000000   \n",
      "27                                              X-Men  4.000000  4.500000   \n",
      "22                                              Seven  3.500000  4.096032   \n",
      "32                                       Transformers  4.500000  4.000000   \n",
      "8                                               Shrek  5.000000  5.000000   \n",
      "0                                    Dark Knight, The  4.000000  3.861111   \n",
      "36                                Million Dollar Baby  3.894737  4.096032   \n",
      "9                                    Schindler's List  3.894737  4.500000   \n",
      "19       Star Wars: Episode III - Revenge of the Sith  5.000000  5.000000   \n",
      "13                                       Pulp Fiction  4.500000  4.096032   \n",
      "15                              Bowling for Columbine  5.000000  4.000000   \n",
      "25                                        Matrix, The  4.500000  4.000000   \n",
      "2                               Bourne Ultimatum, The  4.000000  5.000000   \n",
      "18                                    Pan's Labyrinth  4.500000  4.000000   \n",
      "3                                              WALL∑E  5.000000  4.500000   \n",
      "\n",
      "         U29  Least Misery  \n",
      "20  2.500000      1.500000  \n",
      "47  3.000000      1.500000  \n",
      "30  3.000000      2.000000  \n",
      "40  2.000000      2.000000  \n",
      "31  2.500000      2.000000  \n",
      "1   2.500000      2.500000  \n",
      "14  3.500000      2.500000  \n",
      "39  3.453488      2.500000  \n",
      "23  3.000000      2.500000  \n",
      "34  2.500000      2.500000  \n",
      "48  3.000000      3.000000  \n",
      "28  3.500000      3.000000  \n",
      "24  4.000000      3.000000  \n",
      "41  3.000000      3.000000  \n",
      "42  3.500000      3.000000  \n",
      "44  3.000000      3.000000  \n",
      "45  3.000000      3.000000  \n",
      "35  3.000000      3.000000  \n",
      "38  3.000000      3.000000  \n",
      "49  3.000000      3.000000  \n",
      "16  3.000000      3.000000  \n",
      "6   3.000000      3.000000  \n",
      "4   3.000000      3.000000  \n",
      "10  3.500000      3.000000  \n",
      "12  3.000000      3.000000  \n",
      "21  3.453488      3.453488  \n",
      "17  3.453488      3.453488  \n",
      "46  3.453488      3.453488  \n",
      "26  3.453488      3.453488  \n",
      "5   3.453488      3.453488  \n",
      "33  3.453488      3.453488  \n",
      "11  3.500000      3.500000  \n",
      "37  3.500000      3.500000  \n",
      "29  3.500000      3.500000  \n",
      "43  4.000000      3.500000  \n",
      "7   3.500000      3.500000  \n",
      "27  3.500000      3.500000  \n",
      "22  5.000000      3.500000  \n",
      "32  3.500000      3.500000  \n",
      "8   3.500000      3.500000  \n",
      "0   4.500000      3.861111  \n",
      "36  4.500000      3.894737  \n",
      "9   4.500000      3.894737  \n",
      "19  4.000000      4.000000  \n",
      "13  4.000000      4.000000  \n",
      "15  4.000000      4.000000  \n",
      "25  4.500000      4.000000  \n",
      "2   4.500000      4.000000  \n",
      "18  4.000000      4.000000  \n",
      "3   4.500000      4.500000  \n"
     ]
    }
   ],
   "source": [
    "# Calculate the least misery aggregation strategy\n",
    "df['Least Misery'] = df[['U11', 'U15', 'U29']].min(axis=1)\n",
    "\n",
    "# Sort movies based on their least misery ratings in ascending order\n",
    "df_least_misery_sorted = df.sort_values(by='Least Misery')\n",
    "\n",
    "# display the DataFrame\n",
    "print(df_least_misery_sorted)\n",
    "\n"
   ],
   "metadata": {
    "collapsed": false,
    "ExecuteTime": {
     "end_time": "2024-05-06T21:30:40.180438Z",
     "start_time": "2024-05-06T21:30:40.173141Z"
    }
   },
   "id": "21faa437637e760",
   "execution_count": 3
  },
  {
   "cell_type": "code",
   "outputs": [
    {
     "name": "stdout",
     "output_type": "stream",
     "text": [
      "                 MOVIES  Least Misery\n",
      "20       Fantastic Four           1.5\n",
      "47  High School Musical           1.5\n",
      "30                  300           2.0\n"
     ]
    }
   ],
   "source": [
    "# Calculate the least misery aggregation strategy\n",
    "df['Least Misery'] = df[['U11', 'U15', 'U29']].min(axis=1)\n",
    "\n",
    "# Sort movies based on their least misery ratings in ascending order\n",
    "df_least_misery_sorted = df.sort_values(by='Least Misery')\n",
    "\n",
    "# Recommend the top three movies with the lowest least misery ratings\n",
    "recommendations_least_misery = df_least_misery_sorted.head(3)[['MOVIES', 'Least Misery']]\n",
    "\n",
    "print(recommendations_least_misery)\n"
   ],
   "metadata": {
    "collapsed": false,
    "ExecuteTime": {
     "end_time": "2024-05-06T21:30:40.187648Z",
     "start_time": "2024-05-06T21:30:40.181425Z"
    }
   },
   "id": "391c9cb9c543939a",
   "execution_count": 4
  },
  {
   "cell_type": "code",
   "outputs": [
    {
     "name": "stdout",
     "output_type": "stream",
     "text": [
      "                   MOVIES  Most Pleasure\n",
      "49             Mamma Mia!            5.0\n",
      "7          Monsters, Inc.            5.0\n",
      "15  Bowling for Columbine            5.0\n"
     ]
    }
   ],
   "source": [
    "# Calculate the most pleasure aggregation strategy\n",
    "df['Most Pleasure'] = df[['U11', 'U15', 'U29']].max(axis=1)\n",
    "\n",
    "# Sort movies based on their most pleasure ratings in descending order\n",
    "df_most_pleasure_sorted = df.sort_values(by='Most Pleasure', ascending=False)\n",
    "\n",
    "# Recommend the top three movies with the highest most pleasure ratings\n",
    "recommendations_most_pleasure = df_most_pleasure_sorted.head(3)[['MOVIES', 'Most Pleasure']]\n",
    "\n",
    "print(recommendations_most_pleasure)\n"
   ],
   "metadata": {
    "collapsed": false,
    "ExecuteTime": {
     "end_time": "2024-05-06T21:30:40.195349Z",
     "start_time": "2024-05-06T21:30:40.188540Z"
    }
   },
   "id": "8a6fb201bc1f37ac",
   "execution_count": 5
  },
  {
   "cell_type": "code",
   "outputs": [
    {
     "name": "stdout",
     "output_type": "stream",
     "text": [
      "                       MOVIES  Borda Count\n",
      "20             Fantastic Four        137.0\n",
      "31                       Troy        122.0\n",
      "39  Silence of the Lambs, The        112.0\n"
     ]
    }
   ],
   "source": [
    "# Calculate the Borda Count aggregation strategy\n",
    "df['Borda Count'] = df[['U11', 'U15', 'U29']].rank(method='min', ascending=False).sum(axis=1)\n",
    "\n",
    "# Sort movies based on their Borda Count points in descending order\n",
    "df_borda_count_sorted = df.sort_values(by='Borda Count', ascending=False)\n",
    "\n",
    "# Recommend the top three movies with the highest Borda Count points\n",
    "recommendations_borda_count = df_borda_count_sorted.head(3)[['MOVIES', 'Borda Count']]\n",
    "\n",
    "print(recommendations_borda_count)\n"
   ],
   "metadata": {
    "collapsed": false,
    "ExecuteTime": {
     "end_time": "2024-05-06T21:30:40.204522Z",
     "start_time": "2024-05-06T21:30:40.197113Z"
    }
   },
   "id": "29b7dbc2e0e5fe76",
   "execution_count": 6
  },
  {
   "cell_type": "code",
   "outputs": [
    {
     "name": "stdout",
     "output_type": "stream",
     "text": [
      "   Group ID       Strategy            1st.                 2nd.  \\\n",
      "0         3   Least Misery  Fantastic Four  High School Musical   \n",
      "1         3  Most Pleasure      Mamma Mia!       Monsters, Inc.   \n",
      "2         3    Borda Count  Fantastic Four                 Troy   \n",
      "\n",
      "                        3rd.  \n",
      "0                        300  \n",
      "1      Bowling for Columbine  \n",
      "2  Silence of the Lambs, The  \n"
     ]
    }
   ],
   "source": [
    "# Define the strategies\n",
    "strategies = ['Least Misery', 'Most Pleasure', 'Borda Count']\n",
    "\n",
    "# Initialize an empty list to store recommendations\n",
    "recommendations = []\n",
    "\n",
    "# Iterate over strategies to get recommendations\n",
    "for strategy in strategies:\n",
    "    # Get recommendations based on strategy\n",
    "    if strategy == 'Least Misery':\n",
    "        recommendation = recommendations_least_misery['MOVIES'].tolist()\n",
    "    elif strategy == 'Most Pleasure':\n",
    "        recommendation = recommendations_most_pleasure['MOVIES'].tolist()\n",
    "    elif strategy == 'Borda Count':\n",
    "        recommendation = recommendations_borda_count['MOVIES'].tolist()\n",
    "\n",
    "    # Append recommendations to the list\n",
    "    recommendations.append([3, strategy] + recommendation)\n",
    "\n",
    "# Create DataFrame for the table\n",
    "df_recommendations_dynamic = pd.DataFrame(recommendations, columns=['Group ID', 'Strategy', '1st.', '2nd.', '3rd.'])\n",
    "\n",
    "# Display the table\n",
    "print(df_recommendations_dynamic)\n"
   ],
   "metadata": {
    "collapsed": false,
    "ExecuteTime": {
     "end_time": "2024-05-06T21:30:40.211852Z",
     "start_time": "2024-05-06T21:30:40.205325Z"
    }
   },
   "id": "d387a97d7e9ad8c6",
   "execution_count": 7
  },
  {
   "cell_type": "markdown",
   "source": [
    "To answer the first question, yes, there are likely differences between the recommendation lists obtained using different aggregation strategies. These differences arise because each strategy calculates recommendations based on different principles. For example:\n",
    "\n",
    "- **Least Misery:** This strategy recommends movies based on the minimum rating given by any group member. It prioritizes avoiding dissatisfaction among group members.\n",
    "  \n",
    "- **Most Pleasure:** This strategy recommends movies with the highest average rating among group members. It aims to maximize overall satisfaction within the group.\n",
    "  \n",
    "- **Borda Count:** This strategy assigns points to movies based on their rankings by group members and recommends movies with the highest total points. It considers the overall preference order of movies by group members.\n",
    "\n",
    "Which strategy is better depends on various factors such as the nature of the group, the preferences of individual members, and the specific context of the recommendation task. For example, if avoiding dissatisfaction is crucial, the Least Misery strategy might be preferred. However, if maximizing overall satisfaction is the goal, the Most Pleasure strategy might be more suitable.\n",
    "\n",
    "Regarding the second question, comparing the results obtained with the decisions made by the groups in a real experiment (Table 3) allows us to evaluate the effectiveness of the recommendation strategies. If there are differences between the results obtained and the decisions made by the groups, several factors could be responsible:\n",
    "\n",
    "- **Differences in preferences:** The groups in the real experiment might have different preferences or priorities compared to the assumptions made by the recommendation strategies.\n",
    "\n",
    "- **Effectiveness of strategies:** The recommendation strategies used in the experiment might not accurately capture the preferences of the groups or might not be optimized for the specific context of the experiment.\n",
    "\n",
    "Advantages and disadvantages of different aggregation strategies:\n",
    "\n",
    "- **Least Misery:** \n",
    "  - Advantage: It prioritizes avoiding dissatisfaction among group members.\n",
    "  - Disadvantage: It may not maximize overall satisfaction, as it focuses on minimizing dissatisfaction.\n",
    "\n",
    "- **Most Pleasure:** \n",
    "  - Advantage: It aims to maximize overall satisfaction within the group.\n",
    "  - Disadvantage: It may overlook individual preferences or minority opinions.\n",
    "\n",
    "- **Borda Count:** \n",
    "  - Advantage: It considers the overall preference order of movies by group members.\n",
    "  - Disadvantage: It can be influenced by outliers or extreme ratings, and it may not reflect the intensity of preferences.\n",
    "\n",
    "Overall, the choice of aggregation strategy should consider the specific goals, preferences, and context of the recommendation task. It's essential to balance between maximizing overall satisfaction and addressing individual preferences and dissatisfaction."
   ],
   "metadata": {
    "collapsed": false
   },
   "id": "d27ca231582a8cd0"
  },
  {
   "cell_type": "code",
   "outputs": [],
   "source": [],
   "metadata": {
    "collapsed": false,
    "ExecuteTime": {
     "end_time": "2024-05-06T21:30:40.214563Z",
     "start_time": "2024-05-06T21:30:40.212786Z"
    }
   },
   "id": "a6bbcc3636c4498",
   "execution_count": 7
  }
 ],
 "metadata": {
  "kernelspec": {
   "display_name": "Python 3",
   "language": "python",
   "name": "python3"
  },
  "language_info": {
   "codemirror_mode": {
    "name": "ipython",
    "version": 2
   },
   "file_extension": ".py",
   "mimetype": "text/x-python",
   "name": "python",
   "nbconvert_exporter": "python",
   "pygments_lexer": "ipython2",
   "version": "2.7.6"
  }
 },
 "nbformat": 4,
 "nbformat_minor": 5
}
