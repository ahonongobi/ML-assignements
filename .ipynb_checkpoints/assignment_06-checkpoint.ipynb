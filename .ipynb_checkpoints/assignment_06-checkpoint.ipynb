{
 "cells": [
  {
   "cell_type": "markdown",
   "metadata": {},
   "source": [
    "Please fill in your name and that of your teammate.\n",
    "\n",
    "You: Ahonon Gobi Parfait\n",
    "\n",
    "Teammate:"
   ]
  },
  {
   "cell_type": "markdown",
   "metadata": {},
   "source": [
    "# Introduction"
   ]
  },
  {
   "cell_type": "markdown",
   "metadata": {},
   "source": [
    "Welcome to the sixth lab. Last week we attacked classification problems expanding the concept of LDA, interpreting the data as generated from probability distributions, into Naïve Bayes. Today we follow the same plan from the perspective of the _margin_, starting with the Perceptron expanding it into the Support Vector Machine.\n",
    "\n",
    "You will notice we will not implement the learning algorithm this time, because SVMs are solved through quadratic programming and that is not fun. But please feel free to check out quadratic programming yourself if you are interested.\n",
    "\n",
    "Today we focus on the ample new glossary, then implementing the SVM objective function, and using off-the-shelf optimizers for training. Enjoy!"
   ]
  },
  {
   "cell_type": "markdown",
   "metadata": {},
   "source": [
    "## Load your libraries"
   ]
  },
  {
   "cell_type": "markdown",
   "metadata": {},
   "source": [
    "**FROM NOW ON:** take a habit of loading your default libraries, plotting style and external tools at the top of the file (as I do here). I will not mention it further in the next labs, it will be up to you to load what you need."
   ]
  },
  {
   "cell_type": "code",
   "execution_count": 1,
   "metadata": {
    "ExecuteTime": {
     "end_time": "2024-05-04T15:56:02.456347Z",
     "start_time": "2024-05-04T15:56:02.451413Z"
    }
   },
   "outputs": [],
   "source": [
    "%matplotlib inline\n",
    "import matplotlib.pyplot as plt\n",
    "import seaborn as sns\n",
    "import numpy as np\n",
    "import pandas as pd\n",
    "sns.set(rc={'figure.figsize':(8,6)}, style=\"whitegrid\")"
   ]
  },
  {
   "cell_type": "markdown",
   "metadata": {},
   "source": [
    "### How to pass the lab?"
   ]
  },
  {
   "cell_type": "markdown",
   "metadata": {},
   "source": [
    "Below you find the exercise questions. Each question awarding points is numbered and states the number of points like this: **[0pt]**. To answer a question, fill the cell below with your answer (markdown for text, code for implementation). Incorrect or incomplete answers are in principle worth 0 points: to assign partial reward is only up to teacher discretion. Over-complete answers do not award extra points (though they are appreciated and will be kept under consideration). Save your work frequently! (`ctrl+s`)\n",
    "\n",
    "**You need at least 18 points (out of 27 available) to pass** (66%)."
   ]
  },
  {
   "cell_type": "markdown",
   "metadata": {},
   "source": [
    "# 1. Fundamentals"
   ]
  },
  {
   "cell_type": "markdown",
   "metadata": {},
   "source": [
    "#### 1.1 **[1pt]** Write the equation for the margin (use latex)."
   ]
  },
  {
   "cell_type": "markdown",
   "metadata": {
    "collapsed": false,
    "jupyter": {
     "outputs_hidden": false
    }
   },
   "source": [
    "The margin ($\\gamma$) for a data point $(x, y)$ with respect to a decision boundary defined by an affine linear function $f(x) = \\langle w, x \\rangle + b$ can be expressed as:\n",
    "\n",
    "$\\[\n",
    "\\gamma = y \\cdot f(x)\n",
    "\\]$\n"
   ]
  },
  {
   "cell_type": "markdown",
   "metadata": {},
   "source": [
    "#### 1.2 **[2pt]** Write the equation for the maximum margin separation (use latex), then explain it in English below."
   ]
  },
  {
   "cell_type": "markdown",
   "metadata": {},
   "source": [
    "The equation for the maximum margin separation in SVMs can be written as follows:\n",
    "\n",
    "$\\[\n",
    "\\arg \\max_{\\mathbf{w}, b} \\{ \\gamma \\}\n",
    "\\] $\n",
    "\n",
    "subject to the constraint:\n",
    "\n",
    "$\\[\n",
    "y_i \\cdot (\\langle \\mathbf{w}, \\mathbf{x}_i \\rangle + b) \\geq \\gamma\n",
    "\\]$\n",
    "\n",
    "where $\\gamma$ represents the margin, $\\mathbf{w}$ is the weight vector, $b$ is the bias term, $\\mathbf{x}_i$ is a data point, and $y_i$ is its corresponding label.\n",
    "\n",
    "This optimization problem seeks to maximize the margin $\\gamma$ while ensuring that all data points are correctly classified with a margin greater than or equal to $\\gamma$. The decision boundary is defined by the hyperplane $\\langle \\mathbf{w}, \\mathbf{x} \\rangle + b = 0$, where $\\mathbf{w}$ and $b$ are parameters determined by solving the optimization problem.\n"
   ]
  },
  {
   "cell_type": "markdown",
   "metadata": {},
   "source": [
    "#### 1.3 **[1pt]** When is an *example* (in a dataset) considered a Support Vector? Write its definition using latex, then explain it in English."
   ]
  },
  {
   "cell_type": "markdown",
   "metadata": {},
   "source": [
    "An example $(\\mathbf{x}_i, y_i)$ is considered a Support Vector if its margin with respect to the decision boundary is equal to 1, i.e., $y_i \\cdot (\\langle \\mathbf{w}, \\mathbf{x}_i \\rangle + b) = 1$.\n",
    "\n",
    "Explanation: \n",
    "A Support Vector is a data point in the dataset that sits close to the decision boundary in SVMs. These points define the margin, which is the space between different classes. Support Vectors have a margin of exactly 1 and are important because they help determine the best decision boundary and affect how other points are classified.\n"
   ]
  },
  {
   "cell_type": "markdown",
   "metadata": {},
   "source": [
    "#### 1.4 **[1pt]** Explain in English why SVMs ignore examples that are not Support Vectors."
   ]
  },
  {
   "cell_type": "markdown",
   "metadata": {},
   "source": [
    "Support Vector Machines (SVMs) ignore examples that are not Support Vectors because these examples do not influence the construction of the decision boundary.\n",
    "\n",
    "Support Vectors are the data points that lie closest to the decision boundary, and they play a crucial role in determining the position and orientation of the boundary. These are the only points that directly affect the margin and thus the classification of new data points."
   ]
  },
  {
   "cell_type": "markdown",
   "metadata": {},
   "source": [
    "#### 1.5 **[2pt]** Define each of the following concepts (in English): Quadratic Program, Slack Variable, Multiobjective Optimization, with your own words.\n"
   ]
  },
  {
   "cell_type": "markdown",
   "metadata": {},
   "source": [
    "Tip: if you want to write something with your own words, you can read a description of it, then put the description away and immediately try to explain it again as if to someone that has no background on it. This of course only works if you have understood the concepts, else you'll find yourself just changing words but reusing the sentences: please avoid that (as the goal is to force you to understand the concepts).  \n",
    "Incidentally, this is also why studying in pairs/groups works (typically) better: explaining concepts to each other forces you to confront how much did you really understand of it."
   ]
  },
  {
   "cell_type": "markdown",
   "metadata": {},
   "source": [
    "Definition: \n",
    "**Quadratic Program:** It's a math problem where we try to find the smallest or biggest answer to a math puzzle, and we have to follow some rules. Imagine it like a game where we want to get the best score, but we have to play by certain rules. The rules involve equations that have squares in them, like $x^2$, and we're trying to find the best value for x while following those rules.\n",
    "\n",
    "**Slack Variable:** Imagine you're drawing a line to separate two groups of points, but some points are on the wrong side of the line. Slack variables are like little \"mistake allowances\" we give to these points. They let us be a bit flexible so that not every point has to be on the correct side of the line. This helps us find a good line that separates the groups as best as possible, even if it's not perfect.\n",
    "\n",
    "**Multiobjective Optimization**: Imagine you have more than one goal you want to achieve, but these goals might conflict with each other. Multiobjective optimization is like finding a compromise between these different goals. It's about finding the best solution that balances all the objectives, even if they sometimes compete with each other."
   ]
  },
  {
   "cell_type": "markdown",
   "metadata": {},
   "source": [
    "#### 1.6 **[3pt]** Write the full formula for the Soft Margin SVM (geometric approach; use latex), then explain in English the role of the hyperparameter C (particularly: what do high or low values mean for the SVM)."
   ]
  },
  {
   "cell_type": "markdown",
   "metadata": {},
   "source": [
    "$\\[\n",
    "\\min_{\\mathbf{w}, b, \\boldsymbol{\\xi}} \\frac{1}{2} ||\\mathbf{w}||^2 + C \\sum_{i=1}^{n} \\xi_i\n",
    "\\]$\n",
    "\n",
    "subject to the constraints:\n",
    "\n",
    "$\\[\n",
    "y_i (\\langle \\mathbf{w}, \\mathbf{x}_i \\rangle + b) \\geq 1 - \\xi_i, \\quad \\xi_i \\geq 0 \\quad \\text{for } i = 1, 2, ..., n\n",
    "\\]$\n",
    "\n",
    "\n",
    "In the Soft Margin SVM, the hyperparameter C is like a knob that controls how much we care about getting the training data points right versus having a big gap between the classes. \n",
    "\n",
    "- If C is high, it means we really want to get the training points right, even if it means having a smaller gap between the classes. So, the model tries hard to fit the data points, even if it's a bit messy.\n",
    "  \n",
    "- If C is low, it means we care more about having a big gap between the classes, even if it means some training points might not be perfectly classified. So, the model focuses more on finding a clear gap, even if it doesn't fit the data points perfectly.\n",
    "\n",
    "So, choosing the right value for C is like finding the balance between fitting the training data well and having a clear gap between the classes."
   ]
  },
  {
   "cell_type": "markdown",
   "metadata": {},
   "source": [
    "#### 1.7 **[2pt]** Write the objective function for the Soft Margin SVM (use latex) using the Regularized Empirical Risk Minimization approach and a Squared Hinge Loss for `L(m)`."
   ]
  },
  {
   "cell_type": "markdown",
   "metadata": {},
   "source": [
    "This is no copy-paste, think! Do you remember the difference between the Loss on a _point_, the Loss on a _boundary_, and the _Risk_? You need these concepts super clear for the exam!"
   ]
  },
  {
   "cell_type": "markdown",
   "metadata": {},
   "source": [
    "\n",
    "Lke my own explanation of those:\n",
    "- **Loss on a point**: This is like looking at how well the model did for just one piece of data. If the model got it wrong, it adds to the loss for that point.\n",
    "\n",
    "- **Loss on a boundary**: This is when we look at how well the model did for all the data points together. It's like adding up all the losses for each point to see how good the model is overall.\n",
    "\n",
    "- **Risk**: This is the big picture. It's like stepping back and looking at how well the model did for the whole dataset. It tells us how good the model is overall, considering all the points together.\n",
    "\n",
    "**The objective function for the Soft Margin SVM**\n",
    "With the Squared Hinge Loss denoted as $L(m)$, where $m$ is the margin, the objective function can be expressed as follows:\n",
    "\n",
    "$ \\[\n",
    "\\min_{\\mathbf{w}, b, \\boldsymbol{\\xi}} \\frac{1}{2} ||\\mathbf{w}||^2 + C \\sum_{i=1}^{n} L(y_i \\cdot (\\langle \\mathbf{w}, \\mathbf{x}_i \\rangle + b))\n",
    "\\]\n",
    "$\n"
   ]
  },
  {
   "cell_type": "markdown",
   "metadata": {},
   "source": [
    "# 2. Soft Margin SVM"
   ]
  },
  {
   "cell_type": "markdown",
   "metadata": {},
   "source": [
    "- Following what we learned in the last exercise: **all** of the questions below need to be solved using Pandas and **no Python loops** (`for`, `while`, etc).\n",
    "- Let's classify the Iris dataset with a hand-made SVM. Working with margins though means we need to set up once again for **binary classification**. Last time we used the categorical feature type, but this time we need the numerical values for the two classes to be of integer type in $\\{-1, 1\\}$, because we work with margin calculations. How would you do it? Here's one way to get it done:"
   ]
  },
  {
   "cell_type": "code",
   "execution_count": 2,
   "metadata": {
    "ExecuteTime": {
     "end_time": "2024-05-04T15:56:02.511752Z",
     "start_time": "2024-05-04T15:56:02.457175Z"
    }
   },
   "outputs": [
    {
     "name": "stdout",
     "output_type": "stream",
     "text": [
      "sepal_length    float64\n",
      "sepal_width     float64\n",
      "petal_length    float64\n",
      "petal_width     float64\n",
      "species           int64\n",
      "dtype: object\n"
     ]
    }
   ],
   "source": [
    "df = sns.load_dataset('iris')\n",
    "# sns.pairplot(df, hue='species')\n",
    "\n",
    "df.loc[df['species'] == 'setosa', 'species'] = -1\n",
    "df.loc[df['species'] != -1, 'species'] = 1\n",
    "df['species'] = pd.to_numeric(df['species'])\n",
    "print(df.dtypes)\n",
    "# sns.pairplot(df, hue='species')"
   ]
  },
  {
   "cell_type": "markdown",
   "metadata": {},
   "source": [
    "Also, do not forget to **split your data** into train set and test set, because using the wrong data you will fail the question. This was introduced in the last lab and will hold until the end of the course. You can copy the code from last submission."
   ]
  },
  {
   "cell_type": "code",
   "execution_count": 3,
   "metadata": {
    "ExecuteTime": {
     "end_time": "2024-05-04T15:56:02.571693Z",
     "start_time": "2024-05-04T15:56:02.512576Z"
    }
   },
   "outputs": [],
   "source": [
    "from sklearn.model_selection import train_test_split\n",
    "train, test = train_test_split(df, test_size=0.2) # 80-20 split"
   ]
  },
  {
   "cell_type": "markdown",
   "metadata": {},
   "source": [
    "#### 2.1 **[1pt]** Write a Python function that takes in input a row from the Iris dataset (concatenation of $x_i$ and $y_i$), and a parametrization $(w, b)$, and returns the margin."
   ]
  },
  {
   "cell_type": "markdown",
   "metadata": {},
   "source": [
    "This is slightly different from what you did so far: rather than pre-splitting the inputs from the labels, you should do the splitting inside the function. You can test the method by passing a (full) single row of the dataset (e.g. `iloc[0]`: notice you do not drop the label). As you should expect, the correct output is one number."
   ]
  },
  {
   "cell_type": "code",
   "execution_count": 4,
   "metadata": {
    "ExecuteTime": {
     "end_time": "2024-05-04T15:56:02.577429Z",
     "start_time": "2024-05-04T15:56:02.572538Z"
    }
   },
   "outputs": [
    {
     "name": "stdout",
     "output_type": "stream",
     "text": [
      "Params: (array([0.1015237 , 0.09322462, 0.06864917, 0.70297755]), 0.71905245948871) \n",
      "\n",
      "Margin: -1.7998138160277541\n"
     ]
    }
   ],
   "source": [
    "def calculate_margin(row, params):\n",
    "    # extract the label and target\n",
    "    x = row[:-1] # # Features are all columns except the last one\n",
    "    y = row[-1]\n",
    "    w, b = params\n",
    "    # Calculate the margin using the formula: margin = y * (w * x + b)\n",
    "    return y * (np.dot(w,x) + b)\n",
    "\n",
    "w = np.random.rand(4)  #  4 features in the dataset\n",
    "b = np.random.rand() # Example bias term\n",
    "row = df.iloc[0] # Get the first row of the dataset (iloc[0]) and pass it to the function\n",
    "params = (w, b)\n",
    "margin = calculate_margin(row, params)\n",
    "\n",
    "# print params\n",
    "print(\"Params:\", params, \"\\n\")\n",
    "# Print the margin\n",
    "print(\"Margin:\", margin)"
   ]
  },
  {
   "cell_type": "markdown",
   "metadata": {},
   "source": [
    "#### 2.2 **[1pt]** Write a Python function that takes in input an entire dataset and computes the margins for all points. Use Pandas' `apply()` (remember you cannot use Python loops)."
   ]
  },
  {
   "cell_type": "markdown",
   "metadata": {},
   "source": [
    "To [unit-test](https://en.wikipedia.org/wiki/Unit_testing) these functions, particularly regarding getting the sizes right, get used to generating random parameter sets of the correct size (using `np.random`). The correct output is a Pandas Series that has the same length as your training set (that is 120 numbers if you went for a 80-20 split)."
   ]
  },
  {
   "cell_type": "code",
   "execution_count": 5,
   "metadata": {
    "ExecuteTime": {
     "end_time": "2024-05-04T15:56:02.600751Z",
     "start_time": "2024-05-04T15:56:02.578362Z"
    }
   },
   "outputs": [
    {
     "name": "stdout",
     "output_type": "stream",
     "text": [
      "Length of margins Series: 1     -1.732897\n",
      "9     -1.678786\n",
      "109    3.961836\n",
      "35    -1.747964\n",
      "112    3.542911\n",
      "         ...   \n",
      "115    3.647812\n",
      "132    3.560819\n",
      "93     2.370607\n",
      "65     2.974482\n",
      "49    -1.771017\n",
      "Length: 120, dtype: float64 \n",
      " 120\n"
     ]
    }
   ],
   "source": [
    "def compute_margins(dataset, params):\n",
    "    # Apply the calculate_margin function to each row in the dataset margins = dataset.apply(calculate_margin, axis=1, params=params)\n",
    "    return dataset.apply(lambda row: calculate_margin(row, params), axis=1)\n",
    "compute_margins(train, params)\n",
    "print(\"Length of margins Series:\", compute_margins(train, params), '\\n',  len(compute_margins(train, params)))"
   ]
  },
  {
   "cell_type": "markdown",
   "metadata": {},
   "source": [
    "#### 2.3 **[1pt]** Write a Python function that computes the Squared Hinge Loss for the whole dataset. Re-use the functions defined in answering the previous questions."
   ]
  },
  {
   "cell_type": "markdown",
   "metadata": {},
   "source": [
    "- Feel free to define it in two steps, the first being the Loss function for a single number, the second another round of `apply()`.\n",
    "- You will likely see a lot of zeros in the result, together with some high numbers. _Think: why so?_ Look at the Loss function.\n",
    "- You can either `apply()` a simple lambda to the output of `margins()`, or a more complex lambda to the dataset directly."
   ]
  },
  {
   "cell_type": "code",
   "execution_count": 6,
   "metadata": {
    "ExecuteTime": {
     "end_time": "2024-05-04T15:56:02.614724Z",
     "start_time": "2024-05-04T15:56:02.601607Z"
    }
   },
   "outputs": [
    {
     "data": {
      "text/plain": [
       "1      7.468725\n",
       "9      7.175897\n",
       "109    0.000000\n",
       "35     7.551307\n",
       "112    0.000000\n",
       "         ...   \n",
       "115    0.000000\n",
       "132    0.000000\n",
       "93     0.000000\n",
       "65     0.000000\n",
       "49     7.678533\n",
       "Length: 120, dtype: float64"
      ]
     },
     "execution_count": 6,
     "metadata": {},
     "output_type": "execute_result"
    }
   ],
   "source": [
    "squared_hinge_loss = lambda m : np.max([0,1 -m])**2\n",
    "def compute_loss(dataset, params):\n",
    "    return compute_margins(dataset, params).apply(squared_hinge_loss)\n",
    "compute_loss(train, params)\n"
   ]
  },
  {
   "cell_type": "markdown",
   "metadata": {},
   "source": [
    "#### 2.4 **[2pt]** Write a Python function computing the soft-margin objective function for parametrization $(w, b)$ and hyperparameter `c`. Worth repeating: no loops, use Pandas."
   ]
  },
  {
   "cell_type": "markdown",
   "metadata": {},
   "source": [
    "You should be looking for the \"unconstrained convex optimization problem\" form. Consider using the `linalg` module of numpy, which already gives you an implementation for `norm` (the \"standard\" norm is already the Euclidean, or _norm-2_). More on norms [here](https://en.wikipedia.org/wiki/Norm_(mathematics)#Euclidean_norm).  \n",
    "For testing purposes, a simple `c=1.0` will work."
   ]
  },
  {
   "cell_type": "code",
   "execution_count": 7,
   "metadata": {
    "ExecuteTime": {
     "end_time": "2024-05-04T15:56:02.633159Z",
     "start_time": "2024-05-04T15:56:02.615483Z"
    }
   },
   "outputs": [
    {
     "data": {
      "text/plain": [
       "319.5859138382119"
      ]
     },
     "execution_count": 7,
     "metadata": {},
     "output_type": "execute_result"
    }
   ],
   "source": [
    "import numpy as np\n",
    "\n",
    "def objective_function(dataset, params, c):\n",
    "    # first the equation is mathematically defined as: 1/2 * ||w||^2 + C * sum(L(m)) where \n",
    "    # regularized term is 1/2 * ||w||^2 and the loss term is C * sum(L(m))\n",
    "    # Extract the weight vector and bias term\n",
    "    w, _ = params\n",
    "    margins = compute_margins(dataset, params)\n",
    "    loss = compute_loss(dataset, params).sum()\n",
    "    regularization_term = 0.5 * np.linalg.norm(w)**2\n",
    "    violation = c * loss\n",
    "    return regularization_term + violation\n",
    "\n",
    "objective_function(train, params, 1.0)"
   ]
  },
  {
   "cell_type": "markdown",
   "metadata": {},
   "source": [
    "#### 2.5 **[4pt]** Train the SVM using Parameter Guessing and print the number of misclassified points."
   ]
  },
  {
   "cell_type": "markdown",
   "metadata": {},
   "source": [
    "- We do not want to implement quadratic programming because it is nasty, but we understand that its only role is to find the parameters minimizing a function.\n",
    "- Copy the _parameter guessing_ method from the first lab, then adapt it to estimate the parameters that _minimize the SVM optimization function_ defined above.\n",
    "- You still need a loop for Parameter Guessing. The \"forbidden loops\" are the loops that go over the data points, as their goal is to force you to learn how to do the same, more efficiently, using Pandas. It should be clear by now if a loop is allowed or not.\n",
    "- The classification with SVM is exactly the same as the Perceptron: positive margin is correct classification, negative is incorrect classification. Remember to use the correct dataset at the right step! (you did split the available data, right?)\n",
    "- You can make the next question easier by defining two Python functions instead of one: `train_svm(dset_1, c, ntries)` and `test_svm(params, dset_2)` (again, what are those `dset`s?).\n",
    "- You should not need many guesses to consistently get a decent margin here, try `ntries=100` and `c=1` as defaults, but feel free to play with them after you succeed once.\n",
    "- For your code to run, you need to debug. This is not a waste of time: if you do it well, it will save time by not having to hunt for difficult errors. The best way to debug is to visualize the progress of the training. Why don't you use the plot of _errors over iterations_ (for the best-so-far) that we first saw with the parameter guessing? If it goes down over time then it's working!"
   ]
  },
  {
   "cell_type": "code",
   "execution_count": 8,
   "metadata": {
    "ExecuteTime": {
     "end_time": "2024-05-04T15:56:04.394724Z",
     "start_time": "2024-05-04T15:56:02.634790Z"
    }
   },
   "outputs": [
    {
     "name": "stdout",
     "output_type": "stream",
     "text": [
      "Best parameters: `(array([-0.08591795, -0.65789626,  0.53554155,  0.64026354]), 0.10061408495961421)`\n",
      " Score: `2.8121614955392262`\n",
      "Number of misclassified points in the test set: 0\n"
     ]
    },
    {
     "data": {
      "image/png": "[encoded data removed]",
      "text/plain": [
       "<Figure size 576x432 with 1 Axes>"
      ]
     },
     "metadata": {},
     "output_type": "display_data"
    }
   ],
   "source": [
    "def train_svm(dataset, c=1, ntries=100):\n",
    "    min_score = np.Infinity\n",
    "    # Initialize the best parameters and the best number of misclassified points\n",
    "    best_params = None\n",
    "    best_scores = []\n",
    "    input_size = dataset.shape[1] - 1\n",
    "    guess_range = [-1, 1]\n",
    "    for ntry in range(ntries):\n",
    "        guess = (np.random.uniform(*guess_range, input_size), \n",
    "                 np.random.uniform(*guess_range))\n",
    "        score = objective_function(dataset, guess, c)\n",
    "        if score < min_score:\n",
    "            min_score = score\n",
    "            best_params = guess\n",
    "            best_scores.append(score)\n",
    "    print(f\"Best parameters: `{best_params}`\\n Score: `{best_scores[-1]}`\")\n",
    "    sns.lineplot(x=range(len(best_scores)), y=best_scores)\n",
    "    return best_params\n",
    "\n",
    "def test_svm(params, dataset):\n",
    "    misclassified_data = compute_margins(dataset, params) < 0\n",
    "    print(f\"Number of misclassified points in the test set: {misclassified_data.sum()}\")\n",
    "\n",
    "# Train the SVM\n",
    "svm_params = train_svm(train)\n",
    "test_svm(svm_params, test)\n"
   ]
  },
  {
   "cell_type": "markdown",
   "metadata": {},
   "source": [
    "#### 2.6 **[3pt]** Train another SVM, this time using only two features of the Iris dataset: `petal_length` and `petal_width`. Plot the decision boundary of the trained parameters, on top of a scatterplot of the (2D) test set.\n",
    "\n",
    "- You cannot plot higher-dimensional separation hyperplanes in 2D unless (a) they are perpendicular to the features you want to plot, or (b) you project the points parallel to the hyperplane. So if you want to plot you need to re-train for 2D data. If this is not clear, try to draw an example by hand using a 2D graph but 3D data.\n",
    "- Careful because starting next week I will resume calling it just \"the data\", and using the wrong dataset when evaluating the model (i.e. training set) will cause you to **fail** the question. Always train on the _training_ set, you can use cross-validation if you need statistically robust results on little data, you need the _validation_ set for tuning the hyperparameter, and you finally show the results on the _test_ set.\n",
    "- Start by generating the `train_2d` and `test_2d` datasets, we have already seen how in the past. Then try running your SVM train code.\n",
    "- Careful: if your implementation hardcoded the number of features, just go back and refactor your code to take the size from the data.\n",
    "- You are learning parameters `w` and `b`: remember that for plotting you should convert them to `m` and `q`, just another copy+paste.\n",
    "- Understand that you are not \"training\" the SVM as much as guessing one that is right. If you want to improve the margin to look nicer, try increasing the number of guesses.\n",
    "- Feel free to play with `C`. A value of `1.0` here still works, but many applications may need it as high as `1e5` or as low as `1e-5`. Keep it in mind for the next assignment (kernels)!"
   ]
  },
  {
   "cell_type": "code",
   "execution_count": 9,
   "metadata": {
    "ExecuteTime": {
     "end_time": "2024-05-04T15:56:16.422633Z",
     "start_time": "2024-05-04T15:56:04.395579Z"
    }
   },
   "outputs": [
    {
     "name": "stdout",
     "output_type": "stream",
     "text": [
      "Best parameters: `(array([0.11751457, 0.77422678]), -0.9430824326792449)`\n",
      " Score: `16.00147638750651`\n",
      "(array([0.11751457, 0.77422678]), -0.9430824326792449)\n"
     ]
    },
    {
     "data": {
      "image/png": "[encoded data removed]",
      "text/plain": [
       "<Figure size 576x432 with 1 Axes>"
      ]
     },
     "metadata": {},
     "output_type": "display_data"
    }
   ],
   "source": [
    "from sklearn.svm import SVC\n",
    "import matplotlib.pyplot as plt\n",
    "import seaborn as sns\n",
    "\n",
    "# Step 1: Select features\n",
    "train_2d = train.iloc[:, [2, 3, 4]] # Select the petal_length, petal_width, and species columns\n",
    "test_2d = test.iloc[:, [2, 3, 4]] # Select the petal_length, petal_width, and species columns\n",
    "\n",
    "# Step 2: Train the SVM\n",
    "svm_params_2d = train_svm(train_2d, c=1, ntries=1000)\n",
    "\n",
    "# print(svm_params_2d)\n",
    "\n",
    "# Step 3: Extract parameters\n",
    "#w = svm_params_2d[0][0]\n",
    "#b = svm_params_2d[0][1]\n",
    "\n",
    "#C_value = 1e5\n",
    "#svm = SVC(kernel='linear', C=C_value)\n",
    "#svm.fit(train_2d[['petal_length', 'petal_width']], train_2d['species'])\n",
    "#w = svm.coef_[0] when we use SVC\n",
    "#b = svm.intercept_[0] when we use SVC\n",
    "print(svm_params_2d)"
   ]
  },
  {
   "cell_type": "code",
   "execution_count": 10,
   "metadata": {
    "ExecuteTime": {
     "end_time": "2024-05-04T15:56:16.625732Z",
     "start_time": "2024-05-04T15:56:16.423528Z"
    },
    "scrolled": true
   },
   "outputs": [
    {
     "name": "stdout",
     "output_type": "stream",
     "text": [
      "m, q -0.15178313944025773 1.2180958547027674\n",
      "Boudary line: y = -0.15x + 1.22\n"
     ]
    },
    {
     "data": {
      "image/png": "[encoded data removed]",
      "text/plain": [
       "<Figure size 576x432 with 1 Axes>"
      ]
     },
     "metadata": {},
     "output_type": "display_data"
    }
   ],
   "source": [
    "def wb2mq(w, b):\n",
    "    assert len(w) == 2 # 2D data\n",
    "    assert np.all(w != 0) and b != 0 # Non-zero values\n",
    "    m = -w[0] / w[1]\n",
    "    q = -b / w[1]\n",
    "    return [m, q] # m and q\n",
    "\n",
    "def params2boundary(w, b):\n",
    "    m, q = wb2mq(w, b)\n",
    "    print(\"m, q\", m, q)\n",
    "    print(f\"Boudary line: y = {round(m, 2)}x + {round(q,2)}\")\n",
    "    return lambda x: m*x + q\n",
    "\n",
    "def plot_data():\n",
    "    sns.scatterplot(data=test_2d, x='petal_length', y='petal_width', hue='species', palette=sns.color_palette([\"darkred\", \"darkblue\"]))\n",
    "    \n",
    "def plot_model(model):\n",
    "    x_spaces = np.linspace(1,5)\n",
    "    sns.lineplot(x=x_spaces, y=model(x_spaces), color='black')\n",
    "    \n",
    "boundary = params2boundary(*svm_params_2d) # splat operator to unpack the tuple\n",
    "plot_data()\n",
    "plot_model(boundary)\n",
    " "
   ]
  },
  {
   "cell_type": "markdown",
   "metadata": {},
   "source": [
    "#### 2.7 **[2pt]** Classify the 2D dataset using the [scikit-learn implementation](https://scikit-learn.org/stable/modules/svm.html). Mandatory: (i) use the `LinearSVC` implementation (as we did not study kernels yet); (ii) use the same Loss function as in your hand-made implementation (should be easy enough to find), (iii) use a custom value of `C` that tends to ignore margin violations more than $1.0$, but without misclassifying data."
   ]
  },
  {
   "cell_type": "markdown",
   "metadata": {},
   "source": [
    "- SVC stands for \"Support Vector (Machine) Classifier\", while SVR uses the same trick for Regression (**do not** use it here).\n",
    "- Class `LinearSVC` underneath uses the `liblinear` library, which is highly optimized for linear SVMs. Class `SVC` on the other hand uses `libsvm`, which is more optimized for nonlinear SVMs using kernels. In some cases you may actually get better results on the default parameters with `SVC(kernel='linear')` than you do with `LinearSVC()`, but the latter has a more flexible parametrization (for linear boundaries only), so eventually you should have more room for improvement (you can use a validation set to search for better hyperparaters).\n",
    "- Remember that this question requires you to access the right datasets for training and test phases, and that you need to split the `x` and `y` as seen last week with NB (that's Naïve Bayes and yes next time you see NB that is what you should expect to mean). \n",
    "- You may be tempted to try passing a straight `0` to `C`. Many implementations give errors for `C=0`, but you can get around it by passing a good enough approximation :) remember you can use the scientific notation `1e-x` for decimals, but you really don't need it too small: with a low enough `C` you will start getting misclassified points! Give it a try: do you understand why this happens? (spoiler/hint: think about the English meaning of \"maximizing the _margin_ without restrictions\", how big a margin can you make if you wish to?)"
   ]
  },
  {
   "cell_type": "code",
   "execution_count": 11,
   "metadata": {
    "ExecuteTime": {
     "end_time": "2024-05-04T15:56:16.634737Z",
     "start_time": "2024-05-04T15:56:16.626609Z"
    }
   },
   "outputs": [
    {
     "name": "stdout",
     "output_type": "stream",
     "text": [
      "0\n"
     ]
    }
   ],
   "source": [
    "from sklearn.svm import LinearSVC\n",
    "\n",
    "X_train = train_2d.iloc[:, :-1] #  this means all columns except the last one\n",
    "y_train = train_2d.iloc[:, -1] #  this means only the last column\n",
    "\n",
    "X_test = test_2d.iloc[:, :-1] \n",
    "y_test = test_2d.iloc[:, -1]\n",
    "\n",
    "model = LinearSVC(loss='squared_hinge', C=0.1)\n",
    "trained = model.fit(X_train, y_train)\n",
    "\n",
    "y_pred = trained.predict(X_test)\n",
    "\n",
    "n_misclassified = (y_test != y_pred).sum()\n",
    "print(n_misclassified)"
   ]
  },
  {
   "cell_type": "markdown",
   "metadata": {},
   "source": [
    "#### 2.8 **[1pt]** Plot the decision boundary of the SVM over the dataset."
   ]
  },
  {
   "cell_type": "markdown",
   "metadata": {},
   "source": [
    "Think carefully and don't mess this up: _which dataset does the question refer to?_ Remember, from now on, we always split our initial data into (at least) two datasets, and all questions referring to learning the parameters use one of the two datasets, while all questions referring to showing the learned model performance should use the other."
   ]
  },
  {
   "cell_type": "code",
   "execution_count": 12,
   "metadata": {
    "ExecuteTime": {
     "end_time": "2024-05-04T15:56:16.847249Z",
     "start_time": "2024-05-04T15:56:16.635603Z"
    }
   },
   "outputs": [
    {
     "name": "stdout",
     "output_type": "stream",
     "text": [
      "m, q -0.6234934489586555 2.38251570986877\n",
      "Boudary line: y = -0.62x + 2.38\n"
     ]
    },
    {
     "data": {
      "image/png": "[encoded data removed]",
      "text/plain": [
       "<Figure size 576x432 with 1 Axes>"
      ]
     },
     "metadata": {},
     "output_type": "display_data"
    }
   ],
   "source": [
    "skl_params = [trained.coef_[0], trained.intercept_[0]] # this give us w and b for sckit learn\n",
    "skl_boundary = params2boundary(*skl_params) # the plat\n",
    "plot_data()\n",
    "plot_model(skl_boundary)"
   ]
  },
  {
   "cell_type": "markdown",
   "metadata": {},
   "source": [
    "# At the end of the exercise"
   ]
  },
  {
   "cell_type": "markdown",
   "metadata": {},
   "source": [
    "Bonus question with no points! Answering this will have no influence on your scoring, not at the assignment and not towards the exam score -- really feel free to ignore it with no consequence. But solving it will reward you with skills that will make the next lectures easier, give you real applications, and will be good practice towards the exam.\n",
    "\n",
    "The solution for this questions will not be included in the regular lab solutions pdf, but you are welcome to open a discussion on the Moodle: we will support your addressing it, and you may meet other students that choose to solve this, and find a teammate for the next assignment that is willing to do things for fun and not only for score :)"
   ]
  },
  {
   "cell_type": "markdown",
   "metadata": {},
   "source": [
    "#### BONUS **[ZERO pt]** Train an SVM on the full Iris dataset (3 classes) using `libsvm`, and print the number of misclassified points. Play with `C` and see how this changes."
   ]
  },
  {
   "cell_type": "code",
   "execution_count": 13,
   "metadata": {
    "ExecuteTime": {
     "end_time": "2024-05-04T15:56:16.880422Z",
     "start_time": "2024-05-04T15:56:16.848141Z"
    },
    "collapsed": false,
    "jupyter": {
     "outputs_hidden": false
    }
   },
   "outputs": [
    {
     "name": "stdout",
     "output_type": "stream",
     "text": [
      "0\n",
      "1.0\n"
     ]
    }
   ],
   "source": [
    "from sklearn import datasets\n",
    "from sklearn.model_selection import train_test_split\n",
    "from sklearn.metrics import accuracy_score\n",
    "from sklearn.svm import SVC\n",
    "\n",
    "iris = datasets.load_iris()\n",
    "X = iris.data\n",
    "y = iris.target\n",
    "\n",
    "X_train, X_test, y_train, y_test = train_test_split(X,y,random_state=42, test_size=0.2)\n",
    "model = SVC(C=0.1, kernel='linear')\n",
    "trained = model.fit(X_train,y_train)\n",
    "y_pred = trained.predict(X_test)\n",
    "\n",
    "n_misclassified = (y_test != y_pred).sum()\n",
    "accuracy = accuracy_score(y_test, y_pred)\n",
    "print(n_misclassified)\n",
    "print(accuracy)"
   ]
  },
  {
   "cell_type": "code",
   "execution_count": 26,
   "metadata": {
    "ExecuteTime": {
     "end_time": "2024-05-04T16:32:05.316310Z",
     "start_time": "2024-05-04T16:32:05.309627Z"
    },
    "collapsed": false,
    "jupyter": {
     "outputs_hidden": false
    }
   },
   "outputs": [],
   "source": [
    "def wb2mq(w, b):\n",
    "    assert len(w) == 2 # 2D data\n",
    "    assert np.all(w != 0) and b != 0 # Non-zero values\n",
    "    m = -w[0] / w[1]\n",
    "    q = -b / w[1]\n",
    "    return [m, q] # m and q\n",
    "\n",
    "\n",
    "def params2boundary(w, b):\n",
    "    m, q = wb2mq(w, b)\n",
    "    print(\"m, q\", m, q)\n",
    "    print(f\"Boudary line: y = {round(m, 2)}x + {round(q,2)}\")\n",
    "    return lambda x: m*x + q\n",
    "\n",
    "def plot_data():\n",
    "    sns.scatterplot(data=testing_2d, x='petal_length', y='petal_width', hue='species', palette=sns.color_palette([\"darkred\", \"darkblue\"]))\n",
    "\n",
    "def plot_model(model):\n",
    "    x_spaces = np.linspace(1,5)\n",
    "    sns.lineplot(x=x_spaces, y=model(x_spaces), color='black')\n",
    "\n",
    "#boundary = params2boundary(*svm_params_2d) # splat operator to unpack the tuple\n",
    "#plot_data()\n",
    "#plot_model(boundary)\n"
   ]
  },
  {
   "cell_type": "code",
   "execution_count": 27,
   "metadata": {
    "ExecuteTime": {
     "end_time": "2024-05-04T16:32:07.153231Z",
     "start_time": "2024-05-04T16:32:06.947239Z"
    },
    "collapsed": false,
    "jupyter": {
     "outputs_hidden": false
    }
   },
   "outputs": [
    {
     "name": "stdout",
     "output_type": "stream",
     "text": [
      "0\n",
      "m, q -2.454545454545454 7.5303029652797795\n",
      "Boudary line: y = -2.45x + 7.53\n"
     ]
    },
    {
     "data": {
      "image/png": "[encoded data removed]",
      "text/plain": [
       "<Figure size 576x432 with 1 Axes>"
      ]
     },
     "metadata": {},
     "output_type": "display_data"
    }
   ],
   "source": [
    "from sklearn import datasets\n",
    "from sklearn.model_selection import train_test_split\n",
    "from sklearn.metrics import accuracy_score\n",
    "from sklearn.svm import SVC\n",
    "import  numpy as np\n",
    "\n",
    "iris = datasets.load_iris()\n",
    "X = iris.data\n",
    "y = iris.target\n",
    "training_2d = train.iloc[:, [2, 3, 4]] # Select the petal_length, petal_width, and species columns\n",
    "testing_2d = test.iloc[:, [2, 3, 4]] # Select the petal_length, petal_width, and species columns\n",
    "\n",
    "X_train = training_2d.iloc[:, :-1] #  this means all columns except the last one\n",
    "y_train = training_2d.iloc[:, -1] #  this means only the last column\n",
    "\n",
    "X_test = testing_2d.iloc[:, :-1]\n",
    "y_test = testing_2d.iloc[:, -1]\n",
    "\n",
    "model = SVC(C=0.1, kernel='linear')\n",
    "trained = model.fit(X_train, y_train)\n",
    "\n",
    "y_pred = trained.predict(X_test)\n",
    " \n",
    "n_misclassified = (y_test != y_pred).sum()\n",
    "accuracy = accuracy_score(y_test, y_pred)\n",
    "print(n_misclassified)\n",
    "\n",
    "skl_params = [trained.coef_[0], trained.intercept_[0]] # this give us w and b for sckit learn\n",
    "skl_boundary = params2boundary(*skl_params) # the plat\n",
    "plot_data()\n",
    "plot_model(skl_boundary)\n"
   ]
  },
  {
   "cell_type": "code",
   "execution_count": null,
   "metadata": {
    "collapsed": false,
    "jupyter": {
     "outputs_hidden": false
    }
   },
   "outputs": [],
   "source": []
  },
  {
   "cell_type": "markdown",
   "metadata": {},
   "source": [
    "#### BONUS **[ZERO pt]** Train you hand-written SVM implementation using the [PEGASOS algorithm](https://github.com/ejlb/pegasos). Now you have a state-of-the-art implementation, congrats! It will actually run better than the scikit-learn `LinearSVM` and `SVC` implementations. Remember this when you need a quick ML result in the future, especially over large data, and performance matters!"
   ]
  },
  {
   "cell_type": "markdown",
   "metadata": {},
   "source": [
    "To install pegasos (or any other GitHub repository) just switch to a local environment (as shown in the last lecture), then run (from your assignments folder):\n",
    "```bash\n",
    "python3 -m pipenv install -e 'git+https://github.com/ejlb/pegasos.git#egg=pegasos'\n",
    "```\n",
    "Here is probably the most complete [guide to Pipenv](https://realpython.com/pipenv-guide). I do not expect a full read (I didn't myself); but if you need something from Pipenv, a quick search in that page will likely point you in the right direction.\n",
    "\n",
    "If you want to run on `colab`, this could be the right time for you to learn about using \"bang commands\" in Jupyter notebooks (\"bang\" being an exclamation mark `!`): they will be run in the shell that is running the Jupyter server. For example you can use `!pip install`. But as mentioned, this is just a hack as you have limited and blind control over your environment, and particularly it will give you problems as soon as you start collaborating with other people on other platforms (the solution is of course a local installation with Pipenv)."
   ]
  },
  {
   "cell_type": "markdown",
   "metadata": {},
   "source": [
    "### Final considerations"
   ]
  },
  {
   "cell_type": "markdown",
   "metadata": {},
   "source": [
    "- SVMs are optimal -- when applicable. In particular, if your data is bounded on all features, and you have enough samples from the whole range (so that new points in the test set are expected to be within the same range), then its performance are awesome. And if the data's underlying function is not overly complicated, you don't need an overly complicated model. In the real world and with real data, you are almost guaranteed to get to using a SVM for an application or another at some point in time.\n",
    "- Remember that easy problems can be often solved with parameter guessing; this also means that if you can solve a problem with parameter guessing, it is an easy problem :) much depends on the model though, with the right model guessing the parameters is efficient, with the wrong model both guessing and training performance drops.\n",
    "- The main limitation left at this point is handling non-linearities in the data. This is exactly the topic for the next lecture. Be ready as it is more math intensive than linear SVM, but you should have all the pieces now to grasp it completely in the next week."
   ]
  },
  {
   "cell_type": "markdown",
   "metadata": {
    "collapsed": false,
    "jupyter": {
     "outputs_hidden": false
    }
   },
   "source": [
    "### Personal notes"
   ]
  },
  {
   "cell_type": "code",
   "execution_count": 2,
   "metadata": {
    "ExecuteTime": {
     "end_time": "2024-05-04T21:16:15.648167Z",
     "start_time": "2024-05-04T21:16:15.489519Z"
    },
    "collapsed": false,
    "jupyter": {
     "outputs_hidden": false
    }
   },
   "outputs": [
    {
     "data": {
      "text/html": [
       "<style>#sk-container-id-1 {color: black;}#sk-container-id-1 pre{padding: 0;}#sk-container-id-1 div.sk-toggleable {background-color: white;}#sk-container-id-1 label.sk-toggleable__label {cursor: pointer;display: block;width: 100%;margin-bottom: 0;padding: 0.3em;box-sizing: border-box;text-align: center;}#sk-container-id-1 label.sk-toggleable__label-arrow:before {content: \"▸\";float: left;margin-right: 0.25em;color: #696969;}#sk-container-id-1 label.sk-toggleable__label-arrow:hover:before {color: black;}#sk-container-id-1 div.sk-estimator:hover label.sk-toggleable__label-arrow:before {color: black;}#sk-container-id-1 div.sk-toggleable__content {max-height: 0;max-width: 0;overflow: hidden;text-align: left;background-color: #f0f8ff;}#sk-container-id-1 div.sk-toggleable__content pre {margin: 0.2em;color: black;border-radius: 0.25em;background-color: #f0f8ff;}#sk-container-id-1 input.sk-toggleable__control:checked~div.sk-toggleable__content {max-height: 200px;max-width: 100%;overflow: auto;}#sk-container-id-1 input.sk-toggleable__control:checked~label.sk-toggleable__label-arrow:before {content: \"▾\";}#sk-container-id-1 div.sk-estimator input.sk-toggleable__control:checked~label.sk-toggleable__label {background-color: #d4ebff;}#sk-container-id-1 div.sk-label input.sk-toggleable__control:checked~label.sk-toggleable__label {background-color: #d4ebff;}#sk-container-id-1 input.sk-hidden--visually {border: 0;clip: rect(1px 1px 1px 1px);clip: rect(1px, 1px, 1px, 1px);height: 1px;margin: -1px;overflow: hidden;padding: 0;position: absolute;width: 1px;}#sk-container-id-1 div.sk-estimator {font-family: monospace;background-color: #f0f8ff;border: 1px dotted black;border-radius: 0.25em;box-sizing: border-box;margin-bottom: 0.5em;}#sk-container-id-1 div.sk-estimator:hover {background-color: #d4ebff;}#sk-container-id-1 div.sk-parallel-item::after {content: \"\";width: 100%;border-bottom: 1px solid gray;flex-grow: 1;}#sk-container-id-1 div.sk-label:hover label.sk-toggleable__label {background-color: #d4ebff;}#sk-container-id-1 div.sk-serial::before {content: \"\";position: absolute;border-left: 1px solid gray;box-sizing: border-box;top: 0;bottom: 0;left: 50%;z-index: 0;}#sk-container-id-1 div.sk-serial {display: flex;flex-direction: column;align-items: center;background-color: white;padding-right: 0.2em;padding-left: 0.2em;position: relative;}#sk-container-id-1 div.sk-item {position: relative;z-index: 1;}#sk-container-id-1 div.sk-parallel {display: flex;align-items: stretch;justify-content: center;background-color: white;position: relative;}#sk-container-id-1 div.sk-item::before, #sk-container-id-1 div.sk-parallel-item::before {content: \"\";position: absolute;border-left: 1px solid gray;box-sizing: border-box;top: 0;bottom: 0;left: 50%;z-index: -1;}#sk-container-id-1 div.sk-parallel-item {display: flex;flex-direction: column;z-index: 1;position: relative;background-color: white;}#sk-container-id-1 div.sk-parallel-item:first-child::after {align-self: flex-end;width: 50%;}#sk-container-id-1 div.sk-parallel-item:last-child::after {align-self: flex-start;width: 50%;}#sk-container-id-1 div.sk-parallel-item:only-child::after {width: 0;}#sk-container-id-1 div.sk-dashed-wrapped {border: 1px dashed gray;margin: 0 0.4em 0.5em 0.4em;box-sizing: border-box;padding-bottom: 0.4em;background-color: white;}#sk-container-id-1 div.sk-label label {font-family: monospace;font-weight: bold;display: inline-block;line-height: 1.2em;}#sk-container-id-1 div.sk-label-container {text-align: center;}#sk-container-id-1 div.sk-container {/* jupyter's `normalize.less` sets `[hidden] { display: none; }` but bootstrap.min.css set `[hidden] { display: none !important; }` so we also need the `!important` here to be able to override the default hidden behavior on the sphinx rendered scikit-learn.org. See: https://github.com/scikit-learn/scikit-learn/issues/21755 */display: inline-block !important;position: relative;}#sk-container-id-1 div.sk-text-repr-fallback {display: none;}</style><div id=\"sk-container-id-1\" class=\"sk-top-container\"><div class=\"sk-text-repr-fallback\"><pre>RandomForestClassifier(random_state=42)</pre><b>In a Jupyter environment, please rerun this cell to show the HTML representation or trust the notebook. <br />On GitHub, the HTML representation is unable to render, please try loading this page with nbviewer.org.</b></div><div class=\"sk-container\" hidden><div class=\"sk-item\"><div class=\"sk-estimator sk-toggleable\"><input class=\"sk-toggleable__control sk-hidden--visually\" id=\"sk-estimator-id-1\" type=\"checkbox\" checked><label for=\"sk-estimator-id-1\" class=\"sk-toggleable__label sk-toggleable__label-arrow\">RandomForestClassifier</label><div class=\"sk-toggleable__content\"><pre>RandomForestClassifier(random_state=42)</pre></div></div></div></div></div>"
      ],
      "text/plain": [
       "RandomForestClassifier(random_state=42)"
      ]
     },
     "execution_count": 2,
     "metadata": {},
     "output_type": "execute_result"
    }
   ],
   "source": [
    "from sklearn.datasets import load_iris\n",
    "from sklearn.model_selection import train_test_split\n",
    "from sklearn.ensemble import RandomForestClassifier\n",
    "\n",
    "# Chargement de l'ensemble de données Iris\n",
    "iris = load_iris()\n",
    "X = iris.data\n",
    "y = iris.target\n",
    "\n",
    "# Division des données en ensembles d'entraînement et de test\n",
    "X_train, X_test, y_train, y_test = train_test_split(X, y, test_size=0.2, random_state=42)\n",
    "\n",
    "# Entraînement du modèle de forêt aléatoire\n",
    "model = RandomForestClassifier(n_estimators=100, random_state=42)\n",
    "model.fit(X_train, y_train)"
   ]
  },
  {
   "cell_type": "code",
   "execution_count": 3,
   "metadata": {
    "ExecuteTime": {
     "end_time": "2024-05-04T21:16:41.715447Z",
     "start_time": "2024-05-04T21:16:41.690677Z"
    },
    "collapsed": false,
    "jupyter": {
     "outputs_hidden": false
    }
   },
   "outputs": [
    {
     "name": "stdout",
     "output_type": "stream",
     "text": [
      "Nombre de classifications incorrectes: 0\n"
     ]
    }
   ],
   "source": [
    "from sklearn.metrics import accuracy_score\n",
    "\n",
    "def count_misclassified(model, X_test, y_test):\n",
    "    \"\"\"\n",
    "    Compte le nombre de classifications incorrectes pour un modèle de classification.\n",
    "    \n",
    "    Args:\n",
    "        model (estimator): Le modèle entraîné.\n",
    "        X_test (array-like): Les caractéristiques des exemples de test.\n",
    "        y_test (array-like): Les étiquettes de classe réelles des exemples de test.\n",
    "    \n",
    "    Returns:\n",
    "        int: Le nombre de classifications incorrectes.\n",
    "    \"\"\"\n",
    "    # Faire des prédictions sur l'ensemble de test\n",
    "    y_pred = model.predict(X_test)\n",
    "\n",
    "    # Calculer le nombre de classifications incorrectes\n",
    "    misclassified = (y_test != y_pred).sum()\n",
    "\n",
    "    return misclassified\n",
    "\n",
    "# Exemple d'utilisation :\n",
    "misclassified = count_misclassified(model, X_test, y_test)\n",
    "print(f\"Nombre de classifications incorrectes: {misclassified}\")"
   ]
  },
  {
   "cell_type": "code",
   "execution_count": null,
   "metadata": {
    "collapsed": false,
    "jupyter": {
     "outputs_hidden": false
    }
   },
   "outputs": [],
   "source": []
  }
 ],
 "metadata": {
  "kernelspec": {
   "display_name": "Python 3 (ipykernel)",
   "language": "python",
   "name": "python3"
  },
  "language_info": {
   "codemirror_mode": {
    "name": "ipython",
    "version": 3
   },
   "file_extension": ".py",
   "mimetype": "text/x-python",
   "name": "python",
   "nbconvert_exporter": "python",
   "pygments_lexer": "ipython3",
   "version": "3.10.12"
  }
 },
 "nbformat": 4,
 "nbformat_minor": 4
}
