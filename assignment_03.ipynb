{
 "cells": [
  {
   "cell_type": "markdown",
   "metadata": {},
   "source": [
    "Please fill in your name and that of your teammate.\n",
    "\n",
    "You: **Ahonon Gobi Parfait**\n",
    "\n",
    "Teammate:"
   ]
  },
  {
   "cell_type": "markdown",
   "metadata": {},
   "source": [
    "# Introduction"
   ]
  },
  {
   "cell_type": "markdown",
   "metadata": {},
   "source": [
    "Welcome to the third lab. There is much to go through today so we will keep extra concepts to a minimum. There is no new library introduced at this lecture as we will keep using `numpy` for the heavy lifting, `scikit-learn` for the algorithms, and `seaborn` / `matplotlib` for plotting. Careful about reusing variable names in the notebook and computing cells out of order: frequent calls to `Kernel -> Restart and Run All` can save you from headaches.\n",
    "\n",
    "The assignment starts getting math-heavy. Here's a new tool to aid you with the debugging. Explicitly `import IPython` at the beginning of a notebook (or Python file) to have access to the computational Python kernel. You can then call `IPython.embed()` at an arbitrary place in your code (say, inside a loop) and it will pause the computation and drop you into an interactive console. You can then evaluate Python code in the context where it was called. Here is an example:\n",
    "\n",
    "```python\n",
    "import numpy as np\n",
    "for i in range(10):\n",
    "    guess = np.random.normal()\n",
    "    function_that_fails_because_of(guess, i)\n",
    "```\n",
    "\n",
    "Let's say your function fails for `i==9`, how would you find the error? Typically you may want to edit the code and print `guess` and `i` to see what is happening, but it is slow and passive. What if you want to try to pass `i+1` and see if that works? What if you want to try a few other random numbers with the same `i`? Enter `IPython.embed()`:\n",
    "\n",
    "```python\n",
    "import numpy as np\n",
    "import IPython\n",
    "for i in range(10):\n",
    "    guess = np.random.normal()\n",
    "    if i==9: IPython.embed()\n",
    "    function_that_fails_because_of(guess, i)\n",
    "```\n",
    "\n",
    "If you execute this code, the cell output will show an interactive console in your output cell. Here you can send commands to be interpreted by the Python kernel of the notebook. You could then try something like the following lines for example (one at a time):\n",
    "\n",
    "```python\n",
    "i #=> prints value of i\n",
    "guess  #=> prints value of guess\n",
    "function_that_fails_because_of(guess, i) #=> fails and shows you the error\n",
    "function_that_fails_because_of(guess, i+1) #=> change parameters: will it work?\n",
    "function_that_fails_because_of(guess, i-1) #=> what about this one?\n",
    "guess = np.random.normal() #=> overwrites the value of `guess` in the kernel\n",
    "function_that_fails_because_of(guess, i) #=> will this work this time?\n",
    "```\n",
    "\n",
    "As you can see you can test your code in the context of the function (or, here, loop), find the code that works, then you can go ahead and copy+paste in your actual code. If you need to exit the console and resume the computation (with whatever change you executed, as the kernel is the same) just type `exit()`.\n",
    "\n",
    "_Bonus:_ you can ask the kernel to drop you into a _debugger_ session every time you get an error. This can be tricky with Jupyter Notebooks, so use with caution, but can also be a lifesaver if you are willing to learn about [postmortem debugging](https://medium.com/instamojo-matters/become-a-pdb-power-user-e3fc4e2774b2). You do that by adding the following lines on top of your code (need to execute them only once):\n",
    "\n",
    "```python\n",
    "# DEBUG: uncaught exceptions drop you into ipdb for postmortem debugging\n",
    "import sys, IPython; sys.excepthook = IPython.core.ultratb.ColorTB(call_pdb=True)\n",
    "```\n",
    "\n",
    "After this line, if you encounter an error or uncaught exception in your code, rather than terminating you will be dropped in an `ipdb` (fancier version of `pdb`) console where you can interrogate the program about the conditions causing the crash.\n",
    "\n",
    "Good hunting!"
   ]
  },
  {
   "cell_type": "markdown",
   "metadata": {},
   "source": [
    "### How to pass the lab?"
   ]
  },
  {
   "cell_type": "markdown",
   "metadata": {},
   "source": [
    "Below you find the exercise questions. Each question awarding points is numbered and states the number of points like this: **[0pt]**. To answer a question, fill the cell below with your answer (markdown for text, code for implementation). Incorrect or incomplete answers are in principle worth 0 points: to assign partial reward is only up to teacher discretion. Over-complete answers do not award extra points (though they are appreciated and will be kept under consideration). Save your work frequently! (`ctrl+s`)\n",
    "\n",
    "**You need at least 22 points (out of 33 available) to pass** (66%)."
   ]
  },
  {
   "cell_type": "markdown",
   "metadata": {},
   "source": [
    "# 1. Fundamentals"
   ]
  },
  {
   "cell_type": "markdown",
   "metadata": {},
   "source": [
    "Let's make sure some of the core points are clear before addressing the specific algorithms.\n",
    "\n",
    "#### 1.1 **[1pt]** Write the equation of the Gaussian density. Use Latex inside the Markdown cell.\n",
    "\n",
    "I suggest you type it out rather than copy+paste from the Internet: the goal of this question is to _force_ you to read one term at a time, and understand which is clear to you and which is not.\n",
    "For example, the equation you will write here a norm, while our later applications of the formula do not, since we will actually be using the [Gaussian](https://en.wikipedia.org/wiki/Normal_distribution) Probability Density Function [(PDF)](https://en.wikipedia.org/wiki/Probability_density_function) equation instead. Do you understand why? Did you study this before?"
   ]
  },
  {
   "cell_type": "markdown",
   "metadata": {},
   "source": [
    "$$f(x,\\mu,\\sigma^2) = \\frac{1}{\\sqrt{2\\pi\\sigma^2}} e^{-\\frac{(x-\\mu)^2}{2\\sigma^2}}$$\n",
    "\n",
    "Where : \n",
    "x is the random variables\n",
    "$\\mu$ is the mean(average) of the distribution \n",
    "$\\sigma²$ is the variance of the distribution \n"
   ]
  },
  {
   "cell_type": "markdown",
   "source": [],
   "metadata": {
    "collapsed": false
   }
  },
  {
   "cell_type": "markdown",
   "metadata": {},
   "source": [
    "#### 1.2 **[1pt]** Explain why we maximize the log-likelihood rather than the likelihood. In particular, what is the advantage in using the $\\log$ rather than another operation?"
   ]
  },
  {
   "cell_type": "markdown",
   "source": [
    "R: Maximizing the log-likelihood rather than the likelihood is advantageous because it simplifies computations and helps avoid numerical underflow or overflow issues. The logarithm function compresses large ranges of values into a more manageable scale, making it easier to work with and compute gradients during optimization. "
   ],
   "metadata": {
    "collapsed": false
   }
  },
  {
   "cell_type": "markdown",
   "metadata": {},
   "source": []
  },
  {
   "cell_type": "markdown",
   "metadata": {},
   "source": [
    "#### 1.3 **[1pt]** Why the equation maximizing the log-likelihood of a Gaussian does not include the parameter $\\sigma$?"
   ]
  },
  {
   "cell_type": "markdown",
   "source": [
    "R: \n",
    "The equation maximizing the log-likelihood of a Gaussian does not include the parameter $\\sigma$ because it is a constant in the optimization problem. The log-likelihood function is maximized with respect to the parameters of the distribution, and $\\sigma$ is a parameter of the distribution, not a variable to be optimized."
   ],
   "metadata": {
    "collapsed": false
   }
  },
  {
   "cell_type": "markdown",
   "metadata": {},
   "source": []
  },
  {
   "cell_type": "markdown",
   "metadata": {},
   "source": [
    "#### 1.4 **[1pt]** Explain the meaning of i.i.d. (in English), using the simplest words you can."
   ]
  },
  {
   "cell_type": "markdown",
   "source": [
    "R: \n",
    "i.i.d. stands for independent and identically distributed. It means that the random variables in a sample are independent of each other and have the same probability distribution. In other words, the outcome of one random variable does not affect the outcome of another, and they all come from the same underlying distribution."
   ],
   "metadata": {
    "collapsed": false
   }
  },
  {
   "cell_type": "markdown",
   "metadata": {},
   "source": []
  },
  {
   "cell_type": "markdown",
   "metadata": {},
   "source": [
    "#### 1.5 **[2pt]** Write the equation of the Bayes' Rule (use Latex). Then write below how to read it in English."
   ]
  },
  {
   "cell_type": "markdown",
   "source": [
    "$$P(A|B) = \\frac{P(B|A) \\times P(A)}{P(B)}$$\n",
    "\n",
    "Reading: \n",
    "The probability of A given B is equal to the probability of B given A times the probability of A divided by the probability of B"
   ],
   "metadata": {
    "collapsed": false
   }
  },
  {
   "cell_type": "markdown",
   "metadata": {},
   "source": []
  },
  {
   "cell_type": "markdown",
   "metadata": {},
   "source": [
    "# 2. Linear Regression"
   ]
  },
  {
   "cell_type": "markdown",
   "metadata": {},
   "source": [
    "#### 2.1 **[2pt]** Explain the meaning of $y_i = \\langle w, x_i \\rangle + \\epsilon_i, \\;\\; \\epsilon \\sim \\mathcal{N}(0, \\sigma^2)$ (in English). Utilize the word 'prototype'."
   ]
  },
  {
   "cell_type": "markdown",
   "metadata": {},
   "source": [
    "R: This equation is a linear relationship between a dependant variables $y_i$ with an independant variables $x_i$ with an additional noise $\\epsilon_i$ . The termes prototypes refers to the ideal value or true values of the dependant variables $y_i$ for a sets of features values $x_i$\n"
   ]
  },
  {
   "cell_type": "markdown",
   "metadata": {},
   "source": [
    "Enough theory, let's get our hands in there. Since we are working with a regression task, let us generate some data from an underlying linear function with some noise.  \n",
    "_[think: the process below is (correct but) unnecessary convoluted: would you be able (yet) to simplify it? Always prefer simpler code!]_"
   ]
  },
  {
   "cell_type": "code",
   "execution_count": 1,
   "metadata": {
    "ExecuteTime": {
     "end_time": "2024-05-11T18:11:15.983428Z",
     "start_time": "2024-05-11T18:11:15.979963Z"
    }
   },
   "outputs": [],
   "source": [
    "import numpy as np\n",
    "trg_fn = lambda x: 2*x - 1 # hi I'm lambda, remember me?\n",
    "some_noise = lambda: np.random.normal(0,2) # Gaussian noise with mu=0, sigma=2\n",
    "# Below we add a 1 to every row as the bias (constant) input\n",
    "# Think about each part and discuss if you do not understand something yet!\n",
    "data = np.array([[x, 1, trg_fn(x) + some_noise()] for x in np.linspace(-10, 10, 50)])\n",
    "*x, y = data.transpose() # easier using splat and numpy: do you understand it?\n",
    "x = np.array(x).transpose() # back to *rows* with input features and bias input"
   ]
  },
  {
   "cell_type": "code",
   "outputs": [
    {
     "data": {
      "text/plain": "array([[-10.        ,   1.        , -24.36468401],\n       [ -9.59183673,   1.        , -22.16948332],\n       [ -9.18367347,   1.        , -18.85652928],\n       [ -8.7755102 ,   1.        , -16.3368373 ],\n       [ -8.36734694,   1.        , -20.30003493],\n       [ -7.95918367,   1.        , -19.89964272],\n       [ -7.55102041,   1.        , -15.7914934 ],\n       [ -7.14285714,   1.        , -14.28832421],\n       [ -6.73469388,   1.        , -14.56711322],\n       [ -6.32653061,   1.        , -15.94202678],\n       [ -5.91836735,   1.        ,  -8.72677808],\n       [ -5.51020408,   1.        , -14.59674765],\n       [ -5.10204082,   1.        ,  -9.0649233 ],\n       [ -4.69387755,   1.        , -11.07547004],\n       [ -4.28571429,   1.        ,  -8.62450323],\n       [ -3.87755102,   1.        ,  -9.76941755],\n       [ -3.46938776,   1.        ,  -6.98137792],\n       [ -3.06122449,   1.        ,  -5.85965821],\n       [ -2.65306122,   1.        ,  -5.62767308],\n       [ -2.24489796,   1.        ,  -0.76601154],\n       [ -1.83673469,   1.        ,  -9.18370832],\n       [ -1.42857143,   1.        ,  -6.06600586],\n       [ -1.02040816,   1.        ,  -4.14103544],\n       [ -0.6122449 ,   1.        ,  -3.72529943],\n       [ -0.20408163,   1.        ,  -2.91022778],\n       [  0.20408163,   1.        ,  -0.0504961 ],\n       [  0.6122449 ,   1.        ,  -0.93666081],\n       [  1.02040816,   1.        ,   0.13192977],\n       [  1.42857143,   1.        ,   0.98280437],\n       [  1.83673469,   1.        ,   1.98939193],\n       [  2.24489796,   1.        ,   5.80038533],\n       [  2.65306122,   1.        ,   2.76866971],\n       [  3.06122449,   1.        ,   3.65167199],\n       [  3.46938776,   1.        ,   8.17029799],\n       [  3.87755102,   1.        ,   8.86828119],\n       [  4.28571429,   1.        ,  11.00674654],\n       [  4.69387755,   1.        ,   4.7223243 ],\n       [  5.10204082,   1.        ,   8.94963616],\n       [  5.51020408,   1.        ,  12.91913501],\n       [  5.91836735,   1.        ,  10.24276023],\n       [  6.32653061,   1.        ,   9.87131626],\n       [  6.73469388,   1.        ,  12.13286824],\n       [  7.14285714,   1.        ,  12.84391629],\n       [  7.55102041,   1.        ,  16.1917698 ],\n       [  7.95918367,   1.        ,  15.7853869 ],\n       [  8.36734694,   1.        ,  15.41607672],\n       [  8.7755102 ,   1.        ,  15.03872696],\n       [  9.18367347,   1.        ,  17.42711299],\n       [  9.59183673,   1.        ,  16.70364788],\n       [ 10.        ,   1.        ,  20.18999774]])"
     },
     "execution_count": 2,
     "metadata": {},
     "output_type": "execute_result"
    }
   ],
   "source": [
    "# for my own puspose and to se clearly what is done!!!!!\n",
    "data"
   ],
   "metadata": {
    "collapsed": false,
    "ExecuteTime": {
     "end_time": "2024-05-11T18:11:16.012339Z",
     "start_time": "2024-05-11T18:11:16.007Z"
    }
   },
   "execution_count": 2
  },
  {
   "cell_type": "code",
   "outputs": [
    {
     "data": {
      "text/plain": "array([[-10.        ,  -9.59183673,  -9.18367347,  -8.7755102 ,\n         -8.36734694,  -7.95918367,  -7.55102041,  -7.14285714,\n         -6.73469388,  -6.32653061,  -5.91836735,  -5.51020408,\n         -5.10204082,  -4.69387755,  -4.28571429,  -3.87755102,\n         -3.46938776,  -3.06122449,  -2.65306122,  -2.24489796,\n         -1.83673469,  -1.42857143,  -1.02040816,  -0.6122449 ,\n         -0.20408163,   0.20408163,   0.6122449 ,   1.02040816,\n          1.42857143,   1.83673469,   2.24489796,   2.65306122,\n          3.06122449,   3.46938776,   3.87755102,   4.28571429,\n          4.69387755,   5.10204082,   5.51020408,   5.91836735,\n          6.32653061,   6.73469388,   7.14285714,   7.55102041,\n          7.95918367,   8.36734694,   8.7755102 ,   9.18367347,\n          9.59183673,  10.        ],\n       [  1.        ,   1.        ,   1.        ,   1.        ,\n          1.        ,   1.        ,   1.        ,   1.        ,\n          1.        ,   1.        ,   1.        ,   1.        ,\n          1.        ,   1.        ,   1.        ,   1.        ,\n          1.        ,   1.        ,   1.        ,   1.        ,\n          1.        ,   1.        ,   1.        ,   1.        ,\n          1.        ,   1.        ,   1.        ,   1.        ,\n          1.        ,   1.        ,   1.        ,   1.        ,\n          1.        ,   1.        ,   1.        ,   1.        ,\n          1.        ,   1.        ,   1.        ,   1.        ,\n          1.        ,   1.        ,   1.        ,   1.        ,\n          1.        ,   1.        ,   1.        ,   1.        ,\n          1.        ,   1.        ],\n       [-24.36468401, -22.16948332, -18.85652928, -16.3368373 ,\n        -20.30003493, -19.89964272, -15.7914934 , -14.28832421,\n        -14.56711322, -15.94202678,  -8.72677808, -14.59674765,\n         -9.0649233 , -11.07547004,  -8.62450323,  -9.76941755,\n         -6.98137792,  -5.85965821,  -5.62767308,  -0.76601154,\n         -9.18370832,  -6.06600586,  -4.14103544,  -3.72529943,\n         -2.91022778,  -0.0504961 ,  -0.93666081,   0.13192977,\n          0.98280437,   1.98939193,   5.80038533,   2.76866971,\n          3.65167199,   8.17029799,   8.86828119,  11.00674654,\n          4.7223243 ,   8.94963616,  12.91913501,  10.24276023,\n          9.87131626,  12.13286824,  12.84391629,  16.1917698 ,\n         15.7853869 ,  15.41607672,  15.03872696,  17.42711299,\n         16.70364788,  20.18999774]])"
     },
     "execution_count": 3,
     "metadata": {},
     "output_type": "execute_result"
    }
   ],
   "source": [
    "data.transpose()"
   ],
   "metadata": {
    "collapsed": false,
    "ExecuteTime": {
     "end_time": "2024-05-11T18:11:16.022935Z",
     "start_time": "2024-05-11T18:11:16.018528Z"
    }
   },
   "execution_count": 3
  },
  {
   "cell_type": "code",
   "outputs": [
    {
     "data": {
      "text/plain": "array([[-10.        ,   1.        ],\n       [ -9.59183673,   1.        ],\n       [ -9.18367347,   1.        ],\n       [ -8.7755102 ,   1.        ],\n       [ -8.36734694,   1.        ],\n       [ -7.95918367,   1.        ],\n       [ -7.55102041,   1.        ],\n       [ -7.14285714,   1.        ],\n       [ -6.73469388,   1.        ],\n       [ -6.32653061,   1.        ],\n       [ -5.91836735,   1.        ],\n       [ -5.51020408,   1.        ],\n       [ -5.10204082,   1.        ],\n       [ -4.69387755,   1.        ],\n       [ -4.28571429,   1.        ],\n       [ -3.87755102,   1.        ],\n       [ -3.46938776,   1.        ],\n       [ -3.06122449,   1.        ],\n       [ -2.65306122,   1.        ],\n       [ -2.24489796,   1.        ],\n       [ -1.83673469,   1.        ],\n       [ -1.42857143,   1.        ],\n       [ -1.02040816,   1.        ],\n       [ -0.6122449 ,   1.        ],\n       [ -0.20408163,   1.        ],\n       [  0.20408163,   1.        ],\n       [  0.6122449 ,   1.        ],\n       [  1.02040816,   1.        ],\n       [  1.42857143,   1.        ],\n       [  1.83673469,   1.        ],\n       [  2.24489796,   1.        ],\n       [  2.65306122,   1.        ],\n       [  3.06122449,   1.        ],\n       [  3.46938776,   1.        ],\n       [  3.87755102,   1.        ],\n       [  4.28571429,   1.        ],\n       [  4.69387755,   1.        ],\n       [  5.10204082,   1.        ],\n       [  5.51020408,   1.        ],\n       [  5.91836735,   1.        ],\n       [  6.32653061,   1.        ],\n       [  6.73469388,   1.        ],\n       [  7.14285714,   1.        ],\n       [  7.55102041,   1.        ],\n       [  7.95918367,   1.        ],\n       [  8.36734694,   1.        ],\n       [  8.7755102 ,   1.        ],\n       [  9.18367347,   1.        ],\n       [  9.59183673,   1.        ],\n       [ 10.        ,   1.        ]])"
     },
     "execution_count": 4,
     "metadata": {},
     "output_type": "execute_result"
    }
   ],
   "source": [
    "x"
   ],
   "metadata": {
    "collapsed": false,
    "ExecuteTime": {
     "end_time": "2024-05-11T18:11:16.034452Z",
     "start_time": "2024-05-11T18:11:16.030546Z"
    }
   },
   "execution_count": 4
  },
  {
   "cell_type": "markdown",
   "source": [],
   "metadata": {
    "collapsed": false
   }
  },
  {
   "cell_type": "markdown",
   "source": [],
   "metadata": {
    "collapsed": false
   }
  },
  {
   "cell_type": "markdown",
   "metadata": {},
   "source": [
    "#### 2.2 **[1pt]** Write a (Python) function that takes a data point in input and returns the squared error Loss. Test it by using a constant prediction model $y = 1$ and compute the Risk over all the data."
   ]
  },
  {
   "cell_type": "markdown",
   "source": [
    "here is the formular : $\\text{Squared Error Loss} = \\frac{1}{n} \\sum_{i=1}^{n} (y_i - \\hat{y}_i)²$"
   ],
   "metadata": {
    "collapsed": false
   }
  },
  {
   "cell_type": "code",
   "execution_count": 5,
   "metadata": {
    "ExecuteTime": {
     "end_time": "2024-05-11T18:11:16.071228Z",
     "start_time": "2024-05-11T18:11:16.068252Z"
    }
   },
   "outputs": [
    {
     "name": "stdout",
     "output_type": "stream",
     "text": [
      "Risk: 7619.399321740538\n"
     ]
    }
   ],
   "source": [
    "\n",
    "def square_loss(target, prediction):\n",
    "    return (target - prediction)**2\n",
    "\n",
    "sql_loss_risk = sum(square_loss(targ, 1) for targ in y)\n",
    "\n",
    "print(f\"Risk: {sql_loss_risk}\")\n",
    "    \n",
    "    "
   ]
  },
  {
   "cell_type": "code",
   "outputs": [
    {
     "name": "stdout",
     "output_type": "stream",
     "text": [
      "Risk: 152.38798643481076\n"
     ]
    }
   ],
   "source": [
    "# second method\n",
    "def squared_error_loss(data_point):\n",
    "    x = data_point[:-1]\n",
    "    y = data_point[-1]\n",
    "    prediction = 1\n",
    "    loss = (y - prediction)**2\n",
    "    return loss\n",
    "\n",
    "# Compute the squared error loss for each data point\n",
    "losses = [squared_error_loss(data_point) for data_point in data]\n",
    "# Compute the risk\n",
    "risk = np.mean(losses)\n",
    "print(f\"Risk: {risk}\")"
   ],
   "metadata": {
    "collapsed": false,
    "ExecuteTime": {
     "end_time": "2024-05-11T18:11:16.105979Z",
     "start_time": "2024-05-11T18:11:16.102058Z"
    }
   },
   "execution_count": 6
  },
  {
   "cell_type": "markdown",
   "metadata": {},
   "source": [
    "[IMPORTANT]: A few tips before we proceed:\n",
    "- Numpy's linear algebra library provides matrix inversion, but you should use instead the pseudo-inverse to cope with singular covariance matrices: `np.linalg.pinv()`\n",
    "- Numpy's array provides inner product with the function `dot()`\n",
    "- Typically `dot()` will find the right direction for one-dimensional arrays, which means that you should never need to transpose them\n",
    "- Using `dot()` with matrices instead *always* requires you to `transpose()` to the right orientation! Write the math and keep track of what you are doing.\n",
    "- Remember that matrix product is not commutative: `A.dot(B)` is NOT equal to `B.dot(A)`. Refresh also how `A.dot(B)` requires the number of columns of `A` to be the same as the number of rows of `B`, and the result will have the same number of rows of `A` and the number of columns of `B`.\n",
    "- Linear regression uses a closed-form solution, **not a loop**, and you will not use the implementation of the loss above in the rest of the assignment (because it is implicit in the algorithm's solution)."
   ]
  },
  {
   "cell_type": "markdown",
   "metadata": {},
   "source": [
    "#### 2.3 **[2pt]** Write a function that takes in input a list of data points and a list of labels, and returns the $w$ vector using the closed-form solution of Linear Regression. Test it on the data above and print the computed $w$."
   ]
  },
  {
   "cell_type": "markdown",
   "source": [
    "$$\\mathbf{w} = (\\mathbf{X}^\\intercal \\mathbf{X})^{-1} \\mathbf{X}^\\intercal \\mathbf{y}$$\n",
    "\n",
    "where: \n",
    "        \n",
    "w is the vector of model parameters, \n",
    "X is the feature matrix (each row represents an observation, each column a feature), \n",
    "and y is the vector of target values.\n"
   ],
   "metadata": {
    "collapsed": false
   }
  },
  {
   "cell_type": "code",
   "outputs": [
    {
     "name": "stdout",
     "output_type": "stream",
     "text": [
      "[ 2.03526837 -1.17634618]\n"
     ]
    }
   ],
   "source": [
    "def linear_regression(data_points, labels):\n",
    "    x = np.array([data_point[:-1] for data_point in data_points])\n",
    "    #y = np.array([data_point[-1] for data_point in data_points])\n",
    "    y = np.array(labels)\n",
    "    x_pseudo_inv = np.linalg.pinv(x)\n",
    "    w = x_pseudo_inv.dot(y)\n",
    "    return w\n",
    "\n",
    "w = linear_regression(data, y)\n",
    "print(w)\n"
   ],
   "metadata": {
    "collapsed": false,
    "ExecuteTime": {
     "end_time": "2024-05-11T18:11:16.181415Z",
     "start_time": "2024-05-11T18:11:16.177603Z"
    }
   },
   "execution_count": 7
  },
  {
   "cell_type": "code",
   "outputs": [
    {
     "name": "stdout",
     "output_type": "stream",
     "text": [
      "[ 2.03526837 -1.17634618]\n"
     ]
    }
   ],
   "source": [
    "# second method return np.linalg.pinv(x.transpose().dot(x)).dot(x.transpose()).dot(y)\n",
    "def lr_w(x,y): return np.linalg.pinv(x.transpose().dot(x)).dot(x.transpose()).dot(y)\n",
    "w = lr_w(x, y)\n",
    "print(w)\n"
   ],
   "metadata": {
    "collapsed": false,
    "ExecuteTime": {
     "end_time": "2024-05-11T18:11:16.209602Z",
     "start_time": "2024-05-11T18:11:16.206423Z"
    }
   },
   "execution_count": 8
  },
  {
   "cell_type": "markdown",
   "metadata": {},
   "source": [
    "#### 2.4 **[2pt]** Predict the labels for all points using your Linear Regression implementation and the `w` vector from the previous question. For each data point, print the triplet of  `(label, prediction, loss)`. Then compute and print the (squared error) Risk over the dataset."
   ]
  },
  {
   "cell_type": "code",
   "outputs": [
    {
     "name": "stdout",
     "output_type": "stream",
     "text": [
      "Data point 1: (label=-24.36468401062122, prediction=-21.529029928412353, loss=8.040934073947822)\n",
      "Data point 2: (label=-22.169483319249714, prediction=-20.698308142945372, loss=2.1643563993741126)\n",
      "Data point 3: (label=-18.85652928201743, prediction=-19.86758635747839, loss=1.0222364098396717)\n",
      "Data point 4: (label=-16.336837299133485, prediction=-19.036864572011403, loss=7.290147274284567)\n",
      "Data point 5: (label=-20.300034932035633, prediction=-18.206142786544422, loss=4.3843843169497845)\n",
      "Data point 6: (label=-19.899642717885932, prediction=-17.37542100107744, loss=6.371695275607604)\n",
      "Data point 7: (label=-15.79149340354406, prediction=-16.544699215610457, loss=0.5673189953306015)\n",
      "Data point 8: (label=-14.28832420840304, prediction=-15.713977430143476, loss=2.0324871086588856)\n",
      "Data point 9: (label=-14.567113223308244, prediction=-14.883255644676494, loss=0.09994603058858)\n",
      "Data point 10: (label=-15.94202678050926, prediction=-14.052533859209513, loss=3.57018349964185)\n",
      "Data point 11: (label=-8.726778083150517, prediction=-13.221812073742528, loss=20.20533057657754)\n",
      "Data point 12: (label=-14.596747648350087, prediction=-12.391090288275544, loss=4.864924390051002)\n",
      "Data point 13: (label=-9.064923304297402, prediction=-11.560368502808563, loss=6.2272467387724095)\n",
      "Data point 14: (label=-11.075470038243918, prediction=-10.72964671734158, loss=0.1195937692799207)\n",
      "Data point 15: (label=-8.624503228777394, prediction=-9.898924931874598, loss=1.6241506773251775)\n",
      "Data point 16: (label=-9.769417552481428, prediction=-9.068203146407614, loss=0.49170164328545285)\n",
      "Data point 17: (label=-6.9813779223804895, prediction=-8.237481360940631, loss=1.577795848362611)\n",
      "Data point 18: (label=-5.859658205310649, prediction=-7.40675957547365, loss=2.3935226495602357)\n",
      "Data point 19: (label=-5.627673079220223, prediction=-6.576037790006667, loss=0.899395624665055)\n",
      "Data point 20: (label=-0.766011543412155, prediction=-5.745316004539683, loss=24.793472916604504)\n",
      "Data point 21: (label=-9.18370832385057, prediction=-4.914594219072701, loss=18.225335239613347)\n",
      "Data point 22: (label=-6.066005860285388, prediction=-4.08387243360572, loss=3.9288529211608854)\n",
      "Data point 23: (label=-4.1410354405462675, prediction=-3.2531506481387336, loss=0.7883394045885697)\n",
      "Data point 24: (label=-3.7252994346210384, prediction=-2.4224288626717523, loss=1.69747172725146)\n",
      "Data point 25: (label=-2.9102277752124412, prediction=-1.5917070772047703, loss=1.7384968310746358)\n",
      "Data point 26: (label=-0.050496095183472756, prediction=-0.7609852917377886, loss=0.5047948984203973)\n",
      "Data point 27: (label=-0.9366608098339082, prediction=0.06973649372919333, loss=1.0128355326190814)\n",
      "Data point 28: (label=0.13192976588997796, prediction=0.9004582791961788, loss=0.5906360757646394)\n",
      "Data point 29: (label=0.9828043746557946, prediction=1.7311800646631605, loss=0.5600661733940011)\n",
      "Data point 30: (label=1.9893919307525552, prediction=2.561901850130142, loss=0.32776760778573105)\n",
      "Data point 31: (label=5.800385330752224, prediction=3.3926236355971273, loss=5.797316380656145)\n",
      "Data point 32: (label=2.7686697075042677, prediction=4.223345421064109, loss=2.1160814316208336)\n",
      "Data point 33: (label=3.651671992059751, prediction=5.054067206531091, loss=1.9667123375721147)\n",
      "Data point 34: (label=8.17029798667766, prediction=5.8847889919980725, loss=5.2235513647613)\n",
      "Data point 35: (label=8.868281189528533, prediction=6.715510777465054, loss=4.63442044705596)\n",
      "Data point 36: (label=11.006746536779996, prediction=7.54623256293204, loss=11.975156963196971)\n",
      "Data point 37: (label=4.722324295785597, prediction=8.376954348399021, loss=13.356320821465198)\n",
      "Data point 38: (label=8.94963616119313, prediction=9.207676133866004, loss=0.06658462749701752)\n",
      "Data point 39: (label=12.919135008514285, prediction=10.038397919332988, loss=8.29864617698473)\n",
      "Data point 40: (label=10.242760226238039, prediction=10.86911970479997, loss=0.3923261963843756)\n",
      "Data point 41: (label=9.871316261055275, prediction=11.699841490266953, loss=3.34350451386362)\n",
      "Data point 42: (label=12.13286824364379, prediction=12.530563275733934, loss=0.15816133854918102)\n",
      "Data point 43: (label=12.84391628914467, prediction=13.361285061200917, loss=0.26767044629898956)\n",
      "Data point 44: (label=16.19176979732592, prediction=14.192006846667898, loss=3.9990518588244863)\n",
      "Data point 45: (label=15.78538690419922, prediction=15.022728632134887, loss=0.5816476399481527)\n",
      "Data point 46: (label=15.416076723944578, prediction=15.853450417601868, loss=0.1912957479034216)\n",
      "Data point 47: (label=15.038726957898144, prediction=16.68417220306885, loss=2.707490054854889)\n",
      "Data point 48: (label=17.427112990997774, prediction=17.514893988535835, loss=0.007705503528777151)\n",
      "Data point 49: (label=16.703647880567814, prediction=18.345615774002816, loss=2.696058563071377)\n",
      "Data point 50: (label=20.18999774319236, prediction=19.176337559469797, loss=1.0275069680644624)\n",
      "Model: y = 2.0352683743941076x + -1.1763461844712795\n",
      "Risk: 3.938452600249643\n"
     ]
    }
   ],
   "source": [
    "# predictions for all data points using linear regression\n",
    "predictions  = np.dot(x, w)\n",
    "# squared error loss for each data point\n",
    "losses = (y - predictions)**2\n",
    "# risk\n",
    "risk = np.mean(losses)\n",
    "\n",
    "# Print the triplet (label, prediction, loss) for each data point\n",
    "for i in range(len(data)):\n",
    "    print(f\"Data point {i+1}: (label={y[i]}, prediction={predictions[i]}, loss={losses[i]})\")\n",
    "    \n",
    "# Print the equation of the model (m and q) must be close to 2 and -1\n",
    "print(f\"Model: y = {w[0]}x + {w[1]}\")\n",
    "\n",
    "    \n",
    "# Print the risk\n",
    "print(f\"Risk: {risk}\")\n"
   ],
   "metadata": {
    "collapsed": false,
    "ExecuteTime": {
     "end_time": "2024-05-11T18:11:16.275438Z",
     "start_time": "2024-05-11T18:11:16.267655Z"
    }
   },
   "execution_count": 9
  },
  {
   "cell_type": "code",
   "outputs": [
    {
     "name": "stdout",
     "output_type": "stream",
     "text": [
      "Triplets (label, prediction, loss): [(-24.36468401062122, -22, 5.59), (-22.169483319249714, -21, 1.37), (-18.85652928201743, -20, 1.31), (-16.336837299133485, -19, 7.09), (-20.300034932035633, -18, 5.29), (-19.899642717885932, -17, 8.41), (-15.79149340354406, -17, 1.46), (-14.28832420840304, -16, 2.93), (-14.567113223308244, -15, 0.19), (-15.94202678050926, -14, 3.77), (-8.726778083150517, -13, 18.26), (-14.596747648350087, -12, 6.74), (-9.064923304297402, -12, 8.61), (-11.075470038243918, -11, 0.01), (-8.624503228777394, -10, 1.89), (-9.769417552481428, -9, 0.59), (-6.9813779223804895, -8, 1.04), (-5.859658205310649, -7, 1.3), (-5.627673079220223, -7, 1.88), (-0.766011543412155, -6, 27.39), (-9.18370832385057, -5, 17.5), (-6.066005860285388, -4, 4.27), (-4.1410354405462675, -3, 1.3), (-3.7252994346210384, -2, 2.98), (-2.9102277752124412, -2, 0.83), (-0.050496095183472756, -1, 0.9), (-0.9366608098339082, 0, 0.88), (0.13192976588997796, 1, 0.75), (0.9828043746557946, 2, 1.03), (1.9893919307525552, 3, 1.02), (5.800385330752224, 3, 7.84), (2.7686697075042677, 4, 1.52), (3.651671992059751, 5, 1.82), (8.17029798667766, 6, 4.71), (8.868281189528533, 7, 3.49), (11.006746536779996, 8, 9.04), (4.722324295785597, 8, 10.74), (8.94963616119313, 9, 0.0), (12.919135008514285, 10, 8.52), (10.242760226238039, 11, 0.57), (9.871316261055275, 12, 4.53), (12.13286824364379, 13, 0.75), (12.84391628914467, 13, 0.02), (16.19176979732592, 14, 4.8), (15.78538690419922, 15, 0.62), (15.416076723944578, 16, 0.34), (15.038726957898144, 17, 3.85), (17.427112990997774, 18, 0.33), (16.703647880567814, 18, 1.68), (20.18999774319236, 19, 1.42)]\n",
      "Ris for trained predictor 'y = 2.0352683743941076x + -1.1763461844712795' using squared error loss: 203.1700000000001\n"
     ]
    }
   ],
   "source": [
    "# Second method \n",
    "predictions = list(map(round, x.dot(w.transpose())))\n",
    "# Predict pairs of (label, prediction, loss)\n",
    "pairs = list(zip(y, predictions))\n",
    "# Compute the risk\n",
    "losses = [round(square_loss(pr,tr),2)  for pr, tr in pairs]\n",
    "\n",
    "triplet = list(zip(y, predictions, losses))\n",
    "print(\"Triplets (label, prediction, loss):\", triplet)\n",
    "risk = sum(losses)\n",
    "print(f\"Ris for trained predictor 'y = {w[0]}x + {w[1]}' using squared error loss: {risk}\")\n"
   ],
   "metadata": {
    "collapsed": false,
    "ExecuteTime": {
     "end_time": "2024-05-11T18:11:16.308004Z",
     "start_time": "2024-05-11T18:11:16.303607Z"
    }
   },
   "execution_count": 10
  },
  {
   "cell_type": "markdown",
   "metadata": {},
   "source": [
    "Remember that you need to build the linear model (careful handling the bias), then you are doing _regression_ not *classification*, which means you are predicting the value $\\hat{y}$ based on your $x$. You should get back $m$ and $q$ close to $2$ and $-1$, and the risk roughly proportional to the square of the expected error multiplied by the number of points (or close below that).  \n",
    "_[think: what is the expected error? Do you understand why? You can generate the points and compute the risk multiple times to verify your hypothesis]_"
   ]
  },
  {
   "cell_type": "markdown",
   "metadata": {},
   "source": [
    "#### 2.5 **[2pt]** Plot the data and the model.\n",
    "\n",
    "You should be able to partially reuse the printing code from the last lab (particularly plot and params-to-boundary conversion), but feel free to customize it as you need.\n",
    "I will keep repeating this for a while more: careful with the bias!  \n",
    "(Think: you can plot the model's predictions very easily if you use linear algebra, do you understand what is `x.dot(w)`?)"
   ]
  },
  {
   "cell_type": "code",
   "outputs": [
    {
     "data": {
      "text/plain": "<Figure size 432x288 with 1 Axes>",
      "image/png": "[encoded data removed]"
     },
     "metadata": {},
     "output_type": "display_data"
    }
   ],
   "source": [
    "import matplotlib.pyplot as plt\n",
    "import seaborn as sns\n",
    "\n",
    "actual_x, _bias = x.transpose()\n",
    "\n",
    "def linear_regression_plot() : \n",
    "    sns.scatterplot(x=actual_x, y=y, s=100, label='Data points')\n",
    "    \n",
    "def linear_model_plot(w,color='darkred', linewidth=2, linestyle='--') : \n",
    "    sns.lineplot(x=actual_x, y=x.dot(w), color=color, linewidth=linewidth, label='Model')\n",
    "\n",
    "# Plot the data\n",
    "linear_regression_plot()\n",
    "# Plot the model    \n",
    "linear_model_plot(w)"
   ],
   "metadata": {
    "collapsed": false,
    "ExecuteTime": {
     "end_time": "2024-05-11T18:11:16.655861Z",
     "start_time": "2024-05-11T18:11:16.390561Z"
    }
   },
   "execution_count": 11
  },
  {
   "cell_type": "code",
   "outputs": [
    {
     "name": "stdout",
     "output_type": "stream",
     "text": [
      "m, q 1.730161071002138 -0.8500898912248863\n",
      "Boudary line: y = 1.73x + -0.85\n"
     ]
    },
    {
     "data": {
      "text/plain": "(50,)"
     },
     "execution_count": 12,
     "metadata": {},
     "output_type": "execute_result"
    },
    {
     "data": {
      "text/plain": "<Figure size 432x288 with 1 Axes>",
      "image/png": "[encoded data removed]"
     },
     "metadata": {},
     "output_type": "display_data"
    }
   ],
   "source": [
    "# second mthod with wb2mq and param2boundary\n",
    "\n",
    "def wb2mq(w, b):\n",
    "    assert len(w) == 2 # 2D data\n",
    "    assert np.all(w != 0) and b != 0 # Non-zero values\n",
    "    m = -w[0] / w[1]\n",
    "    q = -b / w[1]\n",
    "    return [m, q] # m and q\n",
    "\n",
    "def params2boundary(w, b):\n",
    "    m, q = wb2mq(w, b)\n",
    "    print(\"m, q\", m, q)\n",
    "    print(f\"Boudary line: y = {round(m, 2)}x + {round(q,2)}\")\n",
    "    return lambda x: m*x + q\n",
    "\n",
    "def plot_data():\n",
    "    sns.scatterplot(x=actual_x, y=y, s=100, label='Data points')\n",
    "\n",
    "def plot_model(model):\n",
    "    x_spaces = np.linspace(1,5)\n",
    "    sns.lineplot(x=x_spaces, y=model(x_spaces), color='red')\n",
    "\n",
    "\n",
    "b= -1\n",
    "boundary = params2boundary(w,b)\n",
    "plot_data()\n",
    "plot_model(boundary)\n",
    "\n",
    "actual_x.shape"
   ],
   "metadata": {
    "collapsed": false,
    "ExecuteTime": {
     "end_time": "2024-05-11T18:11:16.833474Z",
     "start_time": "2024-05-11T18:11:16.656948Z"
    }
   },
   "execution_count": 12
  },
  {
   "cell_type": "markdown",
   "metadata": {},
   "source": [
    "#### 2.6 **[2pt]** Find Linear Regression in scikit-learn and train a model on the data."
   ]
  },
  {
   "cell_type": "markdown",
   "metadata": {},
   "source": [
    "The input to the `fit()` function should be a matrix and a vector, so try forcing `actual_x` into a $n\\times 1$ matrix by using `actual_x.reshape((-1, 1))`. If you want to predict the outputs, you simply need to pass the same data matrix to the method `predict()`.  "
   ]
  },
  {
   "cell_type": "code",
   "execution_count": 13,
   "metadata": {
    "ExecuteTime": {
     "end_time": "2024-05-11T18:11:16.929238Z",
     "start_time": "2024-05-11T18:11:16.834262Z"
    }
   },
   "outputs": [
    {
     "name": "stdout",
     "output_type": "stream",
     "text": [
      "(50,)\n"
     ]
    }
   ],
   "source": [
    "from sklearn.linear_model import LinearRegression\n",
    "print(actual_x.shape)\n",
    "x_mat = actual_x.reshape((-1, 1)) # Reshape the input data to a matrix (n, 1) why? because it is a single feature\n",
    "trained = LinearRegression().fit(x_mat, y)\n",
    "predictions = trained.predict(x_mat)"
   ]
  },
  {
   "cell_type": "markdown",
   "metadata": {},
   "source": [
    "#### 2.7 **[1pt]** Plot in a single figure: (i) the data points as a scatterplot; (ii) the model you learned using your implementation of Linear Regression; (iii) the model you trained using the scikit-implementation."
   ]
  },
  {
   "cell_type": "markdown",
   "metadata": {},
   "source": [
    "Careful, it may be that you plot both but they are exactly the same, so they are superimposed and you only see one line. To verify this you can try plotting them with different colors and different thickness, or changing the linestyle (e.g. one normal line and one dashed line). A list of available linestyles can be found in the [matplotlib documentation](https://matplotlib.org/3.5.1/gallery/lines_bars_and_markers/linestyles.html).\n",
    "\n",
    "To get the parametrization of the sklearn implementation use the following:  \n",
    "`w_skl = [trained.coef_[0], trained.intercept_]`  \n",
    "Do you understand what this does? Can you see how this corresponds to what we did last week? In future assignments you will need to find the model parametrization by yourself!"
   ]
  },
  {
   "cell_type": "code",
   "execution_count": 14,
   "metadata": {
    "ExecuteTime": {
     "end_time": "2024-05-11T18:11:17.126961Z",
     "start_time": "2024-05-11T18:11:16.930528Z"
    }
   },
   "outputs": [
    {
     "data": {
      "text/plain": "<Figure size 432x288 with 1 Axes>",
      "image/png": "[encoded data removed]"
     },
     "metadata": {},
     "output_type": "display_data"
    }
   ],
   "source": [
    "w_skl = [trained.coef_[0], trained.intercept_]  # w_skl = [slope, intercept]\n",
    "# Plot the data\n",
    "linear_regression_plot()\n",
    "# Plot the model\n",
    "linear_model_plot(w, linewidth=5)\n",
    "# Plot the model from sklearn\n",
    "linear_model_plot(w_skl, color='gold', linewidth=2, linestyle='--')\n"
   ]
  },
  {
   "cell_type": "code",
   "outputs": [
    {
     "name": "stdout",
     "output_type": "stream",
     "text": [
      "m, q 1.7301610710021371 -1.0\n",
      "Boudary line: y = 1.73x + -1.0\n"
     ]
    },
    {
     "data": {
      "text/plain": "<Figure size 432x288 with 1 Axes>",
      "image/png": "[encoded data removed]"
     },
     "metadata": {},
     "output_type": "display_data"
    }
   ],
   "source": [
    "# second method\n",
    "def plot_data():\n",
    "    sns.scatterplot(x=actual_x, y=y, s=100, label='Data points')\n",
    "\n",
    "b = trained.intercept_\n",
    "w = trained.coef_\n",
    "skl_boundary = params2boundary(w_skl, b)\n",
    "plot_data()\n",
    "plot_model(skl_boundary)\n",
    "plot_model(boundary)"
   ],
   "metadata": {
    "collapsed": false,
    "ExecuteTime": {
     "end_time": "2024-05-11T18:11:17.312898Z",
     "start_time": "2024-05-11T18:11:17.127875Z"
    }
   },
   "execution_count": 15
  },
  {
   "cell_type": "markdown",
   "metadata": {},
   "source": [
    "# 3. Linear Discriminant Analysis"
   ]
  },
  {
   "cell_type": "markdown",
   "metadata": {},
   "source": [
    "We switch now into *binary classification*. Let's load the iris dataset once again for this exercise, and carefully selecting the data to have an easy binary classification problem (for now). Notice we are **not** using classes ${-1, +1}$ anymore, because we do not need to compute a Margin here."
   ]
  },
  {
   "cell_type": "code",
   "execution_count": 16,
   "metadata": {
    "ExecuteTime": {
     "end_time": "2024-05-11T18:11:17.338756Z",
     "start_time": "2024-05-11T18:11:17.313858Z"
    }
   },
   "outputs": [
    {
     "name": "stdout",
     "output_type": "stream",
     "text": [
      "Dimensions de x: (150, 2)\n",
      "Dimensions de x1: (150,)\n",
      "Dimensions de x2: (150,)\n",
      "[[5.1 1.4]\n",
      " [4.9 1.4]\n",
      " [4.7 1.3]\n",
      " [4.6 1.5]\n",
      " [5.  1.4]\n",
      " [5.4 1.7]\n",
      " [4.6 1.4]\n",
      " [5.  1.5]\n",
      " [4.4 1.4]\n",
      " [4.9 1.5]\n",
      " [5.4 1.5]\n",
      " [4.8 1.6]\n",
      " [4.8 1.4]\n",
      " [4.3 1.1]\n",
      " [5.8 1.2]\n",
      " [5.7 1.5]\n",
      " [5.4 1.3]\n",
      " [5.1 1.4]\n",
      " [5.7 1.7]\n",
      " [5.1 1.5]\n",
      " [5.4 1.7]\n",
      " [5.1 1.5]\n",
      " [4.6 1. ]\n",
      " [5.1 1.7]\n",
      " [4.8 1.9]\n",
      " [5.  1.6]\n",
      " [5.  1.6]\n",
      " [5.2 1.5]\n",
      " [5.2 1.4]\n",
      " [4.7 1.6]\n",
      " [4.8 1.6]\n",
      " [5.4 1.5]\n",
      " [5.2 1.5]\n",
      " [5.5 1.4]\n",
      " [4.9 1.5]\n",
      " [5.  1.2]\n",
      " [5.5 1.3]\n",
      " [4.9 1.4]\n",
      " [4.4 1.3]\n",
      " [5.1 1.5]\n",
      " [5.  1.3]\n",
      " [4.5 1.3]\n",
      " [4.4 1.3]\n",
      " [5.  1.6]\n",
      " [5.1 1.9]\n",
      " [4.8 1.4]\n",
      " [5.1 1.6]\n",
      " [4.6 1.4]\n",
      " [5.3 1.5]\n",
      " [5.  1.4]\n",
      " [7.  4.7]\n",
      " [6.4 4.5]\n",
      " [6.9 4.9]\n",
      " [5.5 4. ]\n",
      " [6.5 4.6]\n",
      " [5.7 4.5]\n",
      " [6.3 4.7]\n",
      " [4.9 3.3]\n",
      " [6.6 4.6]\n",
      " [5.2 3.9]\n",
      " [5.  3.5]\n",
      " [5.9 4.2]\n",
      " [6.  4. ]\n",
      " [6.1 4.7]\n",
      " [5.6 3.6]\n",
      " [6.7 4.4]\n",
      " [5.6 4.5]\n",
      " [5.8 4.1]\n",
      " [6.2 4.5]\n",
      " [5.6 3.9]\n",
      " [5.9 4.8]\n",
      " [6.1 4. ]\n",
      " [6.3 4.9]\n",
      " [6.1 4.7]\n",
      " [6.4 4.3]\n",
      " [6.6 4.4]\n",
      " [6.8 4.8]\n",
      " [6.7 5. ]\n",
      " [6.  4.5]\n",
      " [5.7 3.5]\n",
      " [5.5 3.8]\n",
      " [5.5 3.7]\n",
      " [5.8 3.9]\n",
      " [6.  5.1]\n",
      " [5.4 4.5]\n",
      " [6.  4.5]\n",
      " [6.7 4.7]\n",
      " [6.3 4.4]\n",
      " [5.6 4.1]\n",
      " [5.5 4. ]\n",
      " [5.5 4.4]\n",
      " [6.1 4.6]\n",
      " [5.8 4. ]\n",
      " [5.  3.3]\n",
      " [5.6 4.2]\n",
      " [5.7 4.2]\n",
      " [5.7 4.2]\n",
      " [6.2 4.3]\n",
      " [5.1 3. ]\n",
      " [5.7 4.1]\n",
      " [6.3 6. ]\n",
      " [5.8 5.1]\n",
      " [7.1 5.9]\n",
      " [6.3 5.6]\n",
      " [6.5 5.8]\n",
      " [7.6 6.6]\n",
      " [4.9 4.5]\n",
      " [7.3 6.3]\n",
      " [6.7 5.8]\n",
      " [7.2 6.1]\n",
      " [6.5 5.1]\n",
      " [6.4 5.3]\n",
      " [6.8 5.5]\n",
      " [5.7 5. ]\n",
      " [5.8 5.1]\n",
      " [6.4 5.3]\n",
      " [6.5 5.5]\n",
      " [7.7 6.7]\n",
      " [7.7 6.9]\n",
      " [6.  5. ]\n",
      " [6.9 5.7]\n",
      " [5.6 4.9]\n",
      " [7.7 6.7]\n",
      " [6.3 4.9]\n",
      " [6.7 5.7]\n",
      " [7.2 6. ]\n",
      " [6.2 4.8]\n",
      " [6.1 4.9]\n",
      " [6.4 5.6]\n",
      " [7.2 5.8]\n",
      " [7.4 6.1]\n",
      " [7.9 6.4]\n",
      " [6.4 5.6]\n",
      " [6.3 5.1]\n",
      " [6.1 5.6]\n",
      " [7.7 6.1]\n",
      " [6.3 5.6]\n",
      " [6.4 5.5]\n",
      " [6.  4.8]\n",
      " [6.9 5.4]\n",
      " [6.7 5.6]\n",
      " [6.9 5.1]\n",
      " [5.8 5.1]\n",
      " [6.8 5.9]\n",
      " [6.7 5.7]\n",
      " [6.7 5.2]\n",
      " [6.3 5. ]\n",
      " [6.5 5.2]\n",
      " [6.2 5.4]\n",
      " [5.9 5.1]]\n",
      "[2 2 2 2 2 2 2 2 2 2 2 2 2 2 2 2 2 2 2 2 2 2 2 2 2 2 2 2 2 2 2 2 2 2 2 2 2\n",
      " 2 2 2 2 2 2 2 2 2 2 2 2 2 1 1 1 1 1 1 1 1 1 1 1 1 1 1 1 1 1 1 1 1 1 1 1 1\n",
      " 1 1 1 1 1 1 1 1 1 1 1 1 1 1 1 1 1 1 1 1 1 1 1 1 1 1 1 1 1 1 1 1 1 1 1 1 1\n",
      " 1 1 1 1 1 1 1 1 1 1 1 1 1 1 1 1 1 1 1 1 1 1 1 1 1 1 1 1 1 1 1 1 1 1 1 1 1\n",
      " 1 1]\n"
     ]
    }
   ],
   "source": [
    "import numpy as np\n",
    "from sklearn.datasets import load_iris\n",
    "iris_x, iris_y = load_iris(return_X_y=True) # print these points to understand them!\n",
    "x1 = np.array([r[0] for r in iris_x]) # first feature\n",
    "x2 = np.array([r[2] for r in iris_x]) # third feature\n",
    "\n",
    "x = np.array([x1, x2]).transpose() # numpy gives us transpose() for free\n",
    "# Reduce the three classes into two for binary classification {1, 2}\n",
    "y = np.array([1 if y in [1,2] else 2 for y in iris_y])\n",
    "\n",
    "print(\"Dimensions de x:\", x.shape)\n",
    "print(\"Dimensions de x1:\", x1.shape)\n",
    "print(\"Dimensions de x2:\", x2.shape)\n",
    "\n",
    "print(x)\n",
    "print(y)\n"
   ]
  },
  {
   "cell_type": "markdown",
   "metadata": {},
   "source": [
    "To solve LDA we need to find the parametrization $\\theta_y=(\\mu_y, \\Sigma, \\pi_y)$. Since $\\mu$ and $\\pi$ are class-dependent, remember to first split the input data based on which class it belongs to."
   ]
  },
  {
   "cell_type": "markdown",
   "metadata": {},
   "source": [
    "#### 3.1 **[1pt]** Write a (Python) function that takes a dataset (inputs and labels) in input and returns a dictionary hashing each of the $m$ classes to the a list of the points belonging to that class. We will call this `partition` in the next questions."
   ]
  },
  {
   "cell_type": "markdown",
   "metadata": {},
   "source": [
    "Hint: the method `dict.get(<key>, <def>)` can be used to fetch values from a dictionary same as `dict[<key>]`, but when the key is not found it returns the second argument, which is the _default value_... what if you pass an empty list..."
   ]
  },
  {
   "cell_type": "code",
   "execution_count": 17,
   "metadata": {
    "ExecuteTime": {
     "end_time": "2024-05-11T18:11:17.354691Z",
     "start_time": "2024-05-11T18:11:17.339672Z"
    }
   },
   "outputs": [
    {
     "name": "stdout",
     "output_type": "stream",
     "text": [
      "{2: [array([5.1, 1.4]), array([4.9, 1.4]), array([4.7, 1.3]), array([4.6, 1.5]), array([5. , 1.4]), array([5.4, 1.7]), array([4.6, 1.4]), array([5. , 1.5]), array([4.4, 1.4]), array([4.9, 1.5]), array([5.4, 1.5]), array([4.8, 1.6]), array([4.8, 1.4]), array([4.3, 1.1]), array([5.8, 1.2]), array([5.7, 1.5]), array([5.4, 1.3]), array([5.1, 1.4]), array([5.7, 1.7]), array([5.1, 1.5]), array([5.4, 1.7]), array([5.1, 1.5]), array([4.6, 1. ]), array([5.1, 1.7]), array([4.8, 1.9]), array([5. , 1.6]), array([5. , 1.6]), array([5.2, 1.5]), array([5.2, 1.4]), array([4.7, 1.6]), array([4.8, 1.6]), array([5.4, 1.5]), array([5.2, 1.5]), array([5.5, 1.4]), array([4.9, 1.5]), array([5. , 1.2]), array([5.5, 1.3]), array([4.9, 1.4]), array([4.4, 1.3]), array([5.1, 1.5]), array([5. , 1.3]), array([4.5, 1.3]), array([4.4, 1.3]), array([5. , 1.6]), array([5.1, 1.9]), array([4.8, 1.4]), array([5.1, 1.6]), array([4.6, 1.4]), array([5.3, 1.5]), array([5. , 1.4])], 1: [array([7. , 4.7]), array([6.4, 4.5]), array([6.9, 4.9]), array([5.5, 4. ]), array([6.5, 4.6]), array([5.7, 4.5]), array([6.3, 4.7]), array([4.9, 3.3]), array([6.6, 4.6]), array([5.2, 3.9]), array([5. , 3.5]), array([5.9, 4.2]), array([6., 4.]), array([6.1, 4.7]), array([5.6, 3.6]), array([6.7, 4.4]), array([5.6, 4.5]), array([5.8, 4.1]), array([6.2, 4.5]), array([5.6, 3.9]), array([5.9, 4.8]), array([6.1, 4. ]), array([6.3, 4.9]), array([6.1, 4.7]), array([6.4, 4.3]), array([6.6, 4.4]), array([6.8, 4.8]), array([6.7, 5. ]), array([6. , 4.5]), array([5.7, 3.5]), array([5.5, 3.8]), array([5.5, 3.7]), array([5.8, 3.9]), array([6. , 5.1]), array([5.4, 4.5]), array([6. , 4.5]), array([6.7, 4.7]), array([6.3, 4.4]), array([5.6, 4.1]), array([5.5, 4. ]), array([5.5, 4.4]), array([6.1, 4.6]), array([5.8, 4. ]), array([5. , 3.3]), array([5.6, 4.2]), array([5.7, 4.2]), array([5.7, 4.2]), array([6.2, 4.3]), array([5.1, 3. ]), array([5.7, 4.1]), array([6.3, 6. ]), array([5.8, 5.1]), array([7.1, 5.9]), array([6.3, 5.6]), array([6.5, 5.8]), array([7.6, 6.6]), array([4.9, 4.5]), array([7.3, 6.3]), array([6.7, 5.8]), array([7.2, 6.1]), array([6.5, 5.1]), array([6.4, 5.3]), array([6.8, 5.5]), array([5.7, 5. ]), array([5.8, 5.1]), array([6.4, 5.3]), array([6.5, 5.5]), array([7.7, 6.7]), array([7.7, 6.9]), array([6., 5.]), array([6.9, 5.7]), array([5.6, 4.9]), array([7.7, 6.7]), array([6.3, 4.9]), array([6.7, 5.7]), array([7.2, 6. ]), array([6.2, 4.8]), array([6.1, 4.9]), array([6.4, 5.6]), array([7.2, 5.8]), array([7.4, 6.1]), array([7.9, 6.4]), array([6.4, 5.6]), array([6.3, 5.1]), array([6.1, 5.6]), array([7.7, 6.1]), array([6.3, 5.6]), array([6.4, 5.5]), array([6. , 4.8]), array([6.9, 5.4]), array([6.7, 5.6]), array([6.9, 5.1]), array([5.8, 5.1]), array([6.8, 5.9]), array([6.7, 5.7]), array([6.7, 5.2]), array([6.3, 5. ]), array([6.5, 5.2]), array([6.2, 5.4]), array([5.9, 5.1])]}\n"
     ]
    }
   ],
   "source": [
    "def partition_dataset(inputs, labels):\n",
    "    partition = {}\n",
    "    for data_point, label in zip(inputs,labels):\n",
    "        if label not in partition:\n",
    "            partition[label] = []\n",
    "        partition[label].append(data_point)\n",
    "    return partition\n",
    "\n",
    "partition = partition_dataset(x, y)\n",
    "print(partition)"
   ]
  },
  {
   "cell_type": "code",
   "outputs": [
    {
     "name": "stdout",
     "output_type": "stream",
     "text": [
      "{2: 0.3333333333333333, 1: 0.6666666666666666}\n"
     ]
    }
   ],
   "source": [
    "# Second method\n",
    "def partition_dataset_mapping(partition):\n",
    "    total_length = sum(len(data_points) for data_points in partition.values()) # Total number of data points. The mathematic formulas is: $\\sum_{y} n_y$\n",
    "    return {class_label: len(data_points)/total_length for class_label, data_points in partition.items()}\n",
    "pis = partition_dataset_mapping(partition)\n",
    "print(pis)"
   ],
   "metadata": {
    "collapsed": false,
    "ExecuteTime": {
     "end_time": "2024-05-11T18:11:17.358827Z",
     "start_time": "2024-05-11T18:11:17.355610Z"
    }
   },
   "execution_count": 18
  },
  {
   "cell_type": "code",
   "outputs": [
    {
     "name": "stdout",
     "output_type": "stream",
     "text": [
      "{2: 0.3333333333333333, 1: 0.6666666666666666}\n"
     ]
    }
   ],
   "source": [
    "# Third method\n",
    "def partition_dataset_pis(partition):\n",
    "    total_length = sum(map(len, partition.values()))\n",
    "    return {class_label: len(data_points)/total_length for class_label, data_points in partition.items()}\n",
    "pis = partition_dataset_pis(partition)\n",
    "print(pis)"
   ],
   "metadata": {
    "collapsed": false,
    "ExecuteTime": {
     "end_time": "2024-05-11T18:11:17.362524Z",
     "start_time": "2024-05-11T18:11:17.359604Z"
    }
   },
   "execution_count": 19
  },
  {
   "cell_type": "code",
   "outputs": [
    {
     "name": "stdout",
     "output_type": "stream",
     "text": [
      "{2: 0.3333333333333333, 1: 0.6666666666666666}\n"
     ]
    }
   ],
   "source": [
    "# Fourth method\n",
    "def calculer_proportions_partition(partition):\n",
    "    total = sum(len(data_points) for data_points in partition.values())\n",
    "    proportions = {}\n",
    "    for label, data_points in partition.items():\n",
    "        proportions[label] = len(data_points) / total\n",
    "    return proportions\n",
    "\n",
    "proportions_partition = calculer_proportions_partition(partition)\n",
    "\n",
    "print(proportions_partition)"
   ],
   "metadata": {
    "collapsed": false,
    "ExecuteTime": {
     "end_time": "2024-05-11T18:11:17.367292Z",
     "start_time": "2024-05-11T18:11:17.364196Z"
    }
   },
   "execution_count": 20
  },
  {
   "cell_type": "markdown",
   "metadata": {},
   "source": [
    "#### 3.2 **[1pt]** Write a function that takes the `partition` in input and returns a dictionary hashing each class to its corresponding prototype $\\mu_y$."
   ]
  },
  {
   "cell_type": "markdown",
   "metadata": {},
   "source": [
    "Hint: function `dict.items()` returns a list of pairs `(key, value)` from the dictionary.\n",
    "Then a _dictionary comprehension_ works same as a list comprehension, with a `for` loop that generates elements. Only this time you need to pass both a key and a value like this:\n",
    "```python\n",
    "d = { the_key: compute_value(a, b) for a, b in another_dict.items() }\n",
    "```\n",
    "If you can use that then the answer is basically one line. If it is complicated instead, write explicit `for` loops, which are exactly equivalent (and perhaps even more readable:\n",
    "```python\n",
    "d = {}\n",
    "for a, b in another_dict.items():\n",
    "    d[the_key] = compute_value(a, b)\n",
    "```\n",
    "Just find a style that is comfortable with you. May take a few weeks but you will get there."
   ]
  },
  {
   "cell_type": "code",
   "execution_count": 21,
   "metadata": {
    "ExecuteTime": {
     "end_time": "2024-05-11T18:11:17.371422Z",
     "start_time": "2024-05-11T18:11:17.368110Z"
    }
   },
   "outputs": [
    {
     "name": "stdout",
     "output_type": "stream",
     "text": [
      "{2: array([5.006, 1.462]), 1: array([6.262, 4.906])}\n"
     ]
    }
   ],
   "source": [
    "def prototype(partition):\n",
    "    prototypes = {}\n",
    "    for class_label, data_points in partition.items():\n",
    "        prototypes[class_label] = np.mean(data_points, axis=0)\n",
    "    return prototypes\n",
    "\n",
    "prototypes = prototype(partition)\n",
    "print(prototypes)"
   ]
  },
  {
   "cell_type": "markdown",
   "metadata": {},
   "source": [
    "#### 3.3 **[1pt]** Write a function that takes the `partition` in input and returns a dictionary hashing each class to its corresponding prior $\\pi_y$."
   ]
  },
  {
   "cell_type": "code",
   "execution_count": 22,
   "metadata": {
    "ExecuteTime": {
     "end_time": "2024-05-11T18:11:17.375571Z",
     "start_time": "2024-05-11T18:11:17.372264Z"
    }
   },
   "outputs": [
    {
     "name": "stdout",
     "output_type": "stream",
     "text": [
      "{2: 0.3333333333333333, 1: 0.6666666666666666}\n"
     ]
    }
   ],
   "source": [
    "def prior(partition):\n",
    "    prior = {}\n",
    "    total_count = sum(len(point) for point in partition.values())\n",
    "    for class_label, data_points in partition.items():\n",
    "        prior[class_label] = len(data_points)/total_count\n",
    "    return prior\n",
    "\n",
    "prior = prior(partition)\n",
    "print(prior)"
   ]
  },
  {
   "cell_type": "markdown",
   "metadata": {},
   "source": [
    "#### 3.4 **[4pt]** Write a function that takes the `partition` in input and the class-wise center estimates (the means from above) and returns the corresponding $\\Sigma$ (one for all classes and all inputs).\n",
    "You may need to use `np.concatenate()` to join the $x_i - \\hat{\\mu}_{y_i}$ from each class. Print the `array.shape` (property not method so no `()`) to verify if your linear algebra is on point so far: the covariance matrix between all inputs should have as many rows (and columns) as the number of features (hint: that's 2). Example: `assert sigma.shape == (2,2)` should not raise an error."
   ]
  },
  {
   "cell_type": "markdown",
   "source": [
    " $$\\sigma = (X - \\mu)^T * (X - \\mu) / n$$ \n",
    " Own purpose"
   ],
   "metadata": {
    "collapsed": false
   }
  },
  {
   "cell_type": "code",
   "execution_count": 23,
   "metadata": {
    "ExecuteTime": {
     "end_time": "2024-05-11T18:11:17.380781Z",
     "start_time": "2024-05-11T18:11:17.376535Z"
    }
   },
   "outputs": [
    {
     "name": "stdout",
     "output_type": "stream",
     "text": [
      "[[0.33055867 0.30456133]\n",
      " [0.30456133 0.45969467]]\n"
     ]
    }
   ],
   "source": [
    "def corresponding_sum(partition,means):\n",
    "    diffs = []\n",
    "    for class_label, data_points in partition.items():\n",
    "        diffs.extend([data_point - means[class_label] for data_point in data_points])\n",
    "    # Convert the list of differences to a NumPy array\n",
    "    diffs = np.array(diffs)\n",
    "    # covarience\n",
    "    sigma = np.dot(diffs.T, diffs) / len(diffs)\n",
    "    return sigma\n",
    "# Test\n",
    "sigma = corresponding_sum(partition,prototypes)\n",
    "print(sigma)\n",
    "#assert sigma.shape == (2,2)\n",
    "    "
   ]
  },
  {
   "cell_type": "code",
   "outputs": [
    {
     "name": "stdout",
     "output_type": "stream",
     "text": [
      "[[0.33277718 0.30660537]\n",
      " [0.30660537 0.46277987]]\n"
     ]
    }
   ],
   "source": [
    "# Second method\n",
    "\n",
    "def corresponding_sigma(partition, means):\n",
    "    diffs = np.concatenate([data_points - means[class_label] for class_label, data_points in partition.items()])\n",
    "    # Covariance matrix estimation\n",
    "    sigma = np.dot(diffs.T, diffs) / (len(diffs) - 1)\n",
    "    return sigma\n",
    "\n",
    "# Test\n",
    "sigma = corresponding_sigma(partition, prototypes)\n",
    "print(sigma)\n"
   ],
   "metadata": {
    "collapsed": false,
    "ExecuteTime": {
     "end_time": "2024-05-11T18:11:17.385372Z",
     "start_time": "2024-05-11T18:11:17.381701Z"
    }
   },
   "execution_count": 24
  },
  {
   "cell_type": "markdown",
   "metadata": {},
   "source": [
    "#### 3.5 **[5pt]** Write the function for the decision boundary of LDA $f(x)$."
   ]
  },
  {
   "cell_type": "markdown",
   "metadata": {},
   "source": [
    "You can find the logarithm in the `math` module: `from math import log` then just `l = log(a)`. You need to implement the equations for $w$ and $q$ from the slides: this cell will be very math heavy, be careful though and you should be able to get it right in few lines. Remember to check for the shape of $w$ and $b$ to verify if your matrix products are computed the right way. You want $w$ to be of length 2, and $b$ is a scalar."
   ]
  },
  {
   "cell_type": "markdown",
   "source": [
    "firt let us write the equation of the decision boundary\n",
    "$$f(x) = w^T x + b$$\n",
    "where:\n",
    "- $w$ is the weight vector\n",
    "- $x$ is the input vector\n",
    "- $b$ is the bias\n",
    "\n",
    "To solve this problem. We will use the following steps:\n",
    "\n",
    "1. Calculate w\n",
    "w = $\\Sigma^{-1}(\\mu_1 - \\mu_2)$\n",
    "2. Calculate b\n",
    "b = $-\\frac{1}{2} (\\mu_1^T \\Sigma^{-1} \\mu_1 - \\mu_2^T \\Sigma^{-1} \\mu_2) + \\ln \\left( \\frac{P(\\omega_2)}{P(\\omega_1)} \\right)$\n",
    "\n"
   ],
   "metadata": {
    "collapsed": false
   }
  },
  {
   "cell_type": "code",
   "outputs": [
    {
     "name": "stdout",
     "output_type": "stream",
     "text": [
      "w:  [-7.91218649 12.68404115]\n",
      "b:  3.4981245066483826\n"
     ]
    },
    {
     "data": {
      "text/plain": "20.954020311595094"
     },
     "execution_count": 25,
     "metadata": {},
     "output_type": "execute_result"
    }
   ],
   "source": [
    "from math import log\n",
    "def calculate_decision_boundary(x,partition,prototypes,sigma):\n",
    "    w = np.dot(np.linalg.inv(sigma), (prototypes[1] - prototypes[2]))\n",
    "    b = -0.5 * (np.dot(np.dot(prototypes[1].T, np.linalg.inv(sigma)), prototypes[1]) - np.dot(np.dot(prototypes[2].T, np.linalg.inv(sigma)), prototypes[2])) + log(prior[2]/prior[1])\n",
    "    print(\"w: \", w)\n",
    "    print(\"b: \", b)\n",
    "    return np.dot(w.T, x) + b\n",
    "\n",
    "# Test\n",
    "# x = np.array([1, 2])\n",
    "calculate_decision_boundary(np.array([1, 2]),partition,prototypes,sigma)"
   ],
   "metadata": {
    "collapsed": false,
    "ExecuteTime": {
     "end_time": "2024-05-11T18:11:17.393129Z",
     "start_time": "2024-05-11T18:11:17.386481Z"
    }
   },
   "execution_count": 25
  },
  {
   "cell_type": "code",
   "outputs": [
    {
     "name": "stdout",
     "output_type": "stream",
     "text": [
      "Equation of the decision boundary: y = -7.91x1 + 12.68x2 + 3.50\n"
     ]
    }
   ],
   "source": [
    "from math import log\n",
    "\n",
    "def calculate_decision_boundary(x, partition, prototypes, sigma):\n",
    "    w = np.dot(np.linalg.inv(sigma), (prototypes[1] - prototypes[2]))\n",
    "    b = -0.5 * (np.dot(np.dot(prototypes[1].T, np.linalg.inv(sigma)), prototypes[1]) - np.dot(np.dot(prototypes[2].T, np.linalg.inv(sigma)), prototypes[2])) + log(prior[2] / prior[1])\n",
    "    return w, b\n",
    "\n",
    "# Test\n",
    "#x = np.array([1, 2])\n",
    "w, b = calculate_decision_boundary(np.array([1, 2]), partition, prototypes, sigma)\n",
    "print(\"Equation of the decision boundary: y = {:.2f}x1 + {:.2f}x2 + {:.2f}\".format(w[0], w[1], b))\n"
   ],
   "metadata": {
    "collapsed": false,
    "ExecuteTime": {
     "end_time": "2024-05-11T18:11:17.398686Z",
     "start_time": "2024-05-11T18:11:17.393868Z"
    }
   },
   "execution_count": 26
  },
  {
   "cell_type": "code",
   "outputs": [],
   "source": [],
   "metadata": {
    "collapsed": false,
    "ExecuteTime": {
     "end_time": "2024-05-11T18:11:17.401091Z",
     "start_time": "2024-05-11T18:11:17.399598Z"
    }
   },
   "execution_count": 26
  },
  {
   "cell_type": "markdown",
   "source": [],
   "metadata": {
    "collapsed": false
   }
  },
  {
   "cell_type": "markdown",
   "metadata": {},
   "source": [
    "#### 3.6 **[2pt]** Plot the LDA decision boundary on top of the data."
   ]
  },
  {
   "cell_type": "markdown",
   "metadata": {},
   "source": [
    "    - Notice that we are using different data from the Linear Regression questions above, and that our model now generated $w$ and $b$ separately, so you **need** to adapt the plotting functions -- actually it's quicker to just rewrite them.\n",
    "- Plotting is one of few applications where generalizing your code just makes for a stunted replica of the original (better) interface, so specialize when needed but for different applications just write a new one rather than reusing your code.\n",
    "- Remember that we already had a good plotting function for a classification problem just last week, why don't you check it out again?\n",
    "- Finally, remember that you already have code that converts a parametrization from $w$ and $b$ to $m$ and $q$ (last assignment), you can simply copy+paste it here to simplify your generation of the model's points."
   ]
  },
  {
   "cell_type": "code",
   "outputs": [
    {
     "name": "stdout",
     "output_type": "stream",
     "text": [
      "Equation of the decision boundary: y = 0.62x + -0.28\n"
     ]
    },
    {
     "data": {
      "text/plain": "<Figure size 432x288 with 1 Axes>",
      "image/png": "[encoded data removed]"
     },
     "metadata": {},
     "output_type": "display_data"
    }
   ],
   "source": [
    "def wb2mq(w, b):\n",
    "    assert len(w) == 2 # w is a vector of length 2. if not, it will raise an error\n",
    "    assert w[0] != 0 # w[0] should not be zero. if it is, it will raise an error\n",
    "    assert w[1] != 0 # w[1] should not be zero. if it is, it will raise an error\n",
    "    assert b != 0 # b should not be zero. if it is, it will raise an error\n",
    "    m = -w[0] / w[1]\n",
    "    q = -b / w[1]\n",
    "    return m, q\n",
    "\n",
    "def param2boundary(w, b):\n",
    "    m, q = wb2mq(w, b)\n",
    "    print(\"Equation of the decision boundary: y = {:.2f}x + {:.2f}\".format(m, q))\n",
    "    return lambda x: m*x + q\n",
    "\n",
    "def lda_data_plot():\n",
    "    sns.scatterplot(x=x1, y=x2, hue=y, palette=sns.color_palette(['blue', 'red']), s=100)\n",
    "    \n",
    "def lda_model_plot(w, b, color='black'): \n",
    "    model = param2boundary(w, b)\n",
    "    model_points = [model(inp) for inp in x1]\n",
    "    sns.lineplot(x=x1, y=model_points, color=color, linewidth=2, label='Decision Boundary')\n",
    "    \n",
    "# Plot the data\n",
    "lda_data_plot()\n",
    "# Plot the decision boundary\n",
    "lda_model_plot(w, b)\n"
   ],
   "metadata": {
    "collapsed": false,
    "ExecuteTime": {
     "end_time": "2024-05-11T18:11:18.047986Z",
     "start_time": "2024-05-11T18:11:17.401849Z"
    }
   },
   "execution_count": 27
  },
  {
   "cell_type": "markdown",
   "source": [
    "#### 3.7 **[1pt]** Find LDA on scikit-learn; train a model on the data and add it to the print above (data + model from your implementation)."
   ],
   "metadata": {
    "collapsed": false
   }
  },
  {
   "cell_type": "markdown",
   "metadata": {},
   "source": [
    "You ned to pass the correct `solver` parameter to the sklearn constructor, check the documentation to understand what I mean. If you do not the result should still look exactly the same as your implementation (because the data is linearly separable), but you should be aware of which technique your library uses and we have not gotten to SVD yet.  \n",
    "Remember to make sure that you can distinguish the two boundaries even if they overlap (e.g. use different colors). If you use our conversions from last exercise you should also see the printed values of $m$ and $q$ and they are likely to differ in the least significant digits even though the graph looks the same.  \n",
    "Also consider that LDA is a **multiclass method**, and so its parametrization is in principle a list for the many boundaries: you need to access the coefficients of the _first_ (and here, only) boundary using `[trained_model.coef_[0], trained_model.intercept_[0]]`."
   ]
  },
  {
   "cell_type": "code",
   "outputs": [
    {
     "name": "stdout",
     "output_type": "stream",
     "text": [
      " X shape: (150, 2) y shape: (150,)\n",
      "Equation of the decision boundary: y = 0.62x + -0.39\n",
      "Equation of the decision boundary: y = 0.62x + -0.28\n"
     ]
    },
    {
     "data": {
      "text/plain": "<Figure size 432x288 with 1 Axes>",
      "image/png": "[encoded data removed]"
     },
     "metadata": {},
     "output_type": "display_data"
    }
   ],
   "source": [
    "from sklearn.discriminant_analysis import LinearDiscriminantAnalysis\n",
    "print(f\" X shape: {x.shape} y shape: {y.shape}\")\n",
    "trained = LinearDiscriminantAnalysis(solver='svd').fit(x, y)\n",
    "w_skl = [trained.coef_[0], trained.intercept_[0]]\n",
    "# Plot the data\n",
    "lda_data_plot()\n",
    "# Plot the decision boundary\n",
    "lda_model_plot(w_skl[0], w_skl[1], color='darkgreen')\n",
    "lda_model_plot(w, b, color='black')\n"
   ],
   "metadata": {
    "collapsed": false,
    "ExecuteTime": {
     "end_time": "2024-05-11T18:11:19.146325Z",
     "start_time": "2024-05-11T18:11:18.048775Z"
    }
   },
   "execution_count": 28
  },
  {
   "cell_type": "markdown",
   "metadata": {},
   "source": [
    "## At the end of the exercise"
   ]
  },
  {
   "cell_type": "markdown",
   "metadata": {},
   "source": [
    "Bonus question reward no points! Answering this will have no influence on your scoring, not at the assignment and not towards the exam score. But solving it will reward you with skills that will make the next lectures easier, give you real applications, and will be very good practice towards the exam.\n",
    "\n",
    "The solution for this questions will not be included in the regular lab solutions pdf, but you are welcome to open a discussion on the Moodle: we will support your addressing it, and you may meet other students that choose to solve this, and find a teammate for the next assignment that is willing to do things for fun and not only for score :)"
   ]
  },
  {
   "cell_type": "markdown",
   "metadata": {},
   "source": [
    "Let's see some multiclass classification. Copy the code loading the Iris dataset, you want to extract the same features (so you can plot in 2D), but keep the three classes.  \n",
    "_[think: does it matter what label does each class have? Could you use strings such as `['a', 'b', 'c']`?]_  \n",
    "Then run the scikit-learn LDA on the data to obtain a trained model. At this point you can open up the trained coefficients again, and rather than taking only the first like you did with `[trained.coef_[0], trained.intercept_[0]]`, you should have TWO $w$ vectors and TWO $b$ constants **per each pair** of classes.\n",
    "_[think: the space is actually split in several subspaces. Can you derive how many? Can you design a decision tree on top of the boundaries to do the classification as the number of boundaries grow?]_"
   ]
  },
  {
   "cell_type": "markdown",
   "metadata": {},
   "source": [
    "#### BONUS **[ZERO pt]** Plot the boundaries classifying the three species of Iris in the dataset based on the two features used so far."
   ]
  },
  {
   "cell_type": "code",
   "execution_count": 28,
   "metadata": {
    "ExecuteTime": {
     "end_time": "2024-05-11T18:11:19.148868Z",
     "start_time": "2024-05-11T18:11:19.147210Z"
    }
   },
   "outputs": [],
   "source": []
  },
  {
   "cell_type": "markdown",
   "metadata": {},
   "source": [
    "### Final considerations"
   ]
  },
  {
   "cell_type": "markdown",
   "metadata": {},
   "source": [
    "Stop for a moment and think how hard it was to derive these equations (in the lecture), and how hard it was instead to implement them (once you get them right). These are two very different skills.  \n",
    "To understand the derivation you need to think hard, express your concept in math (actually requiring broad knowledge of many of its subfields), see it through with absolute precision, and finally correctly solve the equations.  \n",
    "To implement the method, you need to map the math to the correct function calls (hard, but arguably less), and you only ever work with the final solution, but you deal with programming languages and libraries and documentations.  \n",
    "This is the reason why so many people nowadays broadly advertise machine learning skills after taking short tutorials. But if you do not understand what a parameter is for, you will only be guessing which value to use.\n",
    "\n",
    "The reason why you are sweating so much on this course is to gain an edge over all of those who only ever learn to _use_ the tools: by instead _making_ the tools you understand them from the inside out, their applications and limitations, and even become capable of adapting and improving them.  \n",
    "Keep up: this course is not easy, but machine learning has become unavoidable in your field, and these foundations will enable you to bend the whole field to your needs."
   ]
  }
 ],
 "metadata": {
  "kernelspec": {
   "display_name": "Python 3 (ipykernel)",
   "language": "python",
   "name": "python3"
  },
  "language_info": {
   "codemirror_mode": {
    "name": "ipython",
    "version": 3
   },
   "file_extension": ".py",
   "mimetype": "text/x-python",
   "name": "python",
   "nbconvert_exporter": "python",
   "pygments_lexer": "ipython3",
   "version": "3.8.10"
  }
 },
 "nbformat": 4,
 "nbformat_minor": 4
}
