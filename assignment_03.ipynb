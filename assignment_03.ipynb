{
 "cells": [
  {
   "cell_type": "markdown",
   "metadata": {},
   "source": [
    "Please fill in your name and that of your teammate.\n",
    "\n",
    "You: **Ahonon Gobi Parfait**\n",
    "\n",
    "Teammate:"
   ]
  },
  {
   "cell_type": "markdown",
   "metadata": {},
   "source": [
    "# Introduction"
   ]
  },
  {
   "cell_type": "markdown",
   "metadata": {},
   "source": [
    "Welcome to the third lab. There is much to go through today so we will keep extra concepts to a minimum. There is no new library introduced at this lecture as we will keep using `numpy` for the heavy lifting, `scikit-learn` for the algorithms, and `seaborn` / `matplotlib` for plotting. Careful about reusing variable names in the notebook and computing cells out of order: frequent calls to `Kernel -> Restart and Run All` can save you from headaches.\n",
    "\n",
    "The assignment starts getting math-heavy. Here's a new tool to aid you with the debugging. Explicitly `import IPython` at the beginning of a notebook (or Python file) to have access to the computational Python kernel. You can then call `IPython.embed()` at an arbitrary place in your code (say, inside a loop) and it will pause the computation and drop you into an interactive console. You can then evaluate Python code in the context where it was called. Here is an example:\n",
    "\n",
    "```python\n",
    "import numpy as np\n",
    "for i in range(10):\n",
    "    guess = np.random.normal()\n",
    "    function_that_fails_because_of(guess, i)\n",
    "```\n",
    "\n",
    "Let's say your function fails for `i==9`, how would you find the error? Typically you may want to edit the code and print `guess` and `i` to see what is happening, but it is slow and passive. What if you want to try to pass `i+1` and see if that works? What if you want to try a few other random numbers with the same `i`? Enter `IPython.embed()`:\n",
    "\n",
    "```python\n",
    "import numpy as np\n",
    "import IPython\n",
    "for i in range(10):\n",
    "    guess = np.random.normal()\n",
    "    if i==9: IPython.embed()\n",
    "    function_that_fails_because_of(guess, i)\n",
    "```\n",
    "\n",
    "If you execute this code, the cell output will show an interactive console in your output cell. Here you can send commands to be interpreted by the Python kernel of the notebook. You could then try something like the following lines for example (one at a time):\n",
    "\n",
    "```python\n",
    "i #=> prints value of i\n",
    "guess  #=> prints value of guess\n",
    "function_that_fails_because_of(guess, i) #=> fails and shows you the error\n",
    "function_that_fails_because_of(guess, i+1) #=> change parameters: will it work?\n",
    "function_that_fails_because_of(guess, i-1) #=> what about this one?\n",
    "guess = np.random.normal() #=> overwrites the value of `guess` in the kernel\n",
    "function_that_fails_because_of(guess, i) #=> will this work this time?\n",
    "```\n",
    "\n",
    "As you can see you can test your code in the context of the function (or, here, loop), find the code that works, then you can go ahead and copy+paste in your actual code. If you need to exit the console and resume the computation (with whatever change you executed, as the kernel is the same) just type `exit()`.\n",
    "\n",
    "_Bonus:_ you can ask the kernel to drop you into a _debugger_ session every time you get an error. This can be tricky with Jupyter Notebooks, so use with caution, but can also be a lifesaver if you are willing to learn about [postmortem debugging](https://medium.com/instamojo-matters/become-a-pdb-power-user-e3fc4e2774b2). You do that by adding the following lines on top of your code (need to execute them only once):\n",
    "\n",
    "```python\n",
    "# DEBUG: uncaught exceptions drop you into ipdb for postmortem debugging\n",
    "import sys, IPython; sys.excepthook = IPython.core.ultratb.ColorTB(call_pdb=True)\n",
    "```\n",
    "\n",
    "After this line, if you encounter an error or uncaught exception in your code, rather than terminating you will be dropped in an `ipdb` (fancier version of `pdb`) console where you can interrogate the program about the conditions causing the crash.\n",
    "\n",
    "Good hunting!"
   ]
  },
  {
   "cell_type": "markdown",
   "metadata": {},
   "source": [
    "### How to pass the lab?"
   ]
  },
  {
   "cell_type": "markdown",
   "metadata": {},
   "source": [
    "Below you find the exercise questions. Each question awarding points is numbered and states the number of points like this: **[0pt]**. To answer a question, fill the cell below with your answer (markdown for text, code for implementation). Incorrect or incomplete answers are in principle worth 0 points: to assign partial reward is only up to teacher discretion. Over-complete answers do not award extra points (though they are appreciated and will be kept under consideration). Save your work frequently! (`ctrl+s`)\n",
    "\n",
    "**You need at least 22 points (out of 33 available) to pass** (66%)."
   ]
  },
  {
   "cell_type": "markdown",
   "metadata": {},
   "source": [
    "# 1. Fundamentals"
   ]
  },
  {
   "cell_type": "markdown",
   "metadata": {},
   "source": [
    "Let's make sure some of the core points are clear before addressing the specific algorithms.\n",
    "\n",
    "#### 1.1 **[1pt]** Write the equation of the Gaussian density. Use Latex inside the Markdown cell.\n",
    "\n",
    "I suggest you type it out rather than copy+paste from the Internet: the goal of this question is to _force_ you to read one term at a time, and understand which is clear to you and which is not.\n",
    "For example, the equation you will write here a norm, while our later applications of the formula do not, since we will actually be using the [Gaussian](https://en.wikipedia.org/wiki/Normal_distribution) Probability Density Function [(PDF)](https://en.wikipedia.org/wiki/Probability_density_function) equation instead. Do you understand why? Did you study this before?"
   ]
  },
  {
   "cell_type": "markdown",
   "metadata": {},
   "source": [
    "$$f(x,\\mu,\\sigma^2) = \\frac{1}{\\sqrt{2\\pi\\sigma^2}} e^{-\\frac{(x-\\mu)^2}{2\\sigma^2}}$$\n",
    "\n",
    "Where : \n",
    "x is the random variables\n",
    "$\\mu$ is the mean(average) of the distribution \n",
    "$\\sigma²$ is the variance of the distribution \n"
   ]
  },
  {
   "cell_type": "markdown",
   "source": [],
   "metadata": {
    "collapsed": false
   }
  },
  {
   "cell_type": "markdown",
   "metadata": {},
   "source": [
    "#### 1.2 **[1pt]** Explain why we maximize the log-likelihood rather than the likelihood. In particular, what is the advantage in using the $\\log$ rather than another operation?"
   ]
  },
  {
   "cell_type": "markdown",
   "source": [
    "R: Maximizing the log-likelihood rather than the likelihood is advantageous because it simplifies computations and helps avoid numerical underflow or overflow issues. The logarithm function compresses large ranges of values into a more manageable scale, making it easier to work with and compute gradients during optimization. "
   ],
   "metadata": {
    "collapsed": false
   }
  },
  {
   "cell_type": "markdown",
   "metadata": {},
   "source": []
  },
  {
   "cell_type": "markdown",
   "metadata": {},
   "source": [
    "#### 1.3 **[1pt]** Why the equation maximizing the log-likelihood of a Gaussian does not include the parameter $\\sigma$?"
   ]
  },
  {
   "cell_type": "markdown",
   "source": [
    "R: \n",
    "The equation maximizing the log-likelihood of a Gaussian does not include the parameter $\\sigma$ because it is a constant in the optimization problem. The log-likelihood function is maximized with respect to the parameters of the distribution, and $\\sigma$ is a parameter of the distribution, not a variable to be optimized."
   ],
   "metadata": {
    "collapsed": false
   }
  },
  {
   "cell_type": "markdown",
   "metadata": {},
   "source": []
  },
  {
   "cell_type": "markdown",
   "metadata": {},
   "source": [
    "#### 1.4 **[1pt]** Explain the meaning of i.i.d. (in English), using the simplest words you can."
   ]
  },
  {
   "cell_type": "markdown",
   "source": [
    "R: \n",
    "i.i.d. stands for independent and identically distributed. It means that the random variables in a sample are independent of each other and have the same probability distribution. In other words, the outcome of one random variable does not affect the outcome of another, and they all come from the same underlying distribution."
   ],
   "metadata": {
    "collapsed": false
   }
  },
  {
   "cell_type": "markdown",
   "metadata": {},
   "source": []
  },
  {
   "cell_type": "markdown",
   "metadata": {},
   "source": [
    "#### 1.5 **[2pt]** Write the equation of the Bayes' Rule (use Latex). Then write below how to read it in English."
   ]
  },
  {
   "cell_type": "markdown",
   "source": [
    "$$P(A|B) = \\frac{P(B|A) \\times P(A)}{P(B)}$$\n",
    "\n",
    "Reading: \n",
    "The probability of A given B is equal to the probability of B given A times the probability of A divided by the probability of B"
   ],
   "metadata": {
    "collapsed": false
   }
  },
  {
   "cell_type": "markdown",
   "metadata": {},
   "source": []
  },
  {
   "cell_type": "markdown",
   "metadata": {},
   "source": [
    "# 2. Linear Regression"
   ]
  },
  {
   "cell_type": "markdown",
   "metadata": {},
   "source": [
    "#### 2.1 **[2pt]** Explain the meaning of $y_i = \\langle w, x_i \\rangle + \\epsilon_i, \\;\\; \\epsilon \\sim \\mathcal{N}(0, \\sigma^2)$ (in English). Utilize the word 'prototype'."
   ]
  },
  {
   "cell_type": "markdown",
   "metadata": {},
   "source": [
    "R: This equation is a linear relationship between a dependant variables $y_i$ with an independant variables $x_i$ with an additional noise $\\epsilon_i$ . The termes prototypes refers to the ideal value or true values of the dependant variables $y_i$ for a sets of features values $x_i$\n"
   ]
  },
  {
   "cell_type": "markdown",
   "metadata": {},
   "source": [
    "Enough theory, let's get our hands in there. Since we are working with a regression task, let us generate some data from an underlying linear function with some noise.  \n",
    "_[think: the process below is (correct but) unnecessary convoluted: would you be able (yet) to simplify it? Always prefer simpler code!]_"
   ]
  },
  {
   "cell_type": "code",
   "execution_count": 1,
   "metadata": {
    "ExecuteTime": {
     "end_time": "2024-03-16T08:32:34.413010Z",
     "start_time": "2024-03-16T08:32:34.409076Z"
    }
   },
   "outputs": [],
   "source": [
    "import numpy as np\n",
    "trg_fn = lambda x: 2*x - 1 # hi I'm lambda, remember me?\n",
    "some_noise = lambda: np.random.normal(0,2) # Gaussian noise with mu=0, sigma=2\n",
    "# Below we add a 1 to every row as the bias (constant) input\n",
    "# Think about each part and discuss if you do not understand something yet!\n",
    "data = np.array([[x, 1, trg_fn(x) + some_noise()] for x in np.linspace(-10, 10, 50)])\n",
    "*x, y = data.transpose() # easier using splat and numpy: do you understand it?\n",
    "x = np.array(x).transpose() # back to *rows* with input features and bias input"
   ]
  },
  {
   "cell_type": "code",
   "outputs": [
    {
     "data": {
      "text/plain": "array([[-10.        ,   1.        , -20.81059743],\n       [ -9.59183673,   1.        , -19.02571455],\n       [ -9.18367347,   1.        , -16.71762146],\n       [ -8.7755102 ,   1.        , -16.54563496],\n       [ -8.36734694,   1.        , -18.08509256],\n       [ -7.95918367,   1.        , -20.49026447],\n       [ -7.55102041,   1.        , -18.66799964],\n       [ -7.14285714,   1.        , -13.59992937],\n       [ -6.73469388,   1.        , -15.36622245],\n       [ -6.32653061,   1.        , -14.55017613],\n       [ -5.91836735,   1.        ,  -9.02863324],\n       [ -5.51020408,   1.        , -10.54285459],\n       [ -5.10204082,   1.        ,  -8.38152645],\n       [ -4.69387755,   1.        , -11.41869167],\n       [ -4.28571429,   1.        , -10.55803376],\n       [ -3.87755102,   1.        ,  -7.88610563],\n       [ -3.46938776,   1.        ,  -9.03218694],\n       [ -3.06122449,   1.        ,  -5.85228609],\n       [ -2.65306122,   1.        ,  -5.22791148],\n       [ -2.24489796,   1.        ,  -2.15693722],\n       [ -1.83673469,   1.        ,  -5.54860886],\n       [ -1.42857143,   1.        ,  -7.65741996],\n       [ -1.02040816,   1.        ,  -2.91284534],\n       [ -0.6122449 ,   1.        ,  -2.87259045],\n       [ -0.20408163,   1.        ,  -1.89938964],\n       [  0.20408163,   1.        ,  -4.2581849 ],\n       [  0.6122449 ,   1.        ,  -0.03894516],\n       [  1.02040816,   1.        ,   0.41590503],\n       [  1.42857143,   1.        ,   4.61034627],\n       [  1.83673469,   1.        ,  -1.27532839],\n       [  2.24489796,   1.        ,   1.54947411],\n       [  2.65306122,   1.        ,   1.54719889],\n       [  3.06122449,   1.        ,   9.52607975],\n       [  3.46938776,   1.        ,   8.85474404],\n       [  3.87755102,   1.        ,   8.29824206],\n       [  4.28571429,   1.        ,  11.25864365],\n       [  4.69387755,   1.        ,   4.71568465],\n       [  5.10204082,   1.        ,   9.47357547],\n       [  5.51020408,   1.        ,   6.85112345],\n       [  5.91836735,   1.        ,   9.78570156],\n       [  6.32653061,   1.        ,   9.88802568],\n       [  6.73469388,   1.        ,  14.12158299],\n       [  7.14285714,   1.        ,  13.19711866],\n       [  7.55102041,   1.        ,  11.75103878],\n       [  7.95918367,   1.        ,  16.17327477],\n       [  8.36734694,   1.        ,  13.40016556],\n       [  8.7755102 ,   1.        ,  15.55465244],\n       [  9.18367347,   1.        ,  18.91592151],\n       [  9.59183673,   1.        ,  15.8374678 ],\n       [ 10.        ,   1.        ,  17.6268117 ]])"
     },
     "execution_count": 2,
     "metadata": {},
     "output_type": "execute_result"
    }
   ],
   "source": [
    "# for my own puspose and to se clearly what is done!!!!!\n",
    "data"
   ],
   "metadata": {
    "collapsed": false,
    "ExecuteTime": {
     "end_time": "2024-03-16T08:32:34.418790Z",
     "start_time": "2024-03-16T08:32:34.413735Z"
    }
   },
   "execution_count": 2
  },
  {
   "cell_type": "code",
   "outputs": [
    {
     "data": {
      "text/plain": "array([[-10.        ,  -9.59183673,  -9.18367347,  -8.7755102 ,\n         -8.36734694,  -7.95918367,  -7.55102041,  -7.14285714,\n         -6.73469388,  -6.32653061,  -5.91836735,  -5.51020408,\n         -5.10204082,  -4.69387755,  -4.28571429,  -3.87755102,\n         -3.46938776,  -3.06122449,  -2.65306122,  -2.24489796,\n         -1.83673469,  -1.42857143,  -1.02040816,  -0.6122449 ,\n         -0.20408163,   0.20408163,   0.6122449 ,   1.02040816,\n          1.42857143,   1.83673469,   2.24489796,   2.65306122,\n          3.06122449,   3.46938776,   3.87755102,   4.28571429,\n          4.69387755,   5.10204082,   5.51020408,   5.91836735,\n          6.32653061,   6.73469388,   7.14285714,   7.55102041,\n          7.95918367,   8.36734694,   8.7755102 ,   9.18367347,\n          9.59183673,  10.        ],\n       [  1.        ,   1.        ,   1.        ,   1.        ,\n          1.        ,   1.        ,   1.        ,   1.        ,\n          1.        ,   1.        ,   1.        ,   1.        ,\n          1.        ,   1.        ,   1.        ,   1.        ,\n          1.        ,   1.        ,   1.        ,   1.        ,\n          1.        ,   1.        ,   1.        ,   1.        ,\n          1.        ,   1.        ,   1.        ,   1.        ,\n          1.        ,   1.        ,   1.        ,   1.        ,\n          1.        ,   1.        ,   1.        ,   1.        ,\n          1.        ,   1.        ,   1.        ,   1.        ,\n          1.        ,   1.        ,   1.        ,   1.        ,\n          1.        ,   1.        ,   1.        ,   1.        ,\n          1.        ,   1.        ],\n       [-20.81059743, -19.02571455, -16.71762146, -16.54563496,\n        -18.08509256, -20.49026447, -18.66799964, -13.59992937,\n        -15.36622245, -14.55017613,  -9.02863324, -10.54285459,\n         -8.38152645, -11.41869167, -10.55803376,  -7.88610563,\n         -9.03218694,  -5.85228609,  -5.22791148,  -2.15693722,\n         -5.54860886,  -7.65741996,  -2.91284534,  -2.87259045,\n         -1.89938964,  -4.2581849 ,  -0.03894516,   0.41590503,\n          4.61034627,  -1.27532839,   1.54947411,   1.54719889,\n          9.52607975,   8.85474404,   8.29824206,  11.25864365,\n          4.71568465,   9.47357547,   6.85112345,   9.78570156,\n          9.88802568,  14.12158299,  13.19711866,  11.75103878,\n         16.17327477,  13.40016556,  15.55465244,  18.91592151,\n         15.8374678 ,  17.6268117 ]])"
     },
     "execution_count": 3,
     "metadata": {},
     "output_type": "execute_result"
    }
   ],
   "source": [
    "data.transpose()"
   ],
   "metadata": {
    "collapsed": false,
    "ExecuteTime": {
     "end_time": "2024-03-16T08:32:34.423623Z",
     "start_time": "2024-03-16T08:32:34.419796Z"
    }
   },
   "execution_count": 3
  },
  {
   "cell_type": "code",
   "outputs": [
    {
     "data": {
      "text/plain": "array([[-10.        ,   1.        ],\n       [ -9.59183673,   1.        ],\n       [ -9.18367347,   1.        ],\n       [ -8.7755102 ,   1.        ],\n       [ -8.36734694,   1.        ],\n       [ -7.95918367,   1.        ],\n       [ -7.55102041,   1.        ],\n       [ -7.14285714,   1.        ],\n       [ -6.73469388,   1.        ],\n       [ -6.32653061,   1.        ],\n       [ -5.91836735,   1.        ],\n       [ -5.51020408,   1.        ],\n       [ -5.10204082,   1.        ],\n       [ -4.69387755,   1.        ],\n       [ -4.28571429,   1.        ],\n       [ -3.87755102,   1.        ],\n       [ -3.46938776,   1.        ],\n       [ -3.06122449,   1.        ],\n       [ -2.65306122,   1.        ],\n       [ -2.24489796,   1.        ],\n       [ -1.83673469,   1.        ],\n       [ -1.42857143,   1.        ],\n       [ -1.02040816,   1.        ],\n       [ -0.6122449 ,   1.        ],\n       [ -0.20408163,   1.        ],\n       [  0.20408163,   1.        ],\n       [  0.6122449 ,   1.        ],\n       [  1.02040816,   1.        ],\n       [  1.42857143,   1.        ],\n       [  1.83673469,   1.        ],\n       [  2.24489796,   1.        ],\n       [  2.65306122,   1.        ],\n       [  3.06122449,   1.        ],\n       [  3.46938776,   1.        ],\n       [  3.87755102,   1.        ],\n       [  4.28571429,   1.        ],\n       [  4.69387755,   1.        ],\n       [  5.10204082,   1.        ],\n       [  5.51020408,   1.        ],\n       [  5.91836735,   1.        ],\n       [  6.32653061,   1.        ],\n       [  6.73469388,   1.        ],\n       [  7.14285714,   1.        ],\n       [  7.55102041,   1.        ],\n       [  7.95918367,   1.        ],\n       [  8.36734694,   1.        ],\n       [  8.7755102 ,   1.        ],\n       [  9.18367347,   1.        ],\n       [  9.59183673,   1.        ],\n       [ 10.        ,   1.        ]])"
     },
     "execution_count": 4,
     "metadata": {},
     "output_type": "execute_result"
    }
   ],
   "source": [
    "x"
   ],
   "metadata": {
    "collapsed": false,
    "ExecuteTime": {
     "end_time": "2024-03-16T08:32:34.427927Z",
     "start_time": "2024-03-16T08:32:34.424386Z"
    }
   },
   "execution_count": 4
  },
  {
   "cell_type": "markdown",
   "source": [],
   "metadata": {
    "collapsed": false
   }
  },
  {
   "cell_type": "markdown",
   "source": [],
   "metadata": {
    "collapsed": false
   }
  },
  {
   "cell_type": "markdown",
   "metadata": {},
   "source": [
    "#### 2.2 **[1pt]** Write a (Python) function that takes a data point in input and returns the squared error Loss. Test it by using a constant prediction model $y = 1$ and compute the Risk over all the data."
   ]
  },
  {
   "cell_type": "markdown",
   "source": [
    "here is the formular : $\\text{Squared Error Loss} = \\frac{1}{n} \\sum_{i=1}^{n} (y_i - \\hat{y}_i)²$"
   ],
   "metadata": {
    "collapsed": false
   }
  },
  {
   "cell_type": "code",
   "execution_count": 5,
   "metadata": {
    "ExecuteTime": {
     "end_time": "2024-03-16T08:32:34.431599Z",
     "start_time": "2024-03-16T08:32:34.428739Z"
    }
   },
   "outputs": [],
   "source": [
    "\n",
    "def square_error_loss(data_points):\n",
    "    sum_squared_errors = 0\n",
    "    \n",
    "    for data_point in data_points: \n",
    "        y_actuel = data_point[-1]\n",
    "        y_predicted  = predict(data_point)\n",
    "        \n",
    "        squared = (y_actuel - y_predicted) **2\n",
    "        sum_squared_errors += squared\n",
    "        \n",
    "    mean_squared_error = sum_squared_errors/len(data_points)\n",
    "    return  mean_squared_error\n",
    "\n",
    "def predict(data_point):\n",
    "    return 1\n",
    "    "
   ]
  },
  {
   "cell_type": "markdown",
   "metadata": {},
   "source": [
    "[IMPORTANT]: A few tips before we proceed:\n",
    "- Numpy's linear algebra library provides matrix inversion, but you should use instead the pseudo-inverse to cope with singular covariance matrices: `np.linalg.pinv()`\n",
    "- Numpy's array provides inner product with the function `dot()`\n",
    "- Typically `dot()` will find the right direction for one-dimensional arrays, which means that you should never need to transpose them\n",
    "- Using `dot()` with matrices instead *always* requires you to `transpose()` to the right orientation! Write the math and keep track of what you are doing.\n",
    "- Remember that matrix product is not commutative: `A.dot(B)` is NOT equal to `B.dot(A)`. Refresh also how `A.dot(B)` requires the number of columns of `A` to be the same as the number of rows of `B`, and the result will have the same number of rows of `A` and the number of columns of `B`.\n",
    "- Linear regression uses a closed-form solution, **not a loop**, and you will not use the implementation of the loss above in the rest of the assignment (because it is implicit in the algorithm's solution)."
   ]
  },
  {
   "cell_type": "markdown",
   "metadata": {},
   "source": [
    "#### 2.3 **[2pt]** Write a function that takes in input a list of data points and a list of labels, and returns the $w$ vector using the closed-form solution of Linear Regression. Test it on the data above and print the computed $w$."
   ]
  },
  {
   "cell_type": "markdown",
   "source": [
    "$$\\mathbf{w} = (\\mathbf{X}^\\intercal \\mathbf{X})^{-1} \\mathbf{X}^\\intercal \\mathbf{y}$$\n",
    "\n",
    "where: \n",
    "        \n",
    "w is the vector of model parameters, \n",
    "X is the feature matrix (each row represents an observation, each column a feature), \n",
    "and y is the vector of target values.\n"
   ],
   "metadata": {
    "collapsed": false
   }
  },
  {
   "cell_type": "code",
   "outputs": [
    {
     "name": "stdout",
     "output_type": "stream",
     "text": [
      "[ 1.93291473 -1.14109908]\n"
     ]
    }
   ],
   "source": [
    "def linear_regression(data_points, labels):\n",
    "    x = np.array([data_point[:-1] for data_point in data_points])\n",
    "    #y = np.array([data_point[-1] for data_point in data_points])\n",
    "    y = np.array(labels)\n",
    "    x_pseudo_inv = np.linalg.pinv(x)\n",
    "    w = x_pseudo_inv.dot(y)\n",
    "    return w\n",
    "\n",
    "w = linear_regression(data, y)\n",
    "print(w)\n"
   ],
   "metadata": {
    "collapsed": false,
    "ExecuteTime": {
     "end_time": "2024-03-16T08:32:34.443996Z",
     "start_time": "2024-03-16T08:32:34.432745Z"
    }
   },
   "execution_count": 6
  },
  {
   "cell_type": "markdown",
   "metadata": {},
   "source": [
    "#### 2.4 **[2pt]** Predict the labels for all points using your Linear Regression implementation and the `w` vector from the previous question. For each data point, print the triplet of  `(label, prediction, loss)`. Then compute and print the (squared error) Risk over the dataset."
   ]
  },
  {
   "cell_type": "code",
   "outputs": [
    {
     "name": "stdout",
     "output_type": "stream",
     "text": [
      "Data point 1: (label=-20.81059743203515, prediction=-20.47024633423747, loss=0.1158388697720855)\n",
      "Data point 2: (label=-19.02571455196532, prediction=-19.681301548328108, loss=0.42979430979998373)\n",
      "Data point 3: (label=-16.717621455173095, prediction=-18.892356762418743, loss=4.729473656580821)\n",
      "Data point 4: (label=-16.545634958556178, prediction=-18.103411976509378, loss=2.426669237663163)\n",
      "Data point 5: (label=-18.085092562809255, prediction=-17.314467190600016, loss=0.5938634642926273)\n",
      "Data point 6: (label=-20.490264473783533, prediction=-16.525522404690655, loss=15.719179674434878)\n",
      "Data point 7: (label=-18.667999636459676, prediction=-15.736577618781292, loss=8.59323504572961)\n",
      "Data point 8: (label=-13.599929373048568, prediction=-14.947632832871928, loss=1.8163046156198572)\n",
      "Data point 9: (label=-15.366222445688605, prediction=-14.158688046962565, loss=1.458139324106658)\n",
      "Data point 10: (label=-14.550176131030677, prediction=-13.369743261053204, loss=1.3934217605232533)\n",
      "Data point 11: (label=-9.028633237380726, prediction=-12.58079847514384, loss=12.617877876372685)\n",
      "Data point 12: (label=-10.542854587692728, prediction=-11.791853689234477, loss=1.5599987556520956)\n",
      "Data point 13: (label=-8.381526453313588, prediction=-11.002908903325114, loss=6.871645949228428)\n",
      "Data point 14: (label=-11.418691674621414, prediction=-10.213964117415752, loss=1.4513684870907197)\n",
      "Data point 15: (label=-10.558033761146998, prediction=-9.42501933150639, loss=1.2837216977738337)\n",
      "Data point 16: (label=-7.886105628063432, prediction=-8.636074545597026, loss=0.5624533772665107)\n",
      "Data point 17: (label=-9.03218694492271, prediction=-7.847129759687665, loss=1.404360532277209)\n",
      "Data point 18: (label=-5.852286087386176, prediction=-7.058184973778302, loss=1.4541921242017704)\n",
      "Data point 19: (label=-5.22791148042546, prediction=-6.269240187868938, loss=1.0843654769459048)\n",
      "Data point 20: (label=-2.156937221757577, prediction=-5.480295401959575, loss=11.044709593915536)\n",
      "Data point 21: (label=-5.548608859186427, prediction=-4.6913506160502125, loss=0.7348916954249884)\n",
      "Data point 22: (label=-7.65741996316568, prediction=-3.902405830140851, loss=14.100131139216204)\n",
      "Data point 23: (label=-2.9128453370476324, prediction=-3.113461044231485, loss=0.04024666196887737)\n",
      "Data point 24: (label=-2.8725904527581814, prediction=-2.3245162583221233, loss=0.300385322606734)\n",
      "Data point 25: (label=-1.8993896375925439, prediction=-1.5355714724127614, loss=0.1323636573147835)\n",
      "Data point 26: (label=-4.258184899143287, prediction=-0.7466266865033995, loss=12.331041080758641)\n",
      "Data point 27: (label=-0.03894516389083902, prediction=0.04231809940596243, loss=0.0066037179616452776)\n",
      "Data point 28: (label=0.41590503351547214, prediction=0.8312628853153279, loss=0.17252214505179092)\n",
      "Data point 29: (label=4.610346271440683, prediction=1.62020767122469, loss=8.94092884850166)\n",
      "Data point 30: (label=-1.275328387360303, prediction=2.409152457134052, loss=13.575399093445837)\n",
      "Data point 31: (label=1.5494741140843973, prediction=3.198097243043417, loss=2.717958221338629)\n",
      "Data point 32: (label=1.5471988920670325, prediction=3.9870420289527786, loss=5.9528345326084775)\n",
      "Data point 33: (label=9.526079745936329, prediction=4.775986814862141, loss=22.56338285384097)\n",
      "Data point 34: (label=8.854744036584515, prediction=5.564931600771503, loss=10.822865862829943)\n",
      "Data point 35: (label=8.298242057212484, prediction=6.353876386680865, loss=3.7805578607418724)\n",
      "Data point 36: (label=11.258643651305437, prediction=7.142821172590231, loss=16.93999467629739)\n",
      "Data point 37: (label=4.7156846531021515, prediction=7.931765958499592, loss=10.343178962926906)\n",
      "Data point 38: (label=9.473575469022398, prediction=8.720710744408954, loss=0.5668052935672764)\n",
      "Data point 39: (label=6.85112345301624, prediction=9.509655530318321, loss=7.067792806044119)\n",
      "Data point 40: (label=9.785701564444697, prediction=10.298600316227683, loss=0.263065129580545)\n",
      "Data point 41: (label=9.88802567985756, prediction=11.087545102137044, loss=1.4388468444257088)\n",
      "Data point 42: (label=14.121582989380936, prediction=11.876489888046406, loss=5.040443033659901)\n",
      "Data point 43: (label=13.197118663145012, prediction=12.665434673955769, loss=0.2826878643601876)\n",
      "Data point 44: (label=11.751038779905482, prediction=13.45437945986513, loss=2.9013694720053973)\n",
      "Data point 45: (label=16.173274770892537, prediction=14.243324245774499, loss=3.7247090294033898)\n",
      "Data point 46: (label=13.40016555557189, prediction=15.03226903168386, loss=2.6637617567367764)\n",
      "Data point 47: (label=15.554652437630688, prediction=15.821213817593222, loss=0.07105496928753027)\n",
      "Data point 48: (label=18.915921510772037, prediction=16.610158603502583, loss=5.316542584539684)\n",
      "Data point 49: (label=15.83746779994706, prediction=17.39910338941195, loss=2.4387057142833495)\n",
      "Data point 50: (label=17.626811695666724, prediction=18.18804817532131, loss=0.3149863860950719)\n",
      "Risk: 4.643133420921439\n"
     ]
    }
   ],
   "source": [
    "# predictions for all data points using linear regression\n",
    "predictions  = np.dot(x, w)\n",
    "# squared error loss for each data point\n",
    "losses = (y - predictions)**2\n",
    "# risk\n",
    "risk = np.mean(losses)\n",
    "\n",
    "# Print the triplet (label, prediction, loss) for each data point\n",
    "for i in range(len(data)):\n",
    "    print(f\"Data point {i+1}: (label={y[i]}, prediction={predictions[i]}, loss={losses[i]})\")\n",
    "print(f\"Risk: {risk}\")\n"
   ],
   "metadata": {
    "collapsed": false,
    "ExecuteTime": {
     "end_time": "2024-03-16T08:32:34.451292Z",
     "start_time": "2024-03-16T08:32:34.444917Z"
    }
   },
   "execution_count": 7
  },
  {
   "cell_type": "markdown",
   "metadata": {},
   "source": [
    "Remember that you need to build the linear model (careful handling the bias), then you are doing _regression_ not *classification*, which means you are predicting the value $\\hat{y}$ based on your $x$. You should get back $m$ and $q$ close to $2$ and $-1$, and the risk roughly proportional to the square of the expected error multiplied by the number of points (or close below that).  \n",
    "_[think: what is the expected error? Do you understand why? You can generate the points and compute the risk multiple times to verify your hypothesis]_"
   ]
  },
  {
   "cell_type": "markdown",
   "metadata": {},
   "source": [
    "#### 2.5 **[2pt]** Plot the data and the model.\n",
    "\n",
    "You should be able to partially reuse the printing code from the last lab (particularly plot and params-to-boundary conversion), but feel free to customize it as you need.\n",
    "I will keep repeating this for a while more: careful with the bias!  \n",
    "(Think: you can plot the model's predictions very easily if you use linear algebra, do you understand what is `x.dot(w)`?)"
   ]
  },
  {
   "cell_type": "code",
   "outputs": [
    {
     "data": {
      "text/plain": "<Figure size 432x288 with 1 Axes>",
      "image/png": "[encoded data removed]"
     },
     "metadata": {},
     "output_type": "display_data"
    }
   ],
   "source": [
    "import matplotlib.pyplot as plt\n",
    "\n",
    "# Plot the data\n",
    "plt.scatter(x[:,0], y, label='Data points')\n",
    "# Plot the model\n",
    "plt.plot(x[:,0], predictions, label='Linear Regression', color='red')\n",
    "plt.xlabel('x')\n",
    "plt.ylabel('y')\n",
    "plt.legend()\n",
    "plt.show()"
   ],
   "metadata": {
    "collapsed": false,
    "ExecuteTime": {
     "end_time": "2024-03-16T08:32:34.640945Z",
     "start_time": "2024-03-16T08:32:34.462526Z"
    }
   },
   "execution_count": 8
  },
  {
   "cell_type": "markdown",
   "metadata": {},
   "source": [
    "#### 2.6 **[2pt]** Find Linear Regression in scikit-learn and train a model on the data."
   ]
  },
  {
   "cell_type": "markdown",
   "metadata": {},
   "source": [
    "The input to the `fit()` function should be a matrix and a vector, so try forcing `actual_x` into a $n\\times 1$ matrix by using `actual_x.reshape((-1, 1))`. If you want to predict the outputs, you simply need to pass the same data matrix to the method `predict()`.  "
   ]
  },
  {
   "cell_type": "code",
   "execution_count": 9,
   "metadata": {
    "ExecuteTime": {
     "end_time": "2024-03-16T08:32:34.738102Z",
     "start_time": "2024-03-16T08:32:34.641971Z"
    }
   },
   "outputs": [
    {
     "name": "stdout",
     "output_type": "stream",
     "text": [
      "We find out: [-20.47024633 -19.68130155 -18.89235676 -18.10341198 -17.31446719\n",
      " -16.5255224  -15.73657762 -14.94763283 -14.15868805 -13.36974326\n",
      " -12.58079848 -11.79185369 -11.0029089  -10.21396412  -9.42501933\n",
      "  -8.63607455  -7.84712976  -7.05818497  -6.26924019  -5.4802954\n",
      "  -4.69135062  -3.90240583  -3.11346104  -2.32451626  -1.53557147\n",
      "  -0.74662669   0.0423181    0.83126289   1.62020767   2.40915246\n",
      "   3.19809724   3.98704203   4.77598681   5.5649316    6.35387639\n",
      "   7.14282117   7.93176596   8.72071074   9.50965553  10.29860032\n",
      "  11.0875451   11.87648989  12.66543467  13.45437946  14.24332425\n",
      "  15.03226903  15.82121382  16.6101586   17.39910339  18.18804818]\n"
     ]
    }
   ],
   "source": [
    "from sklearn.linear_model import LinearRegression\n",
    "\n",
    "# create linear regression object\n",
    "model = LinearRegression()\n",
    "# reshaping \n",
    "X_column_vector = x[:,0].reshape((-1,1))\n",
    "# fit the model to the model\n",
    "trained =  model.fit(X_column_vector,y)\n",
    "# make the prediction on the X_column_vector\n",
    "predictions_skl = model.predict(X_column_vector)\n",
    "# Show it to see ? Let us do it.\n",
    "print(\"We find out:\", predictions_skl)\n"
   ]
  },
  {
   "cell_type": "markdown",
   "metadata": {},
   "source": [
    "#### 2.7 **[1pt]** Plot in a single figure: (i) the data points as a scatterplot; (ii) the model you learned using your implementation of Linear Regression; (iii) the model you trained using the scikit-implementation."
   ]
  },
  {
   "cell_type": "markdown",
   "metadata": {},
   "source": [
    "Careful, it may be that you plot both but they are exactly the same, so they are superimposed and you only see one line. To verify this you can try plotting them with different colors and different thickness, or changing the linestyle (e.g. one normal line and one dashed line). A list of available linestyles can be found in the [matplotlib documentation](https://matplotlib.org/3.5.1/gallery/lines_bars_and_markers/linestyles.html).\n",
    "\n",
    "To get the parametrization of the sklearn implementation use the following:  \n",
    "`w_skl = [trained.coef_[0], trained.intercept_]`  \n",
    "Do you understand what this does? Can you see how this corresponds to what we did last week? In future assignments you will need to find the model parametrization by yourself!"
   ]
  },
  {
   "cell_type": "code",
   "execution_count": 10,
   "metadata": {
    "ExecuteTime": {
     "end_time": "2024-03-16T08:32:34.917627Z",
     "start_time": "2024-03-16T08:32:34.738834Z"
    }
   },
   "outputs": [
    {
     "data": {
      "text/plain": "<Figure size 432x288 with 1 Axes>",
      "image/png": "[encoded data removed]"
     },
     "metadata": {},
     "output_type": "display_data"
    }
   ],
   "source": [
    "w_skl = [trained.coef_[0], trained.intercept_]  # w_skl = [slope, intercept]\n",
    "\n",
    "plt.scatter(x[:,0], y, label='Data points')\n",
    "\n",
    "# Plot the model\n",
    "plt.plot(x[:,0], predictions, label='Our Linear Regression', color='red')\n",
    "# \n",
    "plt.plot(x[0:,0],x.dot(w_skl), label='Sckit-Learn Linear Regression', linestyle=\"dashed\", color='blue')\n",
    "plt.xlabel('x')\n",
    "plt.ylabel('y')\n",
    "plt.legend()\n",
    "plt.show()"
   ]
  },
  {
   "cell_type": "markdown",
   "metadata": {},
   "source": [
    "# 3. Linear Discriminant Analysis"
   ]
  },
  {
   "cell_type": "markdown",
   "metadata": {},
   "source": [
    "We switch now into *binary classification*. Let's load the iris dataset once again for this exercise, and carefully selecting the data to have an easy binary classification problem (for now). Notice we are **not** using classes ${-1, +1}$ anymore, because we do not need to compute a Margin here."
   ]
  },
  {
   "cell_type": "code",
   "execution_count": 11,
   "metadata": {
    "ExecuteTime": {
     "end_time": "2024-03-16T08:32:34.940192Z",
     "start_time": "2024-03-16T08:32:34.918966Z"
    }
   },
   "outputs": [
    {
     "name": "stdout",
     "output_type": "stream",
     "text": [
      "Dimensions de x: (150, 2)\n",
      "Dimensions de x1: (150,)\n",
      "Dimensions de x2: (150,)\n"
     ]
    }
   ],
   "source": [
    "import numpy as np\n",
    "from sklearn.datasets import load_iris\n",
    "iris_x, iris_y = load_iris(return_X_y=True) # print these points to understand them!\n",
    "x1 = np.array([r[0] for r in iris_x]) # first feature\n",
    "x2 = np.array([r[2] for r in iris_x]) # third feature\n",
    "\n",
    "x = np.array([x1, x2]).transpose() # numpy gives us transpose() for free\n",
    "# Reduce the three classes into two for binary classification {1, 2}\n",
    "y = np.array([1 if y in [1,2] else 2 for y in iris_y])\n",
    "\n",
    "print(\"Dimensions de x:\", x.shape)\n",
    "print(\"Dimensions de x1:\", x1.shape)\n",
    "print(\"Dimensions de x2:\", x2.shape)\n"
   ]
  },
  {
   "cell_type": "markdown",
   "metadata": {},
   "source": [
    "To solve LDA we need to find the parametrization $\\theta_y=(\\mu_y, \\Sigma, \\pi_y)$. Since $\\mu$ and $\\pi$ are class-dependent, remember to first split the input data based on which class it belongs to."
   ]
  },
  {
   "cell_type": "markdown",
   "metadata": {},
   "source": [
    "#### 3.1 **[1pt]** Write a (Python) function that takes a dataset (inputs and labels) in input and returns a dictionary hashing each of the $m$ classes to the a list of the points belonging to that class. We will call this `partition` in the next questions."
   ]
  },
  {
   "cell_type": "markdown",
   "metadata": {},
   "source": [
    "Hint: the method `dict.get(<key>, <def>)` can be used to fetch values from a dictionary same as `dict[<key>]`, but when the key is not found it returns the second argument, which is the _default value_... what if you pass an empty list..."
   ]
  },
  {
   "cell_type": "code",
   "execution_count": 12,
   "metadata": {
    "ExecuteTime": {
     "end_time": "2024-03-16T08:32:34.956042Z",
     "start_time": "2024-03-16T08:32:34.941010Z"
    }
   },
   "outputs": [
    {
     "name": "stdout",
     "output_type": "stream",
     "text": [
      "{2: [array([5.1, 1.4]), array([4.9, 1.4]), array([4.7, 1.3]), array([4.6, 1.5]), array([5. , 1.4]), array([5.4, 1.7]), array([4.6, 1.4]), array([5. , 1.5]), array([4.4, 1.4]), array([4.9, 1.5]), array([5.4, 1.5]), array([4.8, 1.6]), array([4.8, 1.4]), array([4.3, 1.1]), array([5.8, 1.2]), array([5.7, 1.5]), array([5.4, 1.3]), array([5.1, 1.4]), array([5.7, 1.7]), array([5.1, 1.5]), array([5.4, 1.7]), array([5.1, 1.5]), array([4.6, 1. ]), array([5.1, 1.7]), array([4.8, 1.9]), array([5. , 1.6]), array([5. , 1.6]), array([5.2, 1.5]), array([5.2, 1.4]), array([4.7, 1.6]), array([4.8, 1.6]), array([5.4, 1.5]), array([5.2, 1.5]), array([5.5, 1.4]), array([4.9, 1.5]), array([5. , 1.2]), array([5.5, 1.3]), array([4.9, 1.4]), array([4.4, 1.3]), array([5.1, 1.5]), array([5. , 1.3]), array([4.5, 1.3]), array([4.4, 1.3]), array([5. , 1.6]), array([5.1, 1.9]), array([4.8, 1.4]), array([5.1, 1.6]), array([4.6, 1.4]), array([5.3, 1.5]), array([5. , 1.4])], 1: [array([7. , 4.7]), array([6.4, 4.5]), array([6.9, 4.9]), array([5.5, 4. ]), array([6.5, 4.6]), array([5.7, 4.5]), array([6.3, 4.7]), array([4.9, 3.3]), array([6.6, 4.6]), array([5.2, 3.9]), array([5. , 3.5]), array([5.9, 4.2]), array([6., 4.]), array([6.1, 4.7]), array([5.6, 3.6]), array([6.7, 4.4]), array([5.6, 4.5]), array([5.8, 4.1]), array([6.2, 4.5]), array([5.6, 3.9]), array([5.9, 4.8]), array([6.1, 4. ]), array([6.3, 4.9]), array([6.1, 4.7]), array([6.4, 4.3]), array([6.6, 4.4]), array([6.8, 4.8]), array([6.7, 5. ]), array([6. , 4.5]), array([5.7, 3.5]), array([5.5, 3.8]), array([5.5, 3.7]), array([5.8, 3.9]), array([6. , 5.1]), array([5.4, 4.5]), array([6. , 4.5]), array([6.7, 4.7]), array([6.3, 4.4]), array([5.6, 4.1]), array([5.5, 4. ]), array([5.5, 4.4]), array([6.1, 4.6]), array([5.8, 4. ]), array([5. , 3.3]), array([5.6, 4.2]), array([5.7, 4.2]), array([5.7, 4.2]), array([6.2, 4.3]), array([5.1, 3. ]), array([5.7, 4.1]), array([6.3, 6. ]), array([5.8, 5.1]), array([7.1, 5.9]), array([6.3, 5.6]), array([6.5, 5.8]), array([7.6, 6.6]), array([4.9, 4.5]), array([7.3, 6.3]), array([6.7, 5.8]), array([7.2, 6.1]), array([6.5, 5.1]), array([6.4, 5.3]), array([6.8, 5.5]), array([5.7, 5. ]), array([5.8, 5.1]), array([6.4, 5.3]), array([6.5, 5.5]), array([7.7, 6.7]), array([7.7, 6.9]), array([6., 5.]), array([6.9, 5.7]), array([5.6, 4.9]), array([7.7, 6.7]), array([6.3, 4.9]), array([6.7, 5.7]), array([7.2, 6. ]), array([6.2, 4.8]), array([6.1, 4.9]), array([6.4, 5.6]), array([7.2, 5.8]), array([7.4, 6.1]), array([7.9, 6.4]), array([6.4, 5.6]), array([6.3, 5.1]), array([6.1, 5.6]), array([7.7, 6.1]), array([6.3, 5.6]), array([6.4, 5.5]), array([6. , 4.8]), array([6.9, 5.4]), array([6.7, 5.6]), array([6.9, 5.1]), array([5.8, 5.1]), array([6.8, 5.9]), array([6.7, 5.7]), array([6.7, 5.2]), array([6.3, 5. ]), array([6.5, 5.2]), array([6.2, 5.4]), array([5.9, 5.1])]}\n"
     ]
    }
   ],
   "source": [
    "def partition_dataset(inputs, labels):\n",
    "    partition = {}\n",
    "    for data_point, label in zip(inputs,labels):\n",
    "        if label not in partition:\n",
    "            partition[label] = []\n",
    "        partition[label].append(data_point)\n",
    "    return partition\n",
    "\n",
    "partition = partition_dataset(x, y)\n",
    "print(partition)"
   ]
  },
  {
   "cell_type": "markdown",
   "metadata": {},
   "source": [
    "#### 3.2 **[1pt]** Write a function that takes the `partition` in input and returns a dictionary hashing each class to its corresponding prototype $\\mu_y$."
   ]
  },
  {
   "cell_type": "markdown",
   "metadata": {},
   "source": [
    "Hint: function `dict.items()` returns a list of pairs `(key, value)` from the dictionary.\n",
    "Then a _dictionary comprehension_ works same as a list comprehension, with a `for` loop that generates elements. Only this time you need to pass both a key and a value like this:\n",
    "```python\n",
    "d = { the_key: compute_value(a, b) for a, b in another_dict.items() }\n",
    "```\n",
    "If you can use that then the answer is basically one line. If it is complicated instead, write explicit `for` loops, which are exactly equivalent (and perhaps even more readable:\n",
    "```python\n",
    "d = {}\n",
    "for a, b in another_dict.items():\n",
    "    d[the_key] = compute_value(a, b)\n",
    "```\n",
    "Just find a style that is comfortable with you. May take a few weeks but you will get there."
   ]
  },
  {
   "cell_type": "code",
   "execution_count": 13,
   "metadata": {
    "ExecuteTime": {
     "end_time": "2024-03-16T08:32:34.960582Z",
     "start_time": "2024-03-16T08:32:34.956947Z"
    }
   },
   "outputs": [
    {
     "name": "stdout",
     "output_type": "stream",
     "text": [
      "{2: array([5.006, 1.462]), 1: array([6.262, 4.906])}\n"
     ]
    }
   ],
   "source": [
    "def prototype(partition):\n",
    "    prototypes = {}\n",
    "    for class_label, data_points in partition.items():\n",
    "        prototypes[class_label] = np.mean(data_points, axis=0)\n",
    "    return prototypes\n",
    "\n",
    "prototypes = prototype(partition)\n",
    "print(prototypes)"
   ]
  },
  {
   "cell_type": "markdown",
   "metadata": {},
   "source": [
    "#### 3.3 **[1pt]** Write a function that takes the `partition` in input and returns a dictionary hashing each class to its corresponding prior $\\pi_y$."
   ]
  },
  {
   "cell_type": "code",
   "execution_count": 14,
   "metadata": {
    "ExecuteTime": {
     "end_time": "2024-03-16T08:32:34.964573Z",
     "start_time": "2024-03-16T08:32:34.961528Z"
    }
   },
   "outputs": [
    {
     "name": "stdout",
     "output_type": "stream",
     "text": [
      "{2: 0.3333333333333333, 1: 0.6666666666666666}\n"
     ]
    }
   ],
   "source": [
    "def prior(partition):\n",
    "    prior = {}\n",
    "    total_count = sum(len(point) for point in partition.values())\n",
    "    for class_label, data_points in partition.items():\n",
    "        prior[class_label] = len(data_points)/total_count\n",
    "    return prior\n",
    "\n",
    "prior = prior(partition)\n",
    "print(prior)"
   ]
  },
  {
   "cell_type": "markdown",
   "metadata": {},
   "source": [
    "#### 3.4 **[4pt]** Write a function that takes the `partition` in input and the class-wise center estimates (the means from above) and returns the corresponding $\\Sigma$ (one for all classes and all inputs).\n",
    "You may need to use `np.concatenate()` to join the $x_i - \\hat{\\mu}_{y_i}$ from each class. Print the `array.shape` (property not method so no `()`) to verify if your linear algebra is on point so far: the covariance matrix between all inputs should have as many rows (and columns) as the number of features (hint: that's 2). Example: `assert sigma.shape == (2,2)` should not raise an error."
   ]
  },
  {
   "cell_type": "markdown",
   "source": [
    " $$\\sigma = (X - \\mu)^T * (X - \\mu) / n$$ \n",
    " Own purpose"
   ],
   "metadata": {
    "collapsed": false
   }
  },
  {
   "cell_type": "code",
   "execution_count": 15,
   "metadata": {
    "ExecuteTime": {
     "end_time": "2024-03-16T08:32:34.969535Z",
     "start_time": "2024-03-16T08:32:34.965503Z"
    }
   },
   "outputs": [
    {
     "name": "stdout",
     "output_type": "stream",
     "text": [
      "[[0.33055867 0.30456133]\n",
      " [0.30456133 0.45969467]]\n"
     ]
    }
   ],
   "source": [
    "def corresponding_sum(partition,means):\n",
    "    diffs = []\n",
    "    for class_label, data_points in partition.items():\n",
    "        diffs.extend([data_point - means[class_label] for data_point in data_points])\n",
    "    # Convert the list of differences to a NumPy array\n",
    "    diffs = np.array(diffs)\n",
    "    # covarience\n",
    "    sigma = np.dot(diffs.T, diffs) / len(diffs)\n",
    "    return sigma\n",
    "# Test\n",
    "sigma = corresponding_sum(partition,prototypes)\n",
    "print(sigma)\n",
    "#assert sigma.shape == (2,2)\n",
    "    "
   ]
  },
  {
   "cell_type": "code",
   "outputs": [
    {
     "name": "stdout",
     "output_type": "stream",
     "text": [
      "[[0.33277718 0.30660537]\n",
      " [0.30660537 0.46277987]]\n"
     ]
    }
   ],
   "source": [
    "# Second method\n",
    "\n",
    "def corresponding_sigma(partition, means):\n",
    "    diffs = np.concatenate([data_points - means[class_label] for class_label, data_points in partition.items()])\n",
    "    # Covariance matrix estimation\n",
    "    sigma = np.dot(diffs.T, diffs) / (len(diffs) - 1)\n",
    "    return sigma\n",
    "\n",
    "# Test\n",
    "sigma = corresponding_sigma(partition, prototypes)\n",
    "print(sigma)\n"
   ],
   "metadata": {
    "collapsed": false,
    "ExecuteTime": {
     "end_time": "2024-03-16T08:32:34.973905Z",
     "start_time": "2024-03-16T08:32:34.970533Z"
    }
   },
   "execution_count": 16
  },
  {
   "cell_type": "markdown",
   "metadata": {},
   "source": [
    "#### 3.5 **[5pt]** Write the function for the decision boundary of LDA $f(x)$."
   ]
  },
  {
   "cell_type": "markdown",
   "metadata": {},
   "source": [
    "You can find the logarithm in the `math` module: `from math import log` then just `l = log(a)`. You need to implement the equations for $w$ and $q$ from the slides: this cell will be very math heavy, be careful though and you should be able to get it right in few lines. Remember to check for the shape of $w$ and $b$ to verify if your matrix products are computed the right way. You want $w$ to be of length 2, and $b$ is a scalar."
   ]
  },
  {
   "cell_type": "markdown",
   "source": [
    "firt let us write the equation of the decision boundary\n",
    "$$f(x) = w^T x + b$$\n",
    "where:\n",
    "- $w$ is the weight vector\n",
    "- $x$ is the input vector\n",
    "- $b$ is the bias\n",
    "\n",
    "To solve this problem. We will use the following steps:\n",
    "\n",
    "1. Calculate w\n",
    "w = $\\Sigma^{-1}(\\mu_1 - \\mu_2)$\n",
    "2. Calculate b\n",
    "b = $-\\frac{1}{2} (\\mu_1^T \\Sigma^{-1} \\mu_1 - \\mu_2^T \\Sigma^{-1} \\mu_2) + \\ln \\left( \\frac{P(\\omega_2)}{P(\\omega_1)} \\right)$\n",
    "\n"
   ],
   "metadata": {
    "collapsed": false
   }
  },
  {
   "cell_type": "code",
   "outputs": [
    {
     "name": "stdout",
     "output_type": "stream",
     "text": [
      "[-7.91218649 12.68404115]\n",
      "3.4981245066483897\n",
      "20.954020311595094\n"
     ]
    }
   ],
   "source": [
    "from math import log\n",
    "def calculate_decision_boundary(x,partition,prototypes,sigma):\n",
    "    w = np.dot(np.linalg.inv(sigma), (prototypes[1] - prototypes[2]))\n",
    "    b = -0.5 * (np.dot(np.dot(prototypes[1].T, np.linalg.inv(sigma)), prototypes[1]) - np.dot(np.dot(prototypes[2].T, np.linalg.inv(sigma)), prototypes[2])) + log(prior[2]/prior[1])\n",
    "    print(w)\n",
    "    print(b)\n",
    "    return np.dot(w.T, x) + b\n",
    "\n",
    "# Test\n",
    "# x = np.array([1, 2])\n",
    "print(calculate_decision_boundary(np.array([1, 2]),partition,prototypes,sigma))"
   ],
   "metadata": {
    "collapsed": false,
    "ExecuteTime": {
     "end_time": "2024-03-16T08:32:34.980109Z",
     "start_time": "2024-03-16T08:32:34.975433Z"
    }
   },
   "execution_count": 17
  },
  {
   "cell_type": "code",
   "outputs": [
    {
     "name": "stdout",
     "output_type": "stream",
     "text": [
      "Equation of the decision boundary: y = -7.91x1 + 12.68x2 + 3.50\n"
     ]
    }
   ],
   "source": [
    "from math import log\n",
    "\n",
    "def calculate_decision_boundary(x, partition, prototypes, sigma):\n",
    "    w = np.dot(np.linalg.inv(sigma), (prototypes[1] - prototypes[2]))\n",
    "    b = -0.5 * (np.dot(np.dot(prototypes[1].T, np.linalg.inv(sigma)), prototypes[1]) - np.dot(np.dot(prototypes[2].T, np.linalg.inv(sigma)), prototypes[2])) + log(prior[2] / prior[1])\n",
    "    return w, b\n",
    "\n",
    "# Test\n",
    "#x = np.array([1, 2])\n",
    "w, b = calculate_decision_boundary(np.array([1, 2]), partition, prototypes, sigma)\n",
    "print(\"Equation of the decision boundary: y = {:.2f}x1 + {:.2f}x2 + {:.2f}\".format(w[0], w[1], b))\n"
   ],
   "metadata": {
    "collapsed": false,
    "ExecuteTime": {
     "end_time": "2024-03-16T08:32:34.985078Z",
     "start_time": "2024-03-16T08:32:34.980928Z"
    }
   },
   "execution_count": 18
  },
  {
   "cell_type": "code",
   "outputs": [],
   "source": [],
   "metadata": {
    "collapsed": false,
    "ExecuteTime": {
     "end_time": "2024-03-16T08:32:34.987554Z",
     "start_time": "2024-03-16T08:32:34.985987Z"
    }
   },
   "execution_count": 18
  },
  {
   "cell_type": "markdown",
   "source": [],
   "metadata": {
    "collapsed": false
   }
  },
  {
   "cell_type": "markdown",
   "metadata": {},
   "source": [
    "#### 3.6 **[2pt]** Plot the LDA decision boundary on top of the data."
   ]
  },
  {
   "cell_type": "markdown",
   "metadata": {},
   "source": [
    "    - Notice that we are using different data from the Linear Regression questions above, and that our model now generated $w$ and $b$ separately, so you **need** to adapt the plotting functions -- actually it's quicker to just rewrite them.\n",
    "- Plotting is one of few applications where generalizing your code just makes for a stunted replica of the original (better) interface, so specialize when needed but for different applications just write a new one rather than reusing your code.\n",
    "- Remember that we already had a good plotting function for a classification problem just last week, why don't you check it out again?\n",
    "- Finally, remember that you already have code that converts a parametrization from $w$ and $b$ to $m$ and $q$ (last assignment), you can simply copy+paste it here to simplify your generation of the model's points."
   ]
  },
  {
   "cell_type": "code",
   "outputs": [
    {
     "name": "stdout",
     "output_type": "stream",
     "text": [
      "Equation of the decision boundary: y = -7.91x1 + 12.68x2 + 3.50\n"
     ]
    },
    {
     "data": {
      "text/plain": "<Figure size 432x288 with 1 Axes>",
      "image/png": "[encoded data removed]"
     },
     "metadata": {},
     "output_type": "display_data"
    }
   ],
   "source": [
    "import matplotlib.pyplot as plt\n",
    "\n",
    "\n",
    "def calculate_decision_boundary(x, partition, prototypes, sigma):\n",
    "    w = np.dot(np.linalg.inv(sigma), (prototypes[1] - prototypes[2]))\n",
    "    b = -0.5 * (np.dot(np.dot(prototypes[1].T, np.linalg.inv(sigma)), prototypes[1]) - np.dot(np.dot(prototypes[2].T, np.linalg.inv(sigma)), prototypes[2])) + log(prior[2] / prior[1])\n",
    "    return w, b\n",
    "\n",
    "# Test\n",
    "# x = np.array([1, 2])\n",
    "w, b = calculate_decision_boundary(np.array([1, 2]), partition, prototypes, sigma)\n",
    "print(\"Equation of the decision boundary: y = {:.2f}x1 + {:.2f}x2 + {:.2f}\".format(w[0], w[1], b))\n",
    "\n",
    "# Plot the data points\n",
    "for class_label, data_points in partition.items():\n",
    "    plt.scatter([data_point[0] for data_point in data_points], [data_point[1] for data_point in data_points], label=f'Class {class_label}')\n",
    "\n",
    "\n",
    "# Plot the decision boundary\n",
    "x1 = np.linspace(4, 8, 100) # it means \n",
    "x2 = np.linspace(1, 5, 100)\n",
    "X1, X2 = np.meshgrid(x1, x2)\n",
    "Z = w[0] * X1 + w[1] * X2 + b\n",
    "plt.contour(X1, X2, Z, levels=[0], colors='black')\n",
    "\n",
    "plt.xlabel('x1')\n",
    "plt.ylabel('x2')\n",
    "plt.legend()\n",
    "plt.show()\n"
   ],
   "metadata": {
    "collapsed": false,
    "ExecuteTime": {
     "end_time": "2024-03-16T08:32:35.168975Z",
     "start_time": "2024-03-16T08:32:34.988369Z"
    }
   },
   "execution_count": 19
  },
  {
   "cell_type": "code",
   "outputs": [
    {
     "name": "stdout",
     "output_type": "stream",
     "text": [
      "w: [-7.91218649 12.68404115]\n",
      "b: 3.4981245066483897\n"
     ]
    },
    {
     "data": {
      "text/plain": "<Figure size 576x432 with 2 Axes>",
      "image/png": "[encoded data removed]"
     },
     "metadata": {},
     "output_type": "display_data"
    }
   ],
   "source": [
    "def calculate_decision_boundary_params(partition, prototypes, sigma, prior):\n",
    "    w = np.dot(np.linalg.inv(sigma), (prototypes[1] - prototypes[2]))\n",
    "    b = -0.5 * (np.dot(np.dot(prototypes[1].T, np.linalg.inv(sigma)), prototypes[1]) - np.dot(np.dot(prototypes[2].T, np.linalg.inv(sigma)), prototypes[2])) + log(prior[2] / prior[1])\n",
    "    return w, b\n",
    "\n",
    "# Appel de la fonction pour obtenir w et b\n",
    "w, b = calculate_decision_boundary_params(partition, prototypes, sigma, prior)\n",
    "print(\"w:\", w)\n",
    "print(\"b:\", b)\n",
    "\n",
    "\n",
    "# Fonction pour calculer la frontière de décision LDA\n",
    "def calculate_decision_boundary(x, w, b):\n",
    "    return (-b - w[0] * x) / w[1]\n",
    "\n",
    "# Paramètres de la frontière de décision LDA (remplacez les valeurs par les vôtres)\n",
    "w = np.array([-7.91218649, 12.68404115])\n",
    "b = 3.4981245066483897\n",
    "\n",
    "# Tracer les données\n",
    "plt.figure(figsize=(8, 6))\n",
    "plt.scatter(x[:, 0], x[:, 1], c=y, cmap='viridis', label='Data points')\n",
    "\n",
    "# Tracer la frontière de décision LDA\n",
    "x_values = np.linspace(min(x[:, 0]), max(x[:, 0]), 100)\n",
    "plt.plot(x_values, calculate_decision_boundary(x_values, w, b), color='red', label='Decision Boundary')\n",
    "\n",
    "plt.xlabel('Feature 1')\n",
    "plt.ylabel('Feature 2')\n",
    "plt.title('LDA Decision Boundary')\n",
    "plt.colorbar(label='Class')\n",
    "plt.legend()\n",
    "plt.show()"
   ],
   "metadata": {
    "collapsed": false,
    "ExecuteTime": {
     "end_time": "2024-03-16T08:32:35.386572Z",
     "start_time": "2024-03-16T08:32:35.169698Z"
    }
   },
   "execution_count": 20
  },
  {
   "cell_type": "code",
   "outputs": [],
   "source": [],
   "metadata": {
    "collapsed": false,
    "ExecuteTime": {
     "end_time": "2024-03-16T08:32:35.389332Z",
     "start_time": "2024-03-16T08:32:35.387600Z"
    }
   },
   "execution_count": 20
  },
  {
   "cell_type": "markdown",
   "source": [
    "#### 3.7 **[1pt]** Find LDA on scikit-learn; train a model on the data and add it to the print above (data + model from your implementation)."
   ],
   "metadata": {
    "collapsed": false
   }
  },
  {
   "cell_type": "markdown",
   "metadata": {},
   "source": [
    "You ned to pass the correct `solver` parameter to the sklearn constructor, check the documentation to understand what I mean. If you do not the result should still look exactly the same as your implementation (because the data is linearly separable), but you should be aware of which technique your library uses and we have not gotten to SVD yet.  \n",
    "Remember to make sure that you can distinguish the two boundaries even if they overlap (e.g. use different colors). If you use our conversions from last exercise you should also see the printed values of $m$ and $q$ and they are likely to differ in the least significant digits even though the graph looks the same.  \n",
    "Also consider that LDA is a **multiclass method**, and so its parametrization is in principle a list for the many boundaries: you need to access the coefficients of the _first_ (and here, only) boundary using `[trained_model.coef_[0], trained_model.intercept_[0]]`."
   ]
  },
  {
   "cell_type": "code",
   "outputs": [
    {
     "name": "stdout",
     "output_type": "stream",
     "text": [
      "Coefficients de la droite de décision: [[  7.85908457 -12.59891336]]\n",
      "Interception de la droite de décision: [-4.85628953]\n"
     ]
    }
   ],
   "source": [
    "from sklearn.discriminant_analysis import LinearDiscriminantAnalysis\n",
    "\n",
    "# Créer une instance de LinearDiscriminantAnalysis\n",
    "lda_model = LinearDiscriminantAnalysis()\n",
    "\n",
    "# Adapter le modèle aux données\n",
    "lda_model.fit(x, y)\n",
    "\n",
    "# Afficher les coefficients de la droite de décision et l'interception\n",
    "print(\"Coefficients de la droite de décision:\", lda_model.coef_)\n",
    "print(\"Interception de la droite de décision:\", lda_model.intercept_)\n"
   ],
   "metadata": {
    "collapsed": false,
    "ExecuteTime": {
     "end_time": "2024-03-16T08:32:35.397403Z",
     "start_time": "2024-03-16T08:32:35.390151Z"
    }
   },
   "execution_count": 21
  },
  {
   "cell_type": "markdown",
   "metadata": {},
   "source": [
    "## At the end of the exercise"
   ]
  },
  {
   "cell_type": "markdown",
   "metadata": {},
   "source": [
    "Bonus question reward no points! Answering this will have no influence on your scoring, not at the assignment and not towards the exam score. But solving it will reward you with skills that will make the next lectures easier, give you real applications, and will be very good practice towards the exam.\n",
    "\n",
    "The solution for this questions will not be included in the regular lab solutions pdf, but you are welcome to open a discussion on the Moodle: we will support your addressing it, and you may meet other students that choose to solve this, and find a teammate for the next assignment that is willing to do things for fun and not only for score :)"
   ]
  },
  {
   "cell_type": "markdown",
   "metadata": {},
   "source": [
    "Let's see some multiclass classification. Copy the code loading the Iris dataset, you want to extract the same features (so you can plot in 2D), but keep the three classes.  \n",
    "_[think: does it matter what label does each class have? Could you use strings such as `['a', 'b', 'c']`?]_  \n",
    "Then run the scikit-learn LDA on the data to obtain a trained model. At this point you can open up the trained coefficients again, and rather than taking only the first like you did with `[trained.coef_[0], trained.intercept_[0]]`, you should have TWO $w$ vectors and TWO $b$ constants **per each pair** of classes.\n",
    "_[think: the space is actually split in several subspaces. Can you derive how many? Can you design a decision tree on top of the boundaries to do the classification as the number of boundaries grow?]_"
   ]
  },
  {
   "cell_type": "markdown",
   "metadata": {},
   "source": [
    "#### BONUS **[ZERO pt]** Plot the boundaries classifying the three species of Iris in the dataset based on the two features used so far."
   ]
  },
  {
   "cell_type": "code",
   "execution_count": 21,
   "metadata": {
    "ExecuteTime": {
     "end_time": "2024-03-16T08:32:35.399987Z",
     "start_time": "2024-03-16T08:32:35.398301Z"
    }
   },
   "outputs": [],
   "source": []
  },
  {
   "cell_type": "markdown",
   "metadata": {},
   "source": [
    "### Final considerations"
   ]
  },
  {
   "cell_type": "markdown",
   "metadata": {},
   "source": [
    "Stop for a moment and think how hard it was to derive these equations (in the lecture), and how hard it was instead to implement them (once you get them right). These are two very different skills.  \n",
    "To understand the derivation you need to think hard, express your concept in math (actually requiring broad knowledge of many of its subfields), see it through with absolute precision, and finally correctly solve the equations.  \n",
    "To implement the method, you need to map the math to the correct function calls (hard, but arguably less), and you only ever work with the final solution, but you deal with programming languages and libraries and documentations.  \n",
    "This is the reason why so many people nowadays broadly advertise machine learning skills after taking short tutorials. But if you do not understand what a parameter is for, you will only be guessing which value to use.\n",
    "\n",
    "The reason why you are sweating so much on this course is to gain an edge over all of those who only ever learn to _use_ the tools: by instead _making_ the tools you understand them from the inside out, their applications and limitations, and even become capable of adapting and improving them.  \n",
    "Keep up: this course is not easy, but machine learning has become unavoidable in your field, and these foundations will enable you to bend the whole field to your needs."
   ]
  }
 ],
 "metadata": {
  "kernelspec": {
   "display_name": "Python 3 (ipykernel)",
   "language": "python",
   "name": "python3"
  },
  "language_info": {
   "codemirror_mode": {
    "name": "ipython",
    "version": 3
   },
   "file_extension": ".py",
   "mimetype": "text/x-python",
   "name": "python",
   "nbconvert_exporter": "python",
   "pygments_lexer": "ipython3",
   "version": "3.8.10"
  }
 },
 "nbformat": 4,
 "nbformat_minor": 4
}
