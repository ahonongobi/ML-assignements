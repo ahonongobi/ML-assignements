{
 "cells": [
  {
   "cell_type": "markdown",
   "metadata": {},
   "source": [
    "Please fill in your name and that of your teammate.\n",
    "\n",
    "You: **Ahonon Gobi Parfait**\n",
    "\n",
    "Teammate:"
   ]
  },
  {
   "cell_type": "markdown",
   "metadata": {},
   "source": [
    "# Introduction"
   ]
  },
  {
   "cell_type": "markdown",
   "metadata": {},
   "source": [
    "Welcome to the third lab. There is much to go through today so we will keep extra concepts to a minimum. There is no new library introduced at this lecture as we will keep using `numpy` for the heavy lifting, `scikit-learn` for the algorithms, and `seaborn` / `matplotlib` for plotting. Careful about reusing variable names in the notebook and computing cells out of order: frequent calls to `Kernel -> Restart and Run All` can save you from headaches.\n",
    "\n",
    "The assignment starts getting math-heavy. Here's a new tool to aid you with the debugging. Explicitly `import IPython` at the beginning of a notebook (or Python file) to have access to the computational Python kernel. You can then call `IPython.embed()` at an arbitrary place in your code (say, inside a loop) and it will pause the computation and drop you into an interactive console. You can then evaluate Python code in the context where it was called. Here is an example:\n",
    "\n",
    "```python\n",
    "import numpy as np\n",
    "for i in range(10):\n",
    "    guess = np.random.normal()\n",
    "    function_that_fails_because_of(guess, i)\n",
    "```\n",
    "\n",
    "Let's say your function fails for `i==9`, how would you find the error? Typically you may want to edit the code and print `guess` and `i` to see what is happening, but it is slow and passive. What if you want to try to pass `i+1` and see if that works? What if you want to try a few other random numbers with the same `i`? Enter `IPython.embed()`:\n",
    "\n",
    "```python\n",
    "import numpy as np\n",
    "import IPython\n",
    "for i in range(10):\n",
    "    guess = np.random.normal()\n",
    "    if i==9: IPython.embed()\n",
    "    function_that_fails_because_of(guess, i)\n",
    "```\n",
    "\n",
    "If you execute this code, the cell output will show an interactive console in your output cell. Here you can send commands to be interpreted by the Python kernel of the notebook. You could then try something like the following lines for example (one at a time):\n",
    "\n",
    "```python\n",
    "i #=> prints value of i\n",
    "guess  #=> prints value of guess\n",
    "function_that_fails_because_of(guess, i) #=> fails and shows you the error\n",
    "function_that_fails_because_of(guess, i+1) #=> change parameters: will it work?\n",
    "function_that_fails_because_of(guess, i-1) #=> what about this one?\n",
    "guess = np.random.normal() #=> overwrites the value of `guess` in the kernel\n",
    "function_that_fails_because_of(guess, i) #=> will this work this time?\n",
    "```\n",
    "\n",
    "As you can see you can test your code in the context of the function (or, here, loop), find the code that works, then you can go ahead and copy+paste in your actual code. If you need to exit the console and resume the computation (with whatever change you executed, as the kernel is the same) just type `exit()`.\n",
    "\n",
    "_Bonus:_ you can ask the kernel to drop you into a _debugger_ session every time you get an error. This can be tricky with Jupyter Notebooks, so use with caution, but can also be a lifesaver if you are willing to learn about [postmortem debugging](https://medium.com/instamojo-matters/become-a-pdb-power-user-e3fc4e2774b2). You do that by adding the following lines on top of your code (need to execute them only once):\n",
    "\n",
    "```python\n",
    "# DEBUG: uncaught exceptions drop you into ipdb for postmortem debugging\n",
    "import sys, IPython; sys.excepthook = IPython.core.ultratb.ColorTB(call_pdb=True)\n",
    "```\n",
    "\n",
    "After this line, if you encounter an error or uncaught exception in your code, rather than terminating you will be dropped in an `ipdb` (fancier version of `pdb`) console where you can interrogate the program about the conditions causing the crash.\n",
    "\n",
    "Good hunting!"
   ]
  },
  {
   "cell_type": "markdown",
   "metadata": {},
   "source": [
    "### How to pass the lab?"
   ]
  },
  {
   "cell_type": "markdown",
   "metadata": {},
   "source": [
    "Below you find the exercise questions. Each question awarding points is numbered and states the number of points like this: **[0pt]**. To answer a question, fill the cell below with your answer (markdown for text, code for implementation). Incorrect or incomplete answers are in principle worth 0 points: to assign partial reward is only up to teacher discretion. Over-complete answers do not award extra points (though they are appreciated and will be kept under consideration). Save your work frequently! (`ctrl+s`)\n",
    "\n",
    "**You need at least 22 points (out of 33 available) to pass** (66%)."
   ]
  },
  {
   "cell_type": "markdown",
   "metadata": {},
   "source": [
    "# 1. Fundamentals"
   ]
  },
  {
   "cell_type": "markdown",
   "metadata": {},
   "source": [
    "Let's make sure some of the core points are clear before addressing the specific algorithms.\n",
    "\n",
    "#### 1.1 **[1pt]** Write the equation of the Gaussian density. Use Latex inside the Markdown cell.\n",
    "\n",
    "I suggest you type it out rather than copy+paste from the Internet: the goal of this question is to _force_ you to read one term at a time, and understand which is clear to you and which is not.\n",
    "For example, the equation you will write here a norm, while our later applications of the formula do not, since we will actually be using the [Gaussian](https://en.wikipedia.org/wiki/Normal_distribution) Probability Density Function [(PDF)](https://en.wikipedia.org/wiki/Probability_density_function) equation instead. Do you understand why? Did you study this before?"
   ]
  },
  {
   "cell_type": "markdown",
   "metadata": {},
   "source": [
    "$$f(x,\\mu,\\sigma^2) = \\frac{1}{\\sqrt{2\\pi\\sigma^2}} e^{-\\frac{(x-\\mu)^2}{2\\sigma^2}}$$\n",
    "\n",
    "Where : \n",
    "x is the random variables\n",
    "$\\mu$ is the mean(average) of the distribution \n",
    "$\\sigma²$ is the variance of the distribution \n"
   ]
  },
  {
   "cell_type": "markdown",
   "source": [],
   "metadata": {
    "collapsed": false
   }
  },
  {
   "cell_type": "markdown",
   "metadata": {},
   "source": [
    "#### 1.2 **[1pt]** Explain why we maximize the log-likelihood rather than the likelihood. In particular, what is the advantage in using the $\\log$ rather than another operation?"
   ]
  },
  {
   "cell_type": "markdown",
   "source": [
    "R: Maximizing the log-likelihood rather than the likelihood is advantageous because it simplifies computations and helps avoid numerical underflow or overflow issues. The logarithm function compresses large ranges of values into a more manageable scale, making it easier to work with and compute gradients during optimization. "
   ],
   "metadata": {
    "collapsed": false
   }
  },
  {
   "cell_type": "markdown",
   "metadata": {},
   "source": []
  },
  {
   "cell_type": "markdown",
   "metadata": {},
   "source": [
    "#### 1.3 **[1pt]** Why the equation maximizing the log-likelihood of a Gaussian does not include the parameter $\\sigma$?"
   ]
  },
  {
   "cell_type": "markdown",
   "source": [
    "R: \n",
    "The equation maximizing the log-likelihood of a Gaussian does not include the parameter $\\sigma$ because it is a constant in the optimization problem. The log-likelihood function is maximized with respect to the parameters of the distribution, and $\\sigma$ is a parameter of the distribution, not a variable to be optimized."
   ],
   "metadata": {
    "collapsed": false
   }
  },
  {
   "cell_type": "markdown",
   "metadata": {},
   "source": []
  },
  {
   "cell_type": "markdown",
   "metadata": {},
   "source": [
    "#### 1.4 **[1pt]** Explain the meaning of i.i.d. (in English), using the simplest words you can."
   ]
  },
  {
   "cell_type": "markdown",
   "source": [
    "R: \n",
    "i.i.d. stands for independent and identically distributed. It means that the random variables in a sample are independent of each other and have the same probability distribution. In other words, the outcome of one random variable does not affect the outcome of another, and they all come from the same underlying distribution."
   ],
   "metadata": {
    "collapsed": false
   }
  },
  {
   "cell_type": "markdown",
   "metadata": {},
   "source": []
  },
  {
   "cell_type": "markdown",
   "metadata": {},
   "source": [
    "#### 1.5 **[2pt]** Write the equation of the Bayes' Rule (use Latex). Then write below how to read it in English."
   ]
  },
  {
   "cell_type": "markdown",
   "source": [
    "$$P(A|B) = \\frac{P(B|A) \\times P(A)}{P(B)}$$\n",
    "\n",
    "Reading: \n",
    "The probability of A given B is equal to the probability of B given A times the probability of A divided by the probability of B"
   ],
   "metadata": {
    "collapsed": false
   }
  },
  {
   "cell_type": "markdown",
   "metadata": {},
   "source": []
  },
  {
   "cell_type": "markdown",
   "metadata": {},
   "source": [
    "# 2. Linear Regression"
   ]
  },
  {
   "cell_type": "markdown",
   "metadata": {},
   "source": [
    "#### 2.1 **[2pt]** Explain the meaning of $y_i = \\langle w, x_i \\rangle + \\epsilon_i, \\;\\; \\epsilon \\sim \\mathcal{N}(0, \\sigma^2)$ (in English). Utilize the word 'prototype'."
   ]
  },
  {
   "cell_type": "markdown",
   "metadata": {},
   "source": [
    "R: This equation is a linear relationship between a dependant variables $y_i$ with an independant variables $x_i$ with an additional noise $\\epsilon_i$ . The termes prototypes refers to the ideal value or true values of the dependant variables $y_i$ for a sets of features values $x_i$\n"
   ]
  },
  {
   "cell_type": "markdown",
   "metadata": {},
   "source": [
    "Enough theory, let's get our hands in there. Since we are working with a regression task, let us generate some data from an underlying linear function with some noise.  \n",
    "_[think: the process below is (correct but) unnecessary convoluted: would you be able (yet) to simplify it? Always prefer simpler code!]_"
   ]
  },
  {
   "cell_type": "code",
   "execution_count": 1,
   "metadata": {
    "ExecuteTime": {
     "end_time": "2024-05-03T13:39:15.920129Z",
     "start_time": "2024-05-03T13:39:15.916309Z"
    }
   },
   "outputs": [],
   "source": [
    "import numpy as np\n",
    "trg_fn = lambda x: 2*x - 1 # hi I'm lambda, remember me?\n",
    "some_noise = lambda: np.random.normal(0,2) # Gaussian noise with mu=0, sigma=2\n",
    "# Below we add a 1 to every row as the bias (constant) input\n",
    "# Think about each part and discuss if you do not understand something yet!\n",
    "data = np.array([[x, 1, trg_fn(x) + some_noise()] for x in np.linspace(-10, 10, 50)])\n",
    "*x, y = data.transpose() # easier using splat and numpy: do you understand it?\n",
    "x = np.array(x).transpose() # back to *rows* with input features and bias input"
   ]
  },
  {
   "cell_type": "code",
   "outputs": [
    {
     "data": {
      "text/plain": "array([[-10.        ,   1.        , -17.77841815],\n       [ -9.59183673,   1.        , -21.990031  ],\n       [ -9.18367347,   1.        , -18.24975521],\n       [ -8.7755102 ,   1.        , -16.67257269],\n       [ -8.36734694,   1.        , -16.48659498],\n       [ -7.95918367,   1.        , -16.77883821],\n       [ -7.55102041,   1.        , -14.97290306],\n       [ -7.14285714,   1.        , -15.14215937],\n       [ -6.73469388,   1.        , -11.9915281 ],\n       [ -6.32653061,   1.        , -13.08009003],\n       [ -5.91836735,   1.        , -17.38532878],\n       [ -5.51020408,   1.        , -13.3389193 ],\n       [ -5.10204082,   1.        , -11.92294797],\n       [ -4.69387755,   1.        , -11.39241608],\n       [ -4.28571429,   1.        ,  -7.89559538],\n       [ -3.87755102,   1.        , -12.25639803],\n       [ -3.46938776,   1.        ,  -6.16626684],\n       [ -3.06122449,   1.        ,  -6.2896545 ],\n       [ -2.65306122,   1.        , -11.87492243],\n       [ -2.24489796,   1.        ,  -6.31177332],\n       [ -1.83673469,   1.        ,  -5.47371291],\n       [ -1.42857143,   1.        ,  -5.06268362],\n       [ -1.02040816,   1.        ,  -1.65593863],\n       [ -0.6122449 ,   1.        ,  -1.14586748],\n       [ -0.20408163,   1.        ,  -1.87407305],\n       [  0.20408163,   1.        ,  -2.0429767 ],\n       [  0.6122449 ,   1.        ,  -1.13920793],\n       [  1.02040816,   1.        ,   2.34734593],\n       [  1.42857143,   1.        ,   1.13379452],\n       [  1.83673469,   1.        ,   2.83314719],\n       [  2.24489796,   1.        ,   1.0866482 ],\n       [  2.65306122,   1.        ,   4.92647986],\n       [  3.06122449,   1.        ,   6.78208766],\n       [  3.46938776,   1.        ,   7.65363608],\n       [  3.87755102,   1.        ,   6.0493291 ],\n       [  4.28571429,   1.        ,   8.96951353],\n       [  4.69387755,   1.        ,   6.09298491],\n       [  5.10204082,   1.        ,   6.32892059],\n       [  5.51020408,   1.        ,   7.20678659],\n       [  5.91836735,   1.        ,  10.01344128],\n       [  6.32653061,   1.        ,  12.556508  ],\n       [  6.73469388,   1.        ,  12.45947492],\n       [  7.14285714,   1.        ,  12.57572632],\n       [  7.55102041,   1.        ,  15.93156135],\n       [  7.95918367,   1.        ,  16.24595154],\n       [  8.36734694,   1.        ,  16.84485102],\n       [  8.7755102 ,   1.        ,  14.40962749],\n       [  9.18367347,   1.        ,  16.61133618],\n       [  9.59183673,   1.        ,  16.74610933],\n       [ 10.        ,   1.        ,  18.00776927]])"
     },
     "execution_count": 2,
     "metadata": {},
     "output_type": "execute_result"
    }
   ],
   "source": [
    "# for my own puspose and to se clearly what is done!!!!!\n",
    "data"
   ],
   "metadata": {
    "collapsed": false,
    "ExecuteTime": {
     "end_time": "2024-05-03T13:39:16.178827Z",
     "start_time": "2024-05-03T13:39:16.173685Z"
    }
   },
   "execution_count": 2
  },
  {
   "cell_type": "code",
   "outputs": [
    {
     "data": {
      "text/plain": "array([[-10.        ,  -9.59183673,  -9.18367347,  -8.7755102 ,\n         -8.36734694,  -7.95918367,  -7.55102041,  -7.14285714,\n         -6.73469388,  -6.32653061,  -5.91836735,  -5.51020408,\n         -5.10204082,  -4.69387755,  -4.28571429,  -3.87755102,\n         -3.46938776,  -3.06122449,  -2.65306122,  -2.24489796,\n         -1.83673469,  -1.42857143,  -1.02040816,  -0.6122449 ,\n         -0.20408163,   0.20408163,   0.6122449 ,   1.02040816,\n          1.42857143,   1.83673469,   2.24489796,   2.65306122,\n          3.06122449,   3.46938776,   3.87755102,   4.28571429,\n          4.69387755,   5.10204082,   5.51020408,   5.91836735,\n          6.32653061,   6.73469388,   7.14285714,   7.55102041,\n          7.95918367,   8.36734694,   8.7755102 ,   9.18367347,\n          9.59183673,  10.        ],\n       [  1.        ,   1.        ,   1.        ,   1.        ,\n          1.        ,   1.        ,   1.        ,   1.        ,\n          1.        ,   1.        ,   1.        ,   1.        ,\n          1.        ,   1.        ,   1.        ,   1.        ,\n          1.        ,   1.        ,   1.        ,   1.        ,\n          1.        ,   1.        ,   1.        ,   1.        ,\n          1.        ,   1.        ,   1.        ,   1.        ,\n          1.        ,   1.        ,   1.        ,   1.        ,\n          1.        ,   1.        ,   1.        ,   1.        ,\n          1.        ,   1.        ,   1.        ,   1.        ,\n          1.        ,   1.        ,   1.        ,   1.        ,\n          1.        ,   1.        ,   1.        ,   1.        ,\n          1.        ,   1.        ],\n       [-17.77841815, -21.990031  , -18.24975521, -16.67257269,\n        -16.48659498, -16.77883821, -14.97290306, -15.14215937,\n        -11.9915281 , -13.08009003, -17.38532878, -13.3389193 ,\n        -11.92294797, -11.39241608,  -7.89559538, -12.25639803,\n         -6.16626684,  -6.2896545 , -11.87492243,  -6.31177332,\n         -5.47371291,  -5.06268362,  -1.65593863,  -1.14586748,\n         -1.87407305,  -2.0429767 ,  -1.13920793,   2.34734593,\n          1.13379452,   2.83314719,   1.0866482 ,   4.92647986,\n          6.78208766,   7.65363608,   6.0493291 ,   8.96951353,\n          6.09298491,   6.32892059,   7.20678659,  10.01344128,\n         12.556508  ,  12.45947492,  12.57572632,  15.93156135,\n         16.24595154,  16.84485102,  14.40962749,  16.61133618,\n         16.74610933,  18.00776927]])"
     },
     "execution_count": 3,
     "metadata": {},
     "output_type": "execute_result"
    }
   ],
   "source": [
    "data.transpose()"
   ],
   "metadata": {
    "collapsed": false,
    "ExecuteTime": {
     "end_time": "2024-05-03T13:39:16.198783Z",
     "start_time": "2024-05-03T13:39:16.194574Z"
    }
   },
   "execution_count": 3
  },
  {
   "cell_type": "code",
   "outputs": [
    {
     "data": {
      "text/plain": "array([[-10.        ,   1.        ],\n       [ -9.59183673,   1.        ],\n       [ -9.18367347,   1.        ],\n       [ -8.7755102 ,   1.        ],\n       [ -8.36734694,   1.        ],\n       [ -7.95918367,   1.        ],\n       [ -7.55102041,   1.        ],\n       [ -7.14285714,   1.        ],\n       [ -6.73469388,   1.        ],\n       [ -6.32653061,   1.        ],\n       [ -5.91836735,   1.        ],\n       [ -5.51020408,   1.        ],\n       [ -5.10204082,   1.        ],\n       [ -4.69387755,   1.        ],\n       [ -4.28571429,   1.        ],\n       [ -3.87755102,   1.        ],\n       [ -3.46938776,   1.        ],\n       [ -3.06122449,   1.        ],\n       [ -2.65306122,   1.        ],\n       [ -2.24489796,   1.        ],\n       [ -1.83673469,   1.        ],\n       [ -1.42857143,   1.        ],\n       [ -1.02040816,   1.        ],\n       [ -0.6122449 ,   1.        ],\n       [ -0.20408163,   1.        ],\n       [  0.20408163,   1.        ],\n       [  0.6122449 ,   1.        ],\n       [  1.02040816,   1.        ],\n       [  1.42857143,   1.        ],\n       [  1.83673469,   1.        ],\n       [  2.24489796,   1.        ],\n       [  2.65306122,   1.        ],\n       [  3.06122449,   1.        ],\n       [  3.46938776,   1.        ],\n       [  3.87755102,   1.        ],\n       [  4.28571429,   1.        ],\n       [  4.69387755,   1.        ],\n       [  5.10204082,   1.        ],\n       [  5.51020408,   1.        ],\n       [  5.91836735,   1.        ],\n       [  6.32653061,   1.        ],\n       [  6.73469388,   1.        ],\n       [  7.14285714,   1.        ],\n       [  7.55102041,   1.        ],\n       [  7.95918367,   1.        ],\n       [  8.36734694,   1.        ],\n       [  8.7755102 ,   1.        ],\n       [  9.18367347,   1.        ],\n       [  9.59183673,   1.        ],\n       [ 10.        ,   1.        ]])"
     },
     "execution_count": 4,
     "metadata": {},
     "output_type": "execute_result"
    }
   ],
   "source": [
    "x"
   ],
   "metadata": {
    "collapsed": false,
    "ExecuteTime": {
     "end_time": "2024-05-03T13:39:16.226908Z",
     "start_time": "2024-05-03T13:39:16.223039Z"
    }
   },
   "execution_count": 4
  },
  {
   "cell_type": "markdown",
   "source": [],
   "metadata": {
    "collapsed": false
   }
  },
  {
   "cell_type": "markdown",
   "source": [],
   "metadata": {
    "collapsed": false
   }
  },
  {
   "cell_type": "markdown",
   "metadata": {},
   "source": [
    "#### 2.2 **[1pt]** Write a (Python) function that takes a data point in input and returns the squared error Loss. Test it by using a constant prediction model $y = 1$ and compute the Risk over all the data."
   ]
  },
  {
   "cell_type": "markdown",
   "source": [
    "here is the formular : $\\text{Squared Error Loss} = \\frac{1}{n} \\sum_{i=1}^{n} (y_i - \\hat{y}_i)²$"
   ],
   "metadata": {
    "collapsed": false
   }
  },
  {
   "cell_type": "code",
   "execution_count": 5,
   "metadata": {
    "ExecuteTime": {
     "end_time": "2024-05-03T13:39:16.264755Z",
     "start_time": "2024-05-03T13:39:16.261577Z"
    }
   },
   "outputs": [
    {
     "name": "stdout",
     "output_type": "stream",
     "text": [
      "Risk: 7051.335302503083\n"
     ]
    }
   ],
   "source": [
    "\n",
    "def square_loss(target, prediction):\n",
    "    return (target - prediction)**2\n",
    "\n",
    "sql_loss_risk = sum(square_loss(targ, 1) for targ in y)\n",
    "\n",
    "print(f\"Risk: {sql_loss_risk}\")\n",
    "    \n",
    "    "
   ]
  },
  {
   "cell_type": "code",
   "outputs": [
    {
     "name": "stdout",
     "output_type": "stream",
     "text": [
      "Risk: 141.02670605006162\n"
     ]
    }
   ],
   "source": [
    "# second method\n",
    "def squared_error_loss(data_point):\n",
    "    x = data_point[:-1]\n",
    "    y = data_point[-1]\n",
    "    prediction = 1\n",
    "    loss = (y - prediction)**2\n",
    "    return loss\n",
    "\n",
    "# Compute the squared error loss for each data point\n",
    "losses = [squared_error_loss(data_point) for data_point in data]\n",
    "# Compute the risk\n",
    "risk = np.mean(losses)\n",
    "print(f\"Risk: {risk}\")"
   ],
   "metadata": {
    "collapsed": false,
    "ExecuteTime": {
     "end_time": "2024-05-03T13:39:16.307637Z",
     "start_time": "2024-05-03T13:39:16.304286Z"
    }
   },
   "execution_count": 6
  },
  {
   "cell_type": "markdown",
   "metadata": {},
   "source": [
    "[IMPORTANT]: A few tips before we proceed:\n",
    "- Numpy's linear algebra library provides matrix inversion, but you should use instead the pseudo-inverse to cope with singular covariance matrices: `np.linalg.pinv()`\n",
    "- Numpy's array provides inner product with the function `dot()`\n",
    "- Typically `dot()` will find the right direction for one-dimensional arrays, which means that you should never need to transpose them\n",
    "- Using `dot()` with matrices instead *always* requires you to `transpose()` to the right orientation! Write the math and keep track of what you are doing.\n",
    "- Remember that matrix product is not commutative: `A.dot(B)` is NOT equal to `B.dot(A)`. Refresh also how `A.dot(B)` requires the number of columns of `A` to be the same as the number of rows of `B`, and the result will have the same number of rows of `A` and the number of columns of `B`.\n",
    "- Linear regression uses a closed-form solution, **not a loop**, and you will not use the implementation of the loss above in the rest of the assignment (because it is implicit in the algorithm's solution)."
   ]
  },
  {
   "cell_type": "markdown",
   "metadata": {},
   "source": [
    "#### 2.3 **[2pt]** Write a function that takes in input a list of data points and a list of labels, and returns the $w$ vector using the closed-form solution of Linear Regression. Test it on the data above and print the computed $w$."
   ]
  },
  {
   "cell_type": "markdown",
   "source": [
    "$$\\mathbf{w} = (\\mathbf{X}^\\intercal \\mathbf{X})^{-1} \\mathbf{X}^\\intercal \\mathbf{y}$$\n",
    "\n",
    "where: \n",
    "        \n",
    "w is the vector of model parameters, \n",
    "X is the feature matrix (each row represents an observation, each column a feature), \n",
    "and y is the vector of target values.\n"
   ],
   "metadata": {
    "collapsed": false
   }
  },
  {
   "cell_type": "code",
   "outputs": [
    {
     "name": "stdout",
     "output_type": "stream",
     "text": [
      "[ 1.95620303 -1.25117086]\n"
     ]
    }
   ],
   "source": [
    "def linear_regression(data_points, labels):\n",
    "    x = np.array([data_point[:-1] for data_point in data_points])\n",
    "    #y = np.array([data_point[-1] for data_point in data_points])\n",
    "    y = np.array(labels)\n",
    "    x_pseudo_inv = np.linalg.pinv(x)\n",
    "    w = x_pseudo_inv.dot(y)\n",
    "    return w\n",
    "\n",
    "w = linear_regression(data, y)\n",
    "print(w)\n"
   ],
   "metadata": {
    "collapsed": false,
    "ExecuteTime": {
     "end_time": "2024-05-03T13:39:16.340573Z",
     "start_time": "2024-05-03T13:39:16.336454Z"
    }
   },
   "execution_count": 7
  },
  {
   "cell_type": "markdown",
   "metadata": {},
   "source": [
    "#### 2.4 **[2pt]** Predict the labels for all points using your Linear Regression implementation and the `w` vector from the previous question. For each data point, print the triplet of  `(label, prediction, loss)`. Then compute and print the (squared error) Risk over the dataset."
   ]
  },
  {
   "cell_type": "code",
   "outputs": [
    {
     "name": "stdout",
     "output_type": "stream",
     "text": [
      "Data point 1: (label=-17.778418153689195, prediction=-20.813201175890946, loss=9.209907991843991)\n",
      "Data point 2: (label=-21.990030997167835, prediction=-20.014750958828653, loss=3.901731229861241)\n",
      "Data point 3: (label=-18.249755205171667, prediction=-19.21630074176636, loss=0.9342102743111249)\n",
      "Data point 4: (label=-16.672572689392222, prediction=-18.41785052470406, loss=3.0459947224307786)\n",
      "Data point 5: (label=-16.486594983641503, prediction=-17.61940030764177, loss=1.2832479020833476)\n",
      "Data point 6: (label=-16.77883820571466, prediction=-16.820950090579473, loss=0.0017734108468672465)\n",
      "Data point 7: (label=-14.972903059827047, prediction=-16.022499873517177, loss=1.101653471308473)\n",
      "Data point 8: (label=-15.142159371231072, prediction=-15.224049656454884, loss=0.006706018814037306)\n",
      "Data point 9: (label=-11.991528097520458, prediction=-14.425599439392588, loss=5.924703297323192)\n",
      "Data point 10: (label=-13.080090030025193, prediction=-13.627149222330296, loss=0.2992737598855111)\n",
      "Data point 11: (label=-17.385328780936018, prediction=-12.828699005268, loss=20.76287491250437)\n",
      "Data point 12: (label=-13.338919301138063, prediction=-12.030248788205704, loss=1.7126185114186436)\n",
      "Data point 13: (label=-11.922947973735926, prediction=-11.231798571143411, loss=0.4776874967039905)\n",
      "Data point 14: (label=-11.392416076491047, prediction=-10.433348354081115, loss=0.9198108961685744)\n",
      "Data point 15: (label=-7.8955953768757725, prediction=-9.634898137018823, loss=3.0251740914412326)\n",
      "Data point 16: (label=-12.256398031882252, prediction=-8.836447919956527, loss=11.696058768060784)\n",
      "Data point 17: (label=-6.16626683832279, prediction=-8.03799770289423, loss=3.5033764293893523)\n",
      "Data point 18: (label=-6.289654497777414, prediction=-7.239547485831938, loss=0.9022966887551532)\n",
      "Data point 19: (label=-11.87492242751736, prediction=-6.441097268769642, loss=29.52645585583966)\n",
      "Data point 20: (label=-6.311773321387925, prediction=-5.642647051707347, loss=0.4477299647766453)\n",
      "Data point 21: (label=-5.473712906140568, prediction=-4.844196834645054, loss=0.39629048427114527)\n",
      "Data point 22: (label=-5.062683618419335, prediction=-4.045746617582759, loss=1.0341608636704895)\n",
      "Data point 23: (label=-1.6559386329120118, prediction=-3.2472964005204625, loss=2.5324195445277518)\n",
      "Data point 24: (label=-1.1458674822159758, prediction=-2.4488461834581683, loss=1.6977534958907907)\n",
      "Data point 25: (label=-1.8740730510986876, prediction=-1.6503959663958747, loss=0.05003143822114933)\n",
      "Data point 26: (label=-2.042976704825273, prediction=-0.8519457493335809, loss=1.4185547369394533)\n",
      "Data point 27: (label=-1.139207926197735, prediction=-0.053495532271287116, loss=1.1787714023254985)\n",
      "Data point 28: (label=2.34734592939511, prediction=0.74495468479101, loss=2.567657700783877)\n",
      "Data point 29: (label=1.1337945154549405, prediction=1.5434049018533038, loss=0.16778066864541652)\n",
      "Data point 30: (label=2.8331471941689763, prediction=2.3418551189155976, loss=0.2413679032067715)\n",
      "Data point 31: (label=1.0866481975337208, prediction=3.140305335977895, loss=4.2175076422827145)\n",
      "Data point 32: (label=4.926479857198753, prediction=3.9387555530401883, loss=0.9755993010255215)\n",
      "Data point 33: (label=6.782087659816434, prediction=4.737205770102483, loss=4.181541942880101)\n",
      "Data point 34: (label=7.653636084858605, prediction=5.535655987164776, loss=4.485839694227162)\n",
      "Data point 35: (label=6.049329097268339, prediction=6.33410620422707, loss=0.08109800064778441)\n",
      "Data point 36: (label=8.969513526581071, prediction=7.132556421289366, loss=3.3744114066816806)\n",
      "Data point 37: (label=6.092984910690457, prediction=7.93100663835166, loss=3.378323871354676)\n",
      "Data point 38: (label=6.32892058869013, prediction=8.729456855413954, loss=5.762574367856355)\n",
      "Data point 39: (label=7.206786588140971, prediction=9.527907072476253, loss=5.387600302800857)\n",
      "Data point 40: (label=10.013441280007159, prediction=10.326357289538546, loss=0.09791642902104693)\n",
      "Data point 41: (label=12.556507997694672, prediction=11.124807506600838, loss=2.0497662961983236)\n",
      "Data point 42: (label=12.459474922397227, prediction=11.923257723663134, loss=0.2875288842182377)\n",
      "Data point 43: (label=12.575726319102989, prediction=12.721707940725427, loss=0.021310633851516624)\n",
      "Data point 44: (label=15.931561350293709, prediction=13.52015815778772, loss=5.814865356828079)\n",
      "Data point 45: (label=16.2459515378224, prediction=14.318608374850022, loss=3.714651667856368)\n",
      "Data point 46: (label=16.844851024959965, prediction=15.117058591912315, loss=2.9852666916967188)\n",
      "Data point 47: (label=14.409627485609981, prediction=15.915508808974607, loss=2.267678560058398)\n",
      "Data point 48: (label=16.611336181354574, prediction=16.713959026036903, loss=0.01053144825069355)\n",
      "Data point 49: (label=16.746109325414654, prediction=17.512409243099196, loss=0.5872155638433355)\n",
      "Data point 50: (label=18.007769273563724, prediction=18.31085946016149, loss=0.0918636612118674)\n",
      "Model: y = 1.9562030318026218x + -1.2511708578647278\n",
      "Risk: 3.1948233131008146\n"
     ]
    }
   ],
   "source": [
    "# predictions for all data points using linear regression\n",
    "predictions  = np.dot(x, w)\n",
    "# squared error loss for each data point\n",
    "losses = (y - predictions)**2\n",
    "# risk\n",
    "risk = np.mean(losses)\n",
    "\n",
    "# Print the triplet (label, prediction, loss) for each data point\n",
    "for i in range(len(data)):\n",
    "    print(f\"Data point {i+1}: (label={y[i]}, prediction={predictions[i]}, loss={losses[i]})\")\n",
    "    \n",
    "# Print the equation of the model (m and q) must be close to 2 and -1\n",
    "print(f\"Model: y = {w[0]}x + {w[1]}\")\n",
    "\n",
    "    \n",
    "# Print the risk\n",
    "print(f\"Risk: {risk}\")\n"
   ],
   "metadata": {
    "collapsed": false,
    "ExecuteTime": {
     "end_time": "2024-05-03T13:39:16.422668Z",
     "start_time": "2024-05-03T13:39:16.416358Z"
    }
   },
   "execution_count": 8
  },
  {
   "cell_type": "code",
   "outputs": [
    {
     "name": "stdout",
     "output_type": "stream",
     "text": [
      "(-17.778418153689195, -21, 10.378589592479335)\n",
      "(-21.990030997167835, -20, 3.9602233696888094)\n",
      "(-18.249755205171667, -19, 0.562867252167008)\n",
      "(-16.672572689392222, -18, 1.762063264947398)\n",
      "(-16.486594983641503, -18, 2.2903947435390637)\n",
      "(-16.77883820571466, -17, 0.048912539251511095)\n",
      "(-14.972903059827047, -16, 1.0549281245126427)\n",
      "(-15.142159371231072, -15, 0.02020928682881375)\n",
      "(-11.991528097520458, -14, 4.03395938304979)\n",
      "(-13.080090030025193, -14, 0.8462343528590499)\n",
      "(-17.385328780936018, -13, 19.231108516905778)\n",
      "(-13.338919301138063, -12, 1.7927048949600382)\n",
      "(-11.922947973735926, -11, 0.8518329622232521)\n",
      "(-11.392416076491047, -10, 1.9388225300707216)\n",
      "(-7.8955953768757725, -10, 4.428518817826622)\n",
      "(-12.256398031882252, -9, 10.604128142046607)\n",
      "(-6.16626683832279, -8, 3.3625773082346964)\n",
      "(-6.289654497777414, -7, 0.5045907325278585)\n",
      "(-11.87492242751736, -6, 34.51471352934647)\n",
      "(-6.311773321387925, -6, 0.09720260392925824)\n",
      "(-5.473712906140568, -5, 0.22440391744414243)\n",
      "(-5.062683618419335, -4, 1.1292964728568111)\n",
      "(-1.6559386329120118, -3, 1.8065009584984317)\n",
      "(-1.1458674822159758, -2, 0.7295423579360765)\n",
      "(-1.8740730510986876, -2, 0.015857596459593743)\n",
      "(-2.042976704825273, -1, 1.087800406808185)\n",
      "(-1.139207926197735, 0, 1.2977946991117442)\n",
      "(2.34734592939511, 1, 1.8153410534575727)\n",
      "(1.1337945154549405, 2, 0.7503119414559414)\n",
      "(2.8331471941689763, 2, 0.694134247151638)\n",
      "(1.0866481975337208, 3, 3.6609151200009595)\n",
      "(4.926479857198753, 4, 0.8583649257950224)\n",
      "(6.782087659816434, 5, 3.175836427270015)\n",
      "(7.653636084858605, 6, 2.734512301146496)\n",
      "(6.049329097268339, 6, 0.0024333598373092835)\n",
      "(8.969513526581071, 7, 3.878983531385808)\n",
      "(6.092984910690457, 8, 3.636706550854285)\n",
      "(6.32892058869013, 9, 7.134665221523484)\n",
      "(7.206786588140971, 10, 7.802041164189159)\n",
      "(10.013441280007159, 10, 0.00018066800823085362)\n",
      "(12.556507997694672, 11, 2.422717146887476)\n",
      "(12.459474922397227, 12, 0.21111720431193795)\n",
      "(12.575726319102989, 13, 0.18000815630189881)\n",
      "(15.931561350293709, 14, 3.7309292499484563)\n",
      "(16.2459515378224, 14, 5.044298310246802)\n",
      "(16.844851024959965, 15, 3.4034753042958332)\n",
      "(14.409627485609981, 16, 2.529284734527231)\n",
      "(16.611336181354574, 17, 0.15105956392404485)\n",
      "(16.746109325414654, 18, 1.572241823812094)\n",
      "(18.007769273563724, 18, 6.0361611707984586e-05)\n",
      "Risk: 3.2793079344890628\n",
      "Model: y = 1.9562030318026218x + -1.2511708578647278\n"
     ]
    }
   ],
   "source": [
    "# Second method \n",
    "predictions = list(map(round, x.dot(w.transpose())))\n",
    "# Predict pairs of (label, prediction, loss)\n",
    "pairs = [(label, prediction, square_loss(label, prediction)) for label, prediction in zip(y, predictions)]\n",
    "# Compute the risk\n",
    "risk = np.mean([loss for _, _, loss in pairs])\n",
    "# Print the pairs\n",
    "for pair in pairs:\n",
    "    print(pair)\n",
    "# Print the risk\n",
    "print(f\"Risk: {risk}\")\n",
    "# Print the model\n",
    "print(f\"Model: y = {w[0]}x + {w[1]}\")\n"
   ],
   "metadata": {
    "collapsed": false,
    "ExecuteTime": {
     "end_time": "2024-05-03T13:39:16.455258Z",
     "start_time": "2024-05-03T13:39:16.448879Z"
    }
   },
   "execution_count": 9
  },
  {
   "cell_type": "markdown",
   "metadata": {},
   "source": [
    "Remember that you need to build the linear model (careful handling the bias), then you are doing _regression_ not *classification*, which means you are predicting the value $\\hat{y}$ based on your $x$. You should get back $m$ and $q$ close to $2$ and $-1$, and the risk roughly proportional to the square of the expected error multiplied by the number of points (or close below that).  \n",
    "_[think: what is the expected error? Do you understand why? You can generate the points and compute the risk multiple times to verify your hypothesis]_"
   ]
  },
  {
   "cell_type": "markdown",
   "metadata": {},
   "source": [
    "#### 2.5 **[2pt]** Plot the data and the model.\n",
    "\n",
    "You should be able to partially reuse the printing code from the last lab (particularly plot and params-to-boundary conversion), but feel free to customize it as you need.\n",
    "I will keep repeating this for a while more: careful with the bias!  \n",
    "(Think: you can plot the model's predictions very easily if you use linear algebra, do you understand what is `x.dot(w)`?)"
   ]
  },
  {
   "cell_type": "code",
   "outputs": [
    {
     "name": "stdout",
     "output_type": "stream",
     "text": [
      "[[5.1 1.4]\n",
      " [4.9 1.4]\n",
      " [4.7 1.3]\n",
      " [4.6 1.5]\n",
      " [5.  1.4]\n",
      " [5.4 1.7]\n",
      " [4.6 1.4]\n",
      " [5.  1.5]\n",
      " [4.4 1.4]\n",
      " [4.9 1.5]\n",
      " [5.4 1.5]\n",
      " [4.8 1.6]\n",
      " [4.8 1.4]\n",
      " [4.3 1.1]\n",
      " [5.8 1.2]\n",
      " [5.7 1.5]\n",
      " [5.4 1.3]\n",
      " [5.1 1.4]\n",
      " [5.7 1.7]\n",
      " [5.1 1.5]\n",
      " [5.4 1.7]\n",
      " [5.1 1.5]\n",
      " [4.6 1. ]\n",
      " [5.1 1.7]\n",
      " [4.8 1.9]\n",
      " [5.  1.6]\n",
      " [5.  1.6]\n",
      " [5.2 1.5]\n",
      " [5.2 1.4]\n",
      " [4.7 1.6]\n",
      " [4.8 1.6]\n",
      " [5.4 1.5]\n",
      " [5.2 1.5]\n",
      " [5.5 1.4]\n",
      " [4.9 1.5]\n",
      " [5.  1.2]\n",
      " [5.5 1.3]\n",
      " [4.9 1.4]\n",
      " [4.4 1.3]\n",
      " [5.1 1.5]\n",
      " [5.  1.3]\n",
      " [4.5 1.3]\n",
      " [4.4 1.3]\n",
      " [5.  1.6]\n",
      " [5.1 1.9]\n",
      " [4.8 1.4]\n",
      " [5.1 1.6]\n",
      " [4.6 1.4]\n",
      " [5.3 1.5]\n",
      " [5.  1.4]\n",
      " [7.  4.7]\n",
      " [6.4 4.5]\n",
      " [6.9 4.9]\n",
      " [5.5 4. ]\n",
      " [6.5 4.6]\n",
      " [5.7 4.5]\n",
      " [6.3 4.7]\n",
      " [4.9 3.3]\n",
      " [6.6 4.6]\n",
      " [5.2 3.9]\n",
      " [5.  3.5]\n",
      " [5.9 4.2]\n",
      " [6.  4. ]\n",
      " [6.1 4.7]\n",
      " [5.6 3.6]\n",
      " [6.7 4.4]\n",
      " [5.6 4.5]\n",
      " [5.8 4.1]\n",
      " [6.2 4.5]\n",
      " [5.6 3.9]\n",
      " [5.9 4.8]\n",
      " [6.1 4. ]\n",
      " [6.3 4.9]\n",
      " [6.1 4.7]\n",
      " [6.4 4.3]\n",
      " [6.6 4.4]\n",
      " [6.8 4.8]\n",
      " [6.7 5. ]\n",
      " [6.  4.5]\n",
      " [5.7 3.5]\n",
      " [5.5 3.8]\n",
      " [5.5 3.7]\n",
      " [5.8 3.9]\n",
      " [6.  5.1]\n",
      " [5.4 4.5]\n",
      " [6.  4.5]\n",
      " [6.7 4.7]\n",
      " [6.3 4.4]\n",
      " [5.6 4.1]\n",
      " [5.5 4. ]\n",
      " [5.5 4.4]\n",
      " [6.1 4.6]\n",
      " [5.8 4. ]\n",
      " [5.  3.3]\n",
      " [5.6 4.2]\n",
      " [5.7 4.2]\n",
      " [5.7 4.2]\n",
      " [6.2 4.3]\n",
      " [5.1 3. ]\n",
      " [5.7 4.1]\n",
      " [6.3 6. ]\n",
      " [5.8 5.1]\n",
      " [7.1 5.9]\n",
      " [6.3 5.6]\n",
      " [6.5 5.8]\n",
      " [7.6 6.6]\n",
      " [4.9 4.5]\n",
      " [7.3 6.3]\n",
      " [6.7 5.8]\n",
      " [7.2 6.1]\n",
      " [6.5 5.1]\n",
      " [6.4 5.3]\n",
      " [6.8 5.5]\n",
      " [5.7 5. ]\n",
      " [5.8 5.1]\n",
      " [6.4 5.3]\n",
      " [6.5 5.5]\n",
      " [7.7 6.7]\n",
      " [7.7 6.9]\n",
      " [6.  5. ]\n",
      " [6.9 5.7]\n",
      " [5.6 4.9]\n",
      " [7.7 6.7]\n",
      " [6.3 4.9]\n",
      " [6.7 5.7]\n",
      " [7.2 6. ]\n",
      " [6.2 4.8]\n",
      " [6.1 4.9]\n",
      " [6.4 5.6]\n",
      " [7.2 5.8]\n",
      " [7.4 6.1]\n",
      " [7.9 6.4]\n",
      " [6.4 5.6]\n",
      " [6.3 5.1]\n",
      " [6.1 5.6]\n",
      " [7.7 6.1]\n",
      " [6.3 5.6]\n",
      " [6.4 5.5]\n",
      " [6.  4.8]\n",
      " [6.9 5.4]\n",
      " [6.7 5.6]\n",
      " [6.9 5.1]\n",
      " [5.8 5.1]\n",
      " [6.8 5.9]\n",
      " [6.7 5.7]\n",
      " [6.7 5.2]\n",
      " [6.3 5. ]\n",
      " [6.5 5.2]\n",
      " [6.2 5.4]\n",
      " [5.9 5.1]]\n",
      "[[5.1 4.9 4.7 4.6 5.  5.4 4.6 5.  4.4 4.9 5.4 4.8 4.8 4.3 5.8 5.7 5.4 5.1\n",
      "  5.7 5.1 5.4 5.1 4.6 5.1 4.8 5.  5.  5.2 5.2 4.7 4.8 5.4 5.2 5.5 4.9 5.\n",
      "  5.5 4.9 4.4 5.1 5.  4.5 4.4 5.  5.1 4.8 5.1 4.6 5.3 5.  7.  6.4 6.9 5.5\n",
      "  6.5 5.7 6.3 4.9 6.6 5.2 5.  5.9 6.  6.1 5.6 6.7 5.6 5.8 6.2 5.6 5.9 6.1\n",
      "  6.3 6.1 6.4 6.6 6.8 6.7 6.  5.7 5.5 5.5 5.8 6.  5.4 6.  6.7 6.3 5.6 5.5\n",
      "  5.5 6.1 5.8 5.  5.6 5.7 5.7 6.2 5.1 5.7 6.3 5.8 7.1 6.3 6.5 7.6 4.9 7.3\n",
      "  6.7 7.2 6.5 6.4 6.8 5.7 5.8 6.4 6.5 7.7 7.7 6.  6.9 5.6 7.7 6.3 6.7 7.2\n",
      "  6.2 6.1 6.4 7.2 7.4 7.9 6.4 6.3 6.1 7.7 6.3 6.4 6.  6.9 6.7 6.9 5.8 6.8\n",
      "  6.7 6.7 6.3 6.5 6.2 5.9]\n",
      " [1.4 1.4 1.3 1.5 1.4 1.7 1.4 1.5 1.4 1.5 1.5 1.6 1.4 1.1 1.2 1.5 1.3 1.4\n",
      "  1.7 1.5 1.7 1.5 1.  1.7 1.9 1.6 1.6 1.5 1.4 1.6 1.6 1.5 1.5 1.4 1.5 1.2\n",
      "  1.3 1.4 1.3 1.5 1.3 1.3 1.3 1.6 1.9 1.4 1.6 1.4 1.5 1.4 4.7 4.5 4.9 4.\n",
      "  4.6 4.5 4.7 3.3 4.6 3.9 3.5 4.2 4.  4.7 3.6 4.4 4.5 4.1 4.5 3.9 4.8 4.\n",
      "  4.9 4.7 4.3 4.4 4.8 5.  4.5 3.5 3.8 3.7 3.9 5.1 4.5 4.5 4.7 4.4 4.1 4.\n",
      "  4.4 4.6 4.  3.3 4.2 4.2 4.2 4.3 3.  4.1 6.  5.1 5.9 5.6 5.8 6.6 4.5 6.3\n",
      "  5.8 6.1 5.1 5.3 5.5 5.  5.1 5.3 5.5 6.7 6.9 5.  5.7 4.9 6.7 4.9 5.7 6.\n",
      "  4.8 4.9 5.6 5.8 6.1 6.4 5.6 5.1 5.6 6.1 5.6 5.5 4.8 5.4 5.6 5.1 5.1 5.9\n",
      "  5.7 5.2 5.  5.2 5.4 5.1]]\n"
     ]
    },
    {
     "data": {
      "text/plain": "<Figure size 432x288 with 1 Axes>",
      "image/png": "[encoded data removed]"
     },
     "metadata": {},
     "output_type": "display_data"
    }
   ],
   "source": [
    "import matplotlib.pyplot as plt\n",
    "import seaborn as sns\n",
    "\n",
    "\n",
    "\n",
    "# actual_x, _bias = x.transpose()\n",
    "\n",
    "def linear_regression_plot() : sns.scatterplot(x=actual_x, y=y, s=100, label='Data points')\n",
    "def linear_model_plot(w,color='darkred', linewidth=2, linestyle='--') : sns.lineplot(x=actual_x, y=x.dot(w), color=color, linewidth=linewidth, label='Model')\n",
    "# Plot the data\n",
    "linear_regression_plot()\n",
    "# Plot the model    \n",
    "linear_model_plot(w)"
   ],
   "metadata": {
    "collapsed": false,
    "ExecuteTime": {
     "end_time": "2024-05-03T14:53:33.965326Z",
     "start_time": "2024-05-03T14:53:33.367167Z"
    }
   },
   "execution_count": 27
  },
  {
   "cell_type": "markdown",
   "metadata": {},
   "source": [
    "#### 2.6 **[2pt]** Find Linear Regression in scikit-learn and train a model on the data."
   ]
  },
  {
   "cell_type": "markdown",
   "metadata": {},
   "source": [
    "The input to the `fit()` function should be a matrix and a vector, so try forcing `actual_x` into a $n\\times 1$ matrix by using `actual_x.reshape((-1, 1))`. If you want to predict the outputs, you simply need to pass the same data matrix to the method `predict()`.  "
   ]
  },
  {
   "cell_type": "code",
   "execution_count": 34,
   "metadata": {
    "ExecuteTime": {
     "end_time": "2024-05-03T15:11:15.414820Z",
     "start_time": "2024-05-03T15:11:15.411030Z"
    }
   },
   "outputs": [
    {
     "name": "stdout",
     "output_type": "stream",
     "text": [
      "(150,)\n"
     ]
    }
   ],
   "source": [
    "from sklearn.linear_model import LinearRegression\n",
    "print(actual_x.shape)\n",
    "x_mat = actual_x.reshape((-1, 1)) # Reshape the input data to a matrix (n, 1) why? because it is a single feature\n",
    "trained = LinearRegression().fit(x_mat, y)\n",
    "predictions = trained.predict(x_mat)"
   ]
  },
  {
   "cell_type": "markdown",
   "metadata": {},
   "source": [
    "#### 2.7 **[1pt]** Plot in a single figure: (i) the data points as a scatterplot; (ii) the model you learned using your implementation of Linear Regression; (iii) the model you trained using the scikit-implementation."
   ]
  },
  {
   "cell_type": "markdown",
   "metadata": {},
   "source": [
    "Careful, it may be that you plot both but they are exactly the same, so they are superimposed and you only see one line. To verify this you can try plotting them with different colors and different thickness, or changing the linestyle (e.g. one normal line and one dashed line). A list of available linestyles can be found in the [matplotlib documentation](https://matplotlib.org/3.5.1/gallery/lines_bars_and_markers/linestyles.html).\n",
    "\n",
    "To get the parametrization of the sklearn implementation use the following:  \n",
    "`w_skl = [trained.coef_[0], trained.intercept_]`  \n",
    "Do you understand what this does? Can you see how this corresponds to what we did last week? In future assignments you will need to find the model parametrization by yourself!"
   ]
  },
  {
   "cell_type": "code",
   "execution_count": 12,
   "metadata": {
    "ExecuteTime": {
     "end_time": "2024-05-03T13:39:17.072982Z",
     "start_time": "2024-05-03T13:39:16.873752Z"
    }
   },
   "outputs": [
    {
     "data": {
      "text/plain": "<Figure size 432x288 with 1 Axes>",
      "image/png": "[encoded data removed]"
     },
     "metadata": {},
     "output_type": "display_data"
    }
   ],
   "source": [
    "w_skl = [trained.coef_[0], trained.intercept_]  # w_skl = [slope, intercept]\n",
    "# Plot the data\n",
    "linear_regression_plot()\n",
    "# Plot the model\n",
    "linear_model_plot(w, linewidth=5)\n",
    "# Plot the model from sklearn\n",
    "linear_model_plot(w_skl, color='gold', linewidth=2, linestyle='--')\n"
   ]
  },
  {
   "cell_type": "markdown",
   "metadata": {},
   "source": [
    "# 3. Linear Discriminant Analysis"
   ]
  },
  {
   "cell_type": "markdown",
   "metadata": {},
   "source": [
    "We switch now into *binary classification*. Let's load the iris dataset once again for this exercise, and carefully selecting the data to have an easy binary classification problem (for now). Notice we are **not** using classes ${-1, +1}$ anymore, because we do not need to compute a Margin here."
   ]
  },
  {
   "cell_type": "code",
   "execution_count": 13,
   "metadata": {
    "ExecuteTime": {
     "end_time": "2024-05-03T13:39:17.097214Z",
     "start_time": "2024-05-03T13:39:17.074279Z"
    }
   },
   "outputs": [
    {
     "name": "stdout",
     "output_type": "stream",
     "text": [
      "Dimensions de x: (150, 2)\n",
      "Dimensions de x1: (150,)\n",
      "Dimensions de x2: (150,)\n",
      "[[5.1 1.4]\n",
      " [4.9 1.4]\n",
      " [4.7 1.3]\n",
      " [4.6 1.5]\n",
      " [5.  1.4]\n",
      " [5.4 1.7]\n",
      " [4.6 1.4]\n",
      " [5.  1.5]\n",
      " [4.4 1.4]\n",
      " [4.9 1.5]\n",
      " [5.4 1.5]\n",
      " [4.8 1.6]\n",
      " [4.8 1.4]\n",
      " [4.3 1.1]\n",
      " [5.8 1.2]\n",
      " [5.7 1.5]\n",
      " [5.4 1.3]\n",
      " [5.1 1.4]\n",
      " [5.7 1.7]\n",
      " [5.1 1.5]\n",
      " [5.4 1.7]\n",
      " [5.1 1.5]\n",
      " [4.6 1. ]\n",
      " [5.1 1.7]\n",
      " [4.8 1.9]\n",
      " [5.  1.6]\n",
      " [5.  1.6]\n",
      " [5.2 1.5]\n",
      " [5.2 1.4]\n",
      " [4.7 1.6]\n",
      " [4.8 1.6]\n",
      " [5.4 1.5]\n",
      " [5.2 1.5]\n",
      " [5.5 1.4]\n",
      " [4.9 1.5]\n",
      " [5.  1.2]\n",
      " [5.5 1.3]\n",
      " [4.9 1.4]\n",
      " [4.4 1.3]\n",
      " [5.1 1.5]\n",
      " [5.  1.3]\n",
      " [4.5 1.3]\n",
      " [4.4 1.3]\n",
      " [5.  1.6]\n",
      " [5.1 1.9]\n",
      " [4.8 1.4]\n",
      " [5.1 1.6]\n",
      " [4.6 1.4]\n",
      " [5.3 1.5]\n",
      " [5.  1.4]\n",
      " [7.  4.7]\n",
      " [6.4 4.5]\n",
      " [6.9 4.9]\n",
      " [5.5 4. ]\n",
      " [6.5 4.6]\n",
      " [5.7 4.5]\n",
      " [6.3 4.7]\n",
      " [4.9 3.3]\n",
      " [6.6 4.6]\n",
      " [5.2 3.9]\n",
      " [5.  3.5]\n",
      " [5.9 4.2]\n",
      " [6.  4. ]\n",
      " [6.1 4.7]\n",
      " [5.6 3.6]\n",
      " [6.7 4.4]\n",
      " [5.6 4.5]\n",
      " [5.8 4.1]\n",
      " [6.2 4.5]\n",
      " [5.6 3.9]\n",
      " [5.9 4.8]\n",
      " [6.1 4. ]\n",
      " [6.3 4.9]\n",
      " [6.1 4.7]\n",
      " [6.4 4.3]\n",
      " [6.6 4.4]\n",
      " [6.8 4.8]\n",
      " [6.7 5. ]\n",
      " [6.  4.5]\n",
      " [5.7 3.5]\n",
      " [5.5 3.8]\n",
      " [5.5 3.7]\n",
      " [5.8 3.9]\n",
      " [6.  5.1]\n",
      " [5.4 4.5]\n",
      " [6.  4.5]\n",
      " [6.7 4.7]\n",
      " [6.3 4.4]\n",
      " [5.6 4.1]\n",
      " [5.5 4. ]\n",
      " [5.5 4.4]\n",
      " [6.1 4.6]\n",
      " [5.8 4. ]\n",
      " [5.  3.3]\n",
      " [5.6 4.2]\n",
      " [5.7 4.2]\n",
      " [5.7 4.2]\n",
      " [6.2 4.3]\n",
      " [5.1 3. ]\n",
      " [5.7 4.1]\n",
      " [6.3 6. ]\n",
      " [5.8 5.1]\n",
      " [7.1 5.9]\n",
      " [6.3 5.6]\n",
      " [6.5 5.8]\n",
      " [7.6 6.6]\n",
      " [4.9 4.5]\n",
      " [7.3 6.3]\n",
      " [6.7 5.8]\n",
      " [7.2 6.1]\n",
      " [6.5 5.1]\n",
      " [6.4 5.3]\n",
      " [6.8 5.5]\n",
      " [5.7 5. ]\n",
      " [5.8 5.1]\n",
      " [6.4 5.3]\n",
      " [6.5 5.5]\n",
      " [7.7 6.7]\n",
      " [7.7 6.9]\n",
      " [6.  5. ]\n",
      " [6.9 5.7]\n",
      " [5.6 4.9]\n",
      " [7.7 6.7]\n",
      " [6.3 4.9]\n",
      " [6.7 5.7]\n",
      " [7.2 6. ]\n",
      " [6.2 4.8]\n",
      " [6.1 4.9]\n",
      " [6.4 5.6]\n",
      " [7.2 5.8]\n",
      " [7.4 6.1]\n",
      " [7.9 6.4]\n",
      " [6.4 5.6]\n",
      " [6.3 5.1]\n",
      " [6.1 5.6]\n",
      " [7.7 6.1]\n",
      " [6.3 5.6]\n",
      " [6.4 5.5]\n",
      " [6.  4.8]\n",
      " [6.9 5.4]\n",
      " [6.7 5.6]\n",
      " [6.9 5.1]\n",
      " [5.8 5.1]\n",
      " [6.8 5.9]\n",
      " [6.7 5.7]\n",
      " [6.7 5.2]\n",
      " [6.3 5. ]\n",
      " [6.5 5.2]\n",
      " [6.2 5.4]\n",
      " [5.9 5.1]]\n",
      "[2 2 2 2 2 2 2 2 2 2 2 2 2 2 2 2 2 2 2 2 2 2 2 2 2 2 2 2 2 2 2 2 2 2 2 2 2\n",
      " 2 2 2 2 2 2 2 2 2 2 2 2 2 1 1 1 1 1 1 1 1 1 1 1 1 1 1 1 1 1 1 1 1 1 1 1 1\n",
      " 1 1 1 1 1 1 1 1 1 1 1 1 1 1 1 1 1 1 1 1 1 1 1 1 1 1 1 1 1 1 1 1 1 1 1 1 1\n",
      " 1 1 1 1 1 1 1 1 1 1 1 1 1 1 1 1 1 1 1 1 1 1 1 1 1 1 1 1 1 1 1 1 1 1 1 1 1\n",
      " 1 1]\n"
     ]
    }
   ],
   "source": [
    "import numpy as np\n",
    "from sklearn.datasets import load_iris\n",
    "iris_x, iris_y = load_iris(return_X_y=True) # print these points to understand them!\n",
    "x1 = np.array([r[0] for r in iris_x]) # first feature\n",
    "x2 = np.array([r[2] for r in iris_x]) # third feature\n",
    "\n",
    "x = np.array([x1, x2]).transpose() # numpy gives us transpose() for free\n",
    "# Reduce the three classes into two for binary classification {1, 2}\n",
    "y = np.array([1 if y in [1,2] else 2 for y in iris_y])\n",
    "\n",
    "print(\"Dimensions de x:\", x.shape)\n",
    "print(\"Dimensions de x1:\", x1.shape)\n",
    "print(\"Dimensions de x2:\", x2.shape)\n",
    "\n",
    "print(x)\n",
    "print(y)\n"
   ]
  },
  {
   "cell_type": "markdown",
   "metadata": {},
   "source": [
    "To solve LDA we need to find the parametrization $\\theta_y=(\\mu_y, \\Sigma, \\pi_y)$. Since $\\mu$ and $\\pi$ are class-dependent, remember to first split the input data based on which class it belongs to."
   ]
  },
  {
   "cell_type": "markdown",
   "metadata": {},
   "source": [
    "#### 3.1 **[1pt]** Write a (Python) function that takes a dataset (inputs and labels) in input and returns a dictionary hashing each of the $m$ classes to the a list of the points belonging to that class. We will call this `partition` in the next questions."
   ]
  },
  {
   "cell_type": "markdown",
   "metadata": {},
   "source": [
    "Hint: the method `dict.get(<key>, <def>)` can be used to fetch values from a dictionary same as `dict[<key>]`, but when the key is not found it returns the second argument, which is the _default value_... what if you pass an empty list..."
   ]
  },
  {
   "cell_type": "code",
   "execution_count": 14,
   "metadata": {
    "ExecuteTime": {
     "end_time": "2024-05-03T13:39:17.111593Z",
     "start_time": "2024-05-03T13:39:17.097921Z"
    }
   },
   "outputs": [
    {
     "name": "stdout",
     "output_type": "stream",
     "text": [
      "{2: [array([5.1, 1.4]), array([4.9, 1.4]), array([4.7, 1.3]), array([4.6, 1.5]), array([5. , 1.4]), array([5.4, 1.7]), array([4.6, 1.4]), array([5. , 1.5]), array([4.4, 1.4]), array([4.9, 1.5]), array([5.4, 1.5]), array([4.8, 1.6]), array([4.8, 1.4]), array([4.3, 1.1]), array([5.8, 1.2]), array([5.7, 1.5]), array([5.4, 1.3]), array([5.1, 1.4]), array([5.7, 1.7]), array([5.1, 1.5]), array([5.4, 1.7]), array([5.1, 1.5]), array([4.6, 1. ]), array([5.1, 1.7]), array([4.8, 1.9]), array([5. , 1.6]), array([5. , 1.6]), array([5.2, 1.5]), array([5.2, 1.4]), array([4.7, 1.6]), array([4.8, 1.6]), array([5.4, 1.5]), array([5.2, 1.5]), array([5.5, 1.4]), array([4.9, 1.5]), array([5. , 1.2]), array([5.5, 1.3]), array([4.9, 1.4]), array([4.4, 1.3]), array([5.1, 1.5]), array([5. , 1.3]), array([4.5, 1.3]), array([4.4, 1.3]), array([5. , 1.6]), array([5.1, 1.9]), array([4.8, 1.4]), array([5.1, 1.6]), array([4.6, 1.4]), array([5.3, 1.5]), array([5. , 1.4])], 1: [array([7. , 4.7]), array([6.4, 4.5]), array([6.9, 4.9]), array([5.5, 4. ]), array([6.5, 4.6]), array([5.7, 4.5]), array([6.3, 4.7]), array([4.9, 3.3]), array([6.6, 4.6]), array([5.2, 3.9]), array([5. , 3.5]), array([5.9, 4.2]), array([6., 4.]), array([6.1, 4.7]), array([5.6, 3.6]), array([6.7, 4.4]), array([5.6, 4.5]), array([5.8, 4.1]), array([6.2, 4.5]), array([5.6, 3.9]), array([5.9, 4.8]), array([6.1, 4. ]), array([6.3, 4.9]), array([6.1, 4.7]), array([6.4, 4.3]), array([6.6, 4.4]), array([6.8, 4.8]), array([6.7, 5. ]), array([6. , 4.5]), array([5.7, 3.5]), array([5.5, 3.8]), array([5.5, 3.7]), array([5.8, 3.9]), array([6. , 5.1]), array([5.4, 4.5]), array([6. , 4.5]), array([6.7, 4.7]), array([6.3, 4.4]), array([5.6, 4.1]), array([5.5, 4. ]), array([5.5, 4.4]), array([6.1, 4.6]), array([5.8, 4. ]), array([5. , 3.3]), array([5.6, 4.2]), array([5.7, 4.2]), array([5.7, 4.2]), array([6.2, 4.3]), array([5.1, 3. ]), array([5.7, 4.1]), array([6.3, 6. ]), array([5.8, 5.1]), array([7.1, 5.9]), array([6.3, 5.6]), array([6.5, 5.8]), array([7.6, 6.6]), array([4.9, 4.5]), array([7.3, 6.3]), array([6.7, 5.8]), array([7.2, 6.1]), array([6.5, 5.1]), array([6.4, 5.3]), array([6.8, 5.5]), array([5.7, 5. ]), array([5.8, 5.1]), array([6.4, 5.3]), array([6.5, 5.5]), array([7.7, 6.7]), array([7.7, 6.9]), array([6., 5.]), array([6.9, 5.7]), array([5.6, 4.9]), array([7.7, 6.7]), array([6.3, 4.9]), array([6.7, 5.7]), array([7.2, 6. ]), array([6.2, 4.8]), array([6.1, 4.9]), array([6.4, 5.6]), array([7.2, 5.8]), array([7.4, 6.1]), array([7.9, 6.4]), array([6.4, 5.6]), array([6.3, 5.1]), array([6.1, 5.6]), array([7.7, 6.1]), array([6.3, 5.6]), array([6.4, 5.5]), array([6. , 4.8]), array([6.9, 5.4]), array([6.7, 5.6]), array([6.9, 5.1]), array([5.8, 5.1]), array([6.8, 5.9]), array([6.7, 5.7]), array([6.7, 5.2]), array([6.3, 5. ]), array([6.5, 5.2]), array([6.2, 5.4]), array([5.9, 5.1])]}\n"
     ]
    }
   ],
   "source": [
    "def partition_dataset(inputs, labels):\n",
    "    partition = {}\n",
    "    for data_point, label in zip(inputs,labels):\n",
    "        if label not in partition:\n",
    "            partition[label] = []\n",
    "        partition[label].append(data_point)\n",
    "    return partition\n",
    "\n",
    "partition = partition_dataset(x, y)\n",
    "print(partition)"
   ]
  },
  {
   "cell_type": "code",
   "outputs": [
    {
     "name": "stdout",
     "output_type": "stream",
     "text": [
      "{2: 0.3333333333333333, 1: 0.6666666666666666}\n"
     ]
    }
   ],
   "source": [
    "# Second method\n",
    "def partition_dataset_mapping(partition):\n",
    "    total_length = sum(len(data_points) for data_points in partition.values()) # Total number of data points. The mathematic formulas is: $\\sum_{y} n_y$\n",
    "    return {class_label: len(data_points)/total_length for class_label, data_points in partition.items()}\n",
    "pis = partition_dataset_mapping(partition)\n",
    "print(pis)"
   ],
   "metadata": {
    "collapsed": false,
    "ExecuteTime": {
     "end_time": "2024-05-03T13:39:17.115839Z",
     "start_time": "2024-05-03T13:39:17.112514Z"
    }
   },
   "execution_count": 15
  },
  {
   "cell_type": "code",
   "outputs": [
    {
     "name": "stdout",
     "output_type": "stream",
     "text": [
      "{2: 0.3333333333333333, 1: 0.6666666666666666}\n"
     ]
    }
   ],
   "source": [
    "# Third method\n",
    "def partition_dataset_pis(partition):\n",
    "    total_length = sum(map(len, partition.values()))\n",
    "    return {class_label: len(data_points)/total_length for class_label, data_points in partition.items()}\n",
    "pis = partition_dataset_pis(partition)\n",
    "print(pis)"
   ],
   "metadata": {
    "collapsed": false,
    "ExecuteTime": {
     "end_time": "2024-05-03T13:39:17.120130Z",
     "start_time": "2024-05-03T13:39:17.116741Z"
    }
   },
   "execution_count": 16
  },
  {
   "cell_type": "code",
   "outputs": [
    {
     "name": "stdout",
     "output_type": "stream",
     "text": [
      "{2: 0.3333333333333333, 1: 0.6666666666666666}\n"
     ]
    }
   ],
   "source": [
    "# Fourth method\n",
    "def calculer_proportions_partition(partition):\n",
    "    total = sum(len(data_points) for data_points in partition.values())\n",
    "    proportions = {}\n",
    "    for label, data_points in partition.items():\n",
    "        proportions[label] = len(data_points) / total\n",
    "    return proportions\n",
    "\n",
    "proportions_partition = calculer_proportions_partition(partition)\n",
    "\n",
    "print(proportions_partition)"
   ],
   "metadata": {
    "collapsed": false,
    "ExecuteTime": {
     "end_time": "2024-05-03T13:39:17.124064Z",
     "start_time": "2024-05-03T13:39:17.120945Z"
    }
   },
   "execution_count": 17
  },
  {
   "cell_type": "markdown",
   "metadata": {},
   "source": [
    "#### 3.2 **[1pt]** Write a function that takes the `partition` in input and returns a dictionary hashing each class to its corresponding prototype $\\mu_y$."
   ]
  },
  {
   "cell_type": "markdown",
   "metadata": {},
   "source": [
    "Hint: function `dict.items()` returns a list of pairs `(key, value)` from the dictionary.\n",
    "Then a _dictionary comprehension_ works same as a list comprehension, with a `for` loop that generates elements. Only this time you need to pass both a key and a value like this:\n",
    "```python\n",
    "d = { the_key: compute_value(a, b) for a, b in another_dict.items() }\n",
    "```\n",
    "If you can use that then the answer is basically one line. If it is complicated instead, write explicit `for` loops, which are exactly equivalent (and perhaps even more readable:\n",
    "```python\n",
    "d = {}\n",
    "for a, b in another_dict.items():\n",
    "    d[the_key] = compute_value(a, b)\n",
    "```\n",
    "Just find a style that is comfortable with you. May take a few weeks but you will get there."
   ]
  },
  {
   "cell_type": "code",
   "execution_count": 18,
   "metadata": {
    "ExecuteTime": {
     "end_time": "2024-05-03T13:39:17.128398Z",
     "start_time": "2024-05-03T13:39:17.124867Z"
    }
   },
   "outputs": [
    {
     "name": "stdout",
     "output_type": "stream",
     "text": [
      "{2: array([5.006, 1.462]), 1: array([6.262, 4.906])}\n"
     ]
    }
   ],
   "source": [
    "def prototype(partition):\n",
    "    prototypes = {}\n",
    "    for class_label, data_points in partition.items():\n",
    "        prototypes[class_label] = np.mean(data_points, axis=0)\n",
    "    return prototypes\n",
    "\n",
    "prototypes = prototype(partition)\n",
    "print(prototypes)"
   ]
  },
  {
   "cell_type": "markdown",
   "metadata": {},
   "source": [
    "#### 3.3 **[1pt]** Write a function that takes the `partition` in input and returns a dictionary hashing each class to its corresponding prior $\\pi_y$."
   ]
  },
  {
   "cell_type": "code",
   "execution_count": 19,
   "metadata": {
    "ExecuteTime": {
     "end_time": "2024-05-03T13:39:17.132961Z",
     "start_time": "2024-05-03T13:39:17.129857Z"
    }
   },
   "outputs": [
    {
     "name": "stdout",
     "output_type": "stream",
     "text": [
      "{2: 0.3333333333333333, 1: 0.6666666666666666}\n"
     ]
    }
   ],
   "source": [
    "def prior(partition):\n",
    "    prior = {}\n",
    "    total_count = sum(len(point) for point in partition.values())\n",
    "    for class_label, data_points in partition.items():\n",
    "        prior[class_label] = len(data_points)/total_count\n",
    "    return prior\n",
    "\n",
    "prior = prior(partition)\n",
    "print(prior)"
   ]
  },
  {
   "cell_type": "markdown",
   "metadata": {},
   "source": [
    "#### 3.4 **[4pt]** Write a function that takes the `partition` in input and the class-wise center estimates (the means from above) and returns the corresponding $\\Sigma$ (one for all classes and all inputs).\n",
    "You may need to use `np.concatenate()` to join the $x_i - \\hat{\\mu}_{y_i}$ from each class. Print the `array.shape` (property not method so no `()`) to verify if your linear algebra is on point so far: the covariance matrix between all inputs should have as many rows (and columns) as the number of features (hint: that's 2). Example: `assert sigma.shape == (2,2)` should not raise an error."
   ]
  },
  {
   "cell_type": "markdown",
   "source": [
    " $$\\sigma = (X - \\mu)^T * (X - \\mu) / n$$ \n",
    " Own purpose"
   ],
   "metadata": {
    "collapsed": false
   }
  },
  {
   "cell_type": "code",
   "execution_count": 20,
   "metadata": {
    "ExecuteTime": {
     "end_time": "2024-05-03T13:39:17.137872Z",
     "start_time": "2024-05-03T13:39:17.133857Z"
    }
   },
   "outputs": [
    {
     "name": "stdout",
     "output_type": "stream",
     "text": [
      "[[0.33055867 0.30456133]\n",
      " [0.30456133 0.45969467]]\n"
     ]
    }
   ],
   "source": [
    "def corresponding_sum(partition,means):\n",
    "    diffs = []\n",
    "    for class_label, data_points in partition.items():\n",
    "        diffs.extend([data_point - means[class_label] for data_point in data_points])\n",
    "    # Convert the list of differences to a NumPy array\n",
    "    diffs = np.array(diffs)\n",
    "    # covarience\n",
    "    sigma = np.dot(diffs.T, diffs) / len(diffs)\n",
    "    return sigma\n",
    "# Test\n",
    "sigma = corresponding_sum(partition,prototypes)\n",
    "print(sigma)\n",
    "#assert sigma.shape == (2,2)\n",
    "    "
   ]
  },
  {
   "cell_type": "code",
   "outputs": [
    {
     "name": "stdout",
     "output_type": "stream",
     "text": [
      "[[0.33277718 0.30660537]\n",
      " [0.30660537 0.46277987]]\n"
     ]
    }
   ],
   "source": [
    "# Second method\n",
    "\n",
    "def corresponding_sigma(partition, means):\n",
    "    diffs = np.concatenate([data_points - means[class_label] for class_label, data_points in partition.items()])\n",
    "    # Covariance matrix estimation\n",
    "    sigma = np.dot(diffs.T, diffs) / (len(diffs) - 1)\n",
    "    return sigma\n",
    "\n",
    "# Test\n",
    "sigma = corresponding_sigma(partition, prototypes)\n",
    "print(sigma)\n"
   ],
   "metadata": {
    "collapsed": false,
    "ExecuteTime": {
     "end_time": "2024-05-03T13:39:17.142967Z",
     "start_time": "2024-05-03T13:39:17.138728Z"
    }
   },
   "execution_count": 21
  },
  {
   "cell_type": "markdown",
   "metadata": {},
   "source": [
    "#### 3.5 **[5pt]** Write the function for the decision boundary of LDA $f(x)$."
   ]
  },
  {
   "cell_type": "markdown",
   "metadata": {},
   "source": [
    "You can find the logarithm in the `math` module: `from math import log` then just `l = log(a)`. You need to implement the equations for $w$ and $q$ from the slides: this cell will be very math heavy, be careful though and you should be able to get it right in few lines. Remember to check for the shape of $w$ and $b$ to verify if your matrix products are computed the right way. You want $w$ to be of length 2, and $b$ is a scalar."
   ]
  },
  {
   "cell_type": "markdown",
   "source": [
    "firt let us write the equation of the decision boundary\n",
    "$$f(x) = w^T x + b$$\n",
    "where:\n",
    "- $w$ is the weight vector\n",
    "- $x$ is the input vector\n",
    "- $b$ is the bias\n",
    "\n",
    "To solve this problem. We will use the following steps:\n",
    "\n",
    "1. Calculate w\n",
    "w = $\\Sigma^{-1}(\\mu_1 - \\mu_2)$\n",
    "2. Calculate b\n",
    "b = $-\\frac{1}{2} (\\mu_1^T \\Sigma^{-1} \\mu_1 - \\mu_2^T \\Sigma^{-1} \\mu_2) + \\ln \\left( \\frac{P(\\omega_2)}{P(\\omega_1)} \\right)$\n",
    "\n"
   ],
   "metadata": {
    "collapsed": false
   }
  },
  {
   "cell_type": "code",
   "outputs": [
    {
     "name": "stdout",
     "output_type": "stream",
     "text": [
      "w:  [-7.91218649 12.68404115]\n",
      "b:  3.4981245066483826\n"
     ]
    },
    {
     "data": {
      "text/plain": "20.954020311595094"
     },
     "execution_count": 22,
     "metadata": {},
     "output_type": "execute_result"
    }
   ],
   "source": [
    "from math import log\n",
    "def calculate_decision_boundary(x,partition,prototypes,sigma):\n",
    "    w = np.dot(np.linalg.inv(sigma), (prototypes[1] - prototypes[2]))\n",
    "    b = -0.5 * (np.dot(np.dot(prototypes[1].T, np.linalg.inv(sigma)), prototypes[1]) - np.dot(np.dot(prototypes[2].T, np.linalg.inv(sigma)), prototypes[2])) + log(prior[2]/prior[1])\n",
    "    print(\"w: \", w)\n",
    "    print(\"b: \", b)\n",
    "    return np.dot(w.T, x) + b\n",
    "\n",
    "# Test\n",
    "# x = np.array([1, 2])\n",
    "calculate_decision_boundary(np.array([1, 2]),partition,prototypes,sigma)"
   ],
   "metadata": {
    "collapsed": false,
    "ExecuteTime": {
     "end_time": "2024-05-03T13:39:17.150407Z",
     "start_time": "2024-05-03T13:39:17.143899Z"
    }
   },
   "execution_count": 22
  },
  {
   "cell_type": "code",
   "outputs": [
    {
     "name": "stdout",
     "output_type": "stream",
     "text": [
      "Equation of the decision boundary: y = -7.91x1 + 12.68x2 + 3.50\n"
     ]
    }
   ],
   "source": [
    "from math import log\n",
    "\n",
    "def calculate_decision_boundary(x, partition, prototypes, sigma):\n",
    "    w = np.dot(np.linalg.inv(sigma), (prototypes[1] - prototypes[2]))\n",
    "    b = -0.5 * (np.dot(np.dot(prototypes[1].T, np.linalg.inv(sigma)), prototypes[1]) - np.dot(np.dot(prototypes[2].T, np.linalg.inv(sigma)), prototypes[2])) + log(prior[2] / prior[1])\n",
    "    return w, b\n",
    "\n",
    "# Test\n",
    "#x = np.array([1, 2])\n",
    "w, b = calculate_decision_boundary(np.array([1, 2]), partition, prototypes, sigma)\n",
    "print(\"Equation of the decision boundary: y = {:.2f}x1 + {:.2f}x2 + {:.2f}\".format(w[0], w[1], b))\n"
   ],
   "metadata": {
    "collapsed": false,
    "ExecuteTime": {
     "end_time": "2024-05-03T13:39:17.155884Z",
     "start_time": "2024-05-03T13:39:17.151390Z"
    }
   },
   "execution_count": 23
  },
  {
   "cell_type": "code",
   "outputs": [],
   "source": [],
   "metadata": {
    "collapsed": false,
    "ExecuteTime": {
     "end_time": "2024-05-03T13:39:17.158515Z",
     "start_time": "2024-05-03T13:39:17.156839Z"
    }
   },
   "execution_count": 23
  },
  {
   "cell_type": "markdown",
   "source": [],
   "metadata": {
    "collapsed": false
   }
  },
  {
   "cell_type": "markdown",
   "metadata": {},
   "source": [
    "#### 3.6 **[2pt]** Plot the LDA decision boundary on top of the data."
   ]
  },
  {
   "cell_type": "markdown",
   "metadata": {},
   "source": [
    "    - Notice that we are using different data from the Linear Regression questions above, and that our model now generated $w$ and $b$ separately, so you **need** to adapt the plotting functions -- actually it's quicker to just rewrite them.\n",
    "- Plotting is one of few applications where generalizing your code just makes for a stunted replica of the original (better) interface, so specialize when needed but for different applications just write a new one rather than reusing your code.\n",
    "- Remember that we already had a good plotting function for a classification problem just last week, why don't you check it out again?\n",
    "- Finally, remember that you already have code that converts a parametrization from $w$ and $b$ to $m$ and $q$ (last assignment), you can simply copy+paste it here to simplify your generation of the model's points."
   ]
  },
  {
   "cell_type": "code",
   "outputs": [
    {
     "name": "stdout",
     "output_type": "stream",
     "text": [
      "Equation of the decision boundary: y = 0.62x + -0.28\n"
     ]
    },
    {
     "data": {
      "text/plain": "<Figure size 432x288 with 1 Axes>",
      "image/png": "[encoded data removed]"
     },
     "metadata": {},
     "output_type": "display_data"
    }
   ],
   "source": [
    "def wb2mq(w, b):\n",
    "    assert len(w) == 2 # w is a vector of length 2. if not, it will raise an error\n",
    "    assert w[0] != 0 # w[0] should not be zero. if it is, it will raise an error\n",
    "    assert w[1] != 0 # w[1] should not be zero. if it is, it will raise an error\n",
    "    assert b != 0 # b should not be zero. if it is, it will raise an error\n",
    "    m = -w[0] / w[1]\n",
    "    q = -b / w[1]\n",
    "    return m, q\n",
    "\n",
    "def param2boundary(w, b):\n",
    "    m, q = wb2mq(w, b)\n",
    "    print(\"Equation of the decision boundary: y = {:.2f}x + {:.2f}\".format(m, q))\n",
    "    return lambda x: m*x + q\n",
    "\n",
    "def lda_data_plot():\n",
    "    sns.scatterplot(x=x1, y=x2, hue=y, palette=sns.color_palette(['blue', 'red']), s=100)\n",
    "    \n",
    "def lda_model_plot(w, b, color='black'): \n",
    "    model = param2boundary(w, b)\n",
    "    model_points = [model(inp) for inp in x1]\n",
    "    sns.lineplot(x=x1, y=model_points, color=color, linewidth=2, label='Decision Boundary')\n",
    "    \n",
    "# Plot the data\n",
    "lda_data_plot()\n",
    "# Plot the decision boundary\n",
    "lda_model_plot(w, b)\n"
   ],
   "metadata": {
    "collapsed": false,
    "ExecuteTime": {
     "end_time": "2024-05-03T13:39:17.775851Z",
     "start_time": "2024-05-03T13:39:17.159194Z"
    }
   },
   "execution_count": 24
  },
  {
   "cell_type": "markdown",
   "source": [
    "#### 3.7 **[1pt]** Find LDA on scikit-learn; train a model on the data and add it to the print above (data + model from your implementation)."
   ],
   "metadata": {
    "collapsed": false
   }
  },
  {
   "cell_type": "markdown",
   "metadata": {},
   "source": [
    "You ned to pass the correct `solver` parameter to the sklearn constructor, check the documentation to understand what I mean. If you do not the result should still look exactly the same as your implementation (because the data is linearly separable), but you should be aware of which technique your library uses and we have not gotten to SVD yet.  \n",
    "Remember to make sure that you can distinguish the two boundaries even if they overlap (e.g. use different colors). If you use our conversions from last exercise you should also see the printed values of $m$ and $q$ and they are likely to differ in the least significant digits even though the graph looks the same.  \n",
    "Also consider that LDA is a **multiclass method**, and so its parametrization is in principle a list for the many boundaries: you need to access the coefficients of the _first_ (and here, only) boundary using `[trained_model.coef_[0], trained_model.intercept_[0]]`."
   ]
  },
  {
   "cell_type": "code",
   "outputs": [
    {
     "name": "stdout",
     "output_type": "stream",
     "text": [
      " X shape: (150, 2) y shape: (150,)\n",
      "Equation of the decision boundary: y = 0.62x + -0.39\n",
      "Equation of the decision boundary: y = 0.62x + -0.28\n"
     ]
    },
    {
     "data": {
      "text/plain": "<Figure size 432x288 with 1 Axes>",
      "image/png": "[encoded data removed]"
     },
     "metadata": {},
     "output_type": "display_data"
    }
   ],
   "source": [
    "from sklearn.discriminant_analysis import LinearDiscriminantAnalysis\n",
    "print(f\" X shape: {x.shape} y shape: {y.shape}\")\n",
    "trained = LinearDiscriminantAnalysis(solver='svd').fit(x, y)\n",
    "w_skl = [trained.coef_[0], trained.intercept_[0]]\n",
    "# Plot the data\n",
    "lda_data_plot()\n",
    "# Plot the decision boundary\n",
    "lda_model_plot(w_skl[0], w_skl[1], color='darkgreen')\n",
    "lda_model_plot(w, b, color='black')\n"
   ],
   "metadata": {
    "collapsed": false,
    "ExecuteTime": {
     "end_time": "2024-05-03T13:39:18.960816Z",
     "start_time": "2024-05-03T13:39:17.776614Z"
    }
   },
   "execution_count": 25
  },
  {
   "cell_type": "markdown",
   "metadata": {},
   "source": [
    "## At the end of the exercise"
   ]
  },
  {
   "cell_type": "markdown",
   "metadata": {},
   "source": [
    "Bonus question reward no points! Answering this will have no influence on your scoring, not at the assignment and not towards the exam score. But solving it will reward you with skills that will make the next lectures easier, give you real applications, and will be very good practice towards the exam.\n",
    "\n",
    "The solution for this questions will not be included in the regular lab solutions pdf, but you are welcome to open a discussion on the Moodle: we will support your addressing it, and you may meet other students that choose to solve this, and find a teammate for the next assignment that is willing to do things for fun and not only for score :)"
   ]
  },
  {
   "cell_type": "markdown",
   "metadata": {},
   "source": [
    "Let's see some multiclass classification. Copy the code loading the Iris dataset, you want to extract the same features (so you can plot in 2D), but keep the three classes.  \n",
    "_[think: does it matter what label does each class have? Could you use strings such as `['a', 'b', 'c']`?]_  \n",
    "Then run the scikit-learn LDA on the data to obtain a trained model. At this point you can open up the trained coefficients again, and rather than taking only the first like you did with `[trained.coef_[0], trained.intercept_[0]]`, you should have TWO $w$ vectors and TWO $b$ constants **per each pair** of classes.\n",
    "_[think: the space is actually split in several subspaces. Can you derive how many? Can you design a decision tree on top of the boundaries to do the classification as the number of boundaries grow?]_"
   ]
  },
  {
   "cell_type": "markdown",
   "metadata": {},
   "source": [
    "#### BONUS **[ZERO pt]** Plot the boundaries classifying the three species of Iris in the dataset based on the two features used so far."
   ]
  },
  {
   "cell_type": "code",
   "execution_count": 39,
   "metadata": {
    "ExecuteTime": {
     "end_time": "2024-05-03T19:10:46.538251Z",
     "start_time": "2024-05-03T19:10:46.536565Z"
    }
   },
   "outputs": [],
   "source": []
  },
  {
   "cell_type": "markdown",
   "metadata": {},
   "source": [
    "### Final considerations"
   ]
  },
  {
   "cell_type": "markdown",
   "metadata": {},
   "source": [
    "Stop for a moment and think how hard it was to derive these equations (in the lecture), and how hard it was instead to implement them (once you get them right). These are two very different skills.  \n",
    "To understand the derivation you need to think hard, express your concept in math (actually requiring broad knowledge of many of its subfields), see it through with absolute precision, and finally correctly solve the equations.  \n",
    "To implement the method, you need to map the math to the correct function calls (hard, but arguably less), and you only ever work with the final solution, but you deal with programming languages and libraries and documentations.  \n",
    "This is the reason why so many people nowadays broadly advertise machine learning skills after taking short tutorials. But if you do not understand what a parameter is for, you will only be guessing which value to use.\n",
    "\n",
    "The reason why you are sweating so much on this course is to gain an edge over all of those who only ever learn to _use_ the tools: by instead _making_ the tools you understand them from the inside out, their applications and limitations, and even become capable of adapting and improving them.  \n",
    "Keep up: this course is not easy, but machine learning has become unavoidable in your field, and these foundations will enable you to bend the whole field to your needs."
   ]
  }
 ],
 "metadata": {
  "kernelspec": {
   "display_name": "Python 3 (ipykernel)",
   "language": "python",
   "name": "python3"
  },
  "language_info": {
   "codemirror_mode": {
    "name": "ipython",
    "version": 3
   },
   "file_extension": ".py",
   "mimetype": "text/x-python",
   "name": "python",
   "nbconvert_exporter": "python",
   "pygments_lexer": "ipython3",
   "version": "3.8.10"
  }
 },
 "nbformat": 4,
 "nbformat_minor": 4
}
