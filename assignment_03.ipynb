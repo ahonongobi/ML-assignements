{
 "cells": [
  {
   "cell_type": "markdown",
   "metadata": {},
   "source": [
    "Please fill in your name and that of your teammate.\n",
    "\n",
    "You: **Ahonon Gobi Parfait**\n",
    "\n",
    "Teammate:"
   ]
  },
  {
   "cell_type": "markdown",
   "metadata": {},
   "source": [
    "# Introduction"
   ]
  },
  {
   "cell_type": "markdown",
   "metadata": {},
   "source": [
    "Welcome to the third lab. There is much to go through today so we will keep extra concepts to a minimum. There is no new library introduced at this lecture as we will keep using `numpy` for the heavy lifting, `scikit-learn` for the algorithms, and `seaborn` / `matplotlib` for plotting. Careful about reusing variable names in the notebook and computing cells out of order: frequent calls to `Kernel -> Restart and Run All` can save you from headaches.\n",
    "\n",
    "The assignment starts getting math-heavy. Here's a new tool to aid you with the debugging. Explicitly `import IPython` at the beginning of a notebook (or Python file) to have access to the computational Python kernel. You can then call `IPython.embed()` at an arbitrary place in your code (say, inside a loop) and it will pause the computation and drop you into an interactive console. You can then evaluate Python code in the context where it was called. Here is an example:\n",
    "\n",
    "```python\n",
    "import numpy as np\n",
    "for i in range(10):\n",
    "    guess = np.random.normal()\n",
    "    function_that_fails_because_of(guess, i)\n",
    "```\n",
    "\n",
    "Let's say your function fails for `i==9`, how would you find the error? Typically you may want to edit the code and print `guess` and `i` to see what is happening, but it is slow and passive. What if you want to try to pass `i+1` and see if that works? What if you want to try a few other random numbers with the same `i`? Enter `IPython.embed()`:\n",
    "\n",
    "```python\n",
    "import numpy as np\n",
    "import IPython\n",
    "for i in range(10):\n",
    "    guess = np.random.normal()\n",
    "    if i==9: IPython.embed()\n",
    "    function_that_fails_because_of(guess, i)\n",
    "```\n",
    "\n",
    "If you execute this code, the cell output will show an interactive console in your output cell. Here you can send commands to be interpreted by the Python kernel of the notebook. You could then try something like the following lines for example (one at a time):\n",
    "\n",
    "```python\n",
    "i #=> prints value of i\n",
    "guess  #=> prints value of guess\n",
    "function_that_fails_because_of(guess, i) #=> fails and shows you the error\n",
    "function_that_fails_because_of(guess, i+1) #=> change parameters: will it work?\n",
    "function_that_fails_because_of(guess, i-1) #=> what about this one?\n",
    "guess = np.random.normal() #=> overwrites the value of `guess` in the kernel\n",
    "function_that_fails_because_of(guess, i) #=> will this work this time?\n",
    "```\n",
    "\n",
    "As you can see you can test your code in the context of the function (or, here, loop), find the code that works, then you can go ahead and copy+paste in your actual code. If you need to exit the console and resume the computation (with whatever change you executed, as the kernel is the same) just type `exit()`.\n",
    "\n",
    "_Bonus:_ you can ask the kernel to drop you into a _debugger_ session every time you get an error. This can be tricky with Jupyter Notebooks, so use with caution, but can also be a lifesaver if you are willing to learn about [postmortem debugging](https://medium.com/instamojo-matters/become-a-pdb-power-user-e3fc4e2774b2). You do that by adding the following lines on top of your code (need to execute them only once):\n",
    "\n",
    "```python\n",
    "# DEBUG: uncaught exceptions drop you into ipdb for postmortem debugging\n",
    "import sys, IPython; sys.excepthook = IPython.core.ultratb.ColorTB(call_pdb=True)\n",
    "```\n",
    "\n",
    "After this line, if you encounter an error or uncaught exception in your code, rather than terminating you will be dropped in an `ipdb` (fancier version of `pdb`) console where you can interrogate the program about the conditions causing the crash.\n",
    "\n",
    "Good hunting!"
   ]
  },
  {
   "cell_type": "markdown",
   "metadata": {},
   "source": [
    "### How to pass the lab?"
   ]
  },
  {
   "cell_type": "markdown",
   "metadata": {},
   "source": [
    "Below you find the exercise questions. Each question awarding points is numbered and states the number of points like this: **[0pt]**. To answer a question, fill the cell below with your answer (markdown for text, code for implementation). Incorrect or incomplete answers are in principle worth 0 points: to assign partial reward is only up to teacher discretion. Over-complete answers do not award extra points (though they are appreciated and will be kept under consideration). Save your work frequently! (`ctrl+s`)\n",
    "\n",
    "**You need at least 22 points (out of 33 available) to pass** (66%)."
   ]
  },
  {
   "cell_type": "markdown",
   "metadata": {},
   "source": [
    "# 1. Fundamentals"
   ]
  },
  {
   "cell_type": "markdown",
   "metadata": {},
   "source": [
    "Let's make sure some of the core points are clear before addressing the specific algorithms.\n",
    "\n",
    "#### 1.1 **[1pt]** Write the equation of the Gaussian density. Use Latex inside the Markdown cell.\n",
    "\n",
    "I suggest you type it out rather than copy+paste from the Internet: the goal of this question is to _force_ you to read one term at a time, and understand which is clear to you and which is not.\n",
    "For example, the equation you will write here a norm, while our later applications of the formula do not, since we will actually be using the [Gaussian](https://en.wikipedia.org/wiki/Normal_distribution) Probability Density Function [(PDF)](https://en.wikipedia.org/wiki/Probability_density_function) equation instead. Do you understand why? Did you study this before?"
   ]
  },
  {
   "cell_type": "markdown",
   "metadata": {},
   "source": [
    "$$f(x,\\mu,\\sigma^2) = \\frac{1}{\\sqrt{2\\pi\\sigma^2}} e^{-\\frac{(x-\\mu)^2}{2\\sigma^2}}$$\n",
    "\n",
    "Where : \n",
    "x is the random variables\n",
    "$\\mu$ is the mean(average) of the distribution \n",
    "$\\sigma²$ is the variance of the distribution \n"
   ]
  },
  {
   "cell_type": "markdown",
   "source": [],
   "metadata": {
    "collapsed": false
   }
  },
  {
   "cell_type": "markdown",
   "metadata": {},
   "source": [
    "#### 1.2 **[1pt]** Explain why we maximize the log-likelihood rather than the likelihood. In particular, what is the advantage in using the $\\log$ rather than another operation?"
   ]
  },
  {
   "cell_type": "markdown",
   "source": [
    "R: Maximizing the log-likelihood rather than the likelihood is advantageous because it simplifies computations and helps avoid numerical underflow or overflow issues. The logarithm function compresses large ranges of values into a more manageable scale, making it easier to work with and compute gradients during optimization. "
   ],
   "metadata": {
    "collapsed": false
   }
  },
  {
   "cell_type": "markdown",
   "metadata": {},
   "source": []
  },
  {
   "cell_type": "markdown",
   "metadata": {},
   "source": [
    "#### 1.3 **[1pt]** Why the equation maximizing the log-likelihood of a Gaussian does not include the parameter $\\sigma$?"
   ]
  },
  {
   "cell_type": "markdown",
   "source": [
    "R: \n",
    "The equation maximizing the log-likelihood of a Gaussian does not include the parameter $\\sigma$ because it is a constant in the optimization problem. The log-likelihood function is maximized with respect to the parameters of the distribution, and $\\sigma$ is a parameter of the distribution, not a variable to be optimized."
   ],
   "metadata": {
    "collapsed": false
   }
  },
  {
   "cell_type": "markdown",
   "metadata": {},
   "source": []
  },
  {
   "cell_type": "markdown",
   "metadata": {},
   "source": [
    "#### 1.4 **[1pt]** Explain the meaning of i.i.d. (in English), using the simplest words you can."
   ]
  },
  {
   "cell_type": "markdown",
   "source": [
    "R: \n",
    "i.i.d. stands for independent and identically distributed. It means that the random variables in a sample are independent of each other and have the same probability distribution. In other words, the outcome of one random variable does not affect the outcome of another, and they all come from the same underlying distribution."
   ],
   "metadata": {
    "collapsed": false
   }
  },
  {
   "cell_type": "markdown",
   "metadata": {},
   "source": []
  },
  {
   "cell_type": "markdown",
   "metadata": {},
   "source": [
    "#### 1.5 **[2pt]** Write the equation of the Bayes' Rule (use Latex). Then write below how to read it in English."
   ]
  },
  {
   "cell_type": "markdown",
   "source": [
    "$$P(A|B) = \\frac{P(B|A) \\times P(A)}{P(B)}$$\n",
    "\n",
    "Reading: \n",
    "The probability of A given B is equal to the probability of B given A times the probability of A divided by the probability of B"
   ],
   "metadata": {
    "collapsed": false
   }
  },
  {
   "cell_type": "markdown",
   "metadata": {},
   "source": []
  },
  {
   "cell_type": "markdown",
   "metadata": {},
   "source": [
    "# 2. Linear Regression"
   ]
  },
  {
   "cell_type": "markdown",
   "metadata": {},
   "source": [
    "#### 2.1 **[2pt]** Explain the meaning of $y_i = \\langle w, x_i \\rangle + \\epsilon_i, \\;\\; \\epsilon \\sim \\mathcal{N}(0, \\sigma^2)$ (in English). Utilize the word 'prototype'."
   ]
  },
  {
   "cell_type": "markdown",
   "metadata": {},
   "source": [
    "R: This equation is a linear relationship between a dependant variables $y_i$ with an independant variables $x_i$ with an additional noise $\\epsilon_i$ . The termes prototypes refers to the ideal value or true values of the dependant variables $y_i$ for a sets of features values $x_i$\n"
   ]
  },
  {
   "cell_type": "markdown",
   "metadata": {},
   "source": [
    "Enough theory, let's get our hands in there. Since we are working with a regression task, let us generate some data from an underlying linear function with some noise.  \n",
    "_[think: the process below is (correct but) unnecessary convoluted: would you be able (yet) to simplify it? Always prefer simpler code!]_"
   ]
  },
  {
   "cell_type": "code",
   "execution_count": 2,
   "metadata": {
    "ExecuteTime": {
     "end_time": "2024-03-12T15:18:39.038484Z",
     "start_time": "2024-03-12T15:18:39.034497Z"
    }
   },
   "outputs": [],
   "source": [
    "import numpy as np\n",
    "trg_fn = lambda x: 2*x - 1 # hi I'm lambda, remember me?\n",
    "some_noise = lambda: np.random.normal(0,2) # Gaussian noise with mu=0, sigma=2\n",
    "# Below we add a 1 to every row as the bias (constant) input\n",
    "# Think about each part and discuss if you do not understand something yet!\n",
    "data = np.array([[x, 1, trg_fn(x) + some_noise()] for x in np.linspace(-10, 10, 50)])\n",
    "*x, y = data.transpose() # easier using splat and numpy: do you understand it?\n",
    "x = np.array(x).transpose() # back to *rows* with input features and bias input"
   ]
  },
  {
   "cell_type": "code",
   "outputs": [
    {
     "data": {
      "text/plain": "array([[-10.        ,   1.        , -21.71320194],\n       [ -9.59183673,   1.        , -20.8091786 ],\n       [ -9.18367347,   1.        , -16.3815326 ],\n       [ -8.7755102 ,   1.        , -21.35077948],\n       [ -8.36734694,   1.        , -14.71193875],\n       [ -7.95918367,   1.        , -18.92827776],\n       [ -7.55102041,   1.        , -11.33812501],\n       [ -7.14285714,   1.        , -19.58936467],\n       [ -6.73469388,   1.        , -12.79783448],\n       [ -6.32653061,   1.        , -13.40821587],\n       [ -5.91836735,   1.        ,  -9.04760785],\n       [ -5.51020408,   1.        , -11.68115221],\n       [ -5.10204082,   1.        , -11.67313386],\n       [ -4.69387755,   1.        ,  -9.64234207],\n       [ -4.28571429,   1.        , -12.47599662],\n       [ -3.87755102,   1.        ,  -8.95663288],\n       [ -3.46938776,   1.        ,  -8.07558003],\n       [ -3.06122449,   1.        ,  -6.60800885],\n       [ -2.65306122,   1.        ,  -2.77986523],\n       [ -2.24489796,   1.        ,  -7.54646773],\n       [ -1.83673469,   1.        ,  -4.93063738],\n       [ -1.42857143,   1.        ,  -2.21905761],\n       [ -1.02040816,   1.        ,  -4.58121006],\n       [ -0.6122449 ,   1.        ,  -3.3653266 ],\n       [ -0.20408163,   1.        ,  -2.34174739],\n       [  0.20408163,   1.        ,  -0.6965453 ],\n       [  0.6122449 ,   1.        ,   0.42632822],\n       [  1.02040816,   1.        ,   0.89830372],\n       [  1.42857143,   1.        ,   4.509907  ],\n       [  1.83673469,   1.        ,   1.39681556],\n       [  2.24489796,   1.        ,   4.26912439],\n       [  2.65306122,   1.        ,   5.58860513],\n       [  3.06122449,   1.        ,   2.81808215],\n       [  3.46938776,   1.        ,   6.29014877],\n       [  3.87755102,   1.        ,   9.32338799],\n       [  4.28571429,   1.        ,  10.53245273],\n       [  4.69387755,   1.        ,   6.65208444],\n       [  5.10204082,   1.        ,   9.36500185],\n       [  5.51020408,   1.        ,   6.99295185],\n       [  5.91836735,   1.        ,  11.2315194 ],\n       [  6.32653061,   1.        ,  14.06563738],\n       [  6.73469388,   1.        ,  16.3448198 ],\n       [  7.14285714,   1.        ,  14.12517371],\n       [  7.55102041,   1.        ,  13.53825543],\n       [  7.95918367,   1.        ,  14.14520506],\n       [  8.36734694,   1.        ,  14.49646781],\n       [  8.7755102 ,   1.        ,  14.91845917],\n       [  9.18367347,   1.        ,  18.00687636],\n       [  9.59183673,   1.        ,  19.45035234],\n       [ 10.        ,   1.        ,  20.16736788]])"
     },
     "execution_count": 3,
     "metadata": {},
     "output_type": "execute_result"
    }
   ],
   "source": [
    "# for my own puspose and to se clearly what is done!!!!!\n",
    "data"
   ],
   "metadata": {
    "collapsed": false,
    "ExecuteTime": {
     "end_time": "2024-03-12T15:18:39.192512Z",
     "start_time": "2024-03-12T15:18:39.186908Z"
    }
   },
   "execution_count": 3
  },
  {
   "cell_type": "code",
   "outputs": [
    {
     "data": {
      "text/plain": "array([[-10.        ,  -9.59183673,  -9.18367347,  -8.7755102 ,\n         -8.36734694,  -7.95918367,  -7.55102041,  -7.14285714,\n         -6.73469388,  -6.32653061,  -5.91836735,  -5.51020408,\n         -5.10204082,  -4.69387755,  -4.28571429,  -3.87755102,\n         -3.46938776,  -3.06122449,  -2.65306122,  -2.24489796,\n         -1.83673469,  -1.42857143,  -1.02040816,  -0.6122449 ,\n         -0.20408163,   0.20408163,   0.6122449 ,   1.02040816,\n          1.42857143,   1.83673469,   2.24489796,   2.65306122,\n          3.06122449,   3.46938776,   3.87755102,   4.28571429,\n          4.69387755,   5.10204082,   5.51020408,   5.91836735,\n          6.32653061,   6.73469388,   7.14285714,   7.55102041,\n          7.95918367,   8.36734694,   8.7755102 ,   9.18367347,\n          9.59183673,  10.        ],\n       [  1.        ,   1.        ,   1.        ,   1.        ,\n          1.        ,   1.        ,   1.        ,   1.        ,\n          1.        ,   1.        ,   1.        ,   1.        ,\n          1.        ,   1.        ,   1.        ,   1.        ,\n          1.        ,   1.        ,   1.        ,   1.        ,\n          1.        ,   1.        ,   1.        ,   1.        ,\n          1.        ,   1.        ,   1.        ,   1.        ,\n          1.        ,   1.        ,   1.        ,   1.        ,\n          1.        ,   1.        ,   1.        ,   1.        ,\n          1.        ,   1.        ,   1.        ,   1.        ,\n          1.        ,   1.        ,   1.        ,   1.        ,\n          1.        ,   1.        ,   1.        ,   1.        ,\n          1.        ,   1.        ],\n       [-21.71320194, -20.8091786 , -16.3815326 , -21.35077948,\n        -14.71193875, -18.92827776, -11.33812501, -19.58936467,\n        -12.79783448, -13.40821587,  -9.04760785, -11.68115221,\n        -11.67313386,  -9.64234207, -12.47599662,  -8.95663288,\n         -8.07558003,  -6.60800885,  -2.77986523,  -7.54646773,\n         -4.93063738,  -2.21905761,  -4.58121006,  -3.3653266 ,\n         -2.34174739,  -0.6965453 ,   0.42632822,   0.89830372,\n          4.509907  ,   1.39681556,   4.26912439,   5.58860513,\n          2.81808215,   6.29014877,   9.32338799,  10.53245273,\n          6.65208444,   9.36500185,   6.99295185,  11.2315194 ,\n         14.06563738,  16.3448198 ,  14.12517371,  13.53825543,\n         14.14520506,  14.49646781,  14.91845917,  18.00687636,\n         19.45035234,  20.16736788]])"
     },
     "execution_count": 4,
     "metadata": {},
     "output_type": "execute_result"
    }
   ],
   "source": [
    "data.transpose()"
   ],
   "metadata": {
    "collapsed": false,
    "ExecuteTime": {
     "end_time": "2024-03-12T15:18:39.208999Z",
     "start_time": "2024-03-12T15:18:39.204362Z"
    }
   },
   "execution_count": 4
  },
  {
   "cell_type": "code",
   "outputs": [
    {
     "data": {
      "text/plain": "array([[-10.        ,   1.        ],\n       [ -9.59183673,   1.        ],\n       [ -9.18367347,   1.        ],\n       [ -8.7755102 ,   1.        ],\n       [ -8.36734694,   1.        ],\n       [ -7.95918367,   1.        ],\n       [ -7.55102041,   1.        ],\n       [ -7.14285714,   1.        ],\n       [ -6.73469388,   1.        ],\n       [ -6.32653061,   1.        ],\n       [ -5.91836735,   1.        ],\n       [ -5.51020408,   1.        ],\n       [ -5.10204082,   1.        ],\n       [ -4.69387755,   1.        ],\n       [ -4.28571429,   1.        ],\n       [ -3.87755102,   1.        ],\n       [ -3.46938776,   1.        ],\n       [ -3.06122449,   1.        ],\n       [ -2.65306122,   1.        ],\n       [ -2.24489796,   1.        ],\n       [ -1.83673469,   1.        ],\n       [ -1.42857143,   1.        ],\n       [ -1.02040816,   1.        ],\n       [ -0.6122449 ,   1.        ],\n       [ -0.20408163,   1.        ],\n       [  0.20408163,   1.        ],\n       [  0.6122449 ,   1.        ],\n       [  1.02040816,   1.        ],\n       [  1.42857143,   1.        ],\n       [  1.83673469,   1.        ],\n       [  2.24489796,   1.        ],\n       [  2.65306122,   1.        ],\n       [  3.06122449,   1.        ],\n       [  3.46938776,   1.        ],\n       [  3.87755102,   1.        ],\n       [  4.28571429,   1.        ],\n       [  4.69387755,   1.        ],\n       [  5.10204082,   1.        ],\n       [  5.51020408,   1.        ],\n       [  5.91836735,   1.        ],\n       [  6.32653061,   1.        ],\n       [  6.73469388,   1.        ],\n       [  7.14285714,   1.        ],\n       [  7.55102041,   1.        ],\n       [  7.95918367,   1.        ],\n       [  8.36734694,   1.        ],\n       [  8.7755102 ,   1.        ],\n       [  9.18367347,   1.        ],\n       [  9.59183673,   1.        ],\n       [ 10.        ,   1.        ]])"
     },
     "execution_count": 5,
     "metadata": {},
     "output_type": "execute_result"
    }
   ],
   "source": [
    "x"
   ],
   "metadata": {
    "collapsed": false,
    "ExecuteTime": {
     "end_time": "2024-03-12T15:18:39.224567Z",
     "start_time": "2024-03-12T15:18:39.220875Z"
    }
   },
   "execution_count": 5
  },
  {
   "cell_type": "markdown",
   "source": [],
   "metadata": {
    "collapsed": false
   }
  },
  {
   "cell_type": "markdown",
   "source": [],
   "metadata": {
    "collapsed": false
   }
  },
  {
   "cell_type": "markdown",
   "metadata": {},
   "source": [
    "#### 2.2 **[1pt]** Write a (Python) function that takes a data point in input and returns the squared error Loss. Test it by using a constant prediction model $y = 1$ and compute the Risk over all the data."
   ]
  },
  {
   "cell_type": "markdown",
   "source": [
    "here is the formular : $\\text{Squared Error Loss} = \\frac{1}{n} \\sum_{i=1}^{n} (y_i - \\hat{y}_i)²$"
   ],
   "metadata": {
    "collapsed": false
   }
  },
  {
   "cell_type": "code",
   "execution_count": 6,
   "metadata": {
    "ExecuteTime": {
     "end_time": "2024-03-12T15:18:39.252807Z",
     "start_time": "2024-03-12T15:18:39.249508Z"
    }
   },
   "outputs": [],
   "source": [
    "\n",
    "def square_error_loss(data_points):\n",
    "    sum_squared_errors = 0\n",
    "    \n",
    "    for data_point in data_points: \n",
    "        y_actuel = data_point[-1]\n",
    "        y_predicted  = predict(data_point)\n",
    "        \n",
    "        squared = (y_actuel - y_predicted) **2\n",
    "        sum_squared_errors += squared\n",
    "        \n",
    "    mean_squared_error = sum_squared_errors/len(data_points)\n",
    "    return  mean_squared_error\n",
    "\n",
    "def predict(data_point):\n",
    "    return 1\n",
    "    "
   ]
  },
  {
   "cell_type": "markdown",
   "metadata": {},
   "source": [
    "[IMPORTANT]: A few tips before we proceed:\n",
    "- Numpy's linear algebra library provides matrix inversion, but you should use instead the pseudo-inverse to cope with singular covariance matrices: `np.linalg.pinv()`\n",
    "- Numpy's array provides inner product with the function `dot()`\n",
    "- Typically `dot()` will find the right direction for one-dimensional arrays, which means that you should never need to transpose them\n",
    "- Using `dot()` with matrices instead *always* requires you to `transpose()` to the right orientation! Write the math and keep track of what you are doing.\n",
    "- Remember that matrix product is not commutative: `A.dot(B)` is NOT equal to `B.dot(A)`. Refresh also how `A.dot(B)` requires the number of columns of `A` to be the same as the number of rows of `B`, and the result will have the same number of rows of `A` and the number of columns of `B`.\n",
    "- Linear regression uses a closed-form solution, **not a loop**, and you will not use the implementation of the loss above in the rest of the assignment (because it is implicit in the algorithm's solution)."
   ]
  },
  {
   "cell_type": "markdown",
   "metadata": {},
   "source": [
    "#### 2.3 **[2pt]** Write a function that takes in input a list of data points and a list of labels, and returns the $w$ vector using the closed-form solution of Linear Regression. Test it on the data above and print the computed $w$."
   ]
  },
  {
   "cell_type": "markdown",
   "source": [
    "$$\\mathbf{w} = (\\mathbf{X}^\\intercal \\mathbf{X})^{-1} \\mathbf{X}^\\intercal \\mathbf{y}$$\n",
    "\n",
    "where: \n",
    "        \n",
    "w is the vector of model parameters, \n",
    "X is the feature matrix (each row represents an observation, each column a feature), \n",
    "and y is the vector of target values.\n"
   ],
   "metadata": {
    "collapsed": false
   }
  },
  {
   "cell_type": "code",
   "outputs": [
    {
     "name": "stdout",
     "output_type": "stream",
     "text": [
      "[ 2.00529417 -0.76192865]\n"
     ]
    }
   ],
   "source": [
    "def linear_regression(data_points, labels):\n",
    "    x = np.array([data_point[:-1] for data_point in data_points])\n",
    "    #y = np.array([data_point[-1] for data_point in data_points])\n",
    "    y = np.array(labels)\n",
    "    x_pseudo_inv = np.linalg.pinv(x)\n",
    "    w = x_pseudo_inv.dot(y)\n",
    "    return w\n",
    "\n",
    "w = linear_regression(data, y)\n",
    "print(w)\n"
   ],
   "metadata": {
    "collapsed": false,
    "ExecuteTime": {
     "end_time": "2024-03-12T15:18:39.284922Z",
     "start_time": "2024-03-12T15:18:39.266950Z"
    }
   },
   "execution_count": 7
  },
  {
   "cell_type": "markdown",
   "metadata": {},
   "source": [
    "#### 2.4 **[2pt]** Predict the labels for all points using your Linear Regression implementation and the `w` vector from the previous question. For each data point, print the triplet of  `(label, prediction, loss)`. Then compute and print the (squared error) Risk over the dataset."
   ]
  },
  {
   "cell_type": "code",
   "outputs": [
    {
     "name": "stdout",
     "output_type": "stream",
     "text": [
      "Data point 1: (label=-21.713201938080168, prediction=-20.814870398525017, loss=0.8069995549595286)\n",
      "Data point 2: (label=-20.80917859840263, prediction=-19.99638298034813, loss=0.6606367167285987)\n",
      "Data point 3: (label=-16.38153259932587, prediction=-19.17789556217124, loss=7.819645819973346)\n",
      "Data point 4: (label=-21.350779477130647, prediction=-18.359408143994347, loss=8.948302452709644)\n",
      "Data point 5: (label=-14.711938745114555, prediction=-17.540920725817458, loss=8.003139047141719)\n",
      "Data point 6: (label=-18.928277760531728, prediction=-16.722433307640568, loss=4.865749750350701)\n",
      "Data point 7: (label=-11.338125014144342, prediction=-15.903945889463678, loss=20.846720265501826)\n",
      "Data point 8: (label=-19.589364670991827, prediction=-15.085458471286787, loss=20.2851710557415)\n",
      "Data point 9: (label=-12.79783448233158, prediction=-14.266971053109899, loss=2.158362263598275)\n",
      "Data point 10: (label=-13.40821587408151, prediction=-13.448483634933009, loss=0.001621492563993531)\n",
      "Data point 11: (label=-9.047607850795446, prediction=-12.629996216756119, loss=12.833506404570382)\n",
      "Data point 12: (label=-11.681152213016626, prediction=-11.811508798579228, loss=0.016992839399539945)\n",
      "Data point 13: (label=-11.673133859880485, prediction=-10.99302138040234, loss=0.4625529847419108)\n",
      "Data point 14: (label=-9.6423420656131, prediction=-10.17453396222545, loss=0.28322821481985)\n",
      "Data point 15: (label=-12.475996618141588, prediction=-9.35604654404856, loss=9.734088464833091)\n",
      "Data point 16: (label=-8.956632875244338, prediction=-8.53755912587167, loss=0.17562280741326572)\n",
      "Data point 17: (label=-8.07558003349834, prediction=-7.7190717076947815, loss=0.12709818636725662)\n",
      "Data point 18: (label=-6.608008848482876, prediction=-6.900584289517893, loss=0.08560038869683456)\n",
      "Data point 19: (label=-2.7798652344486023, prediction=-6.082096871341002, loss=10.904733783693057)\n",
      "Data point 20: (label=-7.546467725741529, prediction=-5.263609453164111, loss=5.211441892675151)\n",
      "Data point 21: (label=-4.93063737990674, prediction=-4.445122034987222, loss=0.23572515015231874)\n",
      "Data point 22: (label=-2.2190576115250003, prediction=-3.6266346168103327, loss=1.981273025808025)\n",
      "Data point 23: (label=-4.581210056865804, prediction=-2.8081471986334403, loss=3.1437518992431195)\n",
      "Data point 24: (label=-3.365326599496943, prediction=-1.9896597804565515, loss=1.8924591970087088)\n",
      "Data point 25: (label=-2.3417473890787206, prediction=-1.1711723622796626, loss=1.3702458933656154)\n",
      "Data point 26: (label=-0.6965452950875456, prediction=-0.35268494410277385, loss=0.11823994097937042)\n",
      "Data point 27: (label=0.42632821856372993, prediction=0.465802474074115, loss=0.001558216848099167)\n",
      "Data point 28: (label=0.8983037220627003, prediction=1.2842898922510075, loss=0.1489853235766369)\n",
      "Data point 29: (label=4.509906999677167, prediction=2.1027773104278964, loss=5.794273340865289)\n",
      "Data point 30: (label=1.3968155610963504, prediction=2.9212647286047853, loss=2.32394526431716)\n",
      "Data point 31: (label=4.269124386784618, prediction=3.739752146781678, loss=0.2802349684857305)\n",
      "Data point 32: (label=5.588605131235804, prediction=4.5582395649585665, loss=1.0616532001698118)\n",
      "Data point 33: (label=2.8180821462685928, prediction=5.376726983135455, loss=6.546663401225454)\n",
      "Data point 34: (label=6.290148774377992, prediction=6.195214401312344, loss=0.009012535189367633)\n",
      "Data point 35: (label=9.323387989972195, prediction=7.013701819489233, loss=5.3346502061202505)\n",
      "Data point 36: (label=10.532452731497562, prediction=7.8321892376661255, loss=7.2914229361187575)\n",
      "Data point 37: (label=6.65208443791698, prediction=8.650676655843014, loss=3.994370853554504)\n",
      "Data point 38: (label=9.365001853884682, prediction=9.469164074019904, loss=0.010849768103498568)\n",
      "Data point 39: (label=6.992951853345543, prediction=10.287651492196796, loss=10.855045710246573)\n",
      "Data point 40: (label=11.231519398343076, prediction=11.106138910373685, loss=0.015720266763442587)\n",
      "Data point 41: (label=14.065637375307965, prediction=11.924626328550573, loss=4.583928302337181)\n",
      "Data point 42: (label=16.34481980457368, prediction=12.743113746727463, loss=12.972286527126148)\n",
      "Data point 43: (label=14.125173714975714, prediction=13.561601164904351, loss=0.3176140191939393)\n",
      "Data point 44: (label=13.53825542811618, prediction=14.38008858308124, loss=0.7086830607984278)\n",
      "Data point 45: (label=14.145205058288914, prediction=15.198576001258136, loss=1.109590343491868)\n",
      "Data point 46: (label=14.496467807603198, prediction=16.017063419435022, loss=2.3122110147222004)\n",
      "Data point 47: (label=14.918459173405028, prediction=16.835550837611912, loss=3.675240448971521)\n",
      "Data point 48: (label=18.00687636440765, prediction=17.6540382557888, loss=0.12449473089372559)\n",
      "Data point 49: (label=19.45035234236694, prediction=18.47252567396569, loss=0.9561449934366868)\n",
      "Data point 50: (label=20.167367883325365, prediction=19.291013092142578, loss=0.7679977200290277)\n",
      "Risk: 3.883389732912438\n"
     ]
    }
   ],
   "source": [
    "# predictions for all data points using linear regression\n",
    "predictions  = np.dot(x, w)\n",
    "# squared error loss for each data point\n",
    "losses = (y - predictions)**2\n",
    "# risk\n",
    "risk = np.mean(losses)\n",
    "\n",
    "# Print the triplet (label, prediction, loss) for each data point\n",
    "for i in range(len(data)):\n",
    "    print(f\"Data point {i+1}: (label={y[i]}, prediction={predictions[i]}, loss={losses[i]})\")\n",
    "print(f\"Risk: {risk}\")\n"
   ],
   "metadata": {
    "collapsed": false,
    "ExecuteTime": {
     "end_time": "2024-03-12T15:18:39.327663Z",
     "start_time": "2024-03-12T15:18:39.321284Z"
    }
   },
   "execution_count": 8
  },
  {
   "cell_type": "markdown",
   "metadata": {},
   "source": [
    "Remember that you need to build the linear model (careful handling the bias), then you are doing _regression_ not *classification*, which means you are predicting the value $\\hat{y}$ based on your $x$. You should get back $m$ and $q$ close to $2$ and $-1$, and the risk roughly proportional to the square of the expected error multiplied by the number of points (or close below that).  \n",
    "_[think: what is the expected error? Do you understand why? You can generate the points and compute the risk multiple times to verify your hypothesis]_"
   ]
  },
  {
   "cell_type": "markdown",
   "metadata": {},
   "source": [
    "#### 2.5 **[2pt]** Plot the data and the model.\n",
    "\n",
    "You should be able to partially reuse the printing code from the last lab (particularly plot and params-to-boundary conversion), but feel free to customize it as you need.\n",
    "I will keep repeating this for a while more: careful with the bias!  \n",
    "(Think: you can plot the model's predictions very easily if you use linear algebra, do you understand what is `x.dot(w)`?)"
   ]
  },
  {
   "cell_type": "code",
   "outputs": [
    {
     "data": {
      "text/plain": "<Figure size 432x288 with 1 Axes>",
      "image/png": "[encoded data removed]"
     },
     "metadata": {},
     "output_type": "display_data"
    }
   ],
   "source": [
    "import matplotlib.pyplot as plt\n",
    "\n",
    "# Plot the data\n",
    "plt.scatter(x[:,0], y, label='Data points')\n",
    "# Plot the model\n",
    "plt.plot(x[:,0], predictions, label='Linear Regression', color='red')\n",
    "plt.xlabel('x')\n",
    "plt.ylabel('y')\n",
    "plt.legend()\n",
    "plt.show()"
   ],
   "metadata": {
    "collapsed": false,
    "ExecuteTime": {
     "end_time": "2024-03-12T15:18:39.524598Z",
     "start_time": "2024-03-12T15:18:39.349731Z"
    }
   },
   "execution_count": 9
  },
  {
   "cell_type": "markdown",
   "metadata": {},
   "source": [
    "#### 2.6 **[2pt]** Find Linear Regression in scikit-learn and train a model on the data."
   ]
  },
  {
   "cell_type": "markdown",
   "metadata": {},
   "source": [
    "The input to the `fit()` function should be a matrix and a vector, so try forcing `actual_x` into a $n\\times 1$ matrix by using `actual_x.reshape((-1, 1))`. If you want to predict the outputs, you simply need to pass the same data matrix to the method `predict()`.  "
   ]
  },
  {
   "cell_type": "code",
   "execution_count": 10,
   "metadata": {
    "ExecuteTime": {
     "end_time": "2024-03-12T15:18:39.529826Z",
     "start_time": "2024-03-12T15:18:39.525545Z"
    }
   },
   "outputs": [
    {
     "name": "stdout",
     "output_type": "stream",
     "text": [
      "We find out: [-20.8148704  -19.99638298 -19.17789556 -18.35940814 -17.54092073\n",
      " -16.72243331 -15.90394589 -15.08545847 -14.26697105 -13.44848363\n",
      " -12.62999622 -11.8115088  -10.99302138 -10.17453396  -9.35604654\n",
      "  -8.53755913  -7.71907171  -6.90058429  -6.08209687  -5.26360945\n",
      "  -4.44512203  -3.62663462  -2.8081472   -1.98965978  -1.17117236\n",
      "  -0.35268494   0.46580247   1.28428989   2.10277731   2.92126473\n",
      "   3.73975215   4.55823956   5.37672698   6.1952144    7.01370182\n",
      "   7.83218924   8.65067666   9.46916407  10.28765149  11.10613891\n",
      "  11.92462633  12.74311375  13.56160116  14.38008858  15.198576\n",
      "  16.01706342  16.83555084  17.65403826  18.47252567  19.29101309]\n"
     ]
    }
   ],
   "source": [
    "from sklearn.linear_model import LinearRegression\n",
    "\n",
    "# create linear regression object\n",
    "model = LinearRegression()\n",
    "# reshaping \n",
    "X_column_vector = x[:,0].reshape((-1,1))\n",
    "# fit the model to the model\n",
    "trained =  model.fit(X_column_vector,y)\n",
    "# make the prediction on the X_column_vector\n",
    "predictions_skl = model.predict(X_column_vector)\n",
    "# Show it to see ? Let us do it.\n",
    "print(\"We find out:\", predictions_skl)\n"
   ]
  },
  {
   "cell_type": "markdown",
   "metadata": {},
   "source": [
    "#### 2.7 **[1pt]** Plot in a single figure: (i) the data points as a scatterplot; (ii) the model you learned using your implementation of Linear Regression; (iii) the model you trained using the scikit-implementation."
   ]
  },
  {
   "cell_type": "markdown",
   "metadata": {},
   "source": [
    "Careful, it may be that you plot both but they are exactly the same, so they are superimposed and you only see one line. To verify this you can try plotting them with different colors and different thickness, or changing the linestyle (e.g. one normal line and one dashed line). A list of available linestyles can be found in the [matplotlib documentation](https://matplotlib.org/3.5.1/gallery/lines_bars_and_markers/linestyles.html).\n",
    "\n",
    "To get the parametrization of the sklearn implementation use the following:  \n",
    "`w_skl = [trained.coef_[0], trained.intercept_]`  \n",
    "Do you understand what this does? Can you see how this corresponds to what we did last week? In future assignments you will need to find the model parametrization by yourself!"
   ]
  },
  {
   "cell_type": "code",
   "execution_count": 11,
   "metadata": {
    "ExecuteTime": {
     "end_time": "2024-03-12T15:18:39.711141Z",
     "start_time": "2024-03-12T15:18:39.530588Z"
    }
   },
   "outputs": [
    {
     "data": {
      "text/plain": "<Figure size 432x288 with 1 Axes>",
      "image/png": "[encoded data removed]"
     },
     "metadata": {},
     "output_type": "display_data"
    }
   ],
   "source": [
    "w_skl = [trained.coef_[0], trained.intercept_]  # w_skl = [slope, intercept]\n",
    "\n",
    "plt.scatter(x[:,0], y, label='Data points')\n",
    "\n",
    "# Plot the model\n",
    "plt.plot(x[:,0], predictions, label='Our Linear Regression', color='red')\n",
    "# \n",
    "plt.plot(x[0:,0],x.dot(w_skl), label='Sckit-Learn Linear Regression', linestyle=\"dashed\", color='blue')\n",
    "plt.xlabel('x')\n",
    "plt.ylabel('y')\n",
    "plt.legend()\n",
    "plt.show()"
   ]
  },
  {
   "cell_type": "markdown",
   "metadata": {},
   "source": [
    "# 3. Linear Discriminant Analysis"
   ]
  },
  {
   "cell_type": "markdown",
   "metadata": {},
   "source": [
    "We switch now into *binary classification*. Let's load the iris dataset once again for this exercise, and carefully selecting the data to have an easy binary classification problem (for now). Notice we are **not** using classes ${-1, +1}$ anymore, because we do not need to compute a Margin here."
   ]
  },
  {
   "cell_type": "code",
   "execution_count": 74,
   "metadata": {
    "ExecuteTime": {
     "end_time": "2024-03-13T17:57:10.137830Z",
     "start_time": "2024-03-13T17:57:10.130874Z"
    }
   },
   "outputs": [
    {
     "name": "stdout",
     "output_type": "stream",
     "text": [
      "Dimensions de x: (150, 2)\n",
      "Dimensions de x1: (150,)\n",
      "Dimensions de x2: (150,)\n"
     ]
    }
   ],
   "source": [
    "import numpy as np\n",
    "from sklearn.datasets import load_iris\n",
    "iris_x, iris_y = load_iris(return_X_y=True) # print these points to understand them!\n",
    "x1 = np.array([r[0] for r in iris_x]) # first feature\n",
    "x2 = np.array([r[2] for r in iris_x]) # third feature\n",
    "\n",
    "x = np.array([x1, x2]).transpose() # numpy gives us transpose() for free\n",
    "# Reduce the three classes into two for binary classification {1, 2}\n",
    "y = np.array([1 if y in [1,2] else 2 for y in iris_y])\n",
    "\n",
    "print(\"Dimensions de x:\", x.shape)\n",
    "print(\"Dimensions de x1:\", x1.shape)\n",
    "print(\"Dimensions de x2:\", x2.shape)\n"
   ]
  },
  {
   "cell_type": "markdown",
   "metadata": {},
   "source": [
    "To solve LDA we need to find the parametrization $\\theta_y=(\\mu_y, \\Sigma, \\pi_y)$. Since $\\mu$ and $\\pi$ are class-dependent, remember to first split the input data based on which class it belongs to."
   ]
  },
  {
   "cell_type": "markdown",
   "metadata": {},
   "source": [
    "#### 3.1 **[1pt]** Write a (Python) function that takes a dataset (inputs and labels) in input and returns a dictionary hashing each of the $m$ classes to the a list of the points belonging to that class. We will call this `partition` in the next questions."
   ]
  },
  {
   "cell_type": "markdown",
   "metadata": {},
   "source": [
    "Hint: the method `dict.get(<key>, <def>)` can be used to fetch values from a dictionary same as `dict[<key>]`, but when the key is not found it returns the second argument, which is the _default value_... what if you pass an empty list..."
   ]
  },
  {
   "cell_type": "code",
   "execution_count": 13,
   "metadata": {
    "ExecuteTime": {
     "end_time": "2024-03-12T15:18:39.749007Z",
     "start_time": "2024-03-12T15:18:39.734240Z"
    }
   },
   "outputs": [
    {
     "name": "stdout",
     "output_type": "stream",
     "text": [
      "{2: [array([5.1, 1.4]), array([4.9, 1.4]), array([4.7, 1.3]), array([4.6, 1.5]), array([5. , 1.4]), array([5.4, 1.7]), array([4.6, 1.4]), array([5. , 1.5]), array([4.4, 1.4]), array([4.9, 1.5]), array([5.4, 1.5]), array([4.8, 1.6]), array([4.8, 1.4]), array([4.3, 1.1]), array([5.8, 1.2]), array([5.7, 1.5]), array([5.4, 1.3]), array([5.1, 1.4]), array([5.7, 1.7]), array([5.1, 1.5]), array([5.4, 1.7]), array([5.1, 1.5]), array([4.6, 1. ]), array([5.1, 1.7]), array([4.8, 1.9]), array([5. , 1.6]), array([5. , 1.6]), array([5.2, 1.5]), array([5.2, 1.4]), array([4.7, 1.6]), array([4.8, 1.6]), array([5.4, 1.5]), array([5.2, 1.5]), array([5.5, 1.4]), array([4.9, 1.5]), array([5. , 1.2]), array([5.5, 1.3]), array([4.9, 1.4]), array([4.4, 1.3]), array([5.1, 1.5]), array([5. , 1.3]), array([4.5, 1.3]), array([4.4, 1.3]), array([5. , 1.6]), array([5.1, 1.9]), array([4.8, 1.4]), array([5.1, 1.6]), array([4.6, 1.4]), array([5.3, 1.5]), array([5. , 1.4])], 1: [array([7. , 4.7]), array([6.4, 4.5]), array([6.9, 4.9]), array([5.5, 4. ]), array([6.5, 4.6]), array([5.7, 4.5]), array([6.3, 4.7]), array([4.9, 3.3]), array([6.6, 4.6]), array([5.2, 3.9]), array([5. , 3.5]), array([5.9, 4.2]), array([6., 4.]), array([6.1, 4.7]), array([5.6, 3.6]), array([6.7, 4.4]), array([5.6, 4.5]), array([5.8, 4.1]), array([6.2, 4.5]), array([5.6, 3.9]), array([5.9, 4.8]), array([6.1, 4. ]), array([6.3, 4.9]), array([6.1, 4.7]), array([6.4, 4.3]), array([6.6, 4.4]), array([6.8, 4.8]), array([6.7, 5. ]), array([6. , 4.5]), array([5.7, 3.5]), array([5.5, 3.8]), array([5.5, 3.7]), array([5.8, 3.9]), array([6. , 5.1]), array([5.4, 4.5]), array([6. , 4.5]), array([6.7, 4.7]), array([6.3, 4.4]), array([5.6, 4.1]), array([5.5, 4. ]), array([5.5, 4.4]), array([6.1, 4.6]), array([5.8, 4. ]), array([5. , 3.3]), array([5.6, 4.2]), array([5.7, 4.2]), array([5.7, 4.2]), array([6.2, 4.3]), array([5.1, 3. ]), array([5.7, 4.1]), array([6.3, 6. ]), array([5.8, 5.1]), array([7.1, 5.9]), array([6.3, 5.6]), array([6.5, 5.8]), array([7.6, 6.6]), array([4.9, 4.5]), array([7.3, 6.3]), array([6.7, 5.8]), array([7.2, 6.1]), array([6.5, 5.1]), array([6.4, 5.3]), array([6.8, 5.5]), array([5.7, 5. ]), array([5.8, 5.1]), array([6.4, 5.3]), array([6.5, 5.5]), array([7.7, 6.7]), array([7.7, 6.9]), array([6., 5.]), array([6.9, 5.7]), array([5.6, 4.9]), array([7.7, 6.7]), array([6.3, 4.9]), array([6.7, 5.7]), array([7.2, 6. ]), array([6.2, 4.8]), array([6.1, 4.9]), array([6.4, 5.6]), array([7.2, 5.8]), array([7.4, 6.1]), array([7.9, 6.4]), array([6.4, 5.6]), array([6.3, 5.1]), array([6.1, 5.6]), array([7.7, 6.1]), array([6.3, 5.6]), array([6.4, 5.5]), array([6. , 4.8]), array([6.9, 5.4]), array([6.7, 5.6]), array([6.9, 5.1]), array([5.8, 5.1]), array([6.8, 5.9]), array([6.7, 5.7]), array([6.7, 5.2]), array([6.3, 5. ]), array([6.5, 5.2]), array([6.2, 5.4]), array([5.9, 5.1])]}\n"
     ]
    }
   ],
   "source": [
    "def partition_dataset(inputs, labels):\n",
    "    partition = {}\n",
    "    for data_point, label in zip(inputs,labels):\n",
    "        if label not in partition:\n",
    "            partition[label] = []\n",
    "        partition[label].append(data_point)\n",
    "    return partition\n",
    "\n",
    "partition = partition_dataset(x, y)\n",
    "print(partition)"
   ]
  },
  {
   "cell_type": "markdown",
   "metadata": {},
   "source": [
    "#### 3.2 **[1pt]** Write a function that takes the `partition` in input and returns a dictionary hashing each class to its corresponding prototype $\\mu_y$."
   ]
  },
  {
   "cell_type": "markdown",
   "metadata": {},
   "source": [
    "Hint: function `dict.items()` returns a list of pairs `(key, value)` from the dictionary.\n",
    "Then a _dictionary comprehension_ works same as a list comprehension, with a `for` loop that generates elements. Only this time you need to pass both a key and a value like this:\n",
    "```python\n",
    "d = { the_key: compute_value(a, b) for a, b in another_dict.items() }\n",
    "```\n",
    "If you can use that then the answer is basically one line. If it is complicated instead, write explicit `for` loops, which are exactly equivalent (and perhaps even more readable:\n",
    "```python\n",
    "d = {}\n",
    "for a, b in another_dict.items():\n",
    "    d[the_key] = compute_value(a, b)\n",
    "```\n",
    "Just find a style that is comfortable with you. May take a few weeks but you will get there."
   ]
  },
  {
   "cell_type": "code",
   "execution_count": 42,
   "metadata": {
    "ExecuteTime": {
     "end_time": "2024-03-13T15:01:34.119497Z",
     "start_time": "2024-03-13T15:01:34.115738Z"
    }
   },
   "outputs": [
    {
     "name": "stdout",
     "output_type": "stream",
     "text": [
      "{2: array([5.006, 1.462]), 1: array([6.262, 4.906])}\n"
     ]
    }
   ],
   "source": [
    "def prototype(partition):\n",
    "    prototypes = {}\n",
    "    for class_label, data_points in partition.items():\n",
    "        prototypes[class_label] = np.mean(data_points, axis=0)\n",
    "    return prototypes\n",
    "\n",
    "prototypes = prototype(partition)\n",
    "print(prototypes)"
   ]
  },
  {
   "cell_type": "markdown",
   "metadata": {},
   "source": [
    "#### 3.3 **[1pt]** Write a function that takes the `partition` in input and returns a dictionary hashing each class to its corresponding prior $\\pi_y$."
   ]
  },
  {
   "cell_type": "code",
   "execution_count": 48,
   "metadata": {
    "ExecuteTime": {
     "end_time": "2024-03-13T16:32:47.221099Z",
     "start_time": "2024-03-13T16:32:47.217633Z"
    }
   },
   "outputs": [
    {
     "name": "stdout",
     "output_type": "stream",
     "text": [
      "{2: 0.3333333333333333, 1: 0.6666666666666666}\n"
     ]
    }
   ],
   "source": [
    "def prior(partition):\n",
    "    prior = {}\n",
    "    total_count = sum(len(point) for point in partition.values())\n",
    "    for class_label, data_points in partition.items():\n",
    "        prior[class_label] = len(data_points)/total_count\n",
    "    return prior\n",
    "\n",
    "prior = prior(partition)\n",
    "print(prior)"
   ]
  },
  {
   "cell_type": "markdown",
   "metadata": {},
   "source": [
    "#### 3.4 **[4pt]** Write a function that takes the `partition` in input and the class-wise center estimates (the means from above) and returns the corresponding $\\Sigma$ (one for all classes and all inputs).\n",
    "You may need to use `np.concatenate()` to join the $x_i - \\hat{\\mu}_{y_i}$ from each class. Print the `array.shape` (property not method so no `()`) to verify if your linear algebra is on point so far: the covariance matrix between all inputs should have as many rows (and columns) as the number of features (hint: that's 2). Example: `assert sigma.shape == (2,2)` should not raise an error."
   ]
  },
  {
   "cell_type": "markdown",
   "source": [
    " $$\\sigma = (X - \\mu)^T * (X - \\mu) / n$$ \n",
    " Own purpose"
   ],
   "metadata": {
    "collapsed": false
   }
  },
  {
   "cell_type": "code",
   "execution_count": 44,
   "metadata": {
    "ExecuteTime": {
     "end_time": "2024-03-13T15:01:50.458348Z",
     "start_time": "2024-03-13T15:01:50.440620Z"
    }
   },
   "outputs": [
    {
     "name": "stdout",
     "output_type": "stream",
     "text": [
      "[[0.33055867 0.30456133]\n",
      " [0.30456133 0.45969467]]\n"
     ]
    }
   ],
   "source": [
    "def corresponding_sum(partition,means):\n",
    "    diffs = []\n",
    "    for class_label, data_points in partition.items():\n",
    "        diffs.extend([data_point - means[class_label] for data_point in data_points])\n",
    "    # Convert the list of differences to a NumPy array\n",
    "    diffs = np.array(diffs)\n",
    "    # covarience\n",
    "    sigma = np.dot(diffs.T, diffs) / len(diffs)\n",
    "    return sigma\n",
    "# Test\n",
    "sigma = corresponding_sum(partition,prototypes)\n",
    "print(sigma)\n",
    "#assert sigma.shape == (2,2)\n",
    "    "
   ]
  },
  {
   "cell_type": "code",
   "outputs": [
    {
     "name": "stdout",
     "output_type": "stream",
     "text": [
      "[[0.33277718 0.30660537]\n",
      " [0.30660537 0.46277987]]\n"
     ]
    }
   ],
   "source": [
    "# Second method\n",
    "\n",
    "def corresponding_sigma(partition, means):\n",
    "    diffs = np.concatenate([data_points - means[class_label] for class_label, data_points in partition.items()])\n",
    "    # Covariance matrix estimation\n",
    "    sigma = np.dot(diffs.T, diffs) / (len(diffs) - 1)\n",
    "    return sigma\n",
    "\n",
    "# Test\n",
    "sigma = corresponding_sigma(partition, prototypes)\n",
    "print(sigma)\n"
   ],
   "metadata": {
    "collapsed": false,
    "ExecuteTime": {
     "end_time": "2024-03-13T16:36:45.382358Z",
     "start_time": "2024-03-13T16:36:45.378035Z"
    }
   },
   "execution_count": 50
  },
  {
   "cell_type": "markdown",
   "metadata": {},
   "source": [
    "#### 3.5 **[5pt]** Write the function for the decision boundary of LDA $f(x)$."
   ]
  },
  {
   "cell_type": "markdown",
   "metadata": {},
   "source": [
    "You can find the logarithm in the `math` module: `from math import log` then just `l = log(a)`. You need to implement the equations for $w$ and $q$ from the slides: this cell will be very math heavy, be careful though and you should be able to get it right in few lines. Remember to check for the shape of $w$ and $b$ to verify if your matrix products are computed the right way. You want $w$ to be of length 2, and $b$ is a scalar."
   ]
  },
  {
   "cell_type": "markdown",
   "source": [
    "firt let us write the equation of the decision boundary\n",
    "$$f(x) = w^T x + b$$\n",
    "where:\n",
    "- $w$ is the weight vector\n",
    "- $x$ is the input vector\n",
    "- $b$ is the bias\n",
    "\n",
    "To solve this problem. We will use the following steps:\n",
    "\n",
    "1. Calculate w\n",
    "w = $\\Sigma^{-1}(\\mu_1 - \\mu_2)$\n",
    "2. Calculate b\n",
    "b = $-\\frac{1}{2} (\\mu_1^T \\Sigma^{-1} \\mu_1 - \\mu_2^T \\Sigma^{-1} \\mu_2) + \\ln \\left( \\frac{P(\\omega_2)}{P(\\omega_1)} \\right)$\n",
    "\n"
   ],
   "metadata": {
    "collapsed": false
   }
  },
  {
   "cell_type": "code",
   "outputs": [
    {
     "name": "stdout",
     "output_type": "stream",
     "text": [
      "[-7.96528842 12.76916894]\n",
      "3.5262538468309987\n",
      "21.099303314898158\n"
     ]
    }
   ],
   "source": [
    "from math import log\n",
    "def calculate_decision_boundary(x,partition,prototypes,sigma):\n",
    "    w = np.dot(np.linalg.inv(sigma), (prototypes[1] - prototypes[2]))\n",
    "    b = -0.5 * (np.dot(np.dot(prototypes[1].T, np.linalg.inv(sigma)), prototypes[1]) - np.dot(np.dot(prototypes[2].T, np.linalg.inv(sigma)), prototypes[2])) + log(prior[2]/prior[1])\n",
    "    print(w)\n",
    "    print(b)\n",
    "    return np.dot(w.T, x) + b\n",
    "\n",
    "# Test\n",
    "x = np.array([1, 2])\n",
    "print(calculate_decision_boundary(x,partition,prototypes,sigma))"
   ],
   "metadata": {
    "collapsed": false,
    "ExecuteTime": {
     "end_time": "2024-03-13T14:51:50.443469Z",
     "start_time": "2024-03-13T14:51:50.423427Z"
    }
   },
   "execution_count": 41
  },
  {
   "cell_type": "code",
   "outputs": [
    {
     "name": "stdout",
     "output_type": "stream",
     "text": [
      "Equation of the decision boundary: y = -7.91x1 + 12.68x2 + 3.50\n"
     ]
    }
   ],
   "source": [
    "from math import log\n",
    "\n",
    "def calculate_decision_boundary(x, partition, prototypes, sigma):\n",
    "    w = np.dot(np.linalg.inv(sigma), (prototypes[1] - prototypes[2]))\n",
    "    b = -0.5 * (np.dot(np.dot(prototypes[1].T, np.linalg.inv(sigma)), prototypes[1]) - np.dot(np.dot(prototypes[2].T, np.linalg.inv(sigma)), prototypes[2])) + log(prior[2] / prior[1])\n",
    "    return w, b\n",
    "\n",
    "# Test\n",
    "x = np.array([1, 2])\n",
    "w, b = calculate_decision_boundary(x, partition, prototypes, sigma)\n",
    "print(\"Equation of the decision boundary: y = {:.2f}x1 + {:.2f}x2 + {:.2f}\".format(w[0], w[1], b))\n"
   ],
   "metadata": {
    "collapsed": false,
    "ExecuteTime": {
     "end_time": "2024-03-13T17:24:25.220903Z",
     "start_time": "2024-03-13T17:24:25.214545Z"
    }
   },
   "execution_count": 60
  },
  {
   "cell_type": "code",
   "outputs": [],
   "source": [],
   "metadata": {
    "collapsed": false,
    "ExecuteTime": {
     "end_time": "2024-03-13T16:43:33.327909Z",
     "start_time": "2024-03-13T16:43:33.326332Z"
    }
   },
   "execution_count": 52
  },
  {
   "cell_type": "markdown",
   "source": [],
   "metadata": {
    "collapsed": false
   }
  },
  {
   "cell_type": "markdown",
   "metadata": {},
   "source": [
    "#### 3.6 **[2pt]** Plot the LDA decision boundary on top of the data."
   ]
  },
  {
   "cell_type": "markdown",
   "metadata": {},
   "source": [
    "    - Notice that we are using different data from the Linear Regression questions above, and that our model now generated $w$ and $b$ separately, so you **need** to adapt the plotting functions -- actually it's quicker to just rewrite them.\n",
    "- Plotting is one of few applications where generalizing your code just makes for a stunted replica of the original (better) interface, so specialize when needed but for different applications just write a new one rather than reusing your code.\n",
    "- Remember that we already had a good plotting function for a classification problem just last week, why don't you check it out again?\n",
    "- Finally, remember that you already have code that converts a parametrization from $w$ and $b$ to $m$ and $q$ (last assignment), you can simply copy+paste it here to simplify your generation of the model's points."
   ]
  },
  {
   "cell_type": "code",
   "outputs": [
    {
     "data": {
      "text/plain": "<Figure size 432x288 with 1 Axes>",
      "image/png": "[encoded data removed]"
     },
     "metadata": {},
     "output_type": "display_data"
    }
   ],
   "source": [
    "import matplotlib.pyplot as plt\n",
    "\n",
    "# Plot the data points\n",
    "for class_label, data_points in partition.items():\n",
    "    plt.scatter([data_point[0] for data_point in data_points], [data_point[1] for data_point in data_points], label=f'Class {class_label}')\n",
    "\n",
    "\n",
    "# Plot the decision boundary\n",
    "x1 = np.linspace(4, 8, 100) # it means \n",
    "x2 = np.linspace(1, 5, 100)\n",
    "X1, X2 = np.meshgrid(x1, x2)\n",
    "Z = w[0] * X1 + w[1] * X2 + b\n",
    "plt.contour(X1, X2, Z, levels=[0], colors='black')\n",
    "\n",
    "plt.xlabel('x1')\n",
    "plt.ylabel('x2')\n",
    "plt.legend()\n",
    "plt.show()\n"
   ],
   "metadata": {
    "collapsed": false,
    "ExecuteTime": {
     "end_time": "2024-03-13T16:13:28.296356Z",
     "start_time": "2024-03-13T16:13:28.092511Z"
    }
   },
   "execution_count": 46
  },
  {
   "cell_type": "code",
   "outputs": [
    {
     "name": "stdout",
     "output_type": "stream",
     "text": [
      "w: [-7.91218649 12.68404115]\n",
      "b: 3.4981245066483897\n"
     ]
    },
    {
     "data": {
      "text/plain": "<Figure size 576x432 with 2 Axes>",
      "image/png": "[encoded data removed]"
     },
     "metadata": {},
     "output_type": "display_data"
    }
   ],
   "source": [
    "def calculate_decision_boundary_params(partition, prototypes, sigma, prior):\n",
    "    w = np.dot(np.linalg.inv(sigma), (prototypes[1] - prototypes[2]))\n",
    "    b = -0.5 * (np.dot(np.dot(prototypes[1].T, np.linalg.inv(sigma)), prototypes[1]) - np.dot(np.dot(prototypes[2].T, np.linalg.inv(sigma)), prototypes[2])) + log(prior[2] / prior[1])\n",
    "    return w, b\n",
    "\n",
    "# Appel de la fonction pour obtenir w et b\n",
    "w, b = calculate_decision_boundary_params(partition, prototypes, sigma, prior)\n",
    "print(\"w:\", w)\n",
    "print(\"b:\", b)\n",
    "\n",
    "\n",
    "# Fonction pour calculer la frontière de décision LDA\n",
    "def calculate_decision_boundary(x, w, b):\n",
    "    return (-b - w[0] * x) / w[1]\n",
    "\n",
    "# Paramètres de la frontière de décision LDA (remplacez les valeurs par les vôtres)\n",
    "w = np.array([-7.91218649, 12.68404115])\n",
    "b = 3.4981245066483897\n",
    "\n",
    "# Tracer les données\n",
    "plt.figure(figsize=(8, 6))\n",
    "plt.scatter(x[:, 0], x[:, 1], c=y, cmap='viridis', label='Data points')\n",
    "\n",
    "# Tracer la frontière de décision LDA\n",
    "x_values = np.linspace(min(x[:, 0]), max(x[:, 0]), 100)\n",
    "plt.plot(x_values, calculate_decision_boundary(x_values, w, b), color='red', label='Decision Boundary')\n",
    "\n",
    "plt.xlabel('Feature 1')\n",
    "plt.ylabel('Feature 2')\n",
    "plt.title('LDA Decision Boundary')\n",
    "plt.colorbar(label='Class')\n",
    "plt.legend()\n",
    "plt.show()\n",
    "\n"
   ],
   "metadata": {
    "collapsed": false,
    "ExecuteTime": {
     "end_time": "2024-03-13T18:11:39.287833Z",
     "start_time": "2024-03-13T18:11:39.054083Z"
    }
   },
   "execution_count": 76
  },
  {
   "cell_type": "code",
   "outputs": [],
   "source": [],
   "metadata": {
    "collapsed": false,
    "ExecuteTime": {
     "end_time": "2024-03-13T16:13:32.693726Z",
     "start_time": "2024-03-13T16:13:32.691920Z"
    }
   },
   "execution_count": 46
  },
  {
   "cell_type": "markdown",
   "source": [
    "#### 3.7 **[1pt]** Find LDA on scikit-learn; train a model on the data and add it to the print above (data + model from your implementation)."
   ],
   "metadata": {
    "collapsed": false
   }
  },
  {
   "cell_type": "markdown",
   "metadata": {},
   "source": [
    "You ned to pass the correct `solver` parameter to the sklearn constructor, check the documentation to understand what I mean. If you do not the result should still look exactly the same as your implementation (because the data is linearly separable), but you should be aware of which technique your library uses and we have not gotten to SVD yet.  \n",
    "Remember to make sure that you can distinguish the two boundaries even if they overlap (e.g. use different colors). If you use our conversions from last exercise you should also see the printed values of $m$ and $q$ and they are likely to differ in the least significant digits even though the graph looks the same.  \n",
    "Also consider that LDA is a **multiclass method**, and so its parametrization is in principle a list for the many boundaries: you need to access the coefficients of the _first_ (and here, only) boundary using `[trained_model.coef_[0], trained_model.intercept_[0]]`."
   ]
  },
  {
   "cell_type": "code",
   "outputs": [
    {
     "name": "stdout",
     "output_type": "stream",
     "text": [
      "Coefficients de la droite de décision: [[  7.85908457 -12.59891336]]\n",
      "Interception de la droite de décision: [-4.85628953]\n"
     ]
    }
   ],
   "source": [
    "from sklearn.discriminant_analysis import LinearDiscriminantAnalysis\n",
    "\n",
    "# Créer une instance de LinearDiscriminantAnalysis\n",
    "lda_model = LinearDiscriminantAnalysis()\n",
    "\n",
    "# Adapter le modèle aux données\n",
    "lda_model.fit(x, y)\n",
    "\n",
    "# Afficher les coefficients de la droite de décision et l'interception\n",
    "print(\"Coefficients de la droite de décision:\", lda_model.coef_)\n",
    "print(\"Interception de la droite de décision:\", lda_model.intercept_)\n"
   ],
   "metadata": {
    "collapsed": false,
    "ExecuteTime": {
     "end_time": "2024-03-13T18:18:01.343416Z",
     "start_time": "2024-03-13T18:18:01.338780Z"
    }
   },
   "execution_count": 78
  },
  {
   "cell_type": "markdown",
   "metadata": {},
   "source": [
    "## At the end of the exercise"
   ]
  },
  {
   "cell_type": "markdown",
   "metadata": {},
   "source": [
    "Bonus question reward no points! Answering this will have no influence on your scoring, not at the assignment and not towards the exam score. But solving it will reward you with skills that will make the next lectures easier, give you real applications, and will be very good practice towards the exam.\n",
    "\n",
    "The solution for this questions will not be included in the regular lab solutions pdf, but you are welcome to open a discussion on the Moodle: we will support your addressing it, and you may meet other students that choose to solve this, and find a teammate for the next assignment that is willing to do things for fun and not only for score :)"
   ]
  },
  {
   "cell_type": "markdown",
   "metadata": {},
   "source": [
    "Let's see some multiclass classification. Copy the code loading the Iris dataset, you want to extract the same features (so you can plot in 2D), but keep the three classes.  \n",
    "_[think: does it matter what label does each class have? Could you use strings such as `['a', 'b', 'c']`?]_  \n",
    "Then run the scikit-learn LDA on the data to obtain a trained model. At this point you can open up the trained coefficients again, and rather than taking only the first like you did with `[trained.coef_[0], trained.intercept_[0]]`, you should have TWO $w$ vectors and TWO $b$ constants **per each pair** of classes.\n",
    "_[think: the space is actually split in several subspaces. Can you derive how many? Can you design a decision tree on top of the boundaries to do the classification as the number of boundaries grow?]_"
   ]
  },
  {
   "cell_type": "markdown",
   "metadata": {},
   "source": [
    "#### BONUS **[ZERO pt]** Plot the boundaries classifying the three species of Iris in the dataset based on the two features used so far."
   ]
  },
  {
   "cell_type": "code",
   "execution_count": null,
   "metadata": {
    "ExecuteTime": {
     "end_time": "2024-03-12T15:18:39.791885Z",
     "start_time": "2024-03-12T15:18:39.791791Z"
    }
   },
   "outputs": [],
   "source": []
  },
  {
   "cell_type": "markdown",
   "metadata": {},
   "source": [
    "### Final considerations"
   ]
  },
  {
   "cell_type": "markdown",
   "metadata": {},
   "source": [
    "Stop for a moment and think how hard it was to derive these equations (in the lecture), and how hard it was instead to implement them (once you get them right). These are two very different skills.  \n",
    "To understand the derivation you need to think hard, express your concept in math (actually requiring broad knowledge of many of its subfields), see it through with absolute precision, and finally correctly solve the equations.  \n",
    "To implement the method, you need to map the math to the correct function calls (hard, but arguably less), and you only ever work with the final solution, but you deal with programming languages and libraries and documentations.  \n",
    "This is the reason why so many people nowadays broadly advertise machine learning skills after taking short tutorials. But if you do not understand what a parameter is for, you will only be guessing which value to use.\n",
    "\n",
    "The reason why you are sweating so much on this course is to gain an edge over all of those who only ever learn to _use_ the tools: by instead _making_ the tools you understand them from the inside out, their applications and limitations, and even become capable of adapting and improving them.  \n",
    "Keep up: this course is not easy, but machine learning has become unavoidable in your field, and these foundations will enable you to bend the whole field to your needs."
   ]
  }
 ],
 "metadata": {
  "kernelspec": {
   "display_name": "Python 3 (ipykernel)",
   "language": "python",
   "name": "python3"
  },
  "language_info": {
   "codemirror_mode": {
    "name": "ipython",
    "version": 3
   },
   "file_extension": ".py",
   "mimetype": "text/x-python",
   "name": "python",
   "nbconvert_exporter": "python",
   "pygments_lexer": "ipython3",
   "version": "3.8.10"
  }
 },
 "nbformat": 4,
 "nbformat_minor": 4
}
