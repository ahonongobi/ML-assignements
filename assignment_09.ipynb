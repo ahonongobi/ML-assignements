{
 "cells": [
  {
   "cell_type": "markdown",
   "metadata": {},
   "source": [
    "Please fill in your name and that of your teammate.\n",
    "\n",
    "You: **Ahonon Gobi Parfait**\n",
    "\n",
    "Teammate: (No one available)"
   ]
  },
  {
   "cell_type": "markdown",
   "metadata": {},
   "source": [
    "# Introduction"
   ]
  },
  {
   "cell_type": "markdown",
   "metadata": {},
   "source": [
    "Welcome to the ninth lab. Time to start with the famed neural networks. Everything should be fine until you hit the backpropagation algorithm. There are dozens of versions and implementations online, none are simple or straightforward, but in the lecture I tried an explanation that keeps the complexity to a minimum. It may be confusing to find which part does what and how to implement it, so I added a few tips that I hope will limit your debugging time. Enjoy!"
   ]
  },
  {
   "cell_type": "markdown",
   "metadata": {},
   "source": [
    "### How to pass the lab?"
   ]
  },
  {
   "cell_type": "markdown",
   "metadata": {},
   "source": [
    "Below you find the exercise questions. Each question awarding points is numbered and states the number of points like this: **[0pt]**. To answer a question, fill the cell below with your answer (markdown for text, code for implementation). Incorrect or incomplete answers are in principle worth 0 points: to assign partial reward is only up to teacher discretion. Over-complete answers do not award extra points (though they are appreciated and will be kept under consideration). Save your work frequently! (`ctrl+s`)\n",
    "\n",
    "**You need at least 14 points (out of 21 available) to pass** (66%)."
   ]
  },
  {
   "cell_type": "code",
   "outputs": [],
   "source": [
    "import numpy as np\n",
    "import matplotlib.pyplot as plt\n",
    "import pandas as pd\n",
    "import seaborn as sns\n",
    "from sklearn.model_selection import train_test_split\n"
   ],
   "metadata": {
    "collapsed": false,
    "ExecuteTime": {
     "end_time": "2024-05-08T17:44:27.016543Z",
     "start_time": "2024-05-08T17:44:26.827003Z"
    }
   },
   "execution_count": 1
  },
  {
   "cell_type": "markdown",
   "metadata": {},
   "source": [
    "# 1. Fundamentals"
   ]
  },
  {
   "cell_type": "markdown",
   "metadata": {},
   "source": [
    "#### 1.1 **[1pt]** Describe a real (human) neuron. Use the words \"dendrite\", \"axon\", \"synapses\" and \"spike\"."
   ]
  },
  {
   "cell_type": "markdown",
   "metadata": {},
   "source": [
    " A neuron is a cell in your body that helps send messages. It has parts called **dendrites**, which receive messages, and an **axon**, which sends messages to other neurons. At points called **synapses**, neurons pass messages to each other using chemicals. When a neuron sends a message, it's called a **spike**."
   ]
  },
  {
   "cell_type": "markdown",
   "metadata": {},
   "source": [
    "#### 1.2 **[1pt]** Describe the logistic function (in English). Include/utilize the concept of \"saturation\"."
   ]
  },
  {
   "cell_type": "markdown",
   "metadata": {},
   "source": [
    "The logistic function is a function that takes any real number input and outputs a number between 0 and 1. It is used in neural networks to introduce non-linearity. The logistic function has a characteristic called **saturation**, which means that the function's output is close to 0 or 1 when the input is very negative or very positive, respectively. This means that the function's output does not change much when the input is far from 0."
   ]
  },
  {
   "cell_type": "markdown",
   "metadata": {},
   "source": [
    "#### 1.3 **[1pt]** Explain the relationship between the human brain, neural networks, and perceptrons (in English)."
   ]
  },
  {
   "cell_type": "markdown",
   "metadata": {},
   "source": [
    "The human brain is a biological system that processes information using neurons. A **neural network** is a mathematical model that tries to mimic the brain's structure and function. A **perceptron** is the simplest form of a neural network, consisting of a single layer of neurons. The perceptron is inspired by the way the brain processes information, but it is much simpler and less powerful than the brain."
   ]
  },
  {
   "cell_type": "markdown",
   "metadata": {},
   "source": [
    "#### 1.4 **[2pt]** Write the full equation for a network with structure [2, 4, 1], specifying the value of the final activation `act`. How many weights does this network have?"
   ]
  },
  {
   "cell_type": "markdown",
   "metadata": {},
   "source": [
    "- This means two inputs, one hidden layer of four neurons, and one neuron in the output layer.\n",
    "- You can provide either the linear algebra equation (still, define any vector or matrix you use) or the fully-expanded version (as `act` in the slides).\n",
    "- Feel free to ignore the bias connection for now.\n",
    "- To define multiple equations on individual lines: use the double dollar sign environment, then `\\\\` to go to a new line (see source of this cell: `$$ eq_1=0 \\\\ eq_2=1 $$` => $$ eq_1=0 \\\\ eq_2=1 $$\n",
    "- To draw nice matrices: wrap the elements in a `pmatrix` environment, then use `&` to tabulate to the next column and `\\\\` to go to the next row (see source of this cell):\n",
    "$$\n",
    "\\begin{pmatrix}\n",
    "A & B \\\\ C & D\n",
    "\\end{pmatrix}\n",
    "$$"
   ]
  },
  {
   "cell_type": "markdown",
   "metadata": {},
   "source": [
    "$$Win = \\begin{pmatrix} w_{1} & w_{2} \\\\ w_{3} & w_{4} \\\\ w_{5} & w_{6} \\\\ w_{7} & w_{8} \\end{pmatrix} \\quad $$ \n",
    "\n",
    "$$whid = \\begin{pmatrix} w_{9} & w_{10} & w_{11} & w_{12} \\end{pmatrix} \\quad $$ \n",
    "\n",
    "$$ x = \\begin{pmatrix} x_{1} \\\\ x_{2} \\end{pmatrix} \\quad $$\n",
    "\n",
    "$$ nhid = \\begin{pmatrix} n_{1} \\\\ n_{2} \\\\ n_{3} \\\\ n_{4} \\end{pmatrix} \\quad $$\n",
    "\n",
    "$$ nout = \\begin{pmatrix} n_{5} \\end{pmatrix} \\quad $$\n",
    "\n",
    "$$ nhid = \\sigma(Win \\cdot x) = \\sigma \\left( \\begin{pmatrix} w_{1} & w_{2} \\\\ w_{3} & w_{4} \\\\ w_{5} & w_{6} \\\\ w_{7} & w_{8} \\end{pmatrix} \\cdot \\begin{pmatrix} x_{1} \\\\ x_{2} \\end{pmatrix} \\right) = \\sigma \\left( \\begin{pmatrix} w_{1}x_{1} + w_{2}x_{2} \\\\ w_{3}x_{1} + w_{4}x_{2} \\\\ w_{5}x_{1} + w_{6}x_{2} \\\\ w_{7}x_{1} + w_{8}x_{2} \\end{pmatrix} \\right) = \\begin{pmatrix} \\sigma(w_{1}x_{1} + w_{2}x_{2}) \\\\ \\sigma(w_{3}x_{1} + w_{4}x_{2}) \\\\ \\sigma(w_{5}x_{1} + w_{6}x_{2}) \\\\ \\sigma(w_{7}x_{1} + w_{8}x_{2}) \\end{pmatrix} \\quad $$\n",
    "\n",
    "$$ nout = \\sigma(whid \\cdot nhid) = \\sigma \\left( \\begin{pmatrix} w_{9} & w_{10} & w_{11} & w_{12} \\end{pmatrix} \\cdot \\begin{pmatrix} \\sigma(n_{1}) \\\\ \\sigma(n_{2}) \\\\ \\sigma(n_{3}) \\\\ \\sigma(n_{4}) \\end{pmatrix} \\right) \\\\ = \\sigma \\left( \\begin{pmatrix} w_{9} & w_{10} & w_{11} & w_{12} \\end{pmatrix} \\cdot \\begin{pmatrix} \\sigma(w_{1}x_{1} + w_{2}x_{2}) \\\\ \\sigma(w_{3}x_{1} + w_{4}x_{2}) \\\\ \\sigma(w_{5}x_{1} + w_{6}x_{2}) \\\\ \\sigma(w_{7}x_{1} + w_{8}x_{2}) \\end{pmatrix} \\right) \\\\ = \\sigma \\left( w_{9}\\sigma(w_{1}x_{1} + w_{2}x_{2}) + w_{10}\\sigma(w_{3}x_{1} + w_{4}x_{2}) + w_{11}\\sigma(w_{5}x_{1} + w_{6}x_{2}) + w_{12}\\sigma(w_{7}x_{1} + w_{8}x_{2}) \\right) \\quad $$\n",
    "\n",
    "$$ act = \\sigma \\left( w_{9}\\sigma(w_{1}x_{1} + w_{2}x_{2}) + w_{10}\\sigma(w_{3}x_{1} + w_{4}x_{2}) + w_{11}\\sigma(w_{5}x_{1} + w_{6}x_{2}) + w_{12}\\sigma(w_{7}x_{1} + w_{8}x_{2}) \\right) \\quad $$\n",
    "\n",
    "\n",
    "The network has 12 weights."
   ]
  },
  {
   "cell_type": "markdown",
   "metadata": {},
   "source": [
    "#### 1.5 **[2pt]** The network parametrization only defines an _upper bound_ for the network's functional complexity: explain what does this mean (in English). Then also answer: would an overly large network work for a simple problem? Would an overly small network work for a complex problem?"
   ]
  },
  {
   "cell_type": "markdown",
   "metadata": {},
   "source": [
    "When we talk about the **parametrization** of a neural network, we're essentially talking about how many parameters (or weights) the network has. This parameterization sets an upper limit on how complex the functions the network can represent are. However, just because a network has a large number of parameters doesn't necessarily mean it will perform well for all tasks. \n",
    "\n",
    "For a simple problem, using an overly large network can be like using a sledgehammer to crack a nut. It's excessive and unnecessary. The network might still solve the problem, but it would likely be slower and more computationally expensive than needed.\n",
    "\n",
    "Conversely, for a **complex problem**, using an overly small network would be like trying to dig a deep hole with a small shovel. The network might not have enough capacity to capture the intricacies of the problem, leading to poor performance.\n",
    "\n",
    "In summary, while the parametrization of a network sets an upper bound on its functional complexity, the effectiveness of the network depends on finding the right balance of complexity for the specific task at hand."
   ]
  },
  {
   "cell_type": "markdown",
   "metadata": {},
   "source": [
    "#### 1.6 **[1pt]** Explain the implications of the Universal Approximation theorem (in English)."
   ]
  },
  {
   "cell_type": "markdown",
   "metadata": {},
   "source": [
    "**The Universal Approximation Theorem**, implies that a neural network with a single hidden layer and a non-constant, bounded, and monotonically increasing activation function can approximate any continuous function to arbitrary precision, given a sufficiently large number of neurons in the hidden layer. This theorem underscores the remarkable expressive power of neural networks, suggesting that they can represent a wide range of complex functions, making them highly versatile and effective for various tasks in machine learning and function approximation."
   ]
  },
  {
   "cell_type": "markdown",
   "metadata": {},
   "source": [
    "# 2. Multilayer feed-forward neural networks"
   ]
  },
  {
   "cell_type": "markdown",
   "metadata": {},
   "source": [
    "As is customary, in this section you get to code neural networks by hand. There are many possible implementation; we will focus on a toy version without parallelism or GPUs, but employing Numpy and linear algebra."
   ]
  },
  {
   "cell_type": "markdown",
   "metadata": {},
   "source": [
    "#### 2.1 **[2pt]** Fix the implementation of a simple neural network below (missing parts are denoted by `?`). Print the activation for a network with logistic transfer, structure [4,5,4,3], random weights, and input [2,1,2,1]."
   ]
  },
  {
   "cell_type": "markdown",
   "metadata": {},
   "source": [
    "- If this is the first Python class you see, worry not: it's just a container to keep code and data together\n",
    "- For now remember only to place `self` as first argument of all methods, and to call class methods as `self.method_name()`\n",
    "- We will **not** implement the bias at this round: start thinking about what would you change to add it though, because we will next week.\n",
    "- Remember that a weight matrix corresponds to one layer of neurons: the rows correspond to the incoming connections to each neuron (so as many rows as neurons), the columns to incoming inputs that are connected to each of the neurons (so one column per input)\n",
    "- So, if the structure was for example [2,3,1], then the first matrix would be between a layer of size 2 (inputs) and a layer of size 3: 3 neurons with 2 inputs each, so a weight matrix of size (3,2). The second weight matrix would have size (1,3). Adapt these numbers to the question's structure of course\n",
    "- When testing, remember to pass numpy arrays as inputs! Python lists will not work (think: why?).\n",
    "- The method `__init__()` is one of the pre-determined methods for object oriented programming in Python. It is called automatically every time you make an object of the class. \n",
    "    - Technically: when instantiating an object, first the constructor allocates the memory, then this method initializes the values and performs any process to get the object in a ready-to-compute state."
   ]
  },
  {
   "cell_type": "code",
   "execution_count": 14,
   "metadata": {
    "ExecuteTime": {
     "end_time": "2024-05-08T18:45:01.043996Z",
     "start_time": "2024-05-08T18:45:01.038085Z"
    }
   },
   "outputs": [],
   "source": [
    "class FeedForwardNeuralNetwork:\n",
    "    def __init__(self, struct):\n",
    "        # The structure of the network is a list of (inputs and) layers sizes\n",
    "        self.struct = struct\n",
    "        self.nlayers = len(self.struct)\n",
    "        # You can deconstruct the list using our old acquaintance the splat\n",
    "        self.nins, *self.hidden_sizes , self.nouts = self.struct\n",
    "        # IMPORTANT: state is a list of layer outputs, filled by the forward pass\n",
    "        # IMPORTANT: state[0] contains the inputs, state[1] will contain the output\n",
    "        # of the first layer of neurons, corresponding to struct[1]\n",
    "        self.state = [np.empty(lsize, dtype='float64') for lsize in self.struct]\n",
    "        # We also need to compute the size of the weight matrices \n",
    "        # Remember: a row describes the input connections to one neuron\n",
    "        self.wsizes = [[self.struct[i+1], self.struct[i]] for i in range(len(self.struct)-1)]\n",
    "        # IMPORTANT: weights is a list of weight matrices per each layer of neurons\n",
    "        # IMPORTANT: weights[0] will hold the weights entering the first layer, which\n",
    "        # corresponds to the neurons of struct[1], and will be used to compute state[1]\n",
    "        self.weights = [np.random.normal(size=ws) for ws in self.wsizes]\n",
    "        # Finally our activation function, the humble (logistic) sigmoid\n",
    "        self.sigma =  lambda x: 1 / (1 + np.exp(-x))\n",
    "\n",
    "    \n",
    "    # To activate a layer: activate the linear combination of weights and inputs \n",
    "    def act_layer(self, nlay):\n",
    "        return self.sigma(np.dot(self.weights[nlay], self.state[nlay]))\n",
    "\n",
    "    # To activate a network, activate each layer in turn, saving the activation in\n",
    "    # the network state, finally return the output of the last layer\n",
    "    def act_net(self, inp):\n",
    "        assert len(inp) == self.nins, f\"got input `{inp}`, expected np.array of length `{self.nins}`\"\n",
    "        self.state[0] = inp\n",
    "        for nlay in range(self.nlayers-1):\n",
    "            self.state[nlay+1] = self.act_layer(nlay) # different indexes!\n",
    "        return self.state[-1]"
   ]
  },
  {
   "cell_type": "code",
   "execution_count": 15,
   "metadata": {
    "ExecuteTime": {
     "end_time": "2024-05-08T18:45:01.436945Z",
     "start_time": "2024-05-08T18:45:01.433459Z"
    }
   },
   "outputs": [
    {
     "name": "stdout",
     "output_type": "stream",
     "text": [
      "activation: [0.36609664 0.06900166 0.87640677]\n"
     ]
    }
   ],
   "source": [
    "struct = [4,5,4,3]\n",
    "inputs = [2,1,2,1]\n",
    "net = FeedForwardNeuralNetwork(struct)\n",
    "print(\"activation:\", net.act_net(np.array(inputs)))"
   ]
  },
  {
   "cell_type": "markdown",
   "metadata": {},
   "source": [
    "#### 2.2 **[5pt]** Fix the implementation of Backpropagation below (missing parts are denoted by ?). Then (i) instantiate a new network with the same structure as before, (ii) activate it on dataset provided and compute the Risk based on Mean Squared Error, (iii) run the Backpropagation algorithm for 10000 epochs, (iv) compute the Risk again (should be decreased)."
   ]
  },
  {
   "cell_type": "markdown",
   "metadata": {},
   "source": [
    "- We _subclass_ our implementation from the question above:\n",
    "    - This means creating a new class, but as if we **resume** implementing from where we left of with the class above\n",
    "    - Think of it as copy+paste of _all methods_ defined in the parent class (above), then everything we add (new specialized functionality) is written \"below\" the old code\n",
    "    - We can overwrite previous definitions: \"overloading\". If our subclass below implements `def act_layer()` for example, this code will be used in place of the parent class' one\n",
    "    - Don't worry too much for now, it's very intuitive, only know that some of your function definitions are in the class above instead of this one, nothing more\n",
    "- Keep it simple: use the implementation seen in the slides, based on logistic function and MSE loss.\n",
    "- You need two update functions: updating the output layer and the hidden layers uses different equations.\n",
    "- If you follow this implementation, you don't need a vectorized version of the activation function. But if you want it to work with numpy broadcast you should learn about `np.vectorize(act_net, signature='(n)->(m)')`.\n",
    "- Careful with the size of inputs and outputs you generate for testing, remember that you need to match the structure of the network (number of inputs).\n",
    "- The `online` algorithm will save you from one layer of linear algebra implementation: simply loop for the number of epochs, then loop for each point (pairing input/label with `zip`).\n",
    "- Backprop cheatsheet: 1. forward pass, 2. backward on output layer, 3. loop of backward on each hidden layer back-to-front."
   ]
  },
  {
   "cell_type": "code",
   "execution_count": 4,
   "metadata": {
    "ExecuteTime": {
     "end_time": "2024-05-08T17:44:27.037070Z",
     "start_time": "2024-05-08T17:44:27.030739Z"
    }
   },
   "outputs": [],
   "source": [
    "class FeedForwardNeuralNetworkWithBackprop(FeedForwardNeuralNetwork):\n",
    "\n",
    "    # This definition _overloads_ (\"overwrites\") the definition in the parent class\n",
    "    def __init__(self, struct):\n",
    "        super().__init__(struct) # calls the `__init__` of the _parent_class_ above!\n",
    "\n",
    "        # But then we add one new action to the initialization:\n",
    "        # vectorizing the method allows to \"activate\" on a whole dataset at once!\n",
    "        self.act_net_v = np.vectorize(self.act_net, signature='(n)->(m)')\n",
    "\n",
    "\n",
    "    def backprop(self, x, y, nepochs=10000, lrate=0.1):\n",
    "        for nepoch in range(nepochs):\n",
    "            # show progress, particulary important on slow methods\n",
    "            if nepoch%100==0: print('.', end='', flush=True)\n",
    "            # loop for each point in the dataset\n",
    "            for xi, yi in zip(x, y):\n",
    "\n",
    "                ## Forward pass (we will take the activations from `state`)\n",
    "                self.act_net(xi)\n",
    "                \n",
    "                ## Backward pass on output layer (easy)\n",
    "                last_act = self.state[-1]\n",
    "                output_layer_input = self.state[-2] # different from above!\n",
    "                d_act = last_act * (1 - last_act)\n",
    "                delta = (last_act-yi) * d_act \n",
    "                de_dw =  np.outer(delta, output_layer_input)\n",
    "                # `+= -1 * ...` => explicitly: incremental change, negative direction\n",
    "                self.weights[-1] += -lrate*de_dw\n",
    "\n",
    "                ## Backward pass on hidden layers\n",
    "                # Navigate the [weight matrices] of [hidden layers], [backwards]\n",
    "                indices_of_hidlay_wmat_bwards = range(len(self.weights)-1)[::-1]\n",
    "                for idx in indices_of_hidlay_wmat_bwards:\n",
    "                    # Consider the outputs of two layers at a time: current and previous\n",
    "                    # Look at self.struct:\n",
    "                    # - we have a weight matrix between each pair of sizes\n",
    "                    # - we have an activation for each size but for inputs\n",
    "                    # So the indices are skewed! If we loop on the index (idx) of\n",
    "                    # the weight matrix that we are currently updating, the inputs to\n",
    "                    # the corresponding layer will be in `state[idx]`, the outputs in\n",
    "                    # `state[idx+1]`! Be careful and check the shapes!\n",
    "                    curr_act = self.state[idx+1]\n",
    "                    prev_act = self.state[idx]\n",
    "                    d_act = curr_act * (1 - curr_act)\n",
    "                    # `delta` currently contains the delta we calculated for idx+1!\n",
    "                    delta_idx_plus_one = delta\n",
    "                    delta = np.dot(delta_idx_plus_one, self.weights[idx+1]) * d_act\n",
    "                    # delta = self.weights[idx+1].T.dot(delta) * (1-last_act) * last_act\n",
    "                    \n",
    "                    de_dw = np.outer(delta, prev_act)\n",
    "                    self.weights[idx] += -lrate * de_dw\n",
    "\n",
    "        print() # newline after all the points\n"
   ]
  },
  {
   "cell_type": "code",
   "execution_count": 5,
   "metadata": {
    "ExecuteTime": {
     "end_time": "2024-05-08T17:44:41.702078Z",
     "start_time": "2024-05-08T17:44:27.037886Z"
    }
   },
   "outputs": [
    {
     "name": "stdout",
     "output_type": "stream",
     "text": [
      "Error pre-train:  0.11825828560035956\n",
      "....................................................................................................\n",
      "Error post-train: 0.027690781669068854\n"
     ]
    }
   ],
   "source": [
    "# Use this test to ensure your code works correctly\n",
    "# I strongly recommend you read and understand every line here now\n",
    "\n",
    "# Instantiate networks (random weights!)\n",
    "struct = [4,5,4,3] # input size 4, labels size 3\n",
    "network = FeedForwardNeuralNetworkWithBackprop(struct)\n",
    "\n",
    "# Prepare toy data as usual\n",
    "npoints = 30 # dataset size\n",
    "x = np.random.uniform(size=[npoints, network.nins])\n",
    "y = np.random.uniform(size=[npoints, network.nouts])\n",
    "mean_square_error = lambda x,y: ((y-x)**2).mean()\n",
    "\n",
    "# Check errors of current network, before training\n",
    "predictions_pre_train = network.act_net_v(x)\n",
    "error_pre_train = mean_square_error(predictions_pre_train, y)\n",
    "print(\"Error pre-train: \", error_pre_train)\n",
    "\n",
    "# Train with Backpropagation!\n",
    "network.backprop(x, y)\n",
    "\n",
    "# Check errors again: have them gone down?\n",
    "predictions_post_train = network.act_net_v(x)\n",
    "error_post_train = mean_square_error(predictions_post_train, y)\n",
    "print(\"Error post-train:\", error_post_train)"
   ]
  },
  {
   "cell_type": "markdown",
   "metadata": {},
   "source": [
    "#### 2.3 **[3pt]** Train a network to classify the Iris dataset using your implementation. Do not alter the code provided: only fix the missing parts, denoted by `?`."
   ]
  },
  {
   "cell_type": "markdown",
   "metadata": {},
   "source": [
    "- We have three classes, we need to train 3 neurons on 4 inputs. Let's try without hidden layers.\n",
    "- To match the labels to the output, encode the (discrete) class using one-hot encoding. I suggest you use `pd.get_dummies()`. (Note: for prediction we would typically use `np.argmax()` on the network output)\n",
    "- Remember to drop the `species` column from the dataframe, and merge the dummy variables with one-hot encoding using `pd.merge()`. You want to align the rows/indices, using `left_index=True` and `right_index=True`.\n",
    "- We are back to SL so you need both the `x` (for the forward pass) and the `y` (for the backprop). Then you are ready for the split.\n",
    "- Your implementation of backprop may have problems with dataframes, in which case convert its inputs using `to_numpy()`.\n",
    "- Writing a NN class simplifies greatly the introduction of the backprop code. However you are going to use the code only twice, so copy+paste is also acceptable. Just remember if not that you will need to define a new `struct` here, and that all the variables depending on it (and methods that use those outside-defined variables) should be redefined too. You are in for some nasty bugs if not, try killing the Jupyter kernel often and running only what you need.\n",
    "- Feel free to experiment with learning rates. You can start with 0.1, but you could go as low as $10^{-5}$."
   ]
  },
  {
   "cell_type": "code",
   "execution_count": 6,
   "metadata": {
    "ExecuteTime": {
     "end_time": "2024-05-08T17:44:41.726864Z",
     "start_time": "2024-05-08T17:44:41.703592Z"
    }
   },
   "outputs": [],
   "source": [
    "# First the data preparation as usual\n",
    "\n",
    "iris = sns.load_dataset('iris')\n",
    "# The feature 'species' is discrete with string values. We want a binary encoding.\n",
    "# We can create 3 columns with the names of the 3 species, and each row then will\n",
    "# have 2 `0` values and one `1`. Use `pd.get_dummies`!\n",
    "species_enc = pd.get_dummies(iris['species'])\n",
    "y_cols = species_enc.columns # save the names of the label columns\n",
    "iris_feats = iris.drop('species', axis=1) # `drop` the original 'species' column\n",
    "# Note: `iris_feats` now only contains the numeric (input) features\n",
    "x_cols = iris_feats.columns # save the names of the input columns\n",
    "# `merge` the features and encoding, set `left_index` and `right_index` to True\n",
    "df = pd.merge(iris_feats, species_enc, left_index=True, right_index=True)\n",
    "\n",
    "train, test = train_test_split(df, test_size=0.2) # 80-20 split\n",
    "x_train = train.loc[:,x_cols] # all rows from train, input columns\n",
    "y_train = train.loc[:, y_cols] # all rows from train, label colum(s)\n",
    "x_test = test.loc[:, x_cols]   # same with the...\n",
    "y_test = test.loc[:, y_cols]   # ...test set here"
   ]
  },
  {
   "cell_type": "code",
   "execution_count": 7,
   "metadata": {
    "scrolled": true,
    "ExecuteTime": {
     "end_time": "2024-05-08T17:45:01.836011Z",
     "start_time": "2024-05-08T17:44:41.727772Z"
    }
   },
   "outputs": [
    {
     "name": "stdout",
     "output_type": "stream",
     "text": [
      "# Pre-train mean error:\n",
      "0.5820622528614803\n",
      "....................................................................................................\n",
      "# Post-train mean error:\n",
      "0.07248258982053599\n"
     ]
    }
   ],
   "source": [
    "net = FeedForwardNeuralNetworkWithBackprop([4,3])\n",
    "# Remember: for performance estimation you should not use the training set.\n",
    "# Technically here is where you want to use the validation set, but we will\n",
    "# use the test set since we have it handy and it's still consistent.\n",
    "# Even in this case to show the error before training.\n",
    "preds = net.act_net_v(x_test.to_numpy())\n",
    "print(\"# Pre-train mean error:\")\n",
    "print(mean_square_error(preds, y_test.to_numpy()))\n",
    "# Then, super important: the training process only accesses the training set!\n",
    "net.backprop(x_train.to_numpy(), y_train.to_numpy()) # because we use `zip`\n",
    "# Now back to using the test set to showcase the new performance\n",
    "preds = net.act_net_v(x_test.to_numpy())\n",
    "print(\"# Post-train mean error:\")\n",
    "print(mean_square_error(preds, y_test.to_numpy()))"
   ]
  },
  {
   "cell_type": "markdown",
   "metadata": {},
   "source": [
    "Think: what would you do to improve the results? If you think you can do better, COPY + paste below this message any cell you want to modify (so the solution above still gets you the points safely), and give it your best to minimize those errors! Also: try to copy the least amount of code you really need, it's a good practice."
   ]
  },
  {
   "cell_type": "markdown",
   "metadata": {},
   "source": [
    "# 3. First taste of Keras"
   ]
  },
  {
   "cell_type": "markdown",
   "metadata": {},
   "source": [
    "I selected to use Keras here simply because it will be more easily available for everyone using Colab. You should be aware of Pytorch as a solid alternative. The trade off is typically between something easier to use for a quick prototype (e.g. Pytorch) vs. something that scales to bigger and more complex; Keras is founded on Tensorflow, which means more complexity to use it but access to more powerful tools (and Google support), though for a course with only local installations (and for quick sketches) I would have rather recommended Pytorch. Feel free to use either -- be flexible with your tools!  \n",
    "But I strongly advise you not to use one if you already have experience with it (if you already used Pytorch, use Keras here). Think about the difference between putting in your CV that you already have experience with one library vs. with none. Now think about writing that you have experience with both.\n",
    "\n",
    "**IF YOU USE PIPENV:** you need to install the right package. I choose **to not distribute** an updated version of the Pipfile, so you have a chance to use the `pipenv install` command (keras is packaged within `tensorflow`), and to allow you to install whichever library works for your particular system. Since all solutions will be with Keras, doing this homework with Pytorch instead will allow you to see both versions. You will notice that there is not much difference for toy problems like this anyway.  \n",
    "Some resources:\n",
    "- https://keras.io/getting_started/\n",
    "- https://www.tensorflow.org/install/pip\n",
    "- https://keras.io/examples/"
   ]
  },
  {
   "cell_type": "markdown",
   "metadata": {},
   "source": [
    "#### 3.1 **[2pt]** Train a network to classify the Iris dataset using Keras, and print the trained model accuracy."
   ]
  },
  {
   "cell_type": "markdown",
   "metadata": {},
   "source": [
    "- Use a sequential model with only one dense layer for simplicity\n",
    "- Remember to correspond the number of neurons in the model('s output layer) to the number of classes\n",
    "- The first layer explicitly needs the `input_dim=` parameter\n",
    "- Explicitly use a sigmoid activation\n",
    "- After finishing constructing the model, you need to `compile` it using an optimizer, a loss and a (list of) metric(s). Use stochastic gradient descent, mean squared error, and accuracy, respectively.\n",
    "- The next step is the training, as usual the method is called `fit`. Pass a `validation_split` and it will take care of the split itself, plus it will allow visualizing the performance of the model on the test set at each epoch.\n",
    "- You also want to pass `epochs` and `batch_size`. Values of `1000` and `5` work well, but feel free to experiment.\n",
    "- Finally to print the model accuracy you will need to call `evaluate`, which will pick the `accuracy` measure from when you compiled the model.\n",
    "- Use fewer epochs to test the code faster, 10-100 should work fine.\n",
    "- You may not get lucky at every trial and thus need multiple runs. Yes this is actually accepted as common practice, as backpropagation provides no exploration capabilities and easily converges into the nearest local optimum."
   ]
  },
  {
   "cell_type": "code",
   "execution_count": 8,
   "metadata": {
    "scrolled": true,
    "ExecuteTime": {
     "end_time": "2024-05-08T17:45:10.007954Z",
     "start_time": "2024-05-08T17:45:01.836858Z"
    }
   },
   "outputs": [
    {
     "name": "stderr",
     "output_type": "stream",
     "text": [
      "2024-05-08 19:45:02.502304: I tensorflow/core/platform/cpu_feature_guard.cc:210] This TensorFlow binary is optimized to use available CPU instructions in performance-critical operations.\n",
      "To enable the following instructions: AVX2 FMA, in other operations, rebuild TensorFlow with the appropriate compiler flags.\n",
      "2024-05-08 19:45:03.465904: W tensorflow/compiler/tf2tensorrt/utils/py_utils.cc:38] TF-TRT Warning: Could not find TensorRT\n"
     ]
    },
    {
     "name": "stdout",
     "output_type": "stream",
     "text": [
      "Epoch 1/100\n"
     ]
    },
    {
     "name": "stderr",
     "output_type": "stream",
     "text": [
      "/home/gobi/anaconda3/lib/python3.9/site-packages/keras/src/layers/core/dense.py:87: UserWarning: Do not pass an `input_shape`/`input_dim` argument to a layer. When using Sequential models, prefer using an `Input(shape)` object as the first layer in the model instead.\n",
      "  super().__init__(activity_regularizer=activity_regularizer, **kwargs)\n",
      "2024-05-08 19:45:04.276784: I external/local_xla/xla/stream_executor/cuda/cuda_diagnostics.cc:134] retrieving CUDA diagnostic information for host: gobi-ROG-Zephyrus-M15-GU502LW-GU502LW\n",
      "2024-05-08 19:45:04.276799: I external/local_xla/xla/stream_executor/cuda/cuda_diagnostics.cc:141] hostname: gobi-ROG-Zephyrus-M15-GU502LW-GU502LW\n",
      "2024-05-08 19:45:04.276892: I external/local_xla/xla/stream_executor/cuda/cuda_diagnostics.cc:165] libcuda reported version is: NOT_FOUND: was unable to find libcuda.so DSO loaded into this program\n",
      "2024-05-08 19:45:04.276921: I external/local_xla/xla/stream_executor/cuda/cuda_diagnostics.cc:169] kernel reported version is: 535.171.4\n"
     ]
    },
    {
     "name": "stdout",
     "output_type": "stream",
     "text": [
      "\u001B[1m24/24\u001B[0m \u001B[32m━━━━━━━━━━━━━━━━━━━━\u001B[0m\u001B[37m\u001B[0m \u001B[1m0s\u001B[0m 5ms/step - accuracy: 0.1436 - loss: 1.2063 - val_accuracy: 0.0000e+00 - val_loss: 1.2464\n",
      "Epoch 2/100\n",
      "\u001B[1m24/24\u001B[0m \u001B[32m━━━━━━━━━━━━━━━━━━━━\u001B[0m\u001B[37m\u001B[0m \u001B[1m0s\u001B[0m 1ms/step - accuracy: 0.4858 - loss: 0.8827 - val_accuracy: 0.6000 - val_loss: 0.9091\n",
      "Epoch 3/100\n",
      "\u001B[1m24/24\u001B[0m \u001B[32m━━━━━━━━━━━━━━━━━━━━\u001B[0m\u001B[37m\u001B[0m \u001B[1m0s\u001B[0m 1ms/step - accuracy: 0.7791 - loss: 0.7348 - val_accuracy: 0.1667 - val_loss: 1.1445\n",
      "Epoch 4/100\n",
      "\u001B[1m24/24\u001B[0m \u001B[32m━━━━━━━━━━━━━━━━━━━━\u001B[0m\u001B[37m\u001B[0m \u001B[1m0s\u001B[0m 2ms/step - accuracy: 0.8573 - loss: 0.6609 - val_accuracy: 0.1667 - val_loss: 1.0851\n",
      "Epoch 5/100\n",
      "\u001B[1m24/24\u001B[0m \u001B[32m━━━━━━━━━━━━━━━━━━━━\u001B[0m\u001B[37m\u001B[0m \u001B[1m0s\u001B[0m 1ms/step - accuracy: 0.8382 - loss: 0.5889 - val_accuracy: 0.5667 - val_loss: 0.8565\n",
      "Epoch 6/100\n",
      "\u001B[1m24/24\u001B[0m \u001B[32m━━━━━━━━━━━━━━━━━━━━\u001B[0m\u001B[37m\u001B[0m \u001B[1m0s\u001B[0m 1ms/step - accuracy: 0.9139 - loss: 0.5392 - val_accuracy: 0.7000 - val_loss: 0.6978\n",
      "Epoch 7/100\n",
      "\u001B[1m24/24\u001B[0m \u001B[32m━━━━━━━━━━━━━━━━━━━━\u001B[0m\u001B[37m\u001B[0m \u001B[1m0s\u001B[0m 1ms/step - accuracy: 0.9244 - loss: 0.4917 - val_accuracy: 0.1000 - val_loss: 1.0378\n",
      "Epoch 8/100\n",
      "\u001B[1m24/24\u001B[0m \u001B[32m━━━━━━━━━━━━━━━━━━━━\u001B[0m\u001B[37m\u001B[0m \u001B[1m0s\u001B[0m 1ms/step - accuracy: 0.8908 - loss: 0.4491 - val_accuracy: 0.8667 - val_loss: 0.5494\n",
      "Epoch 9/100\n",
      "\u001B[1m24/24\u001B[0m \u001B[32m━━━━━━━━━━━━━━━━━━━━\u001B[0m\u001B[37m\u001B[0m \u001B[1m0s\u001B[0m 1ms/step - accuracy: 0.9053 - loss: 0.4499 - val_accuracy: 0.3667 - val_loss: 0.8710\n",
      "Epoch 10/100\n",
      "\u001B[1m24/24\u001B[0m \u001B[32m━━━━━━━━━━━━━━━━━━━━\u001B[0m\u001B[37m\u001B[0m \u001B[1m0s\u001B[0m 1ms/step - accuracy: 0.8846 - loss: 0.4674 - val_accuracy: 0.5000 - val_loss: 0.7884\n",
      "Epoch 11/100\n",
      "\u001B[1m24/24\u001B[0m \u001B[32m━━━━━━━━━━━━━━━━━━━━\u001B[0m\u001B[37m\u001B[0m \u001B[1m0s\u001B[0m 1ms/step - accuracy: 0.9255 - loss: 0.4161 - val_accuracy: 0.0000e+00 - val_loss: 1.0640\n",
      "Epoch 12/100\n",
      "\u001B[1m24/24\u001B[0m \u001B[32m━━━━━━━━━━━━━━━━━━━━\u001B[0m\u001B[37m\u001B[0m \u001B[1m0s\u001B[0m 1ms/step - accuracy: 0.8580 - loss: 0.4636 - val_accuracy: 0.0000e+00 - val_loss: 1.3806\n",
      "Epoch 13/100\n",
      "\u001B[1m24/24\u001B[0m \u001B[32m━━━━━━━━━━━━━━━━━━━━\u001B[0m\u001B[37m\u001B[0m \u001B[1m0s\u001B[0m 1ms/step - accuracy: 0.8435 - loss: 0.4137 - val_accuracy: 0.6333 - val_loss: 0.7414\n",
      "Epoch 14/100\n",
      "\u001B[1m24/24\u001B[0m \u001B[32m━━━━━━━━━━━━━━━━━━━━\u001B[0m\u001B[37m\u001B[0m \u001B[1m0s\u001B[0m 1ms/step - accuracy: 0.9009 - loss: 0.4157 - val_accuracy: 0.1667 - val_loss: 0.9857\n",
      "Epoch 15/100\n",
      "\u001B[1m24/24\u001B[0m \u001B[32m━━━━━━━━━━━━━━━━━━━━\u001B[0m\u001B[37m\u001B[0m \u001B[1m0s\u001B[0m 1ms/step - accuracy: 0.9016 - loss: 0.3336 - val_accuracy: 0.7000 - val_loss: 0.6122\n",
      "Epoch 16/100\n",
      "\u001B[1m24/24\u001B[0m \u001B[32m━━━━━━━━━━━━━━━━━━━━\u001B[0m\u001B[37m\u001B[0m \u001B[1m0s\u001B[0m 1ms/step - accuracy: 0.9285 - loss: 0.4042 - val_accuracy: 0.1333 - val_loss: 0.9906\n",
      "Epoch 17/100\n",
      "\u001B[1m24/24\u001B[0m \u001B[32m━━━━━━━━━━━━━━━━━━━━\u001B[0m\u001B[37m\u001B[0m \u001B[1m0s\u001B[0m 1ms/step - accuracy: 0.9068 - loss: 0.3494 - val_accuracy: 0.4000 - val_loss: 0.8316\n",
      "Epoch 18/100\n",
      "\u001B[1m24/24\u001B[0m \u001B[32m━━━━━━━━━━━━━━━━━━━━\u001B[0m\u001B[37m\u001B[0m \u001B[1m0s\u001B[0m 2ms/step - accuracy: 0.8870 - loss: 0.3754 - val_accuracy: 0.2667 - val_loss: 0.9162\n",
      "Epoch 19/100\n",
      "\u001B[1m24/24\u001B[0m \u001B[32m━━━━━━━━━━━━━━━━━━━━\u001B[0m\u001B[37m\u001B[0m \u001B[1m0s\u001B[0m 1ms/step - accuracy: 0.8981 - loss: 0.3525 - val_accuracy: 0.0667 - val_loss: 1.0215\n",
      "Epoch 20/100\n",
      "\u001B[1m24/24\u001B[0m \u001B[32m━━━━━━━━━━━━━━━━━━━━\u001B[0m\u001B[37m\u001B[0m \u001B[1m0s\u001B[0m 1ms/step - accuracy: 0.8721 - loss: 0.3365 - val_accuracy: 0.2667 - val_loss: 0.8829\n",
      "Epoch 21/100\n",
      "\u001B[1m24/24\u001B[0m \u001B[32m━━━━━━━━━━━━━━━━━━━━\u001B[0m\u001B[37m\u001B[0m \u001B[1m0s\u001B[0m 1ms/step - accuracy: 0.8950 - loss: 0.3423 - val_accuracy: 0.1333 - val_loss: 1.0096\n",
      "Epoch 22/100\n",
      "\u001B[1m24/24\u001B[0m \u001B[32m━━━━━━━━━━━━━━━━━━━━\u001B[0m\u001B[37m\u001B[0m \u001B[1m0s\u001B[0m 2ms/step - accuracy: 0.8774 - loss: 0.3331 - val_accuracy: 0.2667 - val_loss: 0.9160\n",
      "Epoch 23/100\n",
      "\u001B[1m24/24\u001B[0m \u001B[32m━━━━━━━━━━━━━━━━━━━━\u001B[0m\u001B[37m\u001B[0m \u001B[1m0s\u001B[0m 2ms/step - accuracy: 0.8729 - loss: 0.3403 - val_accuracy: 0.4667 - val_loss: 0.7834\n",
      "Epoch 24/100\n",
      "\u001B[1m24/24\u001B[0m \u001B[32m━━━━━━━━━━━━━━━━━━━━\u001B[0m\u001B[37m\u001B[0m \u001B[1m0s\u001B[0m 1ms/step - accuracy: 0.9017 - loss: 0.3195 - val_accuracy: 0.4667 - val_loss: 0.7708\n",
      "Epoch 25/100\n",
      "\u001B[1m24/24\u001B[0m \u001B[32m━━━━━━━━━━━━━━━━━━━━\u001B[0m\u001B[37m\u001B[0m \u001B[1m0s\u001B[0m 1ms/step - accuracy: 0.9072 - loss: 0.2976 - val_accuracy: 0.7000 - val_loss: 0.6103\n",
      "Epoch 26/100\n",
      "\u001B[1m24/24\u001B[0m \u001B[32m━━━━━━━━━━━━━━━━━━━━\u001B[0m\u001B[37m\u001B[0m \u001B[1m0s\u001B[0m 1ms/step - accuracy: 0.9241 - loss: 0.3552 - val_accuracy: 0.5333 - val_loss: 0.7306\n",
      "Epoch 27/100\n",
      "\u001B[1m24/24\u001B[0m \u001B[32m━━━━━━━━━━━━━━━━━━━━\u001B[0m\u001B[37m\u001B[0m \u001B[1m0s\u001B[0m 1ms/step - accuracy: 0.9194 - loss: 0.3573 - val_accuracy: 0.3000 - val_loss: 0.8954\n",
      "Epoch 28/100\n",
      "\u001B[1m24/24\u001B[0m \u001B[32m━━━━━━━━━━━━━━━━━━━━\u001B[0m\u001B[37m\u001B[0m \u001B[1m0s\u001B[0m 1ms/step - accuracy: 0.9048 - loss: 0.3289 - val_accuracy: 0.5000 - val_loss: 0.7493\n",
      "Epoch 29/100\n",
      "\u001B[1m24/24\u001B[0m \u001B[32m━━━━━━━━━━━━━━━━━━━━\u001B[0m\u001B[37m\u001B[0m \u001B[1m0s\u001B[0m 1ms/step - accuracy: 0.8946 - loss: 0.3203 - val_accuracy: 0.6333 - val_loss: 0.6944\n",
      "Epoch 30/100\n",
      "\u001B[1m24/24\u001B[0m \u001B[32m━━━━━━━━━━━━━━━━━━━━\u001B[0m\u001B[37m\u001B[0m \u001B[1m0s\u001B[0m 2ms/step - accuracy: 0.9325 - loss: 0.2799 - val_accuracy: 0.4667 - val_loss: 0.7959\n",
      "Epoch 31/100\n",
      "\u001B[1m24/24\u001B[0m \u001B[32m━━━━━━━━━━━━━━━━━━━━\u001B[0m\u001B[37m\u001B[0m \u001B[1m0s\u001B[0m 1ms/step - accuracy: 0.9319 - loss: 0.2905 - val_accuracy: 0.4667 - val_loss: 0.8194\n",
      "Epoch 32/100\n",
      "\u001B[1m24/24\u001B[0m \u001B[32m━━━━━━━━━━━━━━━━━━━━\u001B[0m\u001B[37m\u001B[0m \u001B[1m0s\u001B[0m 2ms/step - accuracy: 0.9062 - loss: 0.3117 - val_accuracy: 0.4667 - val_loss: 0.7785\n",
      "Epoch 33/100\n",
      "\u001B[1m24/24\u001B[0m \u001B[32m━━━━━━━━━━━━━━━━━━━━\u001B[0m\u001B[37m\u001B[0m \u001B[1m0s\u001B[0m 1ms/step - accuracy: 0.9503 - loss: 0.2968 - val_accuracy: 0.3667 - val_loss: 0.8849\n",
      "Epoch 34/100\n",
      "\u001B[1m24/24\u001B[0m \u001B[32m━━━━━━━━━━━━━━━━━━━━\u001B[0m\u001B[37m\u001B[0m \u001B[1m0s\u001B[0m 2ms/step - accuracy: 0.9185 - loss: 0.3216 - val_accuracy: 0.5333 - val_loss: 0.7219\n",
      "Epoch 35/100\n",
      "\u001B[1m24/24\u001B[0m \u001B[32m━━━━━━━━━━━━━━━━━━━━\u001B[0m\u001B[37m\u001B[0m \u001B[1m0s\u001B[0m 1ms/step - accuracy: 0.8980 - loss: 0.3270 - val_accuracy: 0.5000 - val_loss: 0.7641\n",
      "Epoch 36/100\n",
      "\u001B[1m24/24\u001B[0m \u001B[32m━━━━━━━━━━━━━━━━━━━━\u001B[0m\u001B[37m\u001B[0m \u001B[1m0s\u001B[0m 2ms/step - accuracy: 0.9004 - loss: 0.3216 - val_accuracy: 0.4000 - val_loss: 0.8658\n",
      "Epoch 37/100\n",
      "\u001B[1m24/24\u001B[0m \u001B[32m━━━━━━━━━━━━━━━━━━━━\u001B[0m\u001B[37m\u001B[0m \u001B[1m0s\u001B[0m 2ms/step - accuracy: 0.9092 - loss: 0.2701 - val_accuracy: 0.7000 - val_loss: 0.5906\n",
      "Epoch 38/100\n",
      "\u001B[1m24/24\u001B[0m \u001B[32m━━━━━━━━━━━━━━━━━━━━\u001B[0m\u001B[37m\u001B[0m \u001B[1m0s\u001B[0m 1ms/step - accuracy: 0.9263 - loss: 0.3046 - val_accuracy: 0.6667 - val_loss: 0.6615\n",
      "Epoch 39/100\n",
      "\u001B[1m24/24\u001B[0m \u001B[32m━━━━━━━━━━━━━━━━━━━━\u001B[0m\u001B[37m\u001B[0m \u001B[1m0s\u001B[0m 2ms/step - accuracy: 0.9300 - loss: 0.3051 - val_accuracy: 0.3000 - val_loss: 0.9096\n",
      "Epoch 40/100\n",
      "\u001B[1m24/24\u001B[0m \u001B[32m━━━━━━━━━━━━━━━━━━━━\u001B[0m\u001B[37m\u001B[0m \u001B[1m0s\u001B[0m 1ms/step - accuracy: 0.8854 - loss: 0.3091 - val_accuracy: 0.4000 - val_loss: 0.8910\n",
      "Epoch 41/100\n",
      "\u001B[1m24/24\u001B[0m \u001B[32m━━━━━━━━━━━━━━━━━━━━\u001B[0m\u001B[37m\u001B[0m \u001B[1m0s\u001B[0m 2ms/step - accuracy: 0.9200 - loss: 0.2640 - val_accuracy: 0.5000 - val_loss: 0.7519\n",
      "Epoch 42/100\n",
      "\u001B[1m24/24\u001B[0m \u001B[32m━━━━━━━━━━━━━━━━━━━━\u001B[0m\u001B[37m\u001B[0m \u001B[1m0s\u001B[0m 1ms/step - accuracy: 0.9243 - loss: 0.3003 - val_accuracy: 0.5333 - val_loss: 0.7098\n",
      "Epoch 43/100\n",
      "\u001B[1m24/24\u001B[0m \u001B[32m━━━━━━━━━━━━━━━━━━━━\u001B[0m\u001B[37m\u001B[0m \u001B[1m0s\u001B[0m 1ms/step - accuracy: 0.9509 - loss: 0.2890 - val_accuracy: 0.4000 - val_loss: 0.8795\n",
      "Epoch 44/100\n",
      "\u001B[1m24/24\u001B[0m \u001B[32m━━━━━━━━━━━━━━━━━━━━\u001B[0m\u001B[37m\u001B[0m \u001B[1m0s\u001B[0m 2ms/step - accuracy: 0.9178 - loss: 0.2552 - val_accuracy: 0.7333 - val_loss: 0.5531\n",
      "Epoch 45/100\n",
      "\u001B[1m24/24\u001B[0m \u001B[32m━━━━━━━━━━━━━━━━━━━━\u001B[0m\u001B[37m\u001B[0m \u001B[1m0s\u001B[0m 2ms/step - accuracy: 0.9498 - loss: 0.2541 - val_accuracy: 0.5000 - val_loss: 0.7186\n",
      "Epoch 46/100\n",
      "\u001B[1m24/24\u001B[0m \u001B[32m━━━━━━━━━━━━━━━━━━━━\u001B[0m\u001B[37m\u001B[0m \u001B[1m0s\u001B[0m 2ms/step - accuracy: 0.8994 - loss: 0.3074 - val_accuracy: 0.5333 - val_loss: 0.7075\n",
      "Epoch 47/100\n",
      "\u001B[1m24/24\u001B[0m \u001B[32m━━━━━━━━━━━━━━━━━━━━\u001B[0m\u001B[37m\u001B[0m \u001B[1m0s\u001B[0m 2ms/step - accuracy: 0.9459 - loss: 0.2544 - val_accuracy: 0.3667 - val_loss: 0.8892\n",
      "Epoch 48/100\n",
      "\u001B[1m24/24\u001B[0m \u001B[32m━━━━━━━━━━━━━━━━━━━━\u001B[0m\u001B[37m\u001B[0m \u001B[1m0s\u001B[0m 1ms/step - accuracy: 0.9250 - loss: 0.2419 - val_accuracy: 0.5667 - val_loss: 0.6972\n",
      "Epoch 49/100\n",
      "\u001B[1m24/24\u001B[0m \u001B[32m━━━━━━━━━━━━━━━━━━━━\u001B[0m\u001B[37m\u001B[0m \u001B[1m0s\u001B[0m 2ms/step - accuracy: 0.9392 - loss: 0.2874 - val_accuracy: 0.4000 - val_loss: 0.8851\n",
      "Epoch 50/100\n",
      "\u001B[1m24/24\u001B[0m \u001B[32m━━━━━━━━━━━━━━━━━━━━\u001B[0m\u001B[37m\u001B[0m \u001B[1m0s\u001B[0m 2ms/step - accuracy: 0.8877 - loss: 0.2567 - val_accuracy: 0.4667 - val_loss: 0.8440\n",
      "Epoch 51/100\n",
      "\u001B[1m24/24\u001B[0m \u001B[32m━━━━━━━━━━━━━━━━━━━━\u001B[0m\u001B[37m\u001B[0m \u001B[1m0s\u001B[0m 1ms/step - accuracy: 0.9225 - loss: 0.2792 - val_accuracy: 0.5000 - val_loss: 0.7358\n",
      "Epoch 52/100\n",
      "\u001B[1m24/24\u001B[0m \u001B[32m━━━━━━━━━━━━━━━━━━━━\u001B[0m\u001B[37m\u001B[0m \u001B[1m0s\u001B[0m 2ms/step - accuracy: 0.9366 - loss: 0.2604 - val_accuracy: 0.2000 - val_loss: 0.9841\n",
      "Epoch 53/100\n",
      "\u001B[1m24/24\u001B[0m \u001B[32m━━━━━━━━━━━━━━━━━━━━\u001B[0m\u001B[37m\u001B[0m \u001B[1m0s\u001B[0m 2ms/step - accuracy: 0.8842 - loss: 0.2954 - val_accuracy: 0.4333 - val_loss: 0.8733\n",
      "Epoch 54/100\n",
      "\u001B[1m24/24\u001B[0m \u001B[32m━━━━━━━━━━━━━━━━━━━━\u001B[0m\u001B[37m\u001B[0m \u001B[1m0s\u001B[0m 2ms/step - accuracy: 0.9345 - loss: 0.2623 - val_accuracy: 0.5000 - val_loss: 0.7853\n",
      "Epoch 55/100\n",
      "\u001B[1m24/24\u001B[0m \u001B[32m━━━━━━━━━━━━━━━━━━━━\u001B[0m\u001B[37m\u001B[0m \u001B[1m0s\u001B[0m 1ms/step - accuracy: 0.9148 - loss: 0.2799 - val_accuracy: 0.5000 - val_loss: 0.7482\n",
      "Epoch 56/100\n",
      "\u001B[1m24/24\u001B[0m \u001B[32m━━━━━━━━━━━━━━━━━━━━\u001B[0m\u001B[37m\u001B[0m \u001B[1m0s\u001B[0m 2ms/step - accuracy: 0.9317 - loss: 0.2189 - val_accuracy: 0.8333 - val_loss: 0.5111\n",
      "Epoch 57/100\n",
      "\u001B[1m24/24\u001B[0m \u001B[32m━━━━━━━━━━━━━━━━━━━━\u001B[0m\u001B[37m\u001B[0m \u001B[1m0s\u001B[0m 1ms/step - accuracy: 0.9832 - loss: 0.2708 - val_accuracy: 0.5000 - val_loss: 0.7468\n",
      "Epoch 58/100\n",
      "\u001B[1m24/24\u001B[0m \u001B[32m━━━━━━━━━━━━━━━━━━━━\u001B[0m\u001B[37m\u001B[0m \u001B[1m0s\u001B[0m 1ms/step - accuracy: 0.9599 - loss: 0.2535 - val_accuracy: 0.4000 - val_loss: 0.8950\n",
      "Epoch 59/100\n",
      "\u001B[1m24/24\u001B[0m \u001B[32m━━━━━━━━━━━━━━━━━━━━\u001B[0m\u001B[37m\u001B[0m \u001B[1m0s\u001B[0m 1ms/step - accuracy: 0.9465 - loss: 0.2135 - val_accuracy: 0.6000 - val_loss: 0.6828\n",
      "Epoch 60/100\n",
      "\u001B[1m24/24\u001B[0m \u001B[32m━━━━━━━━━━━━━━━━━━━━\u001B[0m\u001B[37m\u001B[0m \u001B[1m0s\u001B[0m 1ms/step - accuracy: 0.9477 - loss: 0.2527 - val_accuracy: 0.6667 - val_loss: 0.6004\n",
      "Epoch 61/100\n",
      "\u001B[1m24/24\u001B[0m \u001B[32m━━━━━━━━━━━━━━━━━━━━\u001B[0m\u001B[37m\u001B[0m \u001B[1m0s\u001B[0m 1ms/step - accuracy: 0.9489 - loss: 0.2357 - val_accuracy: 0.6667 - val_loss: 0.6190\n",
      "Epoch 62/100\n",
      "\u001B[1m24/24\u001B[0m \u001B[32m━━━━━━━━━━━━━━━━━━━━\u001B[0m\u001B[37m\u001B[0m \u001B[1m0s\u001B[0m 2ms/step - accuracy: 0.9566 - loss: 0.2436 - val_accuracy: 0.5000 - val_loss: 0.7596\n",
      "Epoch 63/100\n",
      "\u001B[1m24/24\u001B[0m \u001B[32m━━━━━━━━━━━━━━━━━━━━\u001B[0m\u001B[37m\u001B[0m \u001B[1m0s\u001B[0m 1ms/step - accuracy: 0.9083 - loss: 0.2790 - val_accuracy: 0.6333 - val_loss: 0.6459\n",
      "Epoch 64/100\n",
      "\u001B[1m24/24\u001B[0m \u001B[32m━━━━━━━━━━━━━━━━━━━━\u001B[0m\u001B[37m\u001B[0m \u001B[1m0s\u001B[0m 2ms/step - accuracy: 0.9399 - loss: 0.2218 - val_accuracy: 0.8333 - val_loss: 0.4805\n",
      "Epoch 65/100\n",
      "\u001B[1m24/24\u001B[0m \u001B[32m━━━━━━━━━━━━━━━━━━━━\u001B[0m\u001B[37m\u001B[0m \u001B[1m0s\u001B[0m 1ms/step - accuracy: 0.9614 - loss: 0.2584 - val_accuracy: 0.4333 - val_loss: 0.8543\n",
      "Epoch 66/100\n",
      "\u001B[1m24/24\u001B[0m \u001B[32m━━━━━━━━━━━━━━━━━━━━\u001B[0m\u001B[37m\u001B[0m \u001B[1m0s\u001B[0m 1ms/step - accuracy: 0.9116 - loss: 0.2284 - val_accuracy: 0.5000 - val_loss: 0.7409\n",
      "Epoch 67/100\n",
      "\u001B[1m24/24\u001B[0m \u001B[32m━━━━━━━━━━━━━━━━━━━━\u001B[0m\u001B[37m\u001B[0m \u001B[1m0s\u001B[0m 1ms/step - accuracy: 0.9573 - loss: 0.2525 - val_accuracy: 0.5000 - val_loss: 0.7390\n",
      "Epoch 68/100\n",
      "\u001B[1m24/24\u001B[0m \u001B[32m━━━━━━━━━━━━━━━━━━━━\u001B[0m\u001B[37m\u001B[0m \u001B[1m0s\u001B[0m 2ms/step - accuracy: 0.9518 - loss: 0.2625 - val_accuracy: 0.5000 - val_loss: 0.7971\n",
      "Epoch 69/100\n",
      "\u001B[1m24/24\u001B[0m \u001B[32m━━━━━━━━━━━━━━━━━━━━\u001B[0m\u001B[37m\u001B[0m \u001B[1m0s\u001B[0m 1ms/step - accuracy: 0.9253 - loss: 0.2522 - val_accuracy: 0.4333 - val_loss: 0.8707\n",
      "Epoch 70/100\n",
      "\u001B[1m24/24\u001B[0m \u001B[32m━━━━━━━━━━━━━━━━━━━━\u001B[0m\u001B[37m\u001B[0m \u001B[1m0s\u001B[0m 1ms/step - accuracy: 0.9304 - loss: 0.2354 - val_accuracy: 0.5000 - val_loss: 0.6998\n",
      "Epoch 71/100\n",
      "\u001B[1m24/24\u001B[0m \u001B[32m━━━━━━━━━━━━━━━━━━━━\u001B[0m\u001B[37m\u001B[0m \u001B[1m0s\u001B[0m 1ms/step - accuracy: 0.9360 - loss: 0.2494 - val_accuracy: 0.4333 - val_loss: 0.8592\n",
      "Epoch 72/100\n",
      "\u001B[1m24/24\u001B[0m \u001B[32m━━━━━━━━━━━━━━━━━━━━\u001B[0m\u001B[37m\u001B[0m \u001B[1m0s\u001B[0m 1ms/step - accuracy: 0.9153 - loss: 0.2412 - val_accuracy: 0.6000 - val_loss: 0.6765\n",
      "Epoch 73/100\n",
      "\u001B[1m24/24\u001B[0m \u001B[32m━━━━━━━━━━━━━━━━━━━━\u001B[0m\u001B[37m\u001B[0m \u001B[1m0s\u001B[0m 2ms/step - accuracy: 0.9446 - loss: 0.2136 - val_accuracy: 0.5333 - val_loss: 0.6867\n",
      "Epoch 74/100\n",
      "\u001B[1m24/24\u001B[0m \u001B[32m━━━━━━━━━━━━━━━━━━━━\u001B[0m\u001B[37m\u001B[0m \u001B[1m0s\u001B[0m 1ms/step - accuracy: 0.9195 - loss: 0.2497 - val_accuracy: 0.5333 - val_loss: 0.6840\n",
      "Epoch 75/100\n",
      "\u001B[1m24/24\u001B[0m \u001B[32m━━━━━━━━━━━━━━━━━━━━\u001B[0m\u001B[37m\u001B[0m \u001B[1m0s\u001B[0m 1ms/step - accuracy: 0.9617 - loss: 0.2206 - val_accuracy: 0.5000 - val_loss: 0.7297\n",
      "Epoch 76/100\n",
      "\u001B[1m24/24\u001B[0m \u001B[32m━━━━━━━━━━━━━━━━━━━━\u001B[0m\u001B[37m\u001B[0m \u001B[1m0s\u001B[0m 1ms/step - accuracy: 0.9408 - loss: 0.2203 - val_accuracy: 0.5333 - val_loss: 0.6964\n",
      "Epoch 77/100\n",
      "\u001B[1m24/24\u001B[0m \u001B[32m━━━━━━━━━━━━━━━━━━━━\u001B[0m\u001B[37m\u001B[0m \u001B[1m0s\u001B[0m 1ms/step - accuracy: 0.9580 - loss: 0.2304 - val_accuracy: 0.5000 - val_loss: 0.7711\n",
      "Epoch 78/100\n",
      "\u001B[1m24/24\u001B[0m \u001B[32m━━━━━━━━━━━━━━━━━━━━\u001B[0m\u001B[37m\u001B[0m \u001B[1m0s\u001B[0m 2ms/step - accuracy: 0.9521 - loss: 0.1985 - val_accuracy: 0.5000 - val_loss: 0.7534\n",
      "Epoch 79/100\n",
      "\u001B[1m24/24\u001B[0m \u001B[32m━━━━━━━━━━━━━━━━━━━━\u001B[0m\u001B[37m\u001B[0m \u001B[1m0s\u001B[0m 2ms/step - accuracy: 0.9654 - loss: 0.2341 - val_accuracy: 0.6333 - val_loss: 0.6232\n",
      "Epoch 80/100\n",
      "\u001B[1m24/24\u001B[0m \u001B[32m━━━━━━━━━━━━━━━━━━━━\u001B[0m\u001B[37m\u001B[0m \u001B[1m0s\u001B[0m 2ms/step - accuracy: 0.9680 - loss: 0.2014 - val_accuracy: 0.6667 - val_loss: 0.5983\n",
      "Epoch 81/100\n",
      "\u001B[1m24/24\u001B[0m \u001B[32m━━━━━━━━━━━━━━━━━━━━\u001B[0m\u001B[37m\u001B[0m \u001B[1m0s\u001B[0m 1ms/step - accuracy: 0.9717 - loss: 0.1996 - val_accuracy: 0.6333 - val_loss: 0.6071\n",
      "Epoch 82/100\n",
      "\u001B[1m24/24\u001B[0m \u001B[32m━━━━━━━━━━━━━━━━━━━━\u001B[0m\u001B[37m\u001B[0m \u001B[1m0s\u001B[0m 1ms/step - accuracy: 0.9486 - loss: 0.2322 - val_accuracy: 0.5333 - val_loss: 0.6786\n",
      "Epoch 83/100\n",
      "\u001B[1m24/24\u001B[0m \u001B[32m━━━━━━━━━━━━━━━━━━━━\u001B[0m\u001B[37m\u001B[0m \u001B[1m0s\u001B[0m 1ms/step - accuracy: 0.9629 - loss: 0.2103 - val_accuracy: 0.5000 - val_loss: 0.7163\n",
      "Epoch 84/100\n",
      "\u001B[1m24/24\u001B[0m \u001B[32m━━━━━━━━━━━━━━━━━━━━\u001B[0m\u001B[37m\u001B[0m \u001B[1m0s\u001B[0m 1ms/step - accuracy: 0.9695 - loss: 0.1889 - val_accuracy: 0.6333 - val_loss: 0.6356\n",
      "Epoch 85/100\n",
      "\u001B[1m24/24\u001B[0m \u001B[32m━━━━━━━━━━━━━━━━━━━━\u001B[0m\u001B[37m\u001B[0m \u001B[1m0s\u001B[0m 2ms/step - accuracy: 0.9602 - loss: 0.2237 - val_accuracy: 0.5000 - val_loss: 0.7263\n",
      "Epoch 86/100\n",
      "\u001B[1m24/24\u001B[0m \u001B[32m━━━━━━━━━━━━━━━━━━━━\u001B[0m\u001B[37m\u001B[0m \u001B[1m0s\u001B[0m 1ms/step - accuracy: 0.9598 - loss: 0.2016 - val_accuracy: 0.6333 - val_loss: 0.6187\n",
      "Epoch 87/100\n",
      "\u001B[1m24/24\u001B[0m \u001B[32m━━━━━━━━━━━━━━━━━━━━\u001B[0m\u001B[37m\u001B[0m \u001B[1m0s\u001B[0m 1ms/step - accuracy: 0.9432 - loss: 0.1987 - val_accuracy: 0.5000 - val_loss: 0.7202\n",
      "Epoch 88/100\n",
      "\u001B[1m24/24\u001B[0m \u001B[32m━━━━━━━━━━━━━━━━━━━━\u001B[0m\u001B[37m\u001B[0m \u001B[1m0s\u001B[0m 1ms/step - accuracy: 0.9602 - loss: 0.1559 - val_accuracy: 0.9000 - val_loss: 0.3929\n",
      "Epoch 89/100\n",
      "\u001B[1m24/24\u001B[0m \u001B[32m━━━━━━━━━━━━━━━━━━━━\u001B[0m\u001B[37m\u001B[0m \u001B[1m0s\u001B[0m 2ms/step - accuracy: 0.9520 - loss: 0.2098 - val_accuracy: 0.5000 - val_loss: 0.7200\n",
      "Epoch 90/100\n",
      "\u001B[1m24/24\u001B[0m \u001B[32m━━━━━━━━━━━━━━━━━━━━\u001B[0m\u001B[37m\u001B[0m \u001B[1m0s\u001B[0m 1ms/step - accuracy: 0.9367 - loss: 0.2263 - val_accuracy: 0.6333 - val_loss: 0.6548\n",
      "Epoch 91/100\n",
      "\u001B[1m24/24\u001B[0m \u001B[32m━━━━━━━━━━━━━━━━━━━━\u001B[0m\u001B[37m\u001B[0m \u001B[1m0s\u001B[0m 1ms/step - accuracy: 0.9659 - loss: 0.2050 - val_accuracy: 0.5333 - val_loss: 0.7164\n",
      "Epoch 92/100\n",
      "\u001B[1m24/24\u001B[0m \u001B[32m━━━━━━━━━━━━━━━━━━━━\u001B[0m\u001B[37m\u001B[0m \u001B[1m0s\u001B[0m 1ms/step - accuracy: 0.9728 - loss: 0.2064 - val_accuracy: 0.5000 - val_loss: 0.7218\n",
      "Epoch 93/100\n",
      "\u001B[1m24/24\u001B[0m \u001B[32m━━━━━━━━━━━━━━━━━━━━\u001B[0m\u001B[37m\u001B[0m \u001B[1m0s\u001B[0m 1ms/step - accuracy: 0.9663 - loss: 0.2040 - val_accuracy: 0.5333 - val_loss: 0.6941\n",
      "Epoch 94/100\n",
      "\u001B[1m24/24\u001B[0m \u001B[32m━━━━━━━━━━━━━━━━━━━━\u001B[0m\u001B[37m\u001B[0m \u001B[1m0s\u001B[0m 2ms/step - accuracy: 0.9329 - loss: 0.2305 - val_accuracy: 0.5667 - val_loss: 0.6701\n",
      "Epoch 95/100\n",
      "\u001B[1m24/24\u001B[0m \u001B[32m━━━━━━━━━━━━━━━━━━━━\u001B[0m\u001B[37m\u001B[0m \u001B[1m0s\u001B[0m 1ms/step - accuracy: 0.9749 - loss: 0.1624 - val_accuracy: 0.8000 - val_loss: 0.4870\n",
      "Epoch 96/100\n",
      "\u001B[1m24/24\u001B[0m \u001B[32m━━━━━━━━━━━━━━━━━━━━\u001B[0m\u001B[37m\u001B[0m \u001B[1m0s\u001B[0m 1ms/step - accuracy: 0.9814 - loss: 0.2076 - val_accuracy: 0.5333 - val_loss: 0.6766\n",
      "Epoch 97/100\n",
      "\u001B[1m24/24\u001B[0m \u001B[32m━━━━━━━━━━━━━━━━━━━━\u001B[0m\u001B[37m\u001B[0m \u001B[1m0s\u001B[0m 1ms/step - accuracy: 0.9302 - loss: 0.1950 - val_accuracy: 0.6667 - val_loss: 0.6094\n",
      "Epoch 98/100\n",
      "\u001B[1m24/24\u001B[0m \u001B[32m━━━━━━━━━━━━━━━━━━━━\u001B[0m\u001B[37m\u001B[0m \u001B[1m0s\u001B[0m 1ms/step - accuracy: 0.9651 - loss: 0.2047 - val_accuracy: 0.6667 - val_loss: 0.5689\n",
      "Epoch 99/100\n",
      "\u001B[1m24/24\u001B[0m \u001B[32m━━━━━━━━━━━━━━━━━━━━\u001B[0m\u001B[37m\u001B[0m \u001B[1m0s\u001B[0m 1ms/step - accuracy: 0.9862 - loss: 0.1743 - val_accuracy: 0.5333 - val_loss: 0.7087\n",
      "Epoch 100/100\n",
      "\u001B[1m24/24\u001B[0m \u001B[32m━━━━━━━━━━━━━━━━━━━━\u001B[0m\u001B[37m\u001B[0m \u001B[1m0s\u001B[0m 1ms/step - accuracy: 0.9280 - loss: 0.2413 - val_accuracy: 0.6667 - val_loss: 0.5919\n",
      "\u001B[1m5/5\u001B[0m \u001B[32m━━━━━━━━━━━━━━━━━━━━\u001B[0m\u001B[37m\u001B[0m \u001B[1m0s\u001B[0m 1ms/step - accuracy: 0.9620 - loss: 0.1696 \n",
      "Model accuracy: 0.9133333563804626\n"
     ]
    }
   ],
   "source": [
    "from sklearn import datasets\n",
    "from tensorflow.keras.models import Sequential\n",
    "from tensorflow.keras.layers import Dense\n",
    "\n",
    "# Load the Iris dataset\n",
    "iris = datasets.load_iris()\n",
    "X = iris.data\n",
    "y = iris.target\n",
    "# create the model\n",
    "model = Sequential([\n",
    "    Dense(3, activation='sigmoid', input_dim=4)  # Output layer with 3 neurons for 3 classes\n",
    "])\n",
    "# compile the model\n",
    "model.compile(optimizer='sgd', loss='sparse_categorical_crossentropy', metrics=['accuracy'])\n",
    "# train the model\n",
    "history = model.fit(X, y, epochs=100, batch_size=5, validation_split=0.2)\n",
    "# evaluate the model\n",
    "loss, accuracy = model.evaluate(X, y)\n",
    "print('Model accuracy:', accuracy)"
   ]
  },
  {
   "cell_type": "markdown",
   "metadata": {},
   "source": [
    "#### 3.2 **[1pt]** Visualize the model's accuracy and loss over time.\n",
    "\n",
    "- You can find a practical example [[here]](https://web.archive.org/web/20200414191106/https://keras.io/visualization/#training-history-visualization).\n",
    "- The necessary documentation is available [[here]](https://www.tensorflow.org/api_docs/python/tf/keras/callbacks/History).\n",
    "- You should expect the accuracy to grow, the loss to decrease, and train and test performance to be related but different.\n",
    "- Also with only 3 classes and few data points it's perfectly normal for the accuracy lines to look \"discretized\" (like a step function)."
   ]
  },
  {
   "cell_type": "code",
   "execution_count": 9,
   "metadata": {
    "ExecuteTime": {
     "end_time": "2024-05-08T17:45:10.423114Z",
     "start_time": "2024-05-08T17:45:10.008697Z"
    }
   },
   "outputs": [
    {
     "data": {
      "text/plain": "<Figure size 864x360 with 2 Axes>",
      "image/png": "[encoded data removed]"
     },
     "metadata": {},
     "output_type": "display_data"
    }
   ],
   "source": [
    "import matplotlib.pyplot as plt\n",
    "\n",
    "plt.figure(figsize=(12, 5))\n",
    "plt.subplot(1, 2, 1)  # Create subplots: 1 row, 2 columns, subplot 1\n",
    "plt.plot(history.history['accuracy'], label='Training Accuracy')\n",
    "plt.plot(history.history['val_accuracy'], label='Validation Accuracy')\n",
    "plt.title('Model Accuracy')\n",
    "plt.xlabel('Epoch')\n",
    "plt.ylabel('Accuracy')\n",
    "plt.legend()\n",
    "\n",
    "# Plot training & validation loss values\n",
    "plt.subplot(1, 2, 2)  # Subplot 2\n",
    "plt.plot(history.history['loss'], label='Training Loss')\n",
    "plt.plot(history.history['val_loss'], label='Validation Loss')\n",
    "plt.title('Model Loss')\n",
    "plt.xlabel('Epoch')\n",
    "plt.ylabel('Loss')\n",
    "plt.legend()\n",
    "\n",
    "plt.tight_layout()  # Adjust subplot layout to make room for titles and labels\n",
    "plt.show()"
   ]
  },
  {
   "cell_type": "markdown",
   "metadata": {},
   "source": [
    "Note: it may take several hundreds of epochs to actually reach full convergence. Give it a try if you have the time. I will show an example in the solution."
   ]
  },
  {
   "cell_type": "markdown",
   "metadata": {},
   "source": [
    "# At the end of the exercise"
   ]
  },
  {
   "cell_type": "markdown",
   "metadata": {},
   "source": [
    "Bonus question with no points! Answering this will have no influence on your scoring, not at the assignment and not towards the exam score -- really feel free to ignore it with no consequence. But solving it will reward you with skills that will make the next lectures easier, give you real applications, and will be good practice towards the exam.\n",
    "\n",
    "The solution for this questions will not be included in the regular lab solutions pdf, but you are welcome to open a discussion on the Moodle: we will support your addressing it, and you may meet other students that choose to solve this, and find a teammate for the next assignment that is willing to do things for fun and not only for score :)"
   ]
  },
  {
   "cell_type": "markdown",
   "metadata": {},
   "source": [
    "#### BONUS **[ZERO pt]** Re-write from scratch the code for FeedForwardNeuralNetwork and FeedForwardNeuralNetworkWithBackprop. Cheat as much as you need by looking at the code provided, but of course the more you do by yourself, the better your training. Feel free to write a first version with naked methods, without the class, then add the class structure in a second step (incapsulation)."
   ]
  },
  {
   "cell_type": "markdown",
   "metadata": {},
   "source": [
    "#### BONUS **[ZERO pt]** This exercise should already blur the line between \"classification\" and \"regression\". Go all the way and learn to predict the value of one of the four continuous features of the Iris dataset based on the other three."
   ]
  },
  {
   "cell_type": "markdown",
   "metadata": {},
   "source": [
    "#### BONUS **[ZERO pt]** A classic example is the XOR problem: write a neural network that maps two binary inputs to one binary output, and learn the 2D [XOR](https://en.wikipedia.org/wiki/Exclusive_or) logical operation. If you draw the four points, you will see they are not linearly separable. However you can write a neural network with one hidden layer of two neurons that solves the problem. Initialize the network with random weights, then execute the backpropagation algorithm by hand on paper until you solve it. This is a great exercise if you're stuck with the implementation of backprop and you cannot figure out what went wrong, as it forces you to get the dimensions right. Using 3 hidden neurons is a bit simpler and should require less iterations."
   ]
  },
  {
   "cell_type": "markdown",
   "metadata": {},
   "source": [
    "### Final considerations"
   ]
  },
  {
   "cell_type": "markdown",
   "metadata": {},
   "source": [
    "- The most important take-home message here is to distinguish between the _model_ and the _learning_. You will find most people use \"neural network\" to refer to both together, which limits the understanding of either part in isolation and therefore each part's limitations and applicability. Be flexible.\n",
    "- Spoiler alert: Deep Learning, all the way to ChatGPT, is just neural networks and backpropagation, with some fancy tricks (which either you saw before or will see in the next weeks):\n",
    "    - Deep networks have many layers\n",
    "    - Convolution\n",
    "    - Transformers, a network architecture for time-series memory-aware processing\n",
    "    - A sophisticated word embedding to enable textual input, check out for example [BERT](https://en.wikipedia.org/wiki/BERT_(language_model))"
   ]
  }
 ],
 "metadata": {
  "kernelspec": {
   "display_name": "Python 3 (ipykernel)",
   "language": "python",
   "name": "python3"
  },
  "language_info": {
   "codemirror_mode": {
    "name": "ipython",
    "version": 3
   },
   "file_extension": ".py",
   "mimetype": "text/x-python",
   "name": "python",
   "nbconvert_exporter": "python",
   "pygments_lexer": "ipython3",
   "version": "3.10.12"
  }
 },
 "nbformat": 4,
 "nbformat_minor": 4
}
